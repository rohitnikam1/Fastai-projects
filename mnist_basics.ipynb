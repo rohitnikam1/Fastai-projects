{
  "nbformat": 4,
  "nbformat_minor": 5,
  "metadata": {
    "kernelspec": {
      "name": "python3",
      "display_name": "Python 3"
    },
    "varInspector": {
      "cols": {
        "lenName": 16,
        "lenType": 16,
        "lenVar": 40
      },
      "kernels_config": {
        "python": {
          "delete_cmd_postfix": "",
          "delete_cmd_prefix": "del ",
          "library": "var_list.py",
          "varRefreshCmd": "print(var_dic_list())"
        },
        "r": {
          "delete_cmd_postfix": ") ",
          "delete_cmd_prefix": "rm(",
          "library": "var_list.r",
          "varRefreshCmd": "cat(var_dic_list()) "
        }
      },
      "types_to_exclude": [
        "module",
        "function",
        "builtin_function_or_method",
        "instance",
        "_Feature"
      ],
      "window_display": false
    },
    "colab": {
      "name": "mnist_basics.ipynb",
      "provenance": [],
      "collapsed_sections": [],
      "include_colab_link": true
    },
    "language_info": {
      "name": "python"
    },
    "accelerator": "GPU"
  },
  "cells": [
    {
      "cell_type": "markdown",
      "metadata": {
        "id": "view-in-github",
        "colab_type": "text"
      },
      "source": [
        "<a href=\"https://colab.research.google.com/github/rohitnikam1/Fastai-projects/blob/master/mnist_basics.ipynb\" target=\"_parent\"><img src=\"https://colab.research.google.com/assets/colab-badge.svg\" alt=\"Open In Colab\"/></a>"
      ]
    },
    {
      "cell_type": "markdown",
      "metadata": {
        "id": "Uw50ixW4cmE2"
      },
      "source": [
        "In this chapter, we encounter with the fundamentals of deep learning using the example of digit classifier (computer vision)."
      ],
      "id": "Uw50ixW4cmE2"
    },
    {
      "cell_type": "code",
      "metadata": {
        "colab": {
          "base_uri": "https://localhost:8080/"
        },
        "id": "S7ouKwEKXqJV",
        "outputId": "804e2798-2eb1-4623-8fe2-a2d8765469f1"
      },
      "source": [
        "!pip install -Uqq fastbook\n",
        "import fastbook\n",
        "fastbook.setup_book()"
      ],
      "id": "S7ouKwEKXqJV",
      "execution_count": 1,
      "outputs": [
        {
          "output_type": "stream",
          "text": [
            "\u001b[K     |████████████████████████████████| 720 kB 7.1 MB/s \n",
            "\u001b[K     |████████████████████████████████| 1.2 MB 15.8 MB/s \n",
            "\u001b[K     |████████████████████████████████| 46 kB 2.4 MB/s \n",
            "\u001b[K     |████████████████████████████████| 188 kB 40.5 MB/s \n",
            "\u001b[K     |████████████████████████████████| 54 kB 3.1 MB/s \n",
            "\u001b[K     |████████████████████████████████| 51 kB 377 kB/s \n",
            "\u001b[?25hMounted at /content/gdrive\n"
          ],
          "name": "stdout"
        }
      ]
    },
    {
      "cell_type": "code",
      "metadata": {
        "id": "9fc7cfca"
      },
      "source": [
        "from fastai.vision.all import *\n",
        "from fastbook import *\n",
        "\n",
        "matplotlib.rc('image', cmap='Greys')"
      ],
      "id": "9fc7cfca",
      "execution_count": 2,
      "outputs": []
    },
    {
      "cell_type": "markdown",
      "metadata": {
        "id": "ACm7Fr9hfLb9"
      },
      "source": [
        "Here we are going to try to create a model that can classify any image as a 3 or a 7. So let's download a sample of MNIST that contains images of just these digits:"
      ],
      "id": "ACm7Fr9hfLb9"
    },
    {
      "cell_type": "code",
      "metadata": {
        "colab": {
          "base_uri": "https://localhost:8080/",
          "height": 17
        },
        "id": "04d2891f",
        "outputId": "c64de5e6-987c-4e28-fa51-1ca46807960b"
      },
      "source": [
        "path = untar_data(URLs.MNIST_SAMPLE)"
      ],
      "id": "04d2891f",
      "execution_count": 3,
      "outputs": [
        {
          "output_type": "display_data",
          "data": {
            "text/html": [
              ""
            ],
            "text/plain": [
              "<IPython.core.display.HTML object>"
            ]
          },
          "metadata": {
            "tags": []
          }
        }
      ]
    },
    {
      "cell_type": "markdown",
      "metadata": {
        "id": "_5OHQAIphH_z"
      },
      "source": [
        "We can see what's in this directory by using ls, a method added by fastai."
      ],
      "id": "_5OHQAIphH_z"
    },
    {
      "cell_type": "code",
      "metadata": {
        "colab": {
          "base_uri": "https://localhost:8080/"
        },
        "id": "222e5f1e",
        "outputId": "8a579f83-1501-47b8-8a31-3e9a579fbf11"
      },
      "source": [
        "path.ls()"
      ],
      "id": "222e5f1e",
      "execution_count": 6,
      "outputs": [
        {
          "output_type": "execute_result",
          "data": {
            "text/plain": [
              "(#3) [Path('/root/.fastai/data/mnist_sample/labels.csv'),Path('/root/.fastai/data/mnist_sample/valid'),Path('/root/.fastai/data/mnist_sample/train')]"
            ]
          },
          "metadata": {
            "tags": []
          },
          "execution_count": 6
        }
      ]
    },
    {
      "cell_type": "code",
      "metadata": {
        "id": "063804c6"
      },
      "source": [
        "Path.BASE_PATH = path"
      ],
      "id": "063804c6",
      "execution_count": 5,
      "outputs": []
    },
    {
      "cell_type": "code",
      "metadata": {
        "colab": {
          "base_uri": "https://localhost:8080/"
        },
        "id": "a3cdd12d",
        "outputId": "ec059445-8b7f-42db-8782-fc89674316ff"
      },
      "source": [
        "(path/'train').ls()"
      ],
      "id": "a3cdd12d",
      "execution_count": 7,
      "outputs": [
        {
          "output_type": "execute_result",
          "data": {
            "text/plain": [
              "(#2) [Path('train/7'),Path('train/3')]"
            ]
          },
          "metadata": {
            "tags": []
          },
          "execution_count": 7
        }
      ]
    },
    {
      "cell_type": "markdown",
      "metadata": {
        "id": "YS4qN3Cyhk4P"
      },
      "source": [
        "There's a folder of 3s, and a folder of 7s in the training folder. In machine learning parlance, we say that \"3\" and \"7\" are the labels (or targets) in this dataset. Let's take a look in one of these folders (using `sorted` to ensure we all get the same order of files):"
      ],
      "id": "YS4qN3Cyhk4P"
    },
    {
      "cell_type": "code",
      "metadata": {
        "id": "8968e2b8"
      },
      "source": [
        "threes = (path/'train'/'3').ls().sorted()\n",
        "sevens = (path/'train'/'7').ls().sorted()"
      ],
      "id": "8968e2b8",
      "execution_count": 6,
      "outputs": []
    },
    {
      "cell_type": "markdown",
      "metadata": {
        "id": "Tn1Y7skAhwf9"
      },
      "source": [
        "As we might expect, it's full of image files. Let’s take a look at one now. Here’s an image of a handwritten number 7, taken from the famous MNIST dataset of handwritten numbers:"
      ],
      "id": "Tn1Y7skAhwf9"
    },
    {
      "cell_type": "code",
      "metadata": {
        "colab": {
          "base_uri": "https://localhost:8080/",
          "height": 45
        },
        "id": "83fcd381",
        "outputId": "c4227357-2075-405b-d643-e9e91bd11bee"
      },
      "source": [
        "im7_path = sevens[0]\n",
        "seven = Image.open(im7_path)\n",
        "seven"
      ],
      "id": "83fcd381",
      "execution_count": 10,
      "outputs": [
        {
          "output_type": "execute_result",
          "data": {
            "image/png": "[encoded data removed]",
            "text/plain": [
              "<PIL.PngImagePlugin.PngImageFile image mode=L size=28x28 at 0x7FC152349310>"
            ]
          },
          "metadata": {
            "tags": []
          },
          "execution_count": 10
        }
      ]
    },
    {
      "cell_type": "markdown",
      "metadata": {
        "id": "uQiIf3CBh-eV"
      },
      "source": [
        "In a computer, everything is represented as a number. To view the numbers that make up this image, we have to convert it to a NumPy array or a PyTorch tensor. For instance, here's what a section of the image looks like, converted to a NumPy array:"
      ],
      "id": "uQiIf3CBh-eV"
    },
    {
      "cell_type": "code",
      "metadata": {
        "colab": {
          "base_uri": "https://localhost:8080/"
        },
        "id": "c3499a88",
        "outputId": "fc80086b-e6c1-4fa9-f839-2e6bfff4462c"
      },
      "source": [
        "array(seven)"
      ],
      "id": "c3499a88",
      "execution_count": 12,
      "outputs": [
        {
          "output_type": "execute_result",
          "data": {
            "text/plain": [
              "array([[  0,   0,   0,   0,   0,   0,   0,   0,   0,   0,   0,   0,   0,   0,   0,   0,   0,   0,   0,   0,   0,   0,   0,   0,   0,   0,   0,   0],\n",
              "       [  0,   0,   0,   0,   0,   0,   0,   0,   0,   0,   0,   0,   0,   0,   0,   0,   0,   0,   0,   0,   0,   0,   0,   0,   0,   0,   0,   0],\n",
              "       [  0,   0,   0,   0,   0,   0,   0,   0,   0,   0,   0,   0,   0,   0,   0,   0,   0,   0,   0,   0,   0,   0,   0,   0,   0,   0,   0,   0],\n",
              "       [  0,   0,   0,   0,   0,   0,   0,   0,   0,   0,   0,   0,   0,   0,   0,   0,   0,   0,   0,   0,   0,   0,   0,   0,   0,   0,   0,   0],\n",
              "       [  0,   0,   0,   0,   0,   0,   0,   0,   0,   0,   0,   0,   0,   0,   0,   0,   0,   0,   0,   0,   0,   0,   0,   0,   0,   0,   0,   0],\n",
              "       [  0,   0,   0,   0,   0,   0,   0,   0,   0,   0,   0,   0,   0,   0,   0,   0,   0,   0,   0,   0,   0,   0,   0,   0,   0,   0,   0,   0],\n",
              "       [  0,   0,   0,   0,   0,   0,   0,   0,   0,   0,   0,   0,   0,   0,   0,   0,   0,   0,   0,   0,   0,   0,   0,   0,   0,   0,   0,   0],\n",
              "       [  0,   0,   0,   0,  21,  51, 213, 254, 252, 252, 252, 254, 252, 252, 252, 254, 252, 252, 252, 255, 252, 100,   0,   0,   0,   0,   0,   0],\n",
              "       [  0,   0,   0,  21, 161, 250, 250, 252, 250, 250, 250, 252, 250, 250, 250, 252, 250, 250, 250, 252, 250, 100,   0,   0,   0,   0,   0,   0],\n",
              "       [  0,   0,   0,  51, 250, 250, 250, 252, 189, 190, 250, 252, 250, 250, 250, 252, 250, 250, 250, 252, 189,  40,   0,   0,   0,   0,   0,   0],\n",
              "       [  0,   0,   0,  10, 130, 250, 250,  49,  29,  30,  49,  49,  49,  49,  49,  49,  49, 170, 250, 252, 149,   0,   0,   0,   0,   0,   0,   0],\n",
              "       [  0,   0,   0,   0,   0,   0,   0,   0,   0,   0,   0,   0,   0,   0,   0,  11, 132, 252, 252, 244, 121,   0,   0,   0,   0,   0,   0,   0],\n",
              "       [  0,   0,   0,   0,   0,   0,   0,   0,   0,   0,   0,   0,   0,   0,   0,  51, 250, 250, 250, 202,   0,   0,   0,   0,   0,   0,   0,   0],\n",
              "       [  0,   0,   0,   0,   0,   0,   0,   0,   0,   0,   0,   0,   0,   0,   0, 172, 250, 250, 250,  80,   0,   0,   0,   0,   0,   0,   0,   0],\n",
              "       [  0,   0,   0,   0,   0,   0,   0,   0,   0,   0,   0,   0,   0,   0,   0, 252, 250, 250, 250,   0,   0,   0,   0,   0,   0,   0,   0,   0],\n",
              "       [  0,   0,   0,   0,   0,   0,   0,   0,   0,   0,   0,   0,   0,  31, 213, 254, 252, 252,  49,   0,   0,   0,   0,   0,   0,   0,   0,   0],\n",
              "       [  0,   0,   0,   0,   0,   0,   0,   0,   0,   0,   0,   0,   0, 151, 250, 252, 250, 250,  49,   0,   0,   0,   0,   0,   0,   0,   0,   0],\n",
              "       [  0,   0,   0,   0,   0,   0,   0,   0,   0,   0,   0,   0,   0, 151, 250, 252, 250, 159,  20,   0,   0,   0,   0,   0,   0,   0,   0,   0],\n",
              "       [  0,   0,   0,   0,   0,   0,   0,   0,   0,   0,   0,   0,   0, 151, 250, 252, 250, 100,   0,   0,   0,   0,   0,   0,   0,   0,   0,   0],\n",
              "       [  0,   0,   0,   0,   0,   0,   0,   0,   0,   0,   0,   0,   0, 152, 252, 254, 252, 100,   0,   0,   0,   0,   0,   0,   0,   0,   0,   0],\n",
              "       [  0,   0,   0,   0,   0,   0,   0,   0,   0,   0,   0,   0,   0, 151, 250, 252, 250, 100,   0,   0,   0,   0,   0,   0,   0,   0,   0,   0],\n",
              "       [  0,   0,   0,   0,   0,   0,   0,   0,   0,   0,   0,   0,   0, 151, 250, 252, 250, 100,   0,   0,   0,   0,   0,   0,   0,   0,   0,   0],\n",
              "       [  0,   0,   0,   0,   0,   0,   0,   0,   0,   0,   0,   0,   0, 151, 250, 252, 250, 221,  40,   0,   0,   0,   0,   0,   0,   0,   0,   0],\n",
              "       [  0,   0,   0,   0,   0,   0,   0,   0,   0,   0,   0,   0,   0, 153, 252, 255, 252, 252,  49,   0,   0,   0,   0,   0,   0,   0,   0,   0],\n",
              "       [  0,   0,   0,   0,   0,   0,   0,   0,   0,   0,   0,   0,   0, 151, 250, 252, 250, 250,  49,   0,   0,   0,   0,   0,   0,   0,   0,   0],\n",
              "       [  0,   0,   0,   0,   0,   0,   0,   0,   0,   0,   0,   0,   0,  60, 221, 252, 250, 159,  20,   0,   0,   0,   0,   0,   0,   0,   0,   0],\n",
              "       [  0,   0,   0,   0,   0,   0,   0,   0,   0,   0,   0,   0,   0,   0,  40, 212,  49,  20,   0,   0,   0,   0,   0,   0,   0,   0,   0,   0],\n",
              "       [  0,   0,   0,   0,   0,   0,   0,   0,   0,   0,   0,   0,   0,   0,   0,   0,   0,   0,   0,   0,   0,   0,   0,   0,   0,   0,   0,   0]], dtype=uint8)"
            ]
          },
          "metadata": {
            "tags": []
          },
          "execution_count": 12
        }
      ]
    },
    {
      "cell_type": "markdown",
      "metadata": {
        "id": "QXqk7pZah_2G"
      },
      "source": [
        "Here's the same thing as a PyTorch tensor:"
      ],
      "id": "QXqk7pZah_2G"
    },
    {
      "cell_type": "code",
      "metadata": {
        "colab": {
          "base_uri": "https://localhost:8080/"
        },
        "id": "e61b96c7",
        "outputId": "07234ca5-1339-42dd-9de1-a9de50c58774"
      },
      "source": [
        "tensor(seven)"
      ],
      "id": "e61b96c7",
      "execution_count": 13,
      "outputs": [
        {
          "output_type": "execute_result",
          "data": {
            "text/plain": [
              "tensor([[  0,   0,   0,   0,   0,   0,   0,   0,   0,   0,   0,   0,   0,   0,   0,   0,   0,   0,   0,   0,   0,   0,   0,   0,   0,   0,   0,   0],\n",
              "        [  0,   0,   0,   0,   0,   0,   0,   0,   0,   0,   0,   0,   0,   0,   0,   0,   0,   0,   0,   0,   0,   0,   0,   0,   0,   0,   0,   0],\n",
              "        [  0,   0,   0,   0,   0,   0,   0,   0,   0,   0,   0,   0,   0,   0,   0,   0,   0,   0,   0,   0,   0,   0,   0,   0,   0,   0,   0,   0],\n",
              "        [  0,   0,   0,   0,   0,   0,   0,   0,   0,   0,   0,   0,   0,   0,   0,   0,   0,   0,   0,   0,   0,   0,   0,   0,   0,   0,   0,   0],\n",
              "        [  0,   0,   0,   0,   0,   0,   0,   0,   0,   0,   0,   0,   0,   0,   0,   0,   0,   0,   0,   0,   0,   0,   0,   0,   0,   0,   0,   0],\n",
              "        [  0,   0,   0,   0,   0,   0,   0,   0,   0,   0,   0,   0,   0,   0,   0,   0,   0,   0,   0,   0,   0,   0,   0,   0,   0,   0,   0,   0],\n",
              "        [  0,   0,   0,   0,   0,   0,   0,   0,   0,   0,   0,   0,   0,   0,   0,   0,   0,   0,   0,   0,   0,   0,   0,   0,   0,   0,   0,   0],\n",
              "        [  0,   0,   0,   0,  21,  51, 213, 254, 252, 252, 252, 254, 252, 252, 252, 254, 252, 252, 252, 255, 252, 100,   0,   0,   0,   0,   0,   0],\n",
              "        [  0,   0,   0,  21, 161, 250, 250, 252, 250, 250, 250, 252, 250, 250, 250, 252, 250, 250, 250, 252, 250, 100,   0,   0,   0,   0,   0,   0],\n",
              "        [  0,   0,   0,  51, 250, 250, 250, 252, 189, 190, 250, 252, 250, 250, 250, 252, 250, 250, 250, 252, 189,  40,   0,   0,   0,   0,   0,   0],\n",
              "        [  0,   0,   0,  10, 130, 250, 250,  49,  29,  30,  49,  49,  49,  49,  49,  49,  49, 170, 250, 252, 149,   0,   0,   0,   0,   0,   0,   0],\n",
              "        [  0,   0,   0,   0,   0,   0,   0,   0,   0,   0,   0,   0,   0,   0,   0,  11, 132, 252, 252, 244, 121,   0,   0,   0,   0,   0,   0,   0],\n",
              "        [  0,   0,   0,   0,   0,   0,   0,   0,   0,   0,   0,   0,   0,   0,   0,  51, 250, 250, 250, 202,   0,   0,   0,   0,   0,   0,   0,   0],\n",
              "        [  0,   0,   0,   0,   0,   0,   0,   0,   0,   0,   0,   0,   0,   0,   0, 172, 250, 250, 250,  80,   0,   0,   0,   0,   0,   0,   0,   0],\n",
              "        [  0,   0,   0,   0,   0,   0,   0,   0,   0,   0,   0,   0,   0,   0,   0, 252, 250, 250, 250,   0,   0,   0,   0,   0,   0,   0,   0,   0],\n",
              "        [  0,   0,   0,   0,   0,   0,   0,   0,   0,   0,   0,   0,   0,  31, 213, 254, 252, 252,  49,   0,   0,   0,   0,   0,   0,   0,   0,   0],\n",
              "        [  0,   0,   0,   0,   0,   0,   0,   0,   0,   0,   0,   0,   0, 151, 250, 252, 250, 250,  49,   0,   0,   0,   0,   0,   0,   0,   0,   0],\n",
              "        [  0,   0,   0,   0,   0,   0,   0,   0,   0,   0,   0,   0,   0, 151, 250, 252, 250, 159,  20,   0,   0,   0,   0,   0,   0,   0,   0,   0],\n",
              "        [  0,   0,   0,   0,   0,   0,   0,   0,   0,   0,   0,   0,   0, 151, 250, 252, 250, 100,   0,   0,   0,   0,   0,   0,   0,   0,   0,   0],\n",
              "        [  0,   0,   0,   0,   0,   0,   0,   0,   0,   0,   0,   0,   0, 152, 252, 254, 252, 100,   0,   0,   0,   0,   0,   0,   0,   0,   0,   0],\n",
              "        [  0,   0,   0,   0,   0,   0,   0,   0,   0,   0,   0,   0,   0, 151, 250, 252, 250, 100,   0,   0,   0,   0,   0,   0,   0,   0,   0,   0],\n",
              "        [  0,   0,   0,   0,   0,   0,   0,   0,   0,   0,   0,   0,   0, 151, 250, 252, 250, 100,   0,   0,   0,   0,   0,   0,   0,   0,   0,   0],\n",
              "        [  0,   0,   0,   0,   0,   0,   0,   0,   0,   0,   0,   0,   0, 151, 250, 252, 250, 221,  40,   0,   0,   0,   0,   0,   0,   0,   0,   0],\n",
              "        [  0,   0,   0,   0,   0,   0,   0,   0,   0,   0,   0,   0,   0, 153, 252, 255, 252, 252,  49,   0,   0,   0,   0,   0,   0,   0,   0,   0],\n",
              "        [  0,   0,   0,   0,   0,   0,   0,   0,   0,   0,   0,   0,   0, 151, 250, 252, 250, 250,  49,   0,   0,   0,   0,   0,   0,   0,   0,   0],\n",
              "        [  0,   0,   0,   0,   0,   0,   0,   0,   0,   0,   0,   0,   0,  60, 221, 252, 250, 159,  20,   0,   0,   0,   0,   0,   0,   0,   0,   0],\n",
              "        [  0,   0,   0,   0,   0,   0,   0,   0,   0,   0,   0,   0,   0,   0,  40, 212,  49,  20,   0,   0,   0,   0,   0,   0,   0,   0,   0,   0],\n",
              "        [  0,   0,   0,   0,   0,   0,   0,   0,   0,   0,   0,   0,   0,   0,   0,   0,   0,   0,   0,   0,   0,   0,   0,   0,   0,   0,   0,   0]], dtype=torch.uint8)"
            ]
          },
          "metadata": {
            "tags": []
          },
          "execution_count": 13
        }
      ]
    },
    {
      "cell_type": "markdown",
      "metadata": {
        "id": "q4XqTzariTA2"
      },
      "source": [
        "Pandas DataFrame can be used to color-code the values using a gradient, which shows us clearly how the image is created from the pixel values:"
      ],
      "id": "q4XqTzariTA2"
    },
    {
      "cell_type": "code",
      "metadata": {
        "colab": {
          "base_uri": "https://localhost:8080/",
          "height": 639
        },
        "id": "78167ace",
        "outputId": "18ef5c97-654f-496f-bd66-d439431565d2"
      },
      "source": [
        "im7_t = tensor(seven)\n",
        "df = pd.DataFrame(im7_t)\n",
        "df.style.set_properties(**{'font-size':'6pt'}).background_gradient('Greys')"
      ],
      "id": "78167ace",
      "execution_count": 15,
      "outputs": [
        {
          "output_type": "execute_result",
          "data": {
            "text/html": [
              "<style  type=\"text/css\" >\n",
              "#T_d6988afe_f079_11eb_8e0c_0242ac1c0002row0_col0,#T_d6988afe_f079_11eb_8e0c_0242ac1c0002row0_col1,#T_d6988afe_f079_11eb_8e0c_0242ac1c0002row0_col2,#T_d6988afe_f079_11eb_8e0c_0242ac1c0002row0_col3,#T_d6988afe_f079_11eb_8e0c_0242ac1c0002row0_col4,#T_d6988afe_f079_11eb_8e0c_0242ac1c0002row0_col5,#T_d6988afe_f079_11eb_8e0c_0242ac1c0002row0_col6,#T_d6988afe_f079_11eb_8e0c_0242ac1c0002row0_col7,#T_d6988afe_f079_11eb_8e0c_0242ac1c0002row0_col8,#T_d6988afe_f079_11eb_8e0c_0242ac1c0002row0_col9,#T_d6988afe_f079_11eb_8e0c_0242ac1c0002row0_col10,#T_d6988afe_f079_11eb_8e0c_0242ac1c0002row0_col11,#T_d6988afe_f079_11eb_8e0c_0242ac1c0002row0_col12,#T_d6988afe_f079_11eb_8e0c_0242ac1c0002row0_col13,#T_d6988afe_f079_11eb_8e0c_0242ac1c0002row0_col14,#T_d6988afe_f079_11eb_8e0c_0242ac1c0002row0_col15,#T_d6988afe_f079_11eb_8e0c_0242ac1c0002row0_col16,#T_d6988afe_f079_11eb_8e0c_0242ac1c0002row0_col17,#T_d6988afe_f079_11eb_8e0c_0242ac1c0002row0_col18,#T_d6988afe_f079_11eb_8e0c_0242ac1c0002row0_col19,#T_d6988afe_f079_11eb_8e0c_0242ac1c0002row0_col20,#T_d6988afe_f079_11eb_8e0c_0242ac1c0002row0_col21,#T_d6988afe_f079_11eb_8e0c_0242ac1c0002row0_col22,#T_d6988afe_f079_11eb_8e0c_0242ac1c0002row0_col23,#T_d6988afe_f079_11eb_8e0c_0242ac1c0002row0_col24,#T_d6988afe_f079_11eb_8e0c_0242ac1c0002row0_col25,#T_d6988afe_f079_11eb_8e0c_0242ac1c0002row0_col26,#T_d6988afe_f079_11eb_8e0c_0242ac1c0002row0_col27,#T_d6988afe_f079_11eb_8e0c_0242ac1c0002row1_col0,#T_d6988afe_f079_11eb_8e0c_0242ac1c0002row1_col1,#T_d6988afe_f079_11eb_8e0c_0242ac1c0002row1_col2,#T_d6988afe_f079_11eb_8e0c_0242ac1c0002row1_col3,#T_d6988afe_f079_11eb_8e0c_0242ac1c0002row1_col4,#T_d6988afe_f079_11eb_8e0c_0242ac1c0002row1_col5,#T_d6988afe_f079_11eb_8e0c_0242ac1c0002row1_col6,#T_d6988afe_f079_11eb_8e0c_0242ac1c0002row1_col7,#T_d6988afe_f079_11eb_8e0c_0242ac1c0002row1_col8,#T_d6988afe_f079_11eb_8e0c_0242ac1c0002row1_col9,#T_d6988afe_f079_11eb_8e0c_0242ac1c0002row1_col10,#T_d6988afe_f079_11eb_8e0c_0242ac1c0002row1_col11,#T_d6988afe_f079_11eb_8e0c_0242ac1c0002row1_col12,#T_d6988afe_f079_11eb_8e0c_0242ac1c0002row1_col13,#T_d6988afe_f079_11eb_8e0c_0242ac1c0002row1_col14,#T_d6988afe_f079_11eb_8e0c_0242ac1c0002row1_col15,#T_d6988afe_f079_11eb_8e0c_0242ac1c0002row1_col16,#T_d6988afe_f079_11eb_8e0c_0242ac1c0002row1_col17,#T_d6988afe_f079_11eb_8e0c_0242ac1c0002row1_col18,#T_d6988afe_f079_11eb_8e0c_0242ac1c0002row1_col19,#T_d6988afe_f079_11eb_8e0c_0242ac1c0002row1_col20,#T_d6988afe_f079_11eb_8e0c_0242ac1c0002row1_col21,#T_d6988afe_f079_11eb_8e0c_0242ac1c0002row1_col22,#T_d6988afe_f079_11eb_8e0c_0242ac1c0002row1_col23,#T_d6988afe_f079_11eb_8e0c_0242ac1c0002row1_col24,#T_d6988afe_f079_11eb_8e0c_0242ac1c0002row1_col25,#T_d6988afe_f079_11eb_8e0c_0242ac1c0002row1_col26,#T_d6988afe_f079_11eb_8e0c_0242ac1c0002row1_col27,#T_d6988afe_f079_11eb_8e0c_0242ac1c0002row2_col0,#T_d6988afe_f079_11eb_8e0c_0242ac1c0002row2_col1,#T_d6988afe_f079_11eb_8e0c_0242ac1c0002row2_col2,#T_d6988afe_f079_11eb_8e0c_0242ac1c0002row2_col3,#T_d6988afe_f079_11eb_8e0c_0242ac1c0002row2_col4,#T_d6988afe_f079_11eb_8e0c_0242ac1c0002row2_col5,#T_d6988afe_f079_11eb_8e0c_0242ac1c0002row2_col6,#T_d6988afe_f079_11eb_8e0c_0242ac1c0002row2_col7,#T_d6988afe_f079_11eb_8e0c_0242ac1c0002row2_col8,#T_d6988afe_f079_11eb_8e0c_0242ac1c0002row2_col9,#T_d6988afe_f079_11eb_8e0c_0242ac1c0002row2_col10,#T_d6988afe_f079_11eb_8e0c_0242ac1c0002row2_col11,#T_d6988afe_f079_11eb_8e0c_0242ac1c0002row2_col12,#T_d6988afe_f079_11eb_8e0c_0242ac1c0002row2_col13,#T_d6988afe_f079_11eb_8e0c_0242ac1c0002row2_col14,#T_d6988afe_f079_11eb_8e0c_0242ac1c0002row2_col15,#T_d6988afe_f079_11eb_8e0c_0242ac1c0002row2_col16,#T_d6988afe_f079_11eb_8e0c_0242ac1c0002row2_col17,#T_d6988afe_f079_11eb_8e0c_0242ac1c0002row2_col18,#T_d6988afe_f079_11eb_8e0c_0242ac1c0002row2_col19,#T_d6988afe_f079_11eb_8e0c_0242ac1c0002row2_col20,#T_d6988afe_f079_11eb_8e0c_0242ac1c0002row2_col21,#T_d6988afe_f079_11eb_8e0c_0242ac1c0002row2_col22,#T_d6988afe_f079_11eb_8e0c_0242ac1c0002row2_col23,#T_d6988afe_f079_11eb_8e0c_0242ac1c0002row2_col24,#T_d6988afe_f079_11eb_8e0c_0242ac1c0002row2_col25,#T_d6988afe_f079_11eb_8e0c_0242ac1c0002row2_col26,#T_d6988afe_f079_11eb_8e0c_0242ac1c0002row2_col27,#T_d6988afe_f079_11eb_8e0c_0242ac1c0002row3_col0,#T_d6988afe_f079_11eb_8e0c_0242ac1c0002row3_col1,#T_d6988afe_f079_11eb_8e0c_0242ac1c0002row3_col2,#T_d6988afe_f079_11eb_8e0c_0242ac1c0002row3_col3,#T_d6988afe_f079_11eb_8e0c_0242ac1c0002row3_col4,#T_d6988afe_f079_11eb_8e0c_0242ac1c0002row3_col5,#T_d6988afe_f079_11eb_8e0c_0242ac1c0002row3_col6,#T_d6988afe_f079_11eb_8e0c_0242ac1c0002row3_col7,#T_d6988afe_f079_11eb_8e0c_0242ac1c0002row3_col8,#T_d6988afe_f079_11eb_8e0c_0242ac1c0002row3_col9,#T_d6988afe_f079_11eb_8e0c_0242ac1c0002row3_col10,#T_d6988afe_f079_11eb_8e0c_0242ac1c0002row3_col11,#T_d6988afe_f079_11eb_8e0c_0242ac1c0002row3_col12,#T_d6988afe_f079_11eb_8e0c_0242ac1c0002row3_col13,#T_d6988afe_f079_11eb_8e0c_0242ac1c0002row3_col14,#T_d6988afe_f079_11eb_8e0c_0242ac1c0002row3_col15,#T_d6988afe_f079_11eb_8e0c_0242ac1c0002row3_col16,#T_d6988afe_f079_11eb_8e0c_0242ac1c0002row3_col17,#T_d6988afe_f079_11eb_8e0c_0242ac1c0002row3_col18,#T_d6988afe_f079_11eb_8e0c_0242ac1c0002row3_col19,#T_d6988afe_f079_11eb_8e0c_0242ac1c0002row3_col20,#T_d6988afe_f079_11eb_8e0c_0242ac1c0002row3_col21,#T_d6988afe_f079_11eb_8e0c_0242ac1c0002row3_col22,#T_d6988afe_f079_11eb_8e0c_0242ac1c0002row3_col23,#T_d6988afe_f079_11eb_8e0c_0242ac1c0002row3_col24,#T_d6988afe_f079_11eb_8e0c_0242ac1c0002row3_col25,#T_d6988afe_f079_11eb_8e0c_0242ac1c0002row3_col26,#T_d6988afe_f079_11eb_8e0c_0242ac1c0002row3_col27,#T_d6988afe_f079_11eb_8e0c_0242ac1c0002row4_col0,#T_d6988afe_f079_11eb_8e0c_0242ac1c0002row4_col1,#T_d6988afe_f079_11eb_8e0c_0242ac1c0002row4_col2,#T_d6988afe_f079_11eb_8e0c_0242ac1c0002row4_col3,#T_d6988afe_f079_11eb_8e0c_0242ac1c0002row4_col4,#T_d6988afe_f079_11eb_8e0c_0242ac1c0002row4_col5,#T_d6988afe_f079_11eb_8e0c_0242ac1c0002row4_col6,#T_d6988afe_f079_11eb_8e0c_0242ac1c0002row4_col7,#T_d6988afe_f079_11eb_8e0c_0242ac1c0002row4_col8,#T_d6988afe_f079_11eb_8e0c_0242ac1c0002row4_col9,#T_d6988afe_f079_11eb_8e0c_0242ac1c0002row4_col10,#T_d6988afe_f079_11eb_8e0c_0242ac1c0002row4_col11,#T_d6988afe_f079_11eb_8e0c_0242ac1c0002row4_col12,#T_d6988afe_f079_11eb_8e0c_0242ac1c0002row4_col13,#T_d6988afe_f079_11eb_8e0c_0242ac1c0002row4_col14,#T_d6988afe_f079_11eb_8e0c_0242ac1c0002row4_col15,#T_d6988afe_f079_11eb_8e0c_0242ac1c0002row4_col16,#T_d6988afe_f079_11eb_8e0c_0242ac1c0002row4_col17,#T_d6988afe_f079_11eb_8e0c_0242ac1c0002row4_col18,#T_d6988afe_f079_11eb_8e0c_0242ac1c0002row4_col19,#T_d6988afe_f079_11eb_8e0c_0242ac1c0002row4_col20,#T_d6988afe_f079_11eb_8e0c_0242ac1c0002row4_col21,#T_d6988afe_f079_11eb_8e0c_0242ac1c0002row4_col22,#T_d6988afe_f079_11eb_8e0c_0242ac1c0002row4_col23,#T_d6988afe_f079_11eb_8e0c_0242ac1c0002row4_col24,#T_d6988afe_f079_11eb_8e0c_0242ac1c0002row4_col25,#T_d6988afe_f079_11eb_8e0c_0242ac1c0002row4_col26,#T_d6988afe_f079_11eb_8e0c_0242ac1c0002row4_col27,#T_d6988afe_f079_11eb_8e0c_0242ac1c0002row5_col0,#T_d6988afe_f079_11eb_8e0c_0242ac1c0002row5_col1,#T_d6988afe_f079_11eb_8e0c_0242ac1c0002row5_col2,#T_d6988afe_f079_11eb_8e0c_0242ac1c0002row5_col3,#T_d6988afe_f079_11eb_8e0c_0242ac1c0002row5_col4,#T_d6988afe_f079_11eb_8e0c_0242ac1c0002row5_col5,#T_d6988afe_f079_11eb_8e0c_0242ac1c0002row5_col6,#T_d6988afe_f079_11eb_8e0c_0242ac1c0002row5_col7,#T_d6988afe_f079_11eb_8e0c_0242ac1c0002row5_col8,#T_d6988afe_f079_11eb_8e0c_0242ac1c0002row5_col9,#T_d6988afe_f079_11eb_8e0c_0242ac1c0002row5_col10,#T_d6988afe_f079_11eb_8e0c_0242ac1c0002row5_col11,#T_d6988afe_f079_11eb_8e0c_0242ac1c0002row5_col12,#T_d6988afe_f079_11eb_8e0c_0242ac1c0002row5_col13,#T_d6988afe_f079_11eb_8e0c_0242ac1c0002row5_col14,#T_d6988afe_f079_11eb_8e0c_0242ac1c0002row5_col15,#T_d6988afe_f079_11eb_8e0c_0242ac1c0002row5_col16,#T_d6988afe_f079_11eb_8e0c_0242ac1c0002row5_col17,#T_d6988afe_f079_11eb_8e0c_0242ac1c0002row5_col18,#T_d6988afe_f079_11eb_8e0c_0242ac1c0002row5_col19,#T_d6988afe_f079_11eb_8e0c_0242ac1c0002row5_col20,#T_d6988afe_f079_11eb_8e0c_0242ac1c0002row5_col21,#T_d6988afe_f079_11eb_8e0c_0242ac1c0002row5_col22,#T_d6988afe_f079_11eb_8e0c_0242ac1c0002row5_col23,#T_d6988afe_f079_11eb_8e0c_0242ac1c0002row5_col24,#T_d6988afe_f079_11eb_8e0c_0242ac1c0002row5_col25,#T_d6988afe_f079_11eb_8e0c_0242ac1c0002row5_col26,#T_d6988afe_f079_11eb_8e0c_0242ac1c0002row5_col27,#T_d6988afe_f079_11eb_8e0c_0242ac1c0002row6_col0,#T_d6988afe_f079_11eb_8e0c_0242ac1c0002row6_col1,#T_d6988afe_f079_11eb_8e0c_0242ac1c0002row6_col2,#T_d6988afe_f079_11eb_8e0c_0242ac1c0002row6_col3,#T_d6988afe_f079_11eb_8e0c_0242ac1c0002row6_col4,#T_d6988afe_f079_11eb_8e0c_0242ac1c0002row6_col5,#T_d6988afe_f079_11eb_8e0c_0242ac1c0002row6_col6,#T_d6988afe_f079_11eb_8e0c_0242ac1c0002row6_col7,#T_d6988afe_f079_11eb_8e0c_0242ac1c0002row6_col8,#T_d6988afe_f079_11eb_8e0c_0242ac1c0002row6_col9,#T_d6988afe_f079_11eb_8e0c_0242ac1c0002row6_col10,#T_d6988afe_f079_11eb_8e0c_0242ac1c0002row6_col11,#T_d6988afe_f079_11eb_8e0c_0242ac1c0002row6_col12,#T_d6988afe_f079_11eb_8e0c_0242ac1c0002row6_col13,#T_d6988afe_f079_11eb_8e0c_0242ac1c0002row6_col14,#T_d6988afe_f079_11eb_8e0c_0242ac1c0002row6_col15,#T_d6988afe_f079_11eb_8e0c_0242ac1c0002row6_col16,#T_d6988afe_f079_11eb_8e0c_0242ac1c0002row6_col17,#T_d6988afe_f079_11eb_8e0c_0242ac1c0002row6_col18,#T_d6988afe_f079_11eb_8e0c_0242ac1c0002row6_col19,#T_d6988afe_f079_11eb_8e0c_0242ac1c0002row6_col20,#T_d6988afe_f079_11eb_8e0c_0242ac1c0002row6_col21,#T_d6988afe_f079_11eb_8e0c_0242ac1c0002row6_col22,#T_d6988afe_f079_11eb_8e0c_0242ac1c0002row6_col23,#T_d6988afe_f079_11eb_8e0c_0242ac1c0002row6_col24,#T_d6988afe_f079_11eb_8e0c_0242ac1c0002row6_col25,#T_d6988afe_f079_11eb_8e0c_0242ac1c0002row6_col26,#T_d6988afe_f079_11eb_8e0c_0242ac1c0002row6_col27,#T_d6988afe_f079_11eb_8e0c_0242ac1c0002row7_col0,#T_d6988afe_f079_11eb_8e0c_0242ac1c0002row7_col1,#T_d6988afe_f079_11eb_8e0c_0242ac1c0002row7_col2,#T_d6988afe_f079_11eb_8e0c_0242ac1c0002row7_col3,#T_d6988afe_f079_11eb_8e0c_0242ac1c0002row7_col22,#T_d6988afe_f079_11eb_8e0c_0242ac1c0002row7_col23,#T_d6988afe_f079_11eb_8e0c_0242ac1c0002row7_col24,#T_d6988afe_f079_11eb_8e0c_0242ac1c0002row7_col25,#T_d6988afe_f079_11eb_8e0c_0242ac1c0002row7_col26,#T_d6988afe_f079_11eb_8e0c_0242ac1c0002row7_col27,#T_d6988afe_f079_11eb_8e0c_0242ac1c0002row8_col0,#T_d6988afe_f079_11eb_8e0c_0242ac1c0002row8_col1,#T_d6988afe_f079_11eb_8e0c_0242ac1c0002row8_col2,#T_d6988afe_f079_11eb_8e0c_0242ac1c0002row8_col22,#T_d6988afe_f079_11eb_8e0c_0242ac1c0002row8_col23,#T_d6988afe_f079_11eb_8e0c_0242ac1c0002row8_col24,#T_d6988afe_f079_11eb_8e0c_0242ac1c0002row8_col25,#T_d6988afe_f079_11eb_8e0c_0242ac1c0002row8_col26,#T_d6988afe_f079_11eb_8e0c_0242ac1c0002row8_col27,#T_d6988afe_f079_11eb_8e0c_0242ac1c0002row9_col0,#T_d6988afe_f079_11eb_8e0c_0242ac1c0002row9_col1,#T_d6988afe_f079_11eb_8e0c_0242ac1c0002row9_col2,#T_d6988afe_f079_11eb_8e0c_0242ac1c0002row9_col22,#T_d6988afe_f079_11eb_8e0c_0242ac1c0002row9_col23,#T_d6988afe_f079_11eb_8e0c_0242ac1c0002row9_col24,#T_d6988afe_f079_11eb_8e0c_0242ac1c0002row9_col25,#T_d6988afe_f079_11eb_8e0c_0242ac1c0002row9_col26,#T_d6988afe_f079_11eb_8e0c_0242ac1c0002row9_col27,#T_d6988afe_f079_11eb_8e0c_0242ac1c0002row10_col0,#T_d6988afe_f079_11eb_8e0c_0242ac1c0002row10_col1,#T_d6988afe_f079_11eb_8e0c_0242ac1c0002row10_col2,#T_d6988afe_f079_11eb_8e0c_0242ac1c0002row10_col21,#T_d6988afe_f079_11eb_8e0c_0242ac1c0002row10_col22,#T_d6988afe_f079_11eb_8e0c_0242ac1c0002row10_col23,#T_d6988afe_f079_11eb_8e0c_0242ac1c0002row10_col24,#T_d6988afe_f079_11eb_8e0c_0242ac1c0002row10_col25,#T_d6988afe_f079_11eb_8e0c_0242ac1c0002row10_col26,#T_d6988afe_f079_11eb_8e0c_0242ac1c0002row10_col27,#T_d6988afe_f079_11eb_8e0c_0242ac1c0002row11_col0,#T_d6988afe_f079_11eb_8e0c_0242ac1c0002row11_col1,#T_d6988afe_f079_11eb_8e0c_0242ac1c0002row11_col2,#T_d6988afe_f079_11eb_8e0c_0242ac1c0002row11_col3,#T_d6988afe_f079_11eb_8e0c_0242ac1c0002row11_col4,#T_d6988afe_f079_11eb_8e0c_0242ac1c0002row11_col5,#T_d6988afe_f079_11eb_8e0c_0242ac1c0002row11_col6,#T_d6988afe_f079_11eb_8e0c_0242ac1c0002row11_col7,#T_d6988afe_f079_11eb_8e0c_0242ac1c0002row11_col8,#T_d6988afe_f079_11eb_8e0c_0242ac1c0002row11_col9,#T_d6988afe_f079_11eb_8e0c_0242ac1c0002row11_col10,#T_d6988afe_f079_11eb_8e0c_0242ac1c0002row11_col11,#T_d6988afe_f079_11eb_8e0c_0242ac1c0002row11_col12,#T_d6988afe_f079_11eb_8e0c_0242ac1c0002row11_col13,#T_d6988afe_f079_11eb_8e0c_0242ac1c0002row11_col14,#T_d6988afe_f079_11eb_8e0c_0242ac1c0002row11_col21,#T_d6988afe_f079_11eb_8e0c_0242ac1c0002row11_col22,#T_d6988afe_f079_11eb_8e0c_0242ac1c0002row11_col23,#T_d6988afe_f079_11eb_8e0c_0242ac1c0002row11_col24,#T_d6988afe_f079_11eb_8e0c_0242ac1c0002row11_col25,#T_d6988afe_f079_11eb_8e0c_0242ac1c0002row11_col26,#T_d6988afe_f079_11eb_8e0c_0242ac1c0002row11_col27,#T_d6988afe_f079_11eb_8e0c_0242ac1c0002row12_col0,#T_d6988afe_f079_11eb_8e0c_0242ac1c0002row12_col1,#T_d6988afe_f079_11eb_8e0c_0242ac1c0002row12_col2,#T_d6988afe_f079_11eb_8e0c_0242ac1c0002row12_col3,#T_d6988afe_f079_11eb_8e0c_0242ac1c0002row12_col4,#T_d6988afe_f079_11eb_8e0c_0242ac1c0002row12_col5,#T_d6988afe_f079_11eb_8e0c_0242ac1c0002row12_col6,#T_d6988afe_f079_11eb_8e0c_0242ac1c0002row12_col7,#T_d6988afe_f079_11eb_8e0c_0242ac1c0002row12_col8,#T_d6988afe_f079_11eb_8e0c_0242ac1c0002row12_col9,#T_d6988afe_f079_11eb_8e0c_0242ac1c0002row12_col10,#T_d6988afe_f079_11eb_8e0c_0242ac1c0002row12_col11,#T_d6988afe_f079_11eb_8e0c_0242ac1c0002row12_col12,#T_d6988afe_f079_11eb_8e0c_0242ac1c0002row12_col13,#T_d6988afe_f079_11eb_8e0c_0242ac1c0002row12_col14,#T_d6988afe_f079_11eb_8e0c_0242ac1c0002row12_col20,#T_d6988afe_f079_11eb_8e0c_0242ac1c0002row12_col21,#T_d6988afe_f079_11eb_8e0c_0242ac1c0002row12_col22,#T_d6988afe_f079_11eb_8e0c_0242ac1c0002row12_col23,#T_d6988afe_f079_11eb_8e0c_0242ac1c0002row12_col24,#T_d6988afe_f079_11eb_8e0c_0242ac1c0002row12_col25,#T_d6988afe_f079_11eb_8e0c_0242ac1c0002row12_col26,#T_d6988afe_f079_11eb_8e0c_0242ac1c0002row12_col27,#T_d6988afe_f079_11eb_8e0c_0242ac1c0002row13_col0,#T_d6988afe_f079_11eb_8e0c_0242ac1c0002row13_col1,#T_d6988afe_f079_11eb_8e0c_0242ac1c0002row13_col2,#T_d6988afe_f079_11eb_8e0c_0242ac1c0002row13_col3,#T_d6988afe_f079_11eb_8e0c_0242ac1c0002row13_col4,#T_d6988afe_f079_11eb_8e0c_0242ac1c0002row13_col5,#T_d6988afe_f079_11eb_8e0c_0242ac1c0002row13_col6,#T_d6988afe_f079_11eb_8e0c_0242ac1c0002row13_col7,#T_d6988afe_f079_11eb_8e0c_0242ac1c0002row13_col8,#T_d6988afe_f079_11eb_8e0c_0242ac1c0002row13_col9,#T_d6988afe_f079_11eb_8e0c_0242ac1c0002row13_col10,#T_d6988afe_f079_11eb_8e0c_0242ac1c0002row13_col11,#T_d6988afe_f079_11eb_8e0c_0242ac1c0002row13_col12,#T_d6988afe_f079_11eb_8e0c_0242ac1c0002row13_col13,#T_d6988afe_f079_11eb_8e0c_0242ac1c0002row13_col14,#T_d6988afe_f079_11eb_8e0c_0242ac1c0002row13_col20,#T_d6988afe_f079_11eb_8e0c_0242ac1c0002row13_col21,#T_d6988afe_f079_11eb_8e0c_0242ac1c0002row13_col22,#T_d6988afe_f079_11eb_8e0c_0242ac1c0002row13_col23,#T_d6988afe_f079_11eb_8e0c_0242ac1c0002row13_col24,#T_d6988afe_f079_11eb_8e0c_0242ac1c0002row13_col25,#T_d6988afe_f079_11eb_8e0c_0242ac1c0002row13_col26,#T_d6988afe_f079_11eb_8e0c_0242ac1c0002row13_col27,#T_d6988afe_f079_11eb_8e0c_0242ac1c0002row14_col0,#T_d6988afe_f079_11eb_8e0c_0242ac1c0002row14_col1,#T_d6988afe_f079_11eb_8e0c_0242ac1c0002row14_col2,#T_d6988afe_f079_11eb_8e0c_0242ac1c0002row14_col3,#T_d6988afe_f079_11eb_8e0c_0242ac1c0002row14_col4,#T_d6988afe_f079_11eb_8e0c_0242ac1c0002row14_col5,#T_d6988afe_f079_11eb_8e0c_0242ac1c0002row14_col6,#T_d6988afe_f079_11eb_8e0c_0242ac1c0002row14_col7,#T_d6988afe_f079_11eb_8e0c_0242ac1c0002row14_col8,#T_d6988afe_f079_11eb_8e0c_0242ac1c0002row14_col9,#T_d6988afe_f079_11eb_8e0c_0242ac1c0002row14_col10,#T_d6988afe_f079_11eb_8e0c_0242ac1c0002row14_col11,#T_d6988afe_f079_11eb_8e0c_0242ac1c0002row14_col12,#T_d6988afe_f079_11eb_8e0c_0242ac1c0002row14_col13,#T_d6988afe_f079_11eb_8e0c_0242ac1c0002row14_col14,#T_d6988afe_f079_11eb_8e0c_0242ac1c0002row14_col19,#T_d6988afe_f079_11eb_8e0c_0242ac1c0002row14_col20,#T_d6988afe_f079_11eb_8e0c_0242ac1c0002row14_col21,#T_d6988afe_f079_11eb_8e0c_0242ac1c0002row14_col22,#T_d6988afe_f079_11eb_8e0c_0242ac1c0002row14_col23,#T_d6988afe_f079_11eb_8e0c_0242ac1c0002row14_col24,#T_d6988afe_f079_11eb_8e0c_0242ac1c0002row14_col25,#T_d6988afe_f079_11eb_8e0c_0242ac1c0002row14_col26,#T_d6988afe_f079_11eb_8e0c_0242ac1c0002row14_col27,#T_d6988afe_f079_11eb_8e0c_0242ac1c0002row15_col0,#T_d6988afe_f079_11eb_8e0c_0242ac1c0002row15_col1,#T_d6988afe_f079_11eb_8e0c_0242ac1c0002row15_col2,#T_d6988afe_f079_11eb_8e0c_0242ac1c0002row15_col3,#T_d6988afe_f079_11eb_8e0c_0242ac1c0002row15_col4,#T_d6988afe_f079_11eb_8e0c_0242ac1c0002row15_col5,#T_d6988afe_f079_11eb_8e0c_0242ac1c0002row15_col6,#T_d6988afe_f079_11eb_8e0c_0242ac1c0002row15_col7,#T_d6988afe_f079_11eb_8e0c_0242ac1c0002row15_col8,#T_d6988afe_f079_11eb_8e0c_0242ac1c0002row15_col9,#T_d6988afe_f079_11eb_8e0c_0242ac1c0002row15_col10,#T_d6988afe_f079_11eb_8e0c_0242ac1c0002row15_col11,#T_d6988afe_f079_11eb_8e0c_0242ac1c0002row15_col12,#T_d6988afe_f079_11eb_8e0c_0242ac1c0002row15_col19,#T_d6988afe_f079_11eb_8e0c_0242ac1c0002row15_col20,#T_d6988afe_f079_11eb_8e0c_0242ac1c0002row15_col21,#T_d6988afe_f079_11eb_8e0c_0242ac1c0002row15_col22,#T_d6988afe_f079_11eb_8e0c_0242ac1c0002row15_col23,#T_d6988afe_f079_11eb_8e0c_0242ac1c0002row15_col24,#T_d6988afe_f079_11eb_8e0c_0242ac1c0002row15_col25,#T_d6988afe_f079_11eb_8e0c_0242ac1c0002row15_col26,#T_d6988afe_f079_11eb_8e0c_0242ac1c0002row15_col27,#T_d6988afe_f079_11eb_8e0c_0242ac1c0002row16_col0,#T_d6988afe_f079_11eb_8e0c_0242ac1c0002row16_col1,#T_d6988afe_f079_11eb_8e0c_0242ac1c0002row16_col2,#T_d6988afe_f079_11eb_8e0c_0242ac1c0002row16_col3,#T_d6988afe_f079_11eb_8e0c_0242ac1c0002row16_col4,#T_d6988afe_f079_11eb_8e0c_0242ac1c0002row16_col5,#T_d6988afe_f079_11eb_8e0c_0242ac1c0002row16_col6,#T_d6988afe_f079_11eb_8e0c_0242ac1c0002row16_col7,#T_d6988afe_f079_11eb_8e0c_0242ac1c0002row16_col8,#T_d6988afe_f079_11eb_8e0c_0242ac1c0002row16_col9,#T_d6988afe_f079_11eb_8e0c_0242ac1c0002row16_col10,#T_d6988afe_f079_11eb_8e0c_0242ac1c0002row16_col11,#T_d6988afe_f079_11eb_8e0c_0242ac1c0002row16_col12,#T_d6988afe_f079_11eb_8e0c_0242ac1c0002row16_col19,#T_d6988afe_f079_11eb_8e0c_0242ac1c0002row16_col20,#T_d6988afe_f079_11eb_8e0c_0242ac1c0002row16_col21,#T_d6988afe_f079_11eb_8e0c_0242ac1c0002row16_col22,#T_d6988afe_f079_11eb_8e0c_0242ac1c0002row16_col23,#T_d6988afe_f079_11eb_8e0c_0242ac1c0002row16_col24,#T_d6988afe_f079_11eb_8e0c_0242ac1c0002row16_col25,#T_d6988afe_f079_11eb_8e0c_0242ac1c0002row16_col26,#T_d6988afe_f079_11eb_8e0c_0242ac1c0002row16_col27,#T_d6988afe_f079_11eb_8e0c_0242ac1c0002row17_col0,#T_d6988afe_f079_11eb_8e0c_0242ac1c0002row17_col1,#T_d6988afe_f079_11eb_8e0c_0242ac1c0002row17_col2,#T_d6988afe_f079_11eb_8e0c_0242ac1c0002row17_col3,#T_d6988afe_f079_11eb_8e0c_0242ac1c0002row17_col4,#T_d6988afe_f079_11eb_8e0c_0242ac1c0002row17_col5,#T_d6988afe_f079_11eb_8e0c_0242ac1c0002row17_col6,#T_d6988afe_f079_11eb_8e0c_0242ac1c0002row17_col7,#T_d6988afe_f079_11eb_8e0c_0242ac1c0002row17_col8,#T_d6988afe_f079_11eb_8e0c_0242ac1c0002row17_col9,#T_d6988afe_f079_11eb_8e0c_0242ac1c0002row17_col10,#T_d6988afe_f079_11eb_8e0c_0242ac1c0002row17_col11,#T_d6988afe_f079_11eb_8e0c_0242ac1c0002row17_col12,#T_d6988afe_f079_11eb_8e0c_0242ac1c0002row17_col19,#T_d6988afe_f079_11eb_8e0c_0242ac1c0002row17_col20,#T_d6988afe_f079_11eb_8e0c_0242ac1c0002row17_col21,#T_d6988afe_f079_11eb_8e0c_0242ac1c0002row17_col22,#T_d6988afe_f079_11eb_8e0c_0242ac1c0002row17_col23,#T_d6988afe_f079_11eb_8e0c_0242ac1c0002row17_col24,#T_d6988afe_f079_11eb_8e0c_0242ac1c0002row17_col25,#T_d6988afe_f079_11eb_8e0c_0242ac1c0002row17_col26,#T_d6988afe_f079_11eb_8e0c_0242ac1c0002row17_col27,#T_d6988afe_f079_11eb_8e0c_0242ac1c0002row18_col0,#T_d6988afe_f079_11eb_8e0c_0242ac1c0002row18_col1,#T_d6988afe_f079_11eb_8e0c_0242ac1c0002row18_col2,#T_d6988afe_f079_11eb_8e0c_0242ac1c0002row18_col3,#T_d6988afe_f079_11eb_8e0c_0242ac1c0002row18_col4,#T_d6988afe_f079_11eb_8e0c_0242ac1c0002row18_col5,#T_d6988afe_f079_11eb_8e0c_0242ac1c0002row18_col6,#T_d6988afe_f079_11eb_8e0c_0242ac1c0002row18_col7,#T_d6988afe_f079_11eb_8e0c_0242ac1c0002row18_col8,#T_d6988afe_f079_11eb_8e0c_0242ac1c0002row18_col9,#T_d6988afe_f079_11eb_8e0c_0242ac1c0002row18_col10,#T_d6988afe_f079_11eb_8e0c_0242ac1c0002row18_col11,#T_d6988afe_f079_11eb_8e0c_0242ac1c0002row18_col12,#T_d6988afe_f079_11eb_8e0c_0242ac1c0002row18_col18,#T_d6988afe_f079_11eb_8e0c_0242ac1c0002row18_col19,#T_d6988afe_f079_11eb_8e0c_0242ac1c0002row18_col20,#T_d6988afe_f079_11eb_8e0c_0242ac1c0002row18_col21,#T_d6988afe_f079_11eb_8e0c_0242ac1c0002row18_col22,#T_d6988afe_f079_11eb_8e0c_0242ac1c0002row18_col23,#T_d6988afe_f079_11eb_8e0c_0242ac1c0002row18_col24,#T_d6988afe_f079_11eb_8e0c_0242ac1c0002row18_col25,#T_d6988afe_f079_11eb_8e0c_0242ac1c0002row18_col26,#T_d6988afe_f079_11eb_8e0c_0242ac1c0002row18_col27,#T_d6988afe_f079_11eb_8e0c_0242ac1c0002row19_col0,#T_d6988afe_f079_11eb_8e0c_0242ac1c0002row19_col1,#T_d6988afe_f079_11eb_8e0c_0242ac1c0002row19_col2,#T_d6988afe_f079_11eb_8e0c_0242ac1c0002row19_col3,#T_d6988afe_f079_11eb_8e0c_0242ac1c0002row19_col4,#T_d6988afe_f079_11eb_8e0c_0242ac1c0002row19_col5,#T_d6988afe_f079_11eb_8e0c_0242ac1c0002row19_col6,#T_d6988afe_f079_11eb_8e0c_0242ac1c0002row19_col7,#T_d6988afe_f079_11eb_8e0c_0242ac1c0002row19_col8,#T_d6988afe_f079_11eb_8e0c_0242ac1c0002row19_col9,#T_d6988afe_f079_11eb_8e0c_0242ac1c0002row19_col10,#T_d6988afe_f079_11eb_8e0c_0242ac1c0002row19_col11,#T_d6988afe_f079_11eb_8e0c_0242ac1c0002row19_col12,#T_d6988afe_f079_11eb_8e0c_0242ac1c0002row19_col18,#T_d6988afe_f079_11eb_8e0c_0242ac1c0002row19_col19,#T_d6988afe_f079_11eb_8e0c_0242ac1c0002row19_col20,#T_d6988afe_f079_11eb_8e0c_0242ac1c0002row19_col21,#T_d6988afe_f079_11eb_8e0c_0242ac1c0002row19_col22,#T_d6988afe_f079_11eb_8e0c_0242ac1c0002row19_col23,#T_d6988afe_f079_11eb_8e0c_0242ac1c0002row19_col24,#T_d6988afe_f079_11eb_8e0c_0242ac1c0002row19_col25,#T_d6988afe_f079_11eb_8e0c_0242ac1c0002row19_col26,#T_d6988afe_f079_11eb_8e0c_0242ac1c0002row19_col27,#T_d6988afe_f079_11eb_8e0c_0242ac1c0002row20_col0,#T_d6988afe_f079_11eb_8e0c_0242ac1c0002row20_col1,#T_d6988afe_f079_11eb_8e0c_0242ac1c0002row20_col2,#T_d6988afe_f079_11eb_8e0c_0242ac1c0002row20_col3,#T_d6988afe_f079_11eb_8e0c_0242ac1c0002row20_col4,#T_d6988afe_f079_11eb_8e0c_0242ac1c0002row20_col5,#T_d6988afe_f079_11eb_8e0c_0242ac1c0002row20_col6,#T_d6988afe_f079_11eb_8e0c_0242ac1c0002row20_col7,#T_d6988afe_f079_11eb_8e0c_0242ac1c0002row20_col8,#T_d6988afe_f079_11eb_8e0c_0242ac1c0002row20_col9,#T_d6988afe_f079_11eb_8e0c_0242ac1c0002row20_col10,#T_d6988afe_f079_11eb_8e0c_0242ac1c0002row20_col11,#T_d6988afe_f079_11eb_8e0c_0242ac1c0002row20_col12,#T_d6988afe_f079_11eb_8e0c_0242ac1c0002row20_col18,#T_d6988afe_f079_11eb_8e0c_0242ac1c0002row20_col19,#T_d6988afe_f079_11eb_8e0c_0242ac1c0002row20_col20,#T_d6988afe_f079_11eb_8e0c_0242ac1c0002row20_col21,#T_d6988afe_f079_11eb_8e0c_0242ac1c0002row20_col22,#T_d6988afe_f079_11eb_8e0c_0242ac1c0002row20_col23,#T_d6988afe_f079_11eb_8e0c_0242ac1c0002row20_col24,#T_d6988afe_f079_11eb_8e0c_0242ac1c0002row20_col25,#T_d6988afe_f079_11eb_8e0c_0242ac1c0002row20_col26,#T_d6988afe_f079_11eb_8e0c_0242ac1c0002row20_col27,#T_d6988afe_f079_11eb_8e0c_0242ac1c0002row21_col0,#T_d6988afe_f079_11eb_8e0c_0242ac1c0002row21_col1,#T_d6988afe_f079_11eb_8e0c_0242ac1c0002row21_col2,#T_d6988afe_f079_11eb_8e0c_0242ac1c0002row21_col3,#T_d6988afe_f079_11eb_8e0c_0242ac1c0002row21_col4,#T_d6988afe_f079_11eb_8e0c_0242ac1c0002row21_col5,#T_d6988afe_f079_11eb_8e0c_0242ac1c0002row21_col6,#T_d6988afe_f079_11eb_8e0c_0242ac1c0002row21_col7,#T_d6988afe_f079_11eb_8e0c_0242ac1c0002row21_col8,#T_d6988afe_f079_11eb_8e0c_0242ac1c0002row21_col9,#T_d6988afe_f079_11eb_8e0c_0242ac1c0002row21_col10,#T_d6988afe_f079_11eb_8e0c_0242ac1c0002row21_col11,#T_d6988afe_f079_11eb_8e0c_0242ac1c0002row21_col12,#T_d6988afe_f079_11eb_8e0c_0242ac1c0002row21_col18,#T_d6988afe_f079_11eb_8e0c_0242ac1c0002row21_col19,#T_d6988afe_f079_11eb_8e0c_0242ac1c0002row21_col20,#T_d6988afe_f079_11eb_8e0c_0242ac1c0002row21_col21,#T_d6988afe_f079_11eb_8e0c_0242ac1c0002row21_col22,#T_d6988afe_f079_11eb_8e0c_0242ac1c0002row21_col23,#T_d6988afe_f079_11eb_8e0c_0242ac1c0002row21_col24,#T_d6988afe_f079_11eb_8e0c_0242ac1c0002row21_col25,#T_d6988afe_f079_11eb_8e0c_0242ac1c0002row21_col26,#T_d6988afe_f079_11eb_8e0c_0242ac1c0002row21_col27,#T_d6988afe_f079_11eb_8e0c_0242ac1c0002row22_col0,#T_d6988afe_f079_11eb_8e0c_0242ac1c0002row22_col1,#T_d6988afe_f079_11eb_8e0c_0242ac1c0002row22_col2,#T_d6988afe_f079_11eb_8e0c_0242ac1c0002row22_col3,#T_d6988afe_f079_11eb_8e0c_0242ac1c0002row22_col4,#T_d6988afe_f079_11eb_8e0c_0242ac1c0002row22_col5,#T_d6988afe_f079_11eb_8e0c_0242ac1c0002row22_col6,#T_d6988afe_f079_11eb_8e0c_0242ac1c0002row22_col7,#T_d6988afe_f079_11eb_8e0c_0242ac1c0002row22_col8,#T_d6988afe_f079_11eb_8e0c_0242ac1c0002row22_col9,#T_d6988afe_f079_11eb_8e0c_0242ac1c0002row22_col10,#T_d6988afe_f079_11eb_8e0c_0242ac1c0002row22_col11,#T_d6988afe_f079_11eb_8e0c_0242ac1c0002row22_col12,#T_d6988afe_f079_11eb_8e0c_0242ac1c0002row22_col19,#T_d6988afe_f079_11eb_8e0c_0242ac1c0002row22_col20,#T_d6988afe_f079_11eb_8e0c_0242ac1c0002row22_col21,#T_d6988afe_f079_11eb_8e0c_0242ac1c0002row22_col22,#T_d6988afe_f079_11eb_8e0c_0242ac1c0002row22_col23,#T_d6988afe_f079_11eb_8e0c_0242ac1c0002row22_col24,#T_d6988afe_f079_11eb_8e0c_0242ac1c0002row22_col25,#T_d6988afe_f079_11eb_8e0c_0242ac1c0002row22_col26,#T_d6988afe_f079_11eb_8e0c_0242ac1c0002row22_col27,#T_d6988afe_f079_11eb_8e0c_0242ac1c0002row23_col0,#T_d6988afe_f079_11eb_8e0c_0242ac1c0002row23_col1,#T_d6988afe_f079_11eb_8e0c_0242ac1c0002row23_col2,#T_d6988afe_f079_11eb_8e0c_0242ac1c0002row23_col3,#T_d6988afe_f079_11eb_8e0c_0242ac1c0002row23_col4,#T_d6988afe_f079_11eb_8e0c_0242ac1c0002row23_col5,#T_d6988afe_f079_11eb_8e0c_0242ac1c0002row23_col6,#T_d6988afe_f079_11eb_8e0c_0242ac1c0002row23_col7,#T_d6988afe_f079_11eb_8e0c_0242ac1c0002row23_col8,#T_d6988afe_f079_11eb_8e0c_0242ac1c0002row23_col9,#T_d6988afe_f079_11eb_8e0c_0242ac1c0002row23_col10,#T_d6988afe_f079_11eb_8e0c_0242ac1c0002row23_col11,#T_d6988afe_f079_11eb_8e0c_0242ac1c0002row23_col12,#T_d6988afe_f079_11eb_8e0c_0242ac1c0002row23_col19,#T_d6988afe_f079_11eb_8e0c_0242ac1c0002row23_col20,#T_d6988afe_f079_11eb_8e0c_0242ac1c0002row23_col21,#T_d6988afe_f079_11eb_8e0c_0242ac1c0002row23_col22,#T_d6988afe_f079_11eb_8e0c_0242ac1c0002row23_col23,#T_d6988afe_f079_11eb_8e0c_0242ac1c0002row23_col24,#T_d6988afe_f079_11eb_8e0c_0242ac1c0002row23_col25,#T_d6988afe_f079_11eb_8e0c_0242ac1c0002row23_col26,#T_d6988afe_f079_11eb_8e0c_0242ac1c0002row23_col27,#T_d6988afe_f079_11eb_8e0c_0242ac1c0002row24_col0,#T_d6988afe_f079_11eb_8e0c_0242ac1c0002row24_col1,#T_d6988afe_f079_11eb_8e0c_0242ac1c0002row24_col2,#T_d6988afe_f079_11eb_8e0c_0242ac1c0002row24_col3,#T_d6988afe_f079_11eb_8e0c_0242ac1c0002row24_col4,#T_d6988afe_f079_11eb_8e0c_0242ac1c0002row24_col5,#T_d6988afe_f079_11eb_8e0c_0242ac1c0002row24_col6,#T_d6988afe_f079_11eb_8e0c_0242ac1c0002row24_col7,#T_d6988afe_f079_11eb_8e0c_0242ac1c0002row24_col8,#T_d6988afe_f079_11eb_8e0c_0242ac1c0002row24_col9,#T_d6988afe_f079_11eb_8e0c_0242ac1c0002row24_col10,#T_d6988afe_f079_11eb_8e0c_0242ac1c0002row24_col11,#T_d6988afe_f079_11eb_8e0c_0242ac1c0002row24_col12,#T_d6988afe_f079_11eb_8e0c_0242ac1c0002row24_col19,#T_d6988afe_f079_11eb_8e0c_0242ac1c0002row24_col20,#T_d6988afe_f079_11eb_8e0c_0242ac1c0002row24_col21,#T_d6988afe_f079_11eb_8e0c_0242ac1c0002row24_col22,#T_d6988afe_f079_11eb_8e0c_0242ac1c0002row24_col23,#T_d6988afe_f079_11eb_8e0c_0242ac1c0002row24_col24,#T_d6988afe_f079_11eb_8e0c_0242ac1c0002row24_col25,#T_d6988afe_f079_11eb_8e0c_0242ac1c0002row24_col26,#T_d6988afe_f079_11eb_8e0c_0242ac1c0002row24_col27,#T_d6988afe_f079_11eb_8e0c_0242ac1c0002row25_col0,#T_d6988afe_f079_11eb_8e0c_0242ac1c0002row25_col1,#T_d6988afe_f079_11eb_8e0c_0242ac1c0002row25_col2,#T_d6988afe_f079_11eb_8e0c_0242ac1c0002row25_col3,#T_d6988afe_f079_11eb_8e0c_0242ac1c0002row25_col4,#T_d6988afe_f079_11eb_8e0c_0242ac1c0002row25_col5,#T_d6988afe_f079_11eb_8e0c_0242ac1c0002row25_col6,#T_d6988afe_f079_11eb_8e0c_0242ac1c0002row25_col7,#T_d6988afe_f079_11eb_8e0c_0242ac1c0002row25_col8,#T_d6988afe_f079_11eb_8e0c_0242ac1c0002row25_col9,#T_d6988afe_f079_11eb_8e0c_0242ac1c0002row25_col10,#T_d6988afe_f079_11eb_8e0c_0242ac1c0002row25_col11,#T_d6988afe_f079_11eb_8e0c_0242ac1c0002row25_col12,#T_d6988afe_f079_11eb_8e0c_0242ac1c0002row25_col19,#T_d6988afe_f079_11eb_8e0c_0242ac1c0002row25_col20,#T_d6988afe_f079_11eb_8e0c_0242ac1c0002row25_col21,#T_d6988afe_f079_11eb_8e0c_0242ac1c0002row25_col22,#T_d6988afe_f079_11eb_8e0c_0242ac1c0002row25_col23,#T_d6988afe_f079_11eb_8e0c_0242ac1c0002row25_col24,#T_d6988afe_f079_11eb_8e0c_0242ac1c0002row25_col25,#T_d6988afe_f079_11eb_8e0c_0242ac1c0002row25_col26,#T_d6988afe_f079_11eb_8e0c_0242ac1c0002row25_col27,#T_d6988afe_f079_11eb_8e0c_0242ac1c0002row26_col0,#T_d6988afe_f079_11eb_8e0c_0242ac1c0002row26_col1,#T_d6988afe_f079_11eb_8e0c_0242ac1c0002row26_col2,#T_d6988afe_f079_11eb_8e0c_0242ac1c0002row26_col3,#T_d6988afe_f079_11eb_8e0c_0242ac1c0002row26_col4,#T_d6988afe_f079_11eb_8e0c_0242ac1c0002row26_col5,#T_d6988afe_f079_11eb_8e0c_0242ac1c0002row26_col6,#T_d6988afe_f079_11eb_8e0c_0242ac1c0002row26_col7,#T_d6988afe_f079_11eb_8e0c_0242ac1c0002row26_col8,#T_d6988afe_f079_11eb_8e0c_0242ac1c0002row26_col9,#T_d6988afe_f079_11eb_8e0c_0242ac1c0002row26_col10,#T_d6988afe_f079_11eb_8e0c_0242ac1c0002row26_col11,#T_d6988afe_f079_11eb_8e0c_0242ac1c0002row26_col12,#T_d6988afe_f079_11eb_8e0c_0242ac1c0002row26_col13,#T_d6988afe_f079_11eb_8e0c_0242ac1c0002row26_col18,#T_d6988afe_f079_11eb_8e0c_0242ac1c0002row26_col19,#T_d6988afe_f079_11eb_8e0c_0242ac1c0002row26_col20,#T_d6988afe_f079_11eb_8e0c_0242ac1c0002row26_col21,#T_d6988afe_f079_11eb_8e0c_0242ac1c0002row26_col22,#T_d6988afe_f079_11eb_8e0c_0242ac1c0002row26_col23,#T_d6988afe_f079_11eb_8e0c_0242ac1c0002row26_col24,#T_d6988afe_f079_11eb_8e0c_0242ac1c0002row26_col25,#T_d6988afe_f079_11eb_8e0c_0242ac1c0002row26_col26,#T_d6988afe_f079_11eb_8e0c_0242ac1c0002row26_col27,#T_d6988afe_f079_11eb_8e0c_0242ac1c0002row27_col0,#T_d6988afe_f079_11eb_8e0c_0242ac1c0002row27_col1,#T_d6988afe_f079_11eb_8e0c_0242ac1c0002row27_col2,#T_d6988afe_f079_11eb_8e0c_0242ac1c0002row27_col3,#T_d6988afe_f079_11eb_8e0c_0242ac1c0002row27_col4,#T_d6988afe_f079_11eb_8e0c_0242ac1c0002row27_col5,#T_d6988afe_f079_11eb_8e0c_0242ac1c0002row27_col6,#T_d6988afe_f079_11eb_8e0c_0242ac1c0002row27_col7,#T_d6988afe_f079_11eb_8e0c_0242ac1c0002row27_col8,#T_d6988afe_f079_11eb_8e0c_0242ac1c0002row27_col9,#T_d6988afe_f079_11eb_8e0c_0242ac1c0002row27_col10,#T_d6988afe_f079_11eb_8e0c_0242ac1c0002row27_col11,#T_d6988afe_f079_11eb_8e0c_0242ac1c0002row27_col12,#T_d6988afe_f079_11eb_8e0c_0242ac1c0002row27_col13,#T_d6988afe_f079_11eb_8e0c_0242ac1c0002row27_col14,#T_d6988afe_f079_11eb_8e0c_0242ac1c0002row27_col15,#T_d6988afe_f079_11eb_8e0c_0242ac1c0002row27_col16,#T_d6988afe_f079_11eb_8e0c_0242ac1c0002row27_col17,#T_d6988afe_f079_11eb_8e0c_0242ac1c0002row27_col18,#T_d6988afe_f079_11eb_8e0c_0242ac1c0002row27_col19,#T_d6988afe_f079_11eb_8e0c_0242ac1c0002row27_col20,#T_d6988afe_f079_11eb_8e0c_0242ac1c0002row27_col21,#T_d6988afe_f079_11eb_8e0c_0242ac1c0002row27_col22,#T_d6988afe_f079_11eb_8e0c_0242ac1c0002row27_col23,#T_d6988afe_f079_11eb_8e0c_0242ac1c0002row27_col24,#T_d6988afe_f079_11eb_8e0c_0242ac1c0002row27_col25,#T_d6988afe_f079_11eb_8e0c_0242ac1c0002row27_col26,#T_d6988afe_f079_11eb_8e0c_0242ac1c0002row27_col27{\n",
              "            font-size:  6pt;\n",
              "            background-color:  #ffffff;\n",
              "            color:  #000000;\n",
              "        }#T_d6988afe_f079_11eb_8e0c_0242ac1c0002row7_col4{\n",
              "            font-size:  6pt;\n",
              "            background-color:  #f5f5f5;\n",
              "            color:  #000000;\n",
              "        }#T_d6988afe_f079_11eb_8e0c_0242ac1c0002row7_col5{\n",
              "            font-size:  6pt;\n",
              "            background-color:  #e1e1e1;\n",
              "            color:  #000000;\n",
              "        }#T_d6988afe_f079_11eb_8e0c_0242ac1c0002row7_col6{\n",
              "            font-size:  6pt;\n",
              "            background-color:  #2c2c2c;\n",
              "            color:  #f1f1f1;\n",
              "        }#T_d6988afe_f079_11eb_8e0c_0242ac1c0002row7_col7,#T_d6988afe_f079_11eb_8e0c_0242ac1c0002row7_col8,#T_d6988afe_f079_11eb_8e0c_0242ac1c0002row7_col9,#T_d6988afe_f079_11eb_8e0c_0242ac1c0002row7_col10,#T_d6988afe_f079_11eb_8e0c_0242ac1c0002row7_col11,#T_d6988afe_f079_11eb_8e0c_0242ac1c0002row7_col12,#T_d6988afe_f079_11eb_8e0c_0242ac1c0002row7_col13,#T_d6988afe_f079_11eb_8e0c_0242ac1c0002row7_col14,#T_d6988afe_f079_11eb_8e0c_0242ac1c0002row7_col16,#T_d6988afe_f079_11eb_8e0c_0242ac1c0002row7_col17,#T_d6988afe_f079_11eb_8e0c_0242ac1c0002row7_col18,#T_d6988afe_f079_11eb_8e0c_0242ac1c0002row7_col19,#T_d6988afe_f079_11eb_8e0c_0242ac1c0002row7_col20,#T_d6988afe_f079_11eb_8e0c_0242ac1c0002row7_col21,#T_d6988afe_f079_11eb_8e0c_0242ac1c0002row8_col5,#T_d6988afe_f079_11eb_8e0c_0242ac1c0002row8_col6,#T_d6988afe_f079_11eb_8e0c_0242ac1c0002row8_col21,#T_d6988afe_f079_11eb_8e0c_0242ac1c0002row9_col3,#T_d6988afe_f079_11eb_8e0c_0242ac1c0002row9_col4,#T_d6988afe_f079_11eb_8e0c_0242ac1c0002row9_col5,#T_d6988afe_f079_11eb_8e0c_0242ac1c0002row9_col6,#T_d6988afe_f079_11eb_8e0c_0242ac1c0002row10_col5,#T_d6988afe_f079_11eb_8e0c_0242ac1c0002row10_col6,#T_d6988afe_f079_11eb_8e0c_0242ac1c0002row11_col17,#T_d6988afe_f079_11eb_8e0c_0242ac1c0002row11_col18,#T_d6988afe_f079_11eb_8e0c_0242ac1c0002row15_col16,#T_d6988afe_f079_11eb_8e0c_0242ac1c0002row15_col17,#T_d6988afe_f079_11eb_8e0c_0242ac1c0002row19_col14,#T_d6988afe_f079_11eb_8e0c_0242ac1c0002row19_col16,#T_d6988afe_f079_11eb_8e0c_0242ac1c0002row23_col14,#T_d6988afe_f079_11eb_8e0c_0242ac1c0002row23_col15,#T_d6988afe_f079_11eb_8e0c_0242ac1c0002row23_col16,#T_d6988afe_f079_11eb_8e0c_0242ac1c0002row23_col17{\n",
              "            font-size:  6pt;\n",
              "            background-color:  #000000;\n",
              "            color:  #f1f1f1;\n",
              "        }#T_d6988afe_f079_11eb_8e0c_0242ac1c0002row7_col15,#T_d6988afe_f079_11eb_8e0c_0242ac1c0002row15_col15,#T_d6988afe_f079_11eb_8e0c_0242ac1c0002row19_col15{\n",
              "            font-size:  6pt;\n",
              "            background-color:  #010101;\n",
              "            color:  #f1f1f1;\n",
              "        }#T_d6988afe_f079_11eb_8e0c_0242ac1c0002row8_col3{\n",
              "            font-size:  6pt;\n",
              "            background-color:  #b2b2b2;\n",
              "            color:  #000000;\n",
              "        }#T_d6988afe_f079_11eb_8e0c_0242ac1c0002row8_col4{\n",
              "            font-size:  6pt;\n",
              "            background-color:  #6e6e6e;\n",
              "            color:  #000000;\n",
              "        }#T_d6988afe_f079_11eb_8e0c_0242ac1c0002row8_col7,#T_d6988afe_f079_11eb_8e0c_0242ac1c0002row8_col8,#T_d6988afe_f079_11eb_8e0c_0242ac1c0002row8_col9,#T_d6988afe_f079_11eb_8e0c_0242ac1c0002row8_col10,#T_d6988afe_f079_11eb_8e0c_0242ac1c0002row8_col11,#T_d6988afe_f079_11eb_8e0c_0242ac1c0002row8_col12,#T_d6988afe_f079_11eb_8e0c_0242ac1c0002row8_col13,#T_d6988afe_f079_11eb_8e0c_0242ac1c0002row8_col14,#T_d6988afe_f079_11eb_8e0c_0242ac1c0002row8_col16,#T_d6988afe_f079_11eb_8e0c_0242ac1c0002row8_col17,#T_d6988afe_f079_11eb_8e0c_0242ac1c0002row8_col18,#T_d6988afe_f079_11eb_8e0c_0242ac1c0002row8_col20,#T_d6988afe_f079_11eb_8e0c_0242ac1c0002row9_col7,#T_d6988afe_f079_11eb_8e0c_0242ac1c0002row9_col10,#T_d6988afe_f079_11eb_8e0c_0242ac1c0002row9_col11,#T_d6988afe_f079_11eb_8e0c_0242ac1c0002row9_col12,#T_d6988afe_f079_11eb_8e0c_0242ac1c0002row9_col13,#T_d6988afe_f079_11eb_8e0c_0242ac1c0002row9_col14,#T_d6988afe_f079_11eb_8e0c_0242ac1c0002row9_col16,#T_d6988afe_f079_11eb_8e0c_0242ac1c0002row9_col17,#T_d6988afe_f079_11eb_8e0c_0242ac1c0002row9_col18,#T_d6988afe_f079_11eb_8e0c_0242ac1c0002row10_col18,#T_d6988afe_f079_11eb_8e0c_0242ac1c0002row12_col16,#T_d6988afe_f079_11eb_8e0c_0242ac1c0002row12_col17,#T_d6988afe_f079_11eb_8e0c_0242ac1c0002row12_col18,#T_d6988afe_f079_11eb_8e0c_0242ac1c0002row13_col16,#T_d6988afe_f079_11eb_8e0c_0242ac1c0002row13_col17,#T_d6988afe_f079_11eb_8e0c_0242ac1c0002row13_col18,#T_d6988afe_f079_11eb_8e0c_0242ac1c0002row14_col16,#T_d6988afe_f079_11eb_8e0c_0242ac1c0002row14_col17,#T_d6988afe_f079_11eb_8e0c_0242ac1c0002row14_col18,#T_d6988afe_f079_11eb_8e0c_0242ac1c0002row16_col14,#T_d6988afe_f079_11eb_8e0c_0242ac1c0002row16_col16,#T_d6988afe_f079_11eb_8e0c_0242ac1c0002row16_col17,#T_d6988afe_f079_11eb_8e0c_0242ac1c0002row17_col14,#T_d6988afe_f079_11eb_8e0c_0242ac1c0002row17_col16,#T_d6988afe_f079_11eb_8e0c_0242ac1c0002row18_col14,#T_d6988afe_f079_11eb_8e0c_0242ac1c0002row18_col16,#T_d6988afe_f079_11eb_8e0c_0242ac1c0002row20_col14,#T_d6988afe_f079_11eb_8e0c_0242ac1c0002row20_col16,#T_d6988afe_f079_11eb_8e0c_0242ac1c0002row21_col14,#T_d6988afe_f079_11eb_8e0c_0242ac1c0002row21_col16,#T_d6988afe_f079_11eb_8e0c_0242ac1c0002row22_col14,#T_d6988afe_f079_11eb_8e0c_0242ac1c0002row22_col16,#T_d6988afe_f079_11eb_8e0c_0242ac1c0002row24_col14,#T_d6988afe_f079_11eb_8e0c_0242ac1c0002row24_col16,#T_d6988afe_f079_11eb_8e0c_0242ac1c0002row24_col17,#T_d6988afe_f079_11eb_8e0c_0242ac1c0002row25_col16{\n",
              "            font-size:  6pt;\n",
              "            background-color:  #020202;\n",
              "            color:  #f1f1f1;\n",
              "        }#T_d6988afe_f079_11eb_8e0c_0242ac1c0002row8_col15,#T_d6988afe_f079_11eb_8e0c_0242ac1c0002row8_col19,#T_d6988afe_f079_11eb_8e0c_0242ac1c0002row9_col15,#T_d6988afe_f079_11eb_8e0c_0242ac1c0002row9_col19,#T_d6988afe_f079_11eb_8e0c_0242ac1c0002row10_col19,#T_d6988afe_f079_11eb_8e0c_0242ac1c0002row14_col15,#T_d6988afe_f079_11eb_8e0c_0242ac1c0002row16_col15,#T_d6988afe_f079_11eb_8e0c_0242ac1c0002row17_col15,#T_d6988afe_f079_11eb_8e0c_0242ac1c0002row18_col15,#T_d6988afe_f079_11eb_8e0c_0242ac1c0002row20_col15,#T_d6988afe_f079_11eb_8e0c_0242ac1c0002row21_col15,#T_d6988afe_f079_11eb_8e0c_0242ac1c0002row22_col15,#T_d6988afe_f079_11eb_8e0c_0242ac1c0002row24_col15,#T_d6988afe_f079_11eb_8e0c_0242ac1c0002row25_col15{\n",
              "            font-size:  6pt;\n",
              "            background-color:  #030303;\n",
              "            color:  #f1f1f1;\n",
              "        }#T_d6988afe_f079_11eb_8e0c_0242ac1c0002row9_col8,#T_d6988afe_f079_11eb_8e0c_0242ac1c0002row9_col20{\n",
              "            font-size:  6pt;\n",
              "            background-color:  #515151;\n",
              "            color:  #f1f1f1;\n",
              "        }#T_d6988afe_f079_11eb_8e0c_0242ac1c0002row9_col9{\n",
              "            font-size:  6pt;\n",
              "            background-color:  #505050;\n",
              "            color:  #f1f1f1;\n",
              "        }#T_d6988afe_f079_11eb_8e0c_0242ac1c0002row9_col21{\n",
              "            font-size:  6pt;\n",
              "            background-color:  #b5b5b5;\n",
              "            color:  #000000;\n",
              "        }#T_d6988afe_f079_11eb_8e0c_0242ac1c0002row10_col3{\n",
              "            font-size:  6pt;\n",
              "            background-color:  #e3e3e3;\n",
              "            color:  #000000;\n",
              "        }#T_d6988afe_f079_11eb_8e0c_0242ac1c0002row10_col4{\n",
              "            font-size:  6pt;\n",
              "            background-color:  #909090;\n",
              "            color:  #000000;\n",
              "        }#T_d6988afe_f079_11eb_8e0c_0242ac1c0002row10_col7,#T_d6988afe_f079_11eb_8e0c_0242ac1c0002row10_col10,#T_d6988afe_f079_11eb_8e0c_0242ac1c0002row10_col11,#T_d6988afe_f079_11eb_8e0c_0242ac1c0002row10_col12,#T_d6988afe_f079_11eb_8e0c_0242ac1c0002row10_col13,#T_d6988afe_f079_11eb_8e0c_0242ac1c0002row10_col14,#T_d6988afe_f079_11eb_8e0c_0242ac1c0002row10_col15,#T_d6988afe_f079_11eb_8e0c_0242ac1c0002row10_col16,#T_d6988afe_f079_11eb_8e0c_0242ac1c0002row15_col18,#T_d6988afe_f079_11eb_8e0c_0242ac1c0002row16_col18,#T_d6988afe_f079_11eb_8e0c_0242ac1c0002row23_col18,#T_d6988afe_f079_11eb_8e0c_0242ac1c0002row24_col18,#T_d6988afe_f079_11eb_8e0c_0242ac1c0002row26_col16{\n",
              "            font-size:  6pt;\n",
              "            background-color:  #e4e4e4;\n",
              "            color:  #000000;\n",
              "        }#T_d6988afe_f079_11eb_8e0c_0242ac1c0002row10_col8,#T_d6988afe_f079_11eb_8e0c_0242ac1c0002row10_col9{\n",
              "            font-size:  6pt;\n",
              "            background-color:  #f1f1f1;\n",
              "            color:  #000000;\n",
              "        }#T_d6988afe_f079_11eb_8e0c_0242ac1c0002row10_col17,#T_d6988afe_f079_11eb_8e0c_0242ac1c0002row13_col15{\n",
              "            font-size:  6pt;\n",
              "            background-color:  #666666;\n",
              "            color:  #f1f1f1;\n",
              "        }#T_d6988afe_f079_11eb_8e0c_0242ac1c0002row10_col20{\n",
              "            font-size:  6pt;\n",
              "            background-color:  #7c7c7c;\n",
              "            color:  #000000;\n",
              "        }#T_d6988afe_f079_11eb_8e0c_0242ac1c0002row11_col15{\n",
              "            font-size:  6pt;\n",
              "            background-color:  #fafafa;\n",
              "            color:  #000000;\n",
              "        }#T_d6988afe_f079_11eb_8e0c_0242ac1c0002row11_col16{\n",
              "            font-size:  6pt;\n",
              "            background-color:  #8f8f8f;\n",
              "            color:  #000000;\n",
              "        }#T_d6988afe_f079_11eb_8e0c_0242ac1c0002row11_col19{\n",
              "            font-size:  6pt;\n",
              "            background-color:  #0d0d0d;\n",
              "            color:  #f1f1f1;\n",
              "        }#T_d6988afe_f079_11eb_8e0c_0242ac1c0002row11_col20{\n",
              "            font-size:  6pt;\n",
              "            background-color:  #9d9d9d;\n",
              "            color:  #000000;\n",
              "        }#T_d6988afe_f079_11eb_8e0c_0242ac1c0002row12_col15{\n",
              "            font-size:  6pt;\n",
              "            background-color:  #e2e2e2;\n",
              "            color:  #000000;\n",
              "        }#T_d6988afe_f079_11eb_8e0c_0242ac1c0002row12_col19{\n",
              "            font-size:  6pt;\n",
              "            background-color:  #434343;\n",
              "            color:  #f1f1f1;\n",
              "        }#T_d6988afe_f079_11eb_8e0c_0242ac1c0002row13_col19{\n",
              "            font-size:  6pt;\n",
              "            background-color:  #cbcbcb;\n",
              "            color:  #000000;\n",
              "        }#T_d6988afe_f079_11eb_8e0c_0242ac1c0002row15_col13{\n",
              "            font-size:  6pt;\n",
              "            background-color:  #f0f0f0;\n",
              "            color:  #000000;\n",
              "        }#T_d6988afe_f079_11eb_8e0c_0242ac1c0002row15_col14{\n",
              "            font-size:  6pt;\n",
              "            background-color:  #2f2f2f;\n",
              "            color:  #f1f1f1;\n",
              "        }#T_d6988afe_f079_11eb_8e0c_0242ac1c0002row16_col13,#T_d6988afe_f079_11eb_8e0c_0242ac1c0002row17_col13,#T_d6988afe_f079_11eb_8e0c_0242ac1c0002row18_col13,#T_d6988afe_f079_11eb_8e0c_0242ac1c0002row20_col13,#T_d6988afe_f079_11eb_8e0c_0242ac1c0002row21_col13,#T_d6988afe_f079_11eb_8e0c_0242ac1c0002row22_col13,#T_d6988afe_f079_11eb_8e0c_0242ac1c0002row24_col13{\n",
              "            font-size:  6pt;\n",
              "            background-color:  #7a7a7a;\n",
              "            color:  #000000;\n",
              "        }#T_d6988afe_f079_11eb_8e0c_0242ac1c0002row17_col17,#T_d6988afe_f079_11eb_8e0c_0242ac1c0002row25_col17{\n",
              "            font-size:  6pt;\n",
              "            background-color:  #717171;\n",
              "            color:  #000000;\n",
              "        }#T_d6988afe_f079_11eb_8e0c_0242ac1c0002row17_col18,#T_d6988afe_f079_11eb_8e0c_0242ac1c0002row25_col18,#T_d6988afe_f079_11eb_8e0c_0242ac1c0002row26_col17{\n",
              "            font-size:  6pt;\n",
              "            background-color:  #f6f6f6;\n",
              "            color:  #000000;\n",
              "        }#T_d6988afe_f079_11eb_8e0c_0242ac1c0002row18_col17,#T_d6988afe_f079_11eb_8e0c_0242ac1c0002row19_col17,#T_d6988afe_f079_11eb_8e0c_0242ac1c0002row20_col17,#T_d6988afe_f079_11eb_8e0c_0242ac1c0002row21_col17{\n",
              "            font-size:  6pt;\n",
              "            background-color:  #b6b6b6;\n",
              "            color:  #000000;\n",
              "        }#T_d6988afe_f079_11eb_8e0c_0242ac1c0002row19_col13{\n",
              "            font-size:  6pt;\n",
              "            background-color:  #797979;\n",
              "            color:  #000000;\n",
              "        }#T_d6988afe_f079_11eb_8e0c_0242ac1c0002row22_col17,#T_d6988afe_f079_11eb_8e0c_0242ac1c0002row25_col14{\n",
              "            font-size:  6pt;\n",
              "            background-color:  #242424;\n",
              "            color:  #f1f1f1;\n",
              "        }#T_d6988afe_f079_11eb_8e0c_0242ac1c0002row22_col18,#T_d6988afe_f079_11eb_8e0c_0242ac1c0002row26_col14{\n",
              "            font-size:  6pt;\n",
              "            background-color:  #eaeaea;\n",
              "            color:  #000000;\n",
              "        }#T_d6988afe_f079_11eb_8e0c_0242ac1c0002row23_col13{\n",
              "            font-size:  6pt;\n",
              "            background-color:  #787878;\n",
              "            color:  #000000;\n",
              "        }#T_d6988afe_f079_11eb_8e0c_0242ac1c0002row25_col13{\n",
              "            font-size:  6pt;\n",
              "            background-color:  #dcdcdc;\n",
              "            color:  #000000;\n",
              "        }#T_d6988afe_f079_11eb_8e0c_0242ac1c0002row26_col15{\n",
              "            font-size:  6pt;\n",
              "            background-color:  #353535;\n",
              "            color:  #f1f1f1;\n",
              "        }</style><table id=\"T_d6988afe_f079_11eb_8e0c_0242ac1c0002\" ><thead>    <tr>        <th class=\"blank level0\" ></th>        <th class=\"col_heading level0 col0\" >0</th>        <th class=\"col_heading level0 col1\" >1</th>        <th class=\"col_heading level0 col2\" >2</th>        <th class=\"col_heading level0 col3\" >3</th>        <th class=\"col_heading level0 col4\" >4</th>        <th class=\"col_heading level0 col5\" >5</th>        <th class=\"col_heading level0 col6\" >6</th>        <th class=\"col_heading level0 col7\" >7</th>        <th class=\"col_heading level0 col8\" >8</th>        <th class=\"col_heading level0 col9\" >9</th>        <th class=\"col_heading level0 col10\" >10</th>        <th class=\"col_heading level0 col11\" >11</th>        <th class=\"col_heading level0 col12\" >12</th>        <th class=\"col_heading level0 col13\" >13</th>        <th class=\"col_heading level0 col14\" >14</th>        <th class=\"col_heading level0 col15\" >15</th>        <th class=\"col_heading level0 col16\" >16</th>        <th class=\"col_heading level0 col17\" >17</th>        <th class=\"col_heading level0 col18\" >18</th>        <th class=\"col_heading level0 col19\" >19</th>        <th class=\"col_heading level0 col20\" >20</th>        <th class=\"col_heading level0 col21\" >21</th>        <th class=\"col_heading level0 col22\" >22</th>        <th class=\"col_heading level0 col23\" >23</th>        <th class=\"col_heading level0 col24\" >24</th>        <th class=\"col_heading level0 col25\" >25</th>        <th class=\"col_heading level0 col26\" >26</th>        <th class=\"col_heading level0 col27\" >27</th>    </tr></thead><tbody>\n",
              "                <tr>\n",
              "                        <th id=\"T_d6988afe_f079_11eb_8e0c_0242ac1c0002level0_row0\" class=\"row_heading level0 row0\" >0</th>\n",
              "                        <td id=\"T_d6988afe_f079_11eb_8e0c_0242ac1c0002row0_col0\" class=\"data row0 col0\" >0</td>\n",
              "                        <td id=\"T_d6988afe_f079_11eb_8e0c_0242ac1c0002row0_col1\" class=\"data row0 col1\" >0</td>\n",
              "                        <td id=\"T_d6988afe_f079_11eb_8e0c_0242ac1c0002row0_col2\" class=\"data row0 col2\" >0</td>\n",
              "                        <td id=\"T_d6988afe_f079_11eb_8e0c_0242ac1c0002row0_col3\" class=\"data row0 col3\" >0</td>\n",
              "                        <td id=\"T_d6988afe_f079_11eb_8e0c_0242ac1c0002row0_col4\" class=\"data row0 col4\" >0</td>\n",
              "                        <td id=\"T_d6988afe_f079_11eb_8e0c_0242ac1c0002row0_col5\" class=\"data row0 col5\" >0</td>\n",
              "                        <td id=\"T_d6988afe_f079_11eb_8e0c_0242ac1c0002row0_col6\" class=\"data row0 col6\" >0</td>\n",
              "                        <td id=\"T_d6988afe_f079_11eb_8e0c_0242ac1c0002row0_col7\" class=\"data row0 col7\" >0</td>\n",
              "                        <td id=\"T_d6988afe_f079_11eb_8e0c_0242ac1c0002row0_col8\" class=\"data row0 col8\" >0</td>\n",
              "                        <td id=\"T_d6988afe_f079_11eb_8e0c_0242ac1c0002row0_col9\" class=\"data row0 col9\" >0</td>\n",
              "                        <td id=\"T_d6988afe_f079_11eb_8e0c_0242ac1c0002row0_col10\" class=\"data row0 col10\" >0</td>\n",
              "                        <td id=\"T_d6988afe_f079_11eb_8e0c_0242ac1c0002row0_col11\" class=\"data row0 col11\" >0</td>\n",
              "                        <td id=\"T_d6988afe_f079_11eb_8e0c_0242ac1c0002row0_col12\" class=\"data row0 col12\" >0</td>\n",
              "                        <td id=\"T_d6988afe_f079_11eb_8e0c_0242ac1c0002row0_col13\" class=\"data row0 col13\" >0</td>\n",
              "                        <td id=\"T_d6988afe_f079_11eb_8e0c_0242ac1c0002row0_col14\" class=\"data row0 col14\" >0</td>\n",
              "                        <td id=\"T_d6988afe_f079_11eb_8e0c_0242ac1c0002row0_col15\" class=\"data row0 col15\" >0</td>\n",
              "                        <td id=\"T_d6988afe_f079_11eb_8e0c_0242ac1c0002row0_col16\" class=\"data row0 col16\" >0</td>\n",
              "                        <td id=\"T_d6988afe_f079_11eb_8e0c_0242ac1c0002row0_col17\" class=\"data row0 col17\" >0</td>\n",
              "                        <td id=\"T_d6988afe_f079_11eb_8e0c_0242ac1c0002row0_col18\" class=\"data row0 col18\" >0</td>\n",
              "                        <td id=\"T_d6988afe_f079_11eb_8e0c_0242ac1c0002row0_col19\" class=\"data row0 col19\" >0</td>\n",
              "                        <td id=\"T_d6988afe_f079_11eb_8e0c_0242ac1c0002row0_col20\" class=\"data row0 col20\" >0</td>\n",
              "                        <td id=\"T_d6988afe_f079_11eb_8e0c_0242ac1c0002row0_col21\" class=\"data row0 col21\" >0</td>\n",
              "                        <td id=\"T_d6988afe_f079_11eb_8e0c_0242ac1c0002row0_col22\" class=\"data row0 col22\" >0</td>\n",
              "                        <td id=\"T_d6988afe_f079_11eb_8e0c_0242ac1c0002row0_col23\" class=\"data row0 col23\" >0</td>\n",
              "                        <td id=\"T_d6988afe_f079_11eb_8e0c_0242ac1c0002row0_col24\" class=\"data row0 col24\" >0</td>\n",
              "                        <td id=\"T_d6988afe_f079_11eb_8e0c_0242ac1c0002row0_col25\" class=\"data row0 col25\" >0</td>\n",
              "                        <td id=\"T_d6988afe_f079_11eb_8e0c_0242ac1c0002row0_col26\" class=\"data row0 col26\" >0</td>\n",
              "                        <td id=\"T_d6988afe_f079_11eb_8e0c_0242ac1c0002row0_col27\" class=\"data row0 col27\" >0</td>\n",
              "            </tr>\n",
              "            <tr>\n",
              "                        <th id=\"T_d6988afe_f079_11eb_8e0c_0242ac1c0002level0_row1\" class=\"row_heading level0 row1\" >1</th>\n",
              "                        <td id=\"T_d6988afe_f079_11eb_8e0c_0242ac1c0002row1_col0\" class=\"data row1 col0\" >0</td>\n",
              "                        <td id=\"T_d6988afe_f079_11eb_8e0c_0242ac1c0002row1_col1\" class=\"data row1 col1\" >0</td>\n",
              "                        <td id=\"T_d6988afe_f079_11eb_8e0c_0242ac1c0002row1_col2\" class=\"data row1 col2\" >0</td>\n",
              "                        <td id=\"T_d6988afe_f079_11eb_8e0c_0242ac1c0002row1_col3\" class=\"data row1 col3\" >0</td>\n",
              "                        <td id=\"T_d6988afe_f079_11eb_8e0c_0242ac1c0002row1_col4\" class=\"data row1 col4\" >0</td>\n",
              "                        <td id=\"T_d6988afe_f079_11eb_8e0c_0242ac1c0002row1_col5\" class=\"data row1 col5\" >0</td>\n",
              "                        <td id=\"T_d6988afe_f079_11eb_8e0c_0242ac1c0002row1_col6\" class=\"data row1 col6\" >0</td>\n",
              "                        <td id=\"T_d6988afe_f079_11eb_8e0c_0242ac1c0002row1_col7\" class=\"data row1 col7\" >0</td>\n",
              "                        <td id=\"T_d6988afe_f079_11eb_8e0c_0242ac1c0002row1_col8\" class=\"data row1 col8\" >0</td>\n",
              "                        <td id=\"T_d6988afe_f079_11eb_8e0c_0242ac1c0002row1_col9\" class=\"data row1 col9\" >0</td>\n",
              "                        <td id=\"T_d6988afe_f079_11eb_8e0c_0242ac1c0002row1_col10\" class=\"data row1 col10\" >0</td>\n",
              "                        <td id=\"T_d6988afe_f079_11eb_8e0c_0242ac1c0002row1_col11\" class=\"data row1 col11\" >0</td>\n",
              "                        <td id=\"T_d6988afe_f079_11eb_8e0c_0242ac1c0002row1_col12\" class=\"data row1 col12\" >0</td>\n",
              "                        <td id=\"T_d6988afe_f079_11eb_8e0c_0242ac1c0002row1_col13\" class=\"data row1 col13\" >0</td>\n",
              "                        <td id=\"T_d6988afe_f079_11eb_8e0c_0242ac1c0002row1_col14\" class=\"data row1 col14\" >0</td>\n",
              "                        <td id=\"T_d6988afe_f079_11eb_8e0c_0242ac1c0002row1_col15\" class=\"data row1 col15\" >0</td>\n",
              "                        <td id=\"T_d6988afe_f079_11eb_8e0c_0242ac1c0002row1_col16\" class=\"data row1 col16\" >0</td>\n",
              "                        <td id=\"T_d6988afe_f079_11eb_8e0c_0242ac1c0002row1_col17\" class=\"data row1 col17\" >0</td>\n",
              "                        <td id=\"T_d6988afe_f079_11eb_8e0c_0242ac1c0002row1_col18\" class=\"data row1 col18\" >0</td>\n",
              "                        <td id=\"T_d6988afe_f079_11eb_8e0c_0242ac1c0002row1_col19\" class=\"data row1 col19\" >0</td>\n",
              "                        <td id=\"T_d6988afe_f079_11eb_8e0c_0242ac1c0002row1_col20\" class=\"data row1 col20\" >0</td>\n",
              "                        <td id=\"T_d6988afe_f079_11eb_8e0c_0242ac1c0002row1_col21\" class=\"data row1 col21\" >0</td>\n",
              "                        <td id=\"T_d6988afe_f079_11eb_8e0c_0242ac1c0002row1_col22\" class=\"data row1 col22\" >0</td>\n",
              "                        <td id=\"T_d6988afe_f079_11eb_8e0c_0242ac1c0002row1_col23\" class=\"data row1 col23\" >0</td>\n",
              "                        <td id=\"T_d6988afe_f079_11eb_8e0c_0242ac1c0002row1_col24\" class=\"data row1 col24\" >0</td>\n",
              "                        <td id=\"T_d6988afe_f079_11eb_8e0c_0242ac1c0002row1_col25\" class=\"data row1 col25\" >0</td>\n",
              "                        <td id=\"T_d6988afe_f079_11eb_8e0c_0242ac1c0002row1_col26\" class=\"data row1 col26\" >0</td>\n",
              "                        <td id=\"T_d6988afe_f079_11eb_8e0c_0242ac1c0002row1_col27\" class=\"data row1 col27\" >0</td>\n",
              "            </tr>\n",
              "            <tr>\n",
              "                        <th id=\"T_d6988afe_f079_11eb_8e0c_0242ac1c0002level0_row2\" class=\"row_heading level0 row2\" >2</th>\n",
              "                        <td id=\"T_d6988afe_f079_11eb_8e0c_0242ac1c0002row2_col0\" class=\"data row2 col0\" >0</td>\n",
              "                        <td id=\"T_d6988afe_f079_11eb_8e0c_0242ac1c0002row2_col1\" class=\"data row2 col1\" >0</td>\n",
              "                        <td id=\"T_d6988afe_f079_11eb_8e0c_0242ac1c0002row2_col2\" class=\"data row2 col2\" >0</td>\n",
              "                        <td id=\"T_d6988afe_f079_11eb_8e0c_0242ac1c0002row2_col3\" class=\"data row2 col3\" >0</td>\n",
              "                        <td id=\"T_d6988afe_f079_11eb_8e0c_0242ac1c0002row2_col4\" class=\"data row2 col4\" >0</td>\n",
              "                        <td id=\"T_d6988afe_f079_11eb_8e0c_0242ac1c0002row2_col5\" class=\"data row2 col5\" >0</td>\n",
              "                        <td id=\"T_d6988afe_f079_11eb_8e0c_0242ac1c0002row2_col6\" class=\"data row2 col6\" >0</td>\n",
              "                        <td id=\"T_d6988afe_f079_11eb_8e0c_0242ac1c0002row2_col7\" class=\"data row2 col7\" >0</td>\n",
              "                        <td id=\"T_d6988afe_f079_11eb_8e0c_0242ac1c0002row2_col8\" class=\"data row2 col8\" >0</td>\n",
              "                        <td id=\"T_d6988afe_f079_11eb_8e0c_0242ac1c0002row2_col9\" class=\"data row2 col9\" >0</td>\n",
              "                        <td id=\"T_d6988afe_f079_11eb_8e0c_0242ac1c0002row2_col10\" class=\"data row2 col10\" >0</td>\n",
              "                        <td id=\"T_d6988afe_f079_11eb_8e0c_0242ac1c0002row2_col11\" class=\"data row2 col11\" >0</td>\n",
              "                        <td id=\"T_d6988afe_f079_11eb_8e0c_0242ac1c0002row2_col12\" class=\"data row2 col12\" >0</td>\n",
              "                        <td id=\"T_d6988afe_f079_11eb_8e0c_0242ac1c0002row2_col13\" class=\"data row2 col13\" >0</td>\n",
              "                        <td id=\"T_d6988afe_f079_11eb_8e0c_0242ac1c0002row2_col14\" class=\"data row2 col14\" >0</td>\n",
              "                        <td id=\"T_d6988afe_f079_11eb_8e0c_0242ac1c0002row2_col15\" class=\"data row2 col15\" >0</td>\n",
              "                        <td id=\"T_d6988afe_f079_11eb_8e0c_0242ac1c0002row2_col16\" class=\"data row2 col16\" >0</td>\n",
              "                        <td id=\"T_d6988afe_f079_11eb_8e0c_0242ac1c0002row2_col17\" class=\"data row2 col17\" >0</td>\n",
              "                        <td id=\"T_d6988afe_f079_11eb_8e0c_0242ac1c0002row2_col18\" class=\"data row2 col18\" >0</td>\n",
              "                        <td id=\"T_d6988afe_f079_11eb_8e0c_0242ac1c0002row2_col19\" class=\"data row2 col19\" >0</td>\n",
              "                        <td id=\"T_d6988afe_f079_11eb_8e0c_0242ac1c0002row2_col20\" class=\"data row2 col20\" >0</td>\n",
              "                        <td id=\"T_d6988afe_f079_11eb_8e0c_0242ac1c0002row2_col21\" class=\"data row2 col21\" >0</td>\n",
              "                        <td id=\"T_d6988afe_f079_11eb_8e0c_0242ac1c0002row2_col22\" class=\"data row2 col22\" >0</td>\n",
              "                        <td id=\"T_d6988afe_f079_11eb_8e0c_0242ac1c0002row2_col23\" class=\"data row2 col23\" >0</td>\n",
              "                        <td id=\"T_d6988afe_f079_11eb_8e0c_0242ac1c0002row2_col24\" class=\"data row2 col24\" >0</td>\n",
              "                        <td id=\"T_d6988afe_f079_11eb_8e0c_0242ac1c0002row2_col25\" class=\"data row2 col25\" >0</td>\n",
              "                        <td id=\"T_d6988afe_f079_11eb_8e0c_0242ac1c0002row2_col26\" class=\"data row2 col26\" >0</td>\n",
              "                        <td id=\"T_d6988afe_f079_11eb_8e0c_0242ac1c0002row2_col27\" class=\"data row2 col27\" >0</td>\n",
              "            </tr>\n",
              "            <tr>\n",
              "                        <th id=\"T_d6988afe_f079_11eb_8e0c_0242ac1c0002level0_row3\" class=\"row_heading level0 row3\" >3</th>\n",
              "                        <td id=\"T_d6988afe_f079_11eb_8e0c_0242ac1c0002row3_col0\" class=\"data row3 col0\" >0</td>\n",
              "                        <td id=\"T_d6988afe_f079_11eb_8e0c_0242ac1c0002row3_col1\" class=\"data row3 col1\" >0</td>\n",
              "                        <td id=\"T_d6988afe_f079_11eb_8e0c_0242ac1c0002row3_col2\" class=\"data row3 col2\" >0</td>\n",
              "                        <td id=\"T_d6988afe_f079_11eb_8e0c_0242ac1c0002row3_col3\" class=\"data row3 col3\" >0</td>\n",
              "                        <td id=\"T_d6988afe_f079_11eb_8e0c_0242ac1c0002row3_col4\" class=\"data row3 col4\" >0</td>\n",
              "                        <td id=\"T_d6988afe_f079_11eb_8e0c_0242ac1c0002row3_col5\" class=\"data row3 col5\" >0</td>\n",
              "                        <td id=\"T_d6988afe_f079_11eb_8e0c_0242ac1c0002row3_col6\" class=\"data row3 col6\" >0</td>\n",
              "                        <td id=\"T_d6988afe_f079_11eb_8e0c_0242ac1c0002row3_col7\" class=\"data row3 col7\" >0</td>\n",
              "                        <td id=\"T_d6988afe_f079_11eb_8e0c_0242ac1c0002row3_col8\" class=\"data row3 col8\" >0</td>\n",
              "                        <td id=\"T_d6988afe_f079_11eb_8e0c_0242ac1c0002row3_col9\" class=\"data row3 col9\" >0</td>\n",
              "                        <td id=\"T_d6988afe_f079_11eb_8e0c_0242ac1c0002row3_col10\" class=\"data row3 col10\" >0</td>\n",
              "                        <td id=\"T_d6988afe_f079_11eb_8e0c_0242ac1c0002row3_col11\" class=\"data row3 col11\" >0</td>\n",
              "                        <td id=\"T_d6988afe_f079_11eb_8e0c_0242ac1c0002row3_col12\" class=\"data row3 col12\" >0</td>\n",
              "                        <td id=\"T_d6988afe_f079_11eb_8e0c_0242ac1c0002row3_col13\" class=\"data row3 col13\" >0</td>\n",
              "                        <td id=\"T_d6988afe_f079_11eb_8e0c_0242ac1c0002row3_col14\" class=\"data row3 col14\" >0</td>\n",
              "                        <td id=\"T_d6988afe_f079_11eb_8e0c_0242ac1c0002row3_col15\" class=\"data row3 col15\" >0</td>\n",
              "                        <td id=\"T_d6988afe_f079_11eb_8e0c_0242ac1c0002row3_col16\" class=\"data row3 col16\" >0</td>\n",
              "                        <td id=\"T_d6988afe_f079_11eb_8e0c_0242ac1c0002row3_col17\" class=\"data row3 col17\" >0</td>\n",
              "                        <td id=\"T_d6988afe_f079_11eb_8e0c_0242ac1c0002row3_col18\" class=\"data row3 col18\" >0</td>\n",
              "                        <td id=\"T_d6988afe_f079_11eb_8e0c_0242ac1c0002row3_col19\" class=\"data row3 col19\" >0</td>\n",
              "                        <td id=\"T_d6988afe_f079_11eb_8e0c_0242ac1c0002row3_col20\" class=\"data row3 col20\" >0</td>\n",
              "                        <td id=\"T_d6988afe_f079_11eb_8e0c_0242ac1c0002row3_col21\" class=\"data row3 col21\" >0</td>\n",
              "                        <td id=\"T_d6988afe_f079_11eb_8e0c_0242ac1c0002row3_col22\" class=\"data row3 col22\" >0</td>\n",
              "                        <td id=\"T_d6988afe_f079_11eb_8e0c_0242ac1c0002row3_col23\" class=\"data row3 col23\" >0</td>\n",
              "                        <td id=\"T_d6988afe_f079_11eb_8e0c_0242ac1c0002row3_col24\" class=\"data row3 col24\" >0</td>\n",
              "                        <td id=\"T_d6988afe_f079_11eb_8e0c_0242ac1c0002row3_col25\" class=\"data row3 col25\" >0</td>\n",
              "                        <td id=\"T_d6988afe_f079_11eb_8e0c_0242ac1c0002row3_col26\" class=\"data row3 col26\" >0</td>\n",
              "                        <td id=\"T_d6988afe_f079_11eb_8e0c_0242ac1c0002row3_col27\" class=\"data row3 col27\" >0</td>\n",
              "            </tr>\n",
              "            <tr>\n",
              "                        <th id=\"T_d6988afe_f079_11eb_8e0c_0242ac1c0002level0_row4\" class=\"row_heading level0 row4\" >4</th>\n",
              "                        <td id=\"T_d6988afe_f079_11eb_8e0c_0242ac1c0002row4_col0\" class=\"data row4 col0\" >0</td>\n",
              "                        <td id=\"T_d6988afe_f079_11eb_8e0c_0242ac1c0002row4_col1\" class=\"data row4 col1\" >0</td>\n",
              "                        <td id=\"T_d6988afe_f079_11eb_8e0c_0242ac1c0002row4_col2\" class=\"data row4 col2\" >0</td>\n",
              "                        <td id=\"T_d6988afe_f079_11eb_8e0c_0242ac1c0002row4_col3\" class=\"data row4 col3\" >0</td>\n",
              "                        <td id=\"T_d6988afe_f079_11eb_8e0c_0242ac1c0002row4_col4\" class=\"data row4 col4\" >0</td>\n",
              "                        <td id=\"T_d6988afe_f079_11eb_8e0c_0242ac1c0002row4_col5\" class=\"data row4 col5\" >0</td>\n",
              "                        <td id=\"T_d6988afe_f079_11eb_8e0c_0242ac1c0002row4_col6\" class=\"data row4 col6\" >0</td>\n",
              "                        <td id=\"T_d6988afe_f079_11eb_8e0c_0242ac1c0002row4_col7\" class=\"data row4 col7\" >0</td>\n",
              "                        <td id=\"T_d6988afe_f079_11eb_8e0c_0242ac1c0002row4_col8\" class=\"data row4 col8\" >0</td>\n",
              "                        <td id=\"T_d6988afe_f079_11eb_8e0c_0242ac1c0002row4_col9\" class=\"data row4 col9\" >0</td>\n",
              "                        <td id=\"T_d6988afe_f079_11eb_8e0c_0242ac1c0002row4_col10\" class=\"data row4 col10\" >0</td>\n",
              "                        <td id=\"T_d6988afe_f079_11eb_8e0c_0242ac1c0002row4_col11\" class=\"data row4 col11\" >0</td>\n",
              "                        <td id=\"T_d6988afe_f079_11eb_8e0c_0242ac1c0002row4_col12\" class=\"data row4 col12\" >0</td>\n",
              "                        <td id=\"T_d6988afe_f079_11eb_8e0c_0242ac1c0002row4_col13\" class=\"data row4 col13\" >0</td>\n",
              "                        <td id=\"T_d6988afe_f079_11eb_8e0c_0242ac1c0002row4_col14\" class=\"data row4 col14\" >0</td>\n",
              "                        <td id=\"T_d6988afe_f079_11eb_8e0c_0242ac1c0002row4_col15\" class=\"data row4 col15\" >0</td>\n",
              "                        <td id=\"T_d6988afe_f079_11eb_8e0c_0242ac1c0002row4_col16\" class=\"data row4 col16\" >0</td>\n",
              "                        <td id=\"T_d6988afe_f079_11eb_8e0c_0242ac1c0002row4_col17\" class=\"data row4 col17\" >0</td>\n",
              "                        <td id=\"T_d6988afe_f079_11eb_8e0c_0242ac1c0002row4_col18\" class=\"data row4 col18\" >0</td>\n",
              "                        <td id=\"T_d6988afe_f079_11eb_8e0c_0242ac1c0002row4_col19\" class=\"data row4 col19\" >0</td>\n",
              "                        <td id=\"T_d6988afe_f079_11eb_8e0c_0242ac1c0002row4_col20\" class=\"data row4 col20\" >0</td>\n",
              "                        <td id=\"T_d6988afe_f079_11eb_8e0c_0242ac1c0002row4_col21\" class=\"data row4 col21\" >0</td>\n",
              "                        <td id=\"T_d6988afe_f079_11eb_8e0c_0242ac1c0002row4_col22\" class=\"data row4 col22\" >0</td>\n",
              "                        <td id=\"T_d6988afe_f079_11eb_8e0c_0242ac1c0002row4_col23\" class=\"data row4 col23\" >0</td>\n",
              "                        <td id=\"T_d6988afe_f079_11eb_8e0c_0242ac1c0002row4_col24\" class=\"data row4 col24\" >0</td>\n",
              "                        <td id=\"T_d6988afe_f079_11eb_8e0c_0242ac1c0002row4_col25\" class=\"data row4 col25\" >0</td>\n",
              "                        <td id=\"T_d6988afe_f079_11eb_8e0c_0242ac1c0002row4_col26\" class=\"data row4 col26\" >0</td>\n",
              "                        <td id=\"T_d6988afe_f079_11eb_8e0c_0242ac1c0002row4_col27\" class=\"data row4 col27\" >0</td>\n",
              "            </tr>\n",
              "            <tr>\n",
              "                        <th id=\"T_d6988afe_f079_11eb_8e0c_0242ac1c0002level0_row5\" class=\"row_heading level0 row5\" >5</th>\n",
              "                        <td id=\"T_d6988afe_f079_11eb_8e0c_0242ac1c0002row5_col0\" class=\"data row5 col0\" >0</td>\n",
              "                        <td id=\"T_d6988afe_f079_11eb_8e0c_0242ac1c0002row5_col1\" class=\"data row5 col1\" >0</td>\n",
              "                        <td id=\"T_d6988afe_f079_11eb_8e0c_0242ac1c0002row5_col2\" class=\"data row5 col2\" >0</td>\n",
              "                        <td id=\"T_d6988afe_f079_11eb_8e0c_0242ac1c0002row5_col3\" class=\"data row5 col3\" >0</td>\n",
              "                        <td id=\"T_d6988afe_f079_11eb_8e0c_0242ac1c0002row5_col4\" class=\"data row5 col4\" >0</td>\n",
              "                        <td id=\"T_d6988afe_f079_11eb_8e0c_0242ac1c0002row5_col5\" class=\"data row5 col5\" >0</td>\n",
              "                        <td id=\"T_d6988afe_f079_11eb_8e0c_0242ac1c0002row5_col6\" class=\"data row5 col6\" >0</td>\n",
              "                        <td id=\"T_d6988afe_f079_11eb_8e0c_0242ac1c0002row5_col7\" class=\"data row5 col7\" >0</td>\n",
              "                        <td id=\"T_d6988afe_f079_11eb_8e0c_0242ac1c0002row5_col8\" class=\"data row5 col8\" >0</td>\n",
              "                        <td id=\"T_d6988afe_f079_11eb_8e0c_0242ac1c0002row5_col9\" class=\"data row5 col9\" >0</td>\n",
              "                        <td id=\"T_d6988afe_f079_11eb_8e0c_0242ac1c0002row5_col10\" class=\"data row5 col10\" >0</td>\n",
              "                        <td id=\"T_d6988afe_f079_11eb_8e0c_0242ac1c0002row5_col11\" class=\"data row5 col11\" >0</td>\n",
              "                        <td id=\"T_d6988afe_f079_11eb_8e0c_0242ac1c0002row5_col12\" class=\"data row5 col12\" >0</td>\n",
              "                        <td id=\"T_d6988afe_f079_11eb_8e0c_0242ac1c0002row5_col13\" class=\"data row5 col13\" >0</td>\n",
              "                        <td id=\"T_d6988afe_f079_11eb_8e0c_0242ac1c0002row5_col14\" class=\"data row5 col14\" >0</td>\n",
              "                        <td id=\"T_d6988afe_f079_11eb_8e0c_0242ac1c0002row5_col15\" class=\"data row5 col15\" >0</td>\n",
              "                        <td id=\"T_d6988afe_f079_11eb_8e0c_0242ac1c0002row5_col16\" class=\"data row5 col16\" >0</td>\n",
              "                        <td id=\"T_d6988afe_f079_11eb_8e0c_0242ac1c0002row5_col17\" class=\"data row5 col17\" >0</td>\n",
              "                        <td id=\"T_d6988afe_f079_11eb_8e0c_0242ac1c0002row5_col18\" class=\"data row5 col18\" >0</td>\n",
              "                        <td id=\"T_d6988afe_f079_11eb_8e0c_0242ac1c0002row5_col19\" class=\"data row5 col19\" >0</td>\n",
              "                        <td id=\"T_d6988afe_f079_11eb_8e0c_0242ac1c0002row5_col20\" class=\"data row5 col20\" >0</td>\n",
              "                        <td id=\"T_d6988afe_f079_11eb_8e0c_0242ac1c0002row5_col21\" class=\"data row5 col21\" >0</td>\n",
              "                        <td id=\"T_d6988afe_f079_11eb_8e0c_0242ac1c0002row5_col22\" class=\"data row5 col22\" >0</td>\n",
              "                        <td id=\"T_d6988afe_f079_11eb_8e0c_0242ac1c0002row5_col23\" class=\"data row5 col23\" >0</td>\n",
              "                        <td id=\"T_d6988afe_f079_11eb_8e0c_0242ac1c0002row5_col24\" class=\"data row5 col24\" >0</td>\n",
              "                        <td id=\"T_d6988afe_f079_11eb_8e0c_0242ac1c0002row5_col25\" class=\"data row5 col25\" >0</td>\n",
              "                        <td id=\"T_d6988afe_f079_11eb_8e0c_0242ac1c0002row5_col26\" class=\"data row5 col26\" >0</td>\n",
              "                        <td id=\"T_d6988afe_f079_11eb_8e0c_0242ac1c0002row5_col27\" class=\"data row5 col27\" >0</td>\n",
              "            </tr>\n",
              "            <tr>\n",
              "                        <th id=\"T_d6988afe_f079_11eb_8e0c_0242ac1c0002level0_row6\" class=\"row_heading level0 row6\" >6</th>\n",
              "                        <td id=\"T_d6988afe_f079_11eb_8e0c_0242ac1c0002row6_col0\" class=\"data row6 col0\" >0</td>\n",
              "                        <td id=\"T_d6988afe_f079_11eb_8e0c_0242ac1c0002row6_col1\" class=\"data row6 col1\" >0</td>\n",
              "                        <td id=\"T_d6988afe_f079_11eb_8e0c_0242ac1c0002row6_col2\" class=\"data row6 col2\" >0</td>\n",
              "                        <td id=\"T_d6988afe_f079_11eb_8e0c_0242ac1c0002row6_col3\" class=\"data row6 col3\" >0</td>\n",
              "                        <td id=\"T_d6988afe_f079_11eb_8e0c_0242ac1c0002row6_col4\" class=\"data row6 col4\" >0</td>\n",
              "                        <td id=\"T_d6988afe_f079_11eb_8e0c_0242ac1c0002row6_col5\" class=\"data row6 col5\" >0</td>\n",
              "                        <td id=\"T_d6988afe_f079_11eb_8e0c_0242ac1c0002row6_col6\" class=\"data row6 col6\" >0</td>\n",
              "                        <td id=\"T_d6988afe_f079_11eb_8e0c_0242ac1c0002row6_col7\" class=\"data row6 col7\" >0</td>\n",
              "                        <td id=\"T_d6988afe_f079_11eb_8e0c_0242ac1c0002row6_col8\" class=\"data row6 col8\" >0</td>\n",
              "                        <td id=\"T_d6988afe_f079_11eb_8e0c_0242ac1c0002row6_col9\" class=\"data row6 col9\" >0</td>\n",
              "                        <td id=\"T_d6988afe_f079_11eb_8e0c_0242ac1c0002row6_col10\" class=\"data row6 col10\" >0</td>\n",
              "                        <td id=\"T_d6988afe_f079_11eb_8e0c_0242ac1c0002row6_col11\" class=\"data row6 col11\" >0</td>\n",
              "                        <td id=\"T_d6988afe_f079_11eb_8e0c_0242ac1c0002row6_col12\" class=\"data row6 col12\" >0</td>\n",
              "                        <td id=\"T_d6988afe_f079_11eb_8e0c_0242ac1c0002row6_col13\" class=\"data row6 col13\" >0</td>\n",
              "                        <td id=\"T_d6988afe_f079_11eb_8e0c_0242ac1c0002row6_col14\" class=\"data row6 col14\" >0</td>\n",
              "                        <td id=\"T_d6988afe_f079_11eb_8e0c_0242ac1c0002row6_col15\" class=\"data row6 col15\" >0</td>\n",
              "                        <td id=\"T_d6988afe_f079_11eb_8e0c_0242ac1c0002row6_col16\" class=\"data row6 col16\" >0</td>\n",
              "                        <td id=\"T_d6988afe_f079_11eb_8e0c_0242ac1c0002row6_col17\" class=\"data row6 col17\" >0</td>\n",
              "                        <td id=\"T_d6988afe_f079_11eb_8e0c_0242ac1c0002row6_col18\" class=\"data row6 col18\" >0</td>\n",
              "                        <td id=\"T_d6988afe_f079_11eb_8e0c_0242ac1c0002row6_col19\" class=\"data row6 col19\" >0</td>\n",
              "                        <td id=\"T_d6988afe_f079_11eb_8e0c_0242ac1c0002row6_col20\" class=\"data row6 col20\" >0</td>\n",
              "                        <td id=\"T_d6988afe_f079_11eb_8e0c_0242ac1c0002row6_col21\" class=\"data row6 col21\" >0</td>\n",
              "                        <td id=\"T_d6988afe_f079_11eb_8e0c_0242ac1c0002row6_col22\" class=\"data row6 col22\" >0</td>\n",
              "                        <td id=\"T_d6988afe_f079_11eb_8e0c_0242ac1c0002row6_col23\" class=\"data row6 col23\" >0</td>\n",
              "                        <td id=\"T_d6988afe_f079_11eb_8e0c_0242ac1c0002row6_col24\" class=\"data row6 col24\" >0</td>\n",
              "                        <td id=\"T_d6988afe_f079_11eb_8e0c_0242ac1c0002row6_col25\" class=\"data row6 col25\" >0</td>\n",
              "                        <td id=\"T_d6988afe_f079_11eb_8e0c_0242ac1c0002row6_col26\" class=\"data row6 col26\" >0</td>\n",
              "                        <td id=\"T_d6988afe_f079_11eb_8e0c_0242ac1c0002row6_col27\" class=\"data row6 col27\" >0</td>\n",
              "            </tr>\n",
              "            <tr>\n",
              "                        <th id=\"T_d6988afe_f079_11eb_8e0c_0242ac1c0002level0_row7\" class=\"row_heading level0 row7\" >7</th>\n",
              "                        <td id=\"T_d6988afe_f079_11eb_8e0c_0242ac1c0002row7_col0\" class=\"data row7 col0\" >0</td>\n",
              "                        <td id=\"T_d6988afe_f079_11eb_8e0c_0242ac1c0002row7_col1\" class=\"data row7 col1\" >0</td>\n",
              "                        <td id=\"T_d6988afe_f079_11eb_8e0c_0242ac1c0002row7_col2\" class=\"data row7 col2\" >0</td>\n",
              "                        <td id=\"T_d6988afe_f079_11eb_8e0c_0242ac1c0002row7_col3\" class=\"data row7 col3\" >0</td>\n",
              "                        <td id=\"T_d6988afe_f079_11eb_8e0c_0242ac1c0002row7_col4\" class=\"data row7 col4\" >21</td>\n",
              "                        <td id=\"T_d6988afe_f079_11eb_8e0c_0242ac1c0002row7_col5\" class=\"data row7 col5\" >51</td>\n",
              "                        <td id=\"T_d6988afe_f079_11eb_8e0c_0242ac1c0002row7_col6\" class=\"data row7 col6\" >213</td>\n",
              "                        <td id=\"T_d6988afe_f079_11eb_8e0c_0242ac1c0002row7_col7\" class=\"data row7 col7\" >254</td>\n",
              "                        <td id=\"T_d6988afe_f079_11eb_8e0c_0242ac1c0002row7_col8\" class=\"data row7 col8\" >252</td>\n",
              "                        <td id=\"T_d6988afe_f079_11eb_8e0c_0242ac1c0002row7_col9\" class=\"data row7 col9\" >252</td>\n",
              "                        <td id=\"T_d6988afe_f079_11eb_8e0c_0242ac1c0002row7_col10\" class=\"data row7 col10\" >252</td>\n",
              "                        <td id=\"T_d6988afe_f079_11eb_8e0c_0242ac1c0002row7_col11\" class=\"data row7 col11\" >254</td>\n",
              "                        <td id=\"T_d6988afe_f079_11eb_8e0c_0242ac1c0002row7_col12\" class=\"data row7 col12\" >252</td>\n",
              "                        <td id=\"T_d6988afe_f079_11eb_8e0c_0242ac1c0002row7_col13\" class=\"data row7 col13\" >252</td>\n",
              "                        <td id=\"T_d6988afe_f079_11eb_8e0c_0242ac1c0002row7_col14\" class=\"data row7 col14\" >252</td>\n",
              "                        <td id=\"T_d6988afe_f079_11eb_8e0c_0242ac1c0002row7_col15\" class=\"data row7 col15\" >254</td>\n",
              "                        <td id=\"T_d6988afe_f079_11eb_8e0c_0242ac1c0002row7_col16\" class=\"data row7 col16\" >252</td>\n",
              "                        <td id=\"T_d6988afe_f079_11eb_8e0c_0242ac1c0002row7_col17\" class=\"data row7 col17\" >252</td>\n",
              "                        <td id=\"T_d6988afe_f079_11eb_8e0c_0242ac1c0002row7_col18\" class=\"data row7 col18\" >252</td>\n",
              "                        <td id=\"T_d6988afe_f079_11eb_8e0c_0242ac1c0002row7_col19\" class=\"data row7 col19\" >255</td>\n",
              "                        <td id=\"T_d6988afe_f079_11eb_8e0c_0242ac1c0002row7_col20\" class=\"data row7 col20\" >252</td>\n",
              "                        <td id=\"T_d6988afe_f079_11eb_8e0c_0242ac1c0002row7_col21\" class=\"data row7 col21\" >100</td>\n",
              "                        <td id=\"T_d6988afe_f079_11eb_8e0c_0242ac1c0002row7_col22\" class=\"data row7 col22\" >0</td>\n",
              "                        <td id=\"T_d6988afe_f079_11eb_8e0c_0242ac1c0002row7_col23\" class=\"data row7 col23\" >0</td>\n",
              "                        <td id=\"T_d6988afe_f079_11eb_8e0c_0242ac1c0002row7_col24\" class=\"data row7 col24\" >0</td>\n",
              "                        <td id=\"T_d6988afe_f079_11eb_8e0c_0242ac1c0002row7_col25\" class=\"data row7 col25\" >0</td>\n",
              "                        <td id=\"T_d6988afe_f079_11eb_8e0c_0242ac1c0002row7_col26\" class=\"data row7 col26\" >0</td>\n",
              "                        <td id=\"T_d6988afe_f079_11eb_8e0c_0242ac1c0002row7_col27\" class=\"data row7 col27\" >0</td>\n",
              "            </tr>\n",
              "            <tr>\n",
              "                        <th id=\"T_d6988afe_f079_11eb_8e0c_0242ac1c0002level0_row8\" class=\"row_heading level0 row8\" >8</th>\n",
              "                        <td id=\"T_d6988afe_f079_11eb_8e0c_0242ac1c0002row8_col0\" class=\"data row8 col0\" >0</td>\n",
              "                        <td id=\"T_d6988afe_f079_11eb_8e0c_0242ac1c0002row8_col1\" class=\"data row8 col1\" >0</td>\n",
              "                        <td id=\"T_d6988afe_f079_11eb_8e0c_0242ac1c0002row8_col2\" class=\"data row8 col2\" >0</td>\n",
              "                        <td id=\"T_d6988afe_f079_11eb_8e0c_0242ac1c0002row8_col3\" class=\"data row8 col3\" >21</td>\n",
              "                        <td id=\"T_d6988afe_f079_11eb_8e0c_0242ac1c0002row8_col4\" class=\"data row8 col4\" >161</td>\n",
              "                        <td id=\"T_d6988afe_f079_11eb_8e0c_0242ac1c0002row8_col5\" class=\"data row8 col5\" >250</td>\n",
              "                        <td id=\"T_d6988afe_f079_11eb_8e0c_0242ac1c0002row8_col6\" class=\"data row8 col6\" >250</td>\n",
              "                        <td id=\"T_d6988afe_f079_11eb_8e0c_0242ac1c0002row8_col7\" class=\"data row8 col7\" >252</td>\n",
              "                        <td id=\"T_d6988afe_f079_11eb_8e0c_0242ac1c0002row8_col8\" class=\"data row8 col8\" >250</td>\n",
              "                        <td id=\"T_d6988afe_f079_11eb_8e0c_0242ac1c0002row8_col9\" class=\"data row8 col9\" >250</td>\n",
              "                        <td id=\"T_d6988afe_f079_11eb_8e0c_0242ac1c0002row8_col10\" class=\"data row8 col10\" >250</td>\n",
              "                        <td id=\"T_d6988afe_f079_11eb_8e0c_0242ac1c0002row8_col11\" class=\"data row8 col11\" >252</td>\n",
              "                        <td id=\"T_d6988afe_f079_11eb_8e0c_0242ac1c0002row8_col12\" class=\"data row8 col12\" >250</td>\n",
              "                        <td id=\"T_d6988afe_f079_11eb_8e0c_0242ac1c0002row8_col13\" class=\"data row8 col13\" >250</td>\n",
              "                        <td id=\"T_d6988afe_f079_11eb_8e0c_0242ac1c0002row8_col14\" class=\"data row8 col14\" >250</td>\n",
              "                        <td id=\"T_d6988afe_f079_11eb_8e0c_0242ac1c0002row8_col15\" class=\"data row8 col15\" >252</td>\n",
              "                        <td id=\"T_d6988afe_f079_11eb_8e0c_0242ac1c0002row8_col16\" class=\"data row8 col16\" >250</td>\n",
              "                        <td id=\"T_d6988afe_f079_11eb_8e0c_0242ac1c0002row8_col17\" class=\"data row8 col17\" >250</td>\n",
              "                        <td id=\"T_d6988afe_f079_11eb_8e0c_0242ac1c0002row8_col18\" class=\"data row8 col18\" >250</td>\n",
              "                        <td id=\"T_d6988afe_f079_11eb_8e0c_0242ac1c0002row8_col19\" class=\"data row8 col19\" >252</td>\n",
              "                        <td id=\"T_d6988afe_f079_11eb_8e0c_0242ac1c0002row8_col20\" class=\"data row8 col20\" >250</td>\n",
              "                        <td id=\"T_d6988afe_f079_11eb_8e0c_0242ac1c0002row8_col21\" class=\"data row8 col21\" >100</td>\n",
              "                        <td id=\"T_d6988afe_f079_11eb_8e0c_0242ac1c0002row8_col22\" class=\"data row8 col22\" >0</td>\n",
              "                        <td id=\"T_d6988afe_f079_11eb_8e0c_0242ac1c0002row8_col23\" class=\"data row8 col23\" >0</td>\n",
              "                        <td id=\"T_d6988afe_f079_11eb_8e0c_0242ac1c0002row8_col24\" class=\"data row8 col24\" >0</td>\n",
              "                        <td id=\"T_d6988afe_f079_11eb_8e0c_0242ac1c0002row8_col25\" class=\"data row8 col25\" >0</td>\n",
              "                        <td id=\"T_d6988afe_f079_11eb_8e0c_0242ac1c0002row8_col26\" class=\"data row8 col26\" >0</td>\n",
              "                        <td id=\"T_d6988afe_f079_11eb_8e0c_0242ac1c0002row8_col27\" class=\"data row8 col27\" >0</td>\n",
              "            </tr>\n",
              "            <tr>\n",
              "                        <th id=\"T_d6988afe_f079_11eb_8e0c_0242ac1c0002level0_row9\" class=\"row_heading level0 row9\" >9</th>\n",
              "                        <td id=\"T_d6988afe_f079_11eb_8e0c_0242ac1c0002row9_col0\" class=\"data row9 col0\" >0</td>\n",
              "                        <td id=\"T_d6988afe_f079_11eb_8e0c_0242ac1c0002row9_col1\" class=\"data row9 col1\" >0</td>\n",
              "                        <td id=\"T_d6988afe_f079_11eb_8e0c_0242ac1c0002row9_col2\" class=\"data row9 col2\" >0</td>\n",
              "                        <td id=\"T_d6988afe_f079_11eb_8e0c_0242ac1c0002row9_col3\" class=\"data row9 col3\" >51</td>\n",
              "                        <td id=\"T_d6988afe_f079_11eb_8e0c_0242ac1c0002row9_col4\" class=\"data row9 col4\" >250</td>\n",
              "                        <td id=\"T_d6988afe_f079_11eb_8e0c_0242ac1c0002row9_col5\" class=\"data row9 col5\" >250</td>\n",
              "                        <td id=\"T_d6988afe_f079_11eb_8e0c_0242ac1c0002row9_col6\" class=\"data row9 col6\" >250</td>\n",
              "                        <td id=\"T_d6988afe_f079_11eb_8e0c_0242ac1c0002row9_col7\" class=\"data row9 col7\" >252</td>\n",
              "                        <td id=\"T_d6988afe_f079_11eb_8e0c_0242ac1c0002row9_col8\" class=\"data row9 col8\" >189</td>\n",
              "                        <td id=\"T_d6988afe_f079_11eb_8e0c_0242ac1c0002row9_col9\" class=\"data row9 col9\" >190</td>\n",
              "                        <td id=\"T_d6988afe_f079_11eb_8e0c_0242ac1c0002row9_col10\" class=\"data row9 col10\" >250</td>\n",
              "                        <td id=\"T_d6988afe_f079_11eb_8e0c_0242ac1c0002row9_col11\" class=\"data row9 col11\" >252</td>\n",
              "                        <td id=\"T_d6988afe_f079_11eb_8e0c_0242ac1c0002row9_col12\" class=\"data row9 col12\" >250</td>\n",
              "                        <td id=\"T_d6988afe_f079_11eb_8e0c_0242ac1c0002row9_col13\" class=\"data row9 col13\" >250</td>\n",
              "                        <td id=\"T_d6988afe_f079_11eb_8e0c_0242ac1c0002row9_col14\" class=\"data row9 col14\" >250</td>\n",
              "                        <td id=\"T_d6988afe_f079_11eb_8e0c_0242ac1c0002row9_col15\" class=\"data row9 col15\" >252</td>\n",
              "                        <td id=\"T_d6988afe_f079_11eb_8e0c_0242ac1c0002row9_col16\" class=\"data row9 col16\" >250</td>\n",
              "                        <td id=\"T_d6988afe_f079_11eb_8e0c_0242ac1c0002row9_col17\" class=\"data row9 col17\" >250</td>\n",
              "                        <td id=\"T_d6988afe_f079_11eb_8e0c_0242ac1c0002row9_col18\" class=\"data row9 col18\" >250</td>\n",
              "                        <td id=\"T_d6988afe_f079_11eb_8e0c_0242ac1c0002row9_col19\" class=\"data row9 col19\" >252</td>\n",
              "                        <td id=\"T_d6988afe_f079_11eb_8e0c_0242ac1c0002row9_col20\" class=\"data row9 col20\" >189</td>\n",
              "                        <td id=\"T_d6988afe_f079_11eb_8e0c_0242ac1c0002row9_col21\" class=\"data row9 col21\" >40</td>\n",
              "                        <td id=\"T_d6988afe_f079_11eb_8e0c_0242ac1c0002row9_col22\" class=\"data row9 col22\" >0</td>\n",
              "                        <td id=\"T_d6988afe_f079_11eb_8e0c_0242ac1c0002row9_col23\" class=\"data row9 col23\" >0</td>\n",
              "                        <td id=\"T_d6988afe_f079_11eb_8e0c_0242ac1c0002row9_col24\" class=\"data row9 col24\" >0</td>\n",
              "                        <td id=\"T_d6988afe_f079_11eb_8e0c_0242ac1c0002row9_col25\" class=\"data row9 col25\" >0</td>\n",
              "                        <td id=\"T_d6988afe_f079_11eb_8e0c_0242ac1c0002row9_col26\" class=\"data row9 col26\" >0</td>\n",
              "                        <td id=\"T_d6988afe_f079_11eb_8e0c_0242ac1c0002row9_col27\" class=\"data row9 col27\" >0</td>\n",
              "            </tr>\n",
              "            <tr>\n",
              "                        <th id=\"T_d6988afe_f079_11eb_8e0c_0242ac1c0002level0_row10\" class=\"row_heading level0 row10\" >10</th>\n",
              "                        <td id=\"T_d6988afe_f079_11eb_8e0c_0242ac1c0002row10_col0\" class=\"data row10 col0\" >0</td>\n",
              "                        <td id=\"T_d6988afe_f079_11eb_8e0c_0242ac1c0002row10_col1\" class=\"data row10 col1\" >0</td>\n",
              "                        <td id=\"T_d6988afe_f079_11eb_8e0c_0242ac1c0002row10_col2\" class=\"data row10 col2\" >0</td>\n",
              "                        <td id=\"T_d6988afe_f079_11eb_8e0c_0242ac1c0002row10_col3\" class=\"data row10 col3\" >10</td>\n",
              "                        <td id=\"T_d6988afe_f079_11eb_8e0c_0242ac1c0002row10_col4\" class=\"data row10 col4\" >130</td>\n",
              "                        <td id=\"T_d6988afe_f079_11eb_8e0c_0242ac1c0002row10_col5\" class=\"data row10 col5\" >250</td>\n",
              "                        <td id=\"T_d6988afe_f079_11eb_8e0c_0242ac1c0002row10_col6\" class=\"data row10 col6\" >250</td>\n",
              "                        <td id=\"T_d6988afe_f079_11eb_8e0c_0242ac1c0002row10_col7\" class=\"data row10 col7\" >49</td>\n",
              "                        <td id=\"T_d6988afe_f079_11eb_8e0c_0242ac1c0002row10_col8\" class=\"data row10 col8\" >29</td>\n",
              "                        <td id=\"T_d6988afe_f079_11eb_8e0c_0242ac1c0002row10_col9\" class=\"data row10 col9\" >30</td>\n",
              "                        <td id=\"T_d6988afe_f079_11eb_8e0c_0242ac1c0002row10_col10\" class=\"data row10 col10\" >49</td>\n",
              "                        <td id=\"T_d6988afe_f079_11eb_8e0c_0242ac1c0002row10_col11\" class=\"data row10 col11\" >49</td>\n",
              "                        <td id=\"T_d6988afe_f079_11eb_8e0c_0242ac1c0002row10_col12\" class=\"data row10 col12\" >49</td>\n",
              "                        <td id=\"T_d6988afe_f079_11eb_8e0c_0242ac1c0002row10_col13\" class=\"data row10 col13\" >49</td>\n",
              "                        <td id=\"T_d6988afe_f079_11eb_8e0c_0242ac1c0002row10_col14\" class=\"data row10 col14\" >49</td>\n",
              "                        <td id=\"T_d6988afe_f079_11eb_8e0c_0242ac1c0002row10_col15\" class=\"data row10 col15\" >49</td>\n",
              "                        <td id=\"T_d6988afe_f079_11eb_8e0c_0242ac1c0002row10_col16\" class=\"data row10 col16\" >49</td>\n",
              "                        <td id=\"T_d6988afe_f079_11eb_8e0c_0242ac1c0002row10_col17\" class=\"data row10 col17\" >170</td>\n",
              "                        <td id=\"T_d6988afe_f079_11eb_8e0c_0242ac1c0002row10_col18\" class=\"data row10 col18\" >250</td>\n",
              "                        <td id=\"T_d6988afe_f079_11eb_8e0c_0242ac1c0002row10_col19\" class=\"data row10 col19\" >252</td>\n",
              "                        <td id=\"T_d6988afe_f079_11eb_8e0c_0242ac1c0002row10_col20\" class=\"data row10 col20\" >149</td>\n",
              "                        <td id=\"T_d6988afe_f079_11eb_8e0c_0242ac1c0002row10_col21\" class=\"data row10 col21\" >0</td>\n",
              "                        <td id=\"T_d6988afe_f079_11eb_8e0c_0242ac1c0002row10_col22\" class=\"data row10 col22\" >0</td>\n",
              "                        <td id=\"T_d6988afe_f079_11eb_8e0c_0242ac1c0002row10_col23\" class=\"data row10 col23\" >0</td>\n",
              "                        <td id=\"T_d6988afe_f079_11eb_8e0c_0242ac1c0002row10_col24\" class=\"data row10 col24\" >0</td>\n",
              "                        <td id=\"T_d6988afe_f079_11eb_8e0c_0242ac1c0002row10_col25\" class=\"data row10 col25\" >0</td>\n",
              "                        <td id=\"T_d6988afe_f079_11eb_8e0c_0242ac1c0002row10_col26\" class=\"data row10 col26\" >0</td>\n",
              "                        <td id=\"T_d6988afe_f079_11eb_8e0c_0242ac1c0002row10_col27\" class=\"data row10 col27\" >0</td>\n",
              "            </tr>\n",
              "            <tr>\n",
              "                        <th id=\"T_d6988afe_f079_11eb_8e0c_0242ac1c0002level0_row11\" class=\"row_heading level0 row11\" >11</th>\n",
              "                        <td id=\"T_d6988afe_f079_11eb_8e0c_0242ac1c0002row11_col0\" class=\"data row11 col0\" >0</td>\n",
              "                        <td id=\"T_d6988afe_f079_11eb_8e0c_0242ac1c0002row11_col1\" class=\"data row11 col1\" >0</td>\n",
              "                        <td id=\"T_d6988afe_f079_11eb_8e0c_0242ac1c0002row11_col2\" class=\"data row11 col2\" >0</td>\n",
              "                        <td id=\"T_d6988afe_f079_11eb_8e0c_0242ac1c0002row11_col3\" class=\"data row11 col3\" >0</td>\n",
              "                        <td id=\"T_d6988afe_f079_11eb_8e0c_0242ac1c0002row11_col4\" class=\"data row11 col4\" >0</td>\n",
              "                        <td id=\"T_d6988afe_f079_11eb_8e0c_0242ac1c0002row11_col5\" class=\"data row11 col5\" >0</td>\n",
              "                        <td id=\"T_d6988afe_f079_11eb_8e0c_0242ac1c0002row11_col6\" class=\"data row11 col6\" >0</td>\n",
              "                        <td id=\"T_d6988afe_f079_11eb_8e0c_0242ac1c0002row11_col7\" class=\"data row11 col7\" >0</td>\n",
              "                        <td id=\"T_d6988afe_f079_11eb_8e0c_0242ac1c0002row11_col8\" class=\"data row11 col8\" >0</td>\n",
              "                        <td id=\"T_d6988afe_f079_11eb_8e0c_0242ac1c0002row11_col9\" class=\"data row11 col9\" >0</td>\n",
              "                        <td id=\"T_d6988afe_f079_11eb_8e0c_0242ac1c0002row11_col10\" class=\"data row11 col10\" >0</td>\n",
              "                        <td id=\"T_d6988afe_f079_11eb_8e0c_0242ac1c0002row11_col11\" class=\"data row11 col11\" >0</td>\n",
              "                        <td id=\"T_d6988afe_f079_11eb_8e0c_0242ac1c0002row11_col12\" class=\"data row11 col12\" >0</td>\n",
              "                        <td id=\"T_d6988afe_f079_11eb_8e0c_0242ac1c0002row11_col13\" class=\"data row11 col13\" >0</td>\n",
              "                        <td id=\"T_d6988afe_f079_11eb_8e0c_0242ac1c0002row11_col14\" class=\"data row11 col14\" >0</td>\n",
              "                        <td id=\"T_d6988afe_f079_11eb_8e0c_0242ac1c0002row11_col15\" class=\"data row11 col15\" >11</td>\n",
              "                        <td id=\"T_d6988afe_f079_11eb_8e0c_0242ac1c0002row11_col16\" class=\"data row11 col16\" >132</td>\n",
              "                        <td id=\"T_d6988afe_f079_11eb_8e0c_0242ac1c0002row11_col17\" class=\"data row11 col17\" >252</td>\n",
              "                        <td id=\"T_d6988afe_f079_11eb_8e0c_0242ac1c0002row11_col18\" class=\"data row11 col18\" >252</td>\n",
              "                        <td id=\"T_d6988afe_f079_11eb_8e0c_0242ac1c0002row11_col19\" class=\"data row11 col19\" >244</td>\n",
              "                        <td id=\"T_d6988afe_f079_11eb_8e0c_0242ac1c0002row11_col20\" class=\"data row11 col20\" >121</td>\n",
              "                        <td id=\"T_d6988afe_f079_11eb_8e0c_0242ac1c0002row11_col21\" class=\"data row11 col21\" >0</td>\n",
              "                        <td id=\"T_d6988afe_f079_11eb_8e0c_0242ac1c0002row11_col22\" class=\"data row11 col22\" >0</td>\n",
              "                        <td id=\"T_d6988afe_f079_11eb_8e0c_0242ac1c0002row11_col23\" class=\"data row11 col23\" >0</td>\n",
              "                        <td id=\"T_d6988afe_f079_11eb_8e0c_0242ac1c0002row11_col24\" class=\"data row11 col24\" >0</td>\n",
              "                        <td id=\"T_d6988afe_f079_11eb_8e0c_0242ac1c0002row11_col25\" class=\"data row11 col25\" >0</td>\n",
              "                        <td id=\"T_d6988afe_f079_11eb_8e0c_0242ac1c0002row11_col26\" class=\"data row11 col26\" >0</td>\n",
              "                        <td id=\"T_d6988afe_f079_11eb_8e0c_0242ac1c0002row11_col27\" class=\"data row11 col27\" >0</td>\n",
              "            </tr>\n",
              "            <tr>\n",
              "                        <th id=\"T_d6988afe_f079_11eb_8e0c_0242ac1c0002level0_row12\" class=\"row_heading level0 row12\" >12</th>\n",
              "                        <td id=\"T_d6988afe_f079_11eb_8e0c_0242ac1c0002row12_col0\" class=\"data row12 col0\" >0</td>\n",
              "                        <td id=\"T_d6988afe_f079_11eb_8e0c_0242ac1c0002row12_col1\" class=\"data row12 col1\" >0</td>\n",
              "                        <td id=\"T_d6988afe_f079_11eb_8e0c_0242ac1c0002row12_col2\" class=\"data row12 col2\" >0</td>\n",
              "                        <td id=\"T_d6988afe_f079_11eb_8e0c_0242ac1c0002row12_col3\" class=\"data row12 col3\" >0</td>\n",
              "                        <td id=\"T_d6988afe_f079_11eb_8e0c_0242ac1c0002row12_col4\" class=\"data row12 col4\" >0</td>\n",
              "                        <td id=\"T_d6988afe_f079_11eb_8e0c_0242ac1c0002row12_col5\" class=\"data row12 col5\" >0</td>\n",
              "                        <td id=\"T_d6988afe_f079_11eb_8e0c_0242ac1c0002row12_col6\" class=\"data row12 col6\" >0</td>\n",
              "                        <td id=\"T_d6988afe_f079_11eb_8e0c_0242ac1c0002row12_col7\" class=\"data row12 col7\" >0</td>\n",
              "                        <td id=\"T_d6988afe_f079_11eb_8e0c_0242ac1c0002row12_col8\" class=\"data row12 col8\" >0</td>\n",
              "                        <td id=\"T_d6988afe_f079_11eb_8e0c_0242ac1c0002row12_col9\" class=\"data row12 col9\" >0</td>\n",
              "                        <td id=\"T_d6988afe_f079_11eb_8e0c_0242ac1c0002row12_col10\" class=\"data row12 col10\" >0</td>\n",
              "                        <td id=\"T_d6988afe_f079_11eb_8e0c_0242ac1c0002row12_col11\" class=\"data row12 col11\" >0</td>\n",
              "                        <td id=\"T_d6988afe_f079_11eb_8e0c_0242ac1c0002row12_col12\" class=\"data row12 col12\" >0</td>\n",
              "                        <td id=\"T_d6988afe_f079_11eb_8e0c_0242ac1c0002row12_col13\" class=\"data row12 col13\" >0</td>\n",
              "                        <td id=\"T_d6988afe_f079_11eb_8e0c_0242ac1c0002row12_col14\" class=\"data row12 col14\" >0</td>\n",
              "                        <td id=\"T_d6988afe_f079_11eb_8e0c_0242ac1c0002row12_col15\" class=\"data row12 col15\" >51</td>\n",
              "                        <td id=\"T_d6988afe_f079_11eb_8e0c_0242ac1c0002row12_col16\" class=\"data row12 col16\" >250</td>\n",
              "                        <td id=\"T_d6988afe_f079_11eb_8e0c_0242ac1c0002row12_col17\" class=\"data row12 col17\" >250</td>\n",
              "                        <td id=\"T_d6988afe_f079_11eb_8e0c_0242ac1c0002row12_col18\" class=\"data row12 col18\" >250</td>\n",
              "                        <td id=\"T_d6988afe_f079_11eb_8e0c_0242ac1c0002row12_col19\" class=\"data row12 col19\" >202</td>\n",
              "                        <td id=\"T_d6988afe_f079_11eb_8e0c_0242ac1c0002row12_col20\" class=\"data row12 col20\" >0</td>\n",
              "                        <td id=\"T_d6988afe_f079_11eb_8e0c_0242ac1c0002row12_col21\" class=\"data row12 col21\" >0</td>\n",
              "                        <td id=\"T_d6988afe_f079_11eb_8e0c_0242ac1c0002row12_col22\" class=\"data row12 col22\" >0</td>\n",
              "                        <td id=\"T_d6988afe_f079_11eb_8e0c_0242ac1c0002row12_col23\" class=\"data row12 col23\" >0</td>\n",
              "                        <td id=\"T_d6988afe_f079_11eb_8e0c_0242ac1c0002row12_col24\" class=\"data row12 col24\" >0</td>\n",
              "                        <td id=\"T_d6988afe_f079_11eb_8e0c_0242ac1c0002row12_col25\" class=\"data row12 col25\" >0</td>\n",
              "                        <td id=\"T_d6988afe_f079_11eb_8e0c_0242ac1c0002row12_col26\" class=\"data row12 col26\" >0</td>\n",
              "                        <td id=\"T_d6988afe_f079_11eb_8e0c_0242ac1c0002row12_col27\" class=\"data row12 col27\" >0</td>\n",
              "            </tr>\n",
              "            <tr>\n",
              "                        <th id=\"T_d6988afe_f079_11eb_8e0c_0242ac1c0002level0_row13\" class=\"row_heading level0 row13\" >13</th>\n",
              "                        <td id=\"T_d6988afe_f079_11eb_8e0c_0242ac1c0002row13_col0\" class=\"data row13 col0\" >0</td>\n",
              "                        <td id=\"T_d6988afe_f079_11eb_8e0c_0242ac1c0002row13_col1\" class=\"data row13 col1\" >0</td>\n",
              "                        <td id=\"T_d6988afe_f079_11eb_8e0c_0242ac1c0002row13_col2\" class=\"data row13 col2\" >0</td>\n",
              "                        <td id=\"T_d6988afe_f079_11eb_8e0c_0242ac1c0002row13_col3\" class=\"data row13 col3\" >0</td>\n",
              "                        <td id=\"T_d6988afe_f079_11eb_8e0c_0242ac1c0002row13_col4\" class=\"data row13 col4\" >0</td>\n",
              "                        <td id=\"T_d6988afe_f079_11eb_8e0c_0242ac1c0002row13_col5\" class=\"data row13 col5\" >0</td>\n",
              "                        <td id=\"T_d6988afe_f079_11eb_8e0c_0242ac1c0002row13_col6\" class=\"data row13 col6\" >0</td>\n",
              "                        <td id=\"T_d6988afe_f079_11eb_8e0c_0242ac1c0002row13_col7\" class=\"data row13 col7\" >0</td>\n",
              "                        <td id=\"T_d6988afe_f079_11eb_8e0c_0242ac1c0002row13_col8\" class=\"data row13 col8\" >0</td>\n",
              "                        <td id=\"T_d6988afe_f079_11eb_8e0c_0242ac1c0002row13_col9\" class=\"data row13 col9\" >0</td>\n",
              "                        <td id=\"T_d6988afe_f079_11eb_8e0c_0242ac1c0002row13_col10\" class=\"data row13 col10\" >0</td>\n",
              "                        <td id=\"T_d6988afe_f079_11eb_8e0c_0242ac1c0002row13_col11\" class=\"data row13 col11\" >0</td>\n",
              "                        <td id=\"T_d6988afe_f079_11eb_8e0c_0242ac1c0002row13_col12\" class=\"data row13 col12\" >0</td>\n",
              "                        <td id=\"T_d6988afe_f079_11eb_8e0c_0242ac1c0002row13_col13\" class=\"data row13 col13\" >0</td>\n",
              "                        <td id=\"T_d6988afe_f079_11eb_8e0c_0242ac1c0002row13_col14\" class=\"data row13 col14\" >0</td>\n",
              "                        <td id=\"T_d6988afe_f079_11eb_8e0c_0242ac1c0002row13_col15\" class=\"data row13 col15\" >172</td>\n",
              "                        <td id=\"T_d6988afe_f079_11eb_8e0c_0242ac1c0002row13_col16\" class=\"data row13 col16\" >250</td>\n",
              "                        <td id=\"T_d6988afe_f079_11eb_8e0c_0242ac1c0002row13_col17\" class=\"data row13 col17\" >250</td>\n",
              "                        <td id=\"T_d6988afe_f079_11eb_8e0c_0242ac1c0002row13_col18\" class=\"data row13 col18\" >250</td>\n",
              "                        <td id=\"T_d6988afe_f079_11eb_8e0c_0242ac1c0002row13_col19\" class=\"data row13 col19\" >80</td>\n",
              "                        <td id=\"T_d6988afe_f079_11eb_8e0c_0242ac1c0002row13_col20\" class=\"data row13 col20\" >0</td>\n",
              "                        <td id=\"T_d6988afe_f079_11eb_8e0c_0242ac1c0002row13_col21\" class=\"data row13 col21\" >0</td>\n",
              "                        <td id=\"T_d6988afe_f079_11eb_8e0c_0242ac1c0002row13_col22\" class=\"data row13 col22\" >0</td>\n",
              "                        <td id=\"T_d6988afe_f079_11eb_8e0c_0242ac1c0002row13_col23\" class=\"data row13 col23\" >0</td>\n",
              "                        <td id=\"T_d6988afe_f079_11eb_8e0c_0242ac1c0002row13_col24\" class=\"data row13 col24\" >0</td>\n",
              "                        <td id=\"T_d6988afe_f079_11eb_8e0c_0242ac1c0002row13_col25\" class=\"data row13 col25\" >0</td>\n",
              "                        <td id=\"T_d6988afe_f079_11eb_8e0c_0242ac1c0002row13_col26\" class=\"data row13 col26\" >0</td>\n",
              "                        <td id=\"T_d6988afe_f079_11eb_8e0c_0242ac1c0002row13_col27\" class=\"data row13 col27\" >0</td>\n",
              "            </tr>\n",
              "            <tr>\n",
              "                        <th id=\"T_d6988afe_f079_11eb_8e0c_0242ac1c0002level0_row14\" class=\"row_heading level0 row14\" >14</th>\n",
              "                        <td id=\"T_d6988afe_f079_11eb_8e0c_0242ac1c0002row14_col0\" class=\"data row14 col0\" >0</td>\n",
              "                        <td id=\"T_d6988afe_f079_11eb_8e0c_0242ac1c0002row14_col1\" class=\"data row14 col1\" >0</td>\n",
              "                        <td id=\"T_d6988afe_f079_11eb_8e0c_0242ac1c0002row14_col2\" class=\"data row14 col2\" >0</td>\n",
              "                        <td id=\"T_d6988afe_f079_11eb_8e0c_0242ac1c0002row14_col3\" class=\"data row14 col3\" >0</td>\n",
              "                        <td id=\"T_d6988afe_f079_11eb_8e0c_0242ac1c0002row14_col4\" class=\"data row14 col4\" >0</td>\n",
              "                        <td id=\"T_d6988afe_f079_11eb_8e0c_0242ac1c0002row14_col5\" class=\"data row14 col5\" >0</td>\n",
              "                        <td id=\"T_d6988afe_f079_11eb_8e0c_0242ac1c0002row14_col6\" class=\"data row14 col6\" >0</td>\n",
              "                        <td id=\"T_d6988afe_f079_11eb_8e0c_0242ac1c0002row14_col7\" class=\"data row14 col7\" >0</td>\n",
              "                        <td id=\"T_d6988afe_f079_11eb_8e0c_0242ac1c0002row14_col8\" class=\"data row14 col8\" >0</td>\n",
              "                        <td id=\"T_d6988afe_f079_11eb_8e0c_0242ac1c0002row14_col9\" class=\"data row14 col9\" >0</td>\n",
              "                        <td id=\"T_d6988afe_f079_11eb_8e0c_0242ac1c0002row14_col10\" class=\"data row14 col10\" >0</td>\n",
              "                        <td id=\"T_d6988afe_f079_11eb_8e0c_0242ac1c0002row14_col11\" class=\"data row14 col11\" >0</td>\n",
              "                        <td id=\"T_d6988afe_f079_11eb_8e0c_0242ac1c0002row14_col12\" class=\"data row14 col12\" >0</td>\n",
              "                        <td id=\"T_d6988afe_f079_11eb_8e0c_0242ac1c0002row14_col13\" class=\"data row14 col13\" >0</td>\n",
              "                        <td id=\"T_d6988afe_f079_11eb_8e0c_0242ac1c0002row14_col14\" class=\"data row14 col14\" >0</td>\n",
              "                        <td id=\"T_d6988afe_f079_11eb_8e0c_0242ac1c0002row14_col15\" class=\"data row14 col15\" >252</td>\n",
              "                        <td id=\"T_d6988afe_f079_11eb_8e0c_0242ac1c0002row14_col16\" class=\"data row14 col16\" >250</td>\n",
              "                        <td id=\"T_d6988afe_f079_11eb_8e0c_0242ac1c0002row14_col17\" class=\"data row14 col17\" >250</td>\n",
              "                        <td id=\"T_d6988afe_f079_11eb_8e0c_0242ac1c0002row14_col18\" class=\"data row14 col18\" >250</td>\n",
              "                        <td id=\"T_d6988afe_f079_11eb_8e0c_0242ac1c0002row14_col19\" class=\"data row14 col19\" >0</td>\n",
              "                        <td id=\"T_d6988afe_f079_11eb_8e0c_0242ac1c0002row14_col20\" class=\"data row14 col20\" >0</td>\n",
              "                        <td id=\"T_d6988afe_f079_11eb_8e0c_0242ac1c0002row14_col21\" class=\"data row14 col21\" >0</td>\n",
              "                        <td id=\"T_d6988afe_f079_11eb_8e0c_0242ac1c0002row14_col22\" class=\"data row14 col22\" >0</td>\n",
              "                        <td id=\"T_d6988afe_f079_11eb_8e0c_0242ac1c0002row14_col23\" class=\"data row14 col23\" >0</td>\n",
              "                        <td id=\"T_d6988afe_f079_11eb_8e0c_0242ac1c0002row14_col24\" class=\"data row14 col24\" >0</td>\n",
              "                        <td id=\"T_d6988afe_f079_11eb_8e0c_0242ac1c0002row14_col25\" class=\"data row14 col25\" >0</td>\n",
              "                        <td id=\"T_d6988afe_f079_11eb_8e0c_0242ac1c0002row14_col26\" class=\"data row14 col26\" >0</td>\n",
              "                        <td id=\"T_d6988afe_f079_11eb_8e0c_0242ac1c0002row14_col27\" class=\"data row14 col27\" >0</td>\n",
              "            </tr>\n",
              "            <tr>\n",
              "                        <th id=\"T_d6988afe_f079_11eb_8e0c_0242ac1c0002level0_row15\" class=\"row_heading level0 row15\" >15</th>\n",
              "                        <td id=\"T_d6988afe_f079_11eb_8e0c_0242ac1c0002row15_col0\" class=\"data row15 col0\" >0</td>\n",
              "                        <td id=\"T_d6988afe_f079_11eb_8e0c_0242ac1c0002row15_col1\" class=\"data row15 col1\" >0</td>\n",
              "                        <td id=\"T_d6988afe_f079_11eb_8e0c_0242ac1c0002row15_col2\" class=\"data row15 col2\" >0</td>\n",
              "                        <td id=\"T_d6988afe_f079_11eb_8e0c_0242ac1c0002row15_col3\" class=\"data row15 col3\" >0</td>\n",
              "                        <td id=\"T_d6988afe_f079_11eb_8e0c_0242ac1c0002row15_col4\" class=\"data row15 col4\" >0</td>\n",
              "                        <td id=\"T_d6988afe_f079_11eb_8e0c_0242ac1c0002row15_col5\" class=\"data row15 col5\" >0</td>\n",
              "                        <td id=\"T_d6988afe_f079_11eb_8e0c_0242ac1c0002row15_col6\" class=\"data row15 col6\" >0</td>\n",
              "                        <td id=\"T_d6988afe_f079_11eb_8e0c_0242ac1c0002row15_col7\" class=\"data row15 col7\" >0</td>\n",
              "                        <td id=\"T_d6988afe_f079_11eb_8e0c_0242ac1c0002row15_col8\" class=\"data row15 col8\" >0</td>\n",
              "                        <td id=\"T_d6988afe_f079_11eb_8e0c_0242ac1c0002row15_col9\" class=\"data row15 col9\" >0</td>\n",
              "                        <td id=\"T_d6988afe_f079_11eb_8e0c_0242ac1c0002row15_col10\" class=\"data row15 col10\" >0</td>\n",
              "                        <td id=\"T_d6988afe_f079_11eb_8e0c_0242ac1c0002row15_col11\" class=\"data row15 col11\" >0</td>\n",
              "                        <td id=\"T_d6988afe_f079_11eb_8e0c_0242ac1c0002row15_col12\" class=\"data row15 col12\" >0</td>\n",
              "                        <td id=\"T_d6988afe_f079_11eb_8e0c_0242ac1c0002row15_col13\" class=\"data row15 col13\" >31</td>\n",
              "                        <td id=\"T_d6988afe_f079_11eb_8e0c_0242ac1c0002row15_col14\" class=\"data row15 col14\" >213</td>\n",
              "                        <td id=\"T_d6988afe_f079_11eb_8e0c_0242ac1c0002row15_col15\" class=\"data row15 col15\" >254</td>\n",
              "                        <td id=\"T_d6988afe_f079_11eb_8e0c_0242ac1c0002row15_col16\" class=\"data row15 col16\" >252</td>\n",
              "                        <td id=\"T_d6988afe_f079_11eb_8e0c_0242ac1c0002row15_col17\" class=\"data row15 col17\" >252</td>\n",
              "                        <td id=\"T_d6988afe_f079_11eb_8e0c_0242ac1c0002row15_col18\" class=\"data row15 col18\" >49</td>\n",
              "                        <td id=\"T_d6988afe_f079_11eb_8e0c_0242ac1c0002row15_col19\" class=\"data row15 col19\" >0</td>\n",
              "                        <td id=\"T_d6988afe_f079_11eb_8e0c_0242ac1c0002row15_col20\" class=\"data row15 col20\" >0</td>\n",
              "                        <td id=\"T_d6988afe_f079_11eb_8e0c_0242ac1c0002row15_col21\" class=\"data row15 col21\" >0</td>\n",
              "                        <td id=\"T_d6988afe_f079_11eb_8e0c_0242ac1c0002row15_col22\" class=\"data row15 col22\" >0</td>\n",
              "                        <td id=\"T_d6988afe_f079_11eb_8e0c_0242ac1c0002row15_col23\" class=\"data row15 col23\" >0</td>\n",
              "                        <td id=\"T_d6988afe_f079_11eb_8e0c_0242ac1c0002row15_col24\" class=\"data row15 col24\" >0</td>\n",
              "                        <td id=\"T_d6988afe_f079_11eb_8e0c_0242ac1c0002row15_col25\" class=\"data row15 col25\" >0</td>\n",
              "                        <td id=\"T_d6988afe_f079_11eb_8e0c_0242ac1c0002row15_col26\" class=\"data row15 col26\" >0</td>\n",
              "                        <td id=\"T_d6988afe_f079_11eb_8e0c_0242ac1c0002row15_col27\" class=\"data row15 col27\" >0</td>\n",
              "            </tr>\n",
              "            <tr>\n",
              "                        <th id=\"T_d6988afe_f079_11eb_8e0c_0242ac1c0002level0_row16\" class=\"row_heading level0 row16\" >16</th>\n",
              "                        <td id=\"T_d6988afe_f079_11eb_8e0c_0242ac1c0002row16_col0\" class=\"data row16 col0\" >0</td>\n",
              "                        <td id=\"T_d6988afe_f079_11eb_8e0c_0242ac1c0002row16_col1\" class=\"data row16 col1\" >0</td>\n",
              "                        <td id=\"T_d6988afe_f079_11eb_8e0c_0242ac1c0002row16_col2\" class=\"data row16 col2\" >0</td>\n",
              "                        <td id=\"T_d6988afe_f079_11eb_8e0c_0242ac1c0002row16_col3\" class=\"data row16 col3\" >0</td>\n",
              "                        <td id=\"T_d6988afe_f079_11eb_8e0c_0242ac1c0002row16_col4\" class=\"data row16 col4\" >0</td>\n",
              "                        <td id=\"T_d6988afe_f079_11eb_8e0c_0242ac1c0002row16_col5\" class=\"data row16 col5\" >0</td>\n",
              "                        <td id=\"T_d6988afe_f079_11eb_8e0c_0242ac1c0002row16_col6\" class=\"data row16 col6\" >0</td>\n",
              "                        <td id=\"T_d6988afe_f079_11eb_8e0c_0242ac1c0002row16_col7\" class=\"data row16 col7\" >0</td>\n",
              "                        <td id=\"T_d6988afe_f079_11eb_8e0c_0242ac1c0002row16_col8\" class=\"data row16 col8\" >0</td>\n",
              "                        <td id=\"T_d6988afe_f079_11eb_8e0c_0242ac1c0002row16_col9\" class=\"data row16 col9\" >0</td>\n",
              "                        <td id=\"T_d6988afe_f079_11eb_8e0c_0242ac1c0002row16_col10\" class=\"data row16 col10\" >0</td>\n",
              "                        <td id=\"T_d6988afe_f079_11eb_8e0c_0242ac1c0002row16_col11\" class=\"data row16 col11\" >0</td>\n",
              "                        <td id=\"T_d6988afe_f079_11eb_8e0c_0242ac1c0002row16_col12\" class=\"data row16 col12\" >0</td>\n",
              "                        <td id=\"T_d6988afe_f079_11eb_8e0c_0242ac1c0002row16_col13\" class=\"data row16 col13\" >151</td>\n",
              "                        <td id=\"T_d6988afe_f079_11eb_8e0c_0242ac1c0002row16_col14\" class=\"data row16 col14\" >250</td>\n",
              "                        <td id=\"T_d6988afe_f079_11eb_8e0c_0242ac1c0002row16_col15\" class=\"data row16 col15\" >252</td>\n",
              "                        <td id=\"T_d6988afe_f079_11eb_8e0c_0242ac1c0002row16_col16\" class=\"data row16 col16\" >250</td>\n",
              "                        <td id=\"T_d6988afe_f079_11eb_8e0c_0242ac1c0002row16_col17\" class=\"data row16 col17\" >250</td>\n",
              "                        <td id=\"T_d6988afe_f079_11eb_8e0c_0242ac1c0002row16_col18\" class=\"data row16 col18\" >49</td>\n",
              "                        <td id=\"T_d6988afe_f079_11eb_8e0c_0242ac1c0002row16_col19\" class=\"data row16 col19\" >0</td>\n",
              "                        <td id=\"T_d6988afe_f079_11eb_8e0c_0242ac1c0002row16_col20\" class=\"data row16 col20\" >0</td>\n",
              "                        <td id=\"T_d6988afe_f079_11eb_8e0c_0242ac1c0002row16_col21\" class=\"data row16 col21\" >0</td>\n",
              "                        <td id=\"T_d6988afe_f079_11eb_8e0c_0242ac1c0002row16_col22\" class=\"data row16 col22\" >0</td>\n",
              "                        <td id=\"T_d6988afe_f079_11eb_8e0c_0242ac1c0002row16_col23\" class=\"data row16 col23\" >0</td>\n",
              "                        <td id=\"T_d6988afe_f079_11eb_8e0c_0242ac1c0002row16_col24\" class=\"data row16 col24\" >0</td>\n",
              "                        <td id=\"T_d6988afe_f079_11eb_8e0c_0242ac1c0002row16_col25\" class=\"data row16 col25\" >0</td>\n",
              "                        <td id=\"T_d6988afe_f079_11eb_8e0c_0242ac1c0002row16_col26\" class=\"data row16 col26\" >0</td>\n",
              "                        <td id=\"T_d6988afe_f079_11eb_8e0c_0242ac1c0002row16_col27\" class=\"data row16 col27\" >0</td>\n",
              "            </tr>\n",
              "            <tr>\n",
              "                        <th id=\"T_d6988afe_f079_11eb_8e0c_0242ac1c0002level0_row17\" class=\"row_heading level0 row17\" >17</th>\n",
              "                        <td id=\"T_d6988afe_f079_11eb_8e0c_0242ac1c0002row17_col0\" class=\"data row17 col0\" >0</td>\n",
              "                        <td id=\"T_d6988afe_f079_11eb_8e0c_0242ac1c0002row17_col1\" class=\"data row17 col1\" >0</td>\n",
              "                        <td id=\"T_d6988afe_f079_11eb_8e0c_0242ac1c0002row17_col2\" class=\"data row17 col2\" >0</td>\n",
              "                        <td id=\"T_d6988afe_f079_11eb_8e0c_0242ac1c0002row17_col3\" class=\"data row17 col3\" >0</td>\n",
              "                        <td id=\"T_d6988afe_f079_11eb_8e0c_0242ac1c0002row17_col4\" class=\"data row17 col4\" >0</td>\n",
              "                        <td id=\"T_d6988afe_f079_11eb_8e0c_0242ac1c0002row17_col5\" class=\"data row17 col5\" >0</td>\n",
              "                        <td id=\"T_d6988afe_f079_11eb_8e0c_0242ac1c0002row17_col6\" class=\"data row17 col6\" >0</td>\n",
              "                        <td id=\"T_d6988afe_f079_11eb_8e0c_0242ac1c0002row17_col7\" class=\"data row17 col7\" >0</td>\n",
              "                        <td id=\"T_d6988afe_f079_11eb_8e0c_0242ac1c0002row17_col8\" class=\"data row17 col8\" >0</td>\n",
              "                        <td id=\"T_d6988afe_f079_11eb_8e0c_0242ac1c0002row17_col9\" class=\"data row17 col9\" >0</td>\n",
              "                        <td id=\"T_d6988afe_f079_11eb_8e0c_0242ac1c0002row17_col10\" class=\"data row17 col10\" >0</td>\n",
              "                        <td id=\"T_d6988afe_f079_11eb_8e0c_0242ac1c0002row17_col11\" class=\"data row17 col11\" >0</td>\n",
              "                        <td id=\"T_d6988afe_f079_11eb_8e0c_0242ac1c0002row17_col12\" class=\"data row17 col12\" >0</td>\n",
              "                        <td id=\"T_d6988afe_f079_11eb_8e0c_0242ac1c0002row17_col13\" class=\"data row17 col13\" >151</td>\n",
              "                        <td id=\"T_d6988afe_f079_11eb_8e0c_0242ac1c0002row17_col14\" class=\"data row17 col14\" >250</td>\n",
              "                        <td id=\"T_d6988afe_f079_11eb_8e0c_0242ac1c0002row17_col15\" class=\"data row17 col15\" >252</td>\n",
              "                        <td id=\"T_d6988afe_f079_11eb_8e0c_0242ac1c0002row17_col16\" class=\"data row17 col16\" >250</td>\n",
              "                        <td id=\"T_d6988afe_f079_11eb_8e0c_0242ac1c0002row17_col17\" class=\"data row17 col17\" >159</td>\n",
              "                        <td id=\"T_d6988afe_f079_11eb_8e0c_0242ac1c0002row17_col18\" class=\"data row17 col18\" >20</td>\n",
              "                        <td id=\"T_d6988afe_f079_11eb_8e0c_0242ac1c0002row17_col19\" class=\"data row17 col19\" >0</td>\n",
              "                        <td id=\"T_d6988afe_f079_11eb_8e0c_0242ac1c0002row17_col20\" class=\"data row17 col20\" >0</td>\n",
              "                        <td id=\"T_d6988afe_f079_11eb_8e0c_0242ac1c0002row17_col21\" class=\"data row17 col21\" >0</td>\n",
              "                        <td id=\"T_d6988afe_f079_11eb_8e0c_0242ac1c0002row17_col22\" class=\"data row17 col22\" >0</td>\n",
              "                        <td id=\"T_d6988afe_f079_11eb_8e0c_0242ac1c0002row17_col23\" class=\"data row17 col23\" >0</td>\n",
              "                        <td id=\"T_d6988afe_f079_11eb_8e0c_0242ac1c0002row17_col24\" class=\"data row17 col24\" >0</td>\n",
              "                        <td id=\"T_d6988afe_f079_11eb_8e0c_0242ac1c0002row17_col25\" class=\"data row17 col25\" >0</td>\n",
              "                        <td id=\"T_d6988afe_f079_11eb_8e0c_0242ac1c0002row17_col26\" class=\"data row17 col26\" >0</td>\n",
              "                        <td id=\"T_d6988afe_f079_11eb_8e0c_0242ac1c0002row17_col27\" class=\"data row17 col27\" >0</td>\n",
              "            </tr>\n",
              "            <tr>\n",
              "                        <th id=\"T_d6988afe_f079_11eb_8e0c_0242ac1c0002level0_row18\" class=\"row_heading level0 row18\" >18</th>\n",
              "                        <td id=\"T_d6988afe_f079_11eb_8e0c_0242ac1c0002row18_col0\" class=\"data row18 col0\" >0</td>\n",
              "                        <td id=\"T_d6988afe_f079_11eb_8e0c_0242ac1c0002row18_col1\" class=\"data row18 col1\" >0</td>\n",
              "                        <td id=\"T_d6988afe_f079_11eb_8e0c_0242ac1c0002row18_col2\" class=\"data row18 col2\" >0</td>\n",
              "                        <td id=\"T_d6988afe_f079_11eb_8e0c_0242ac1c0002row18_col3\" class=\"data row18 col3\" >0</td>\n",
              "                        <td id=\"T_d6988afe_f079_11eb_8e0c_0242ac1c0002row18_col4\" class=\"data row18 col4\" >0</td>\n",
              "                        <td id=\"T_d6988afe_f079_11eb_8e0c_0242ac1c0002row18_col5\" class=\"data row18 col5\" >0</td>\n",
              "                        <td id=\"T_d6988afe_f079_11eb_8e0c_0242ac1c0002row18_col6\" class=\"data row18 col6\" >0</td>\n",
              "                        <td id=\"T_d6988afe_f079_11eb_8e0c_0242ac1c0002row18_col7\" class=\"data row18 col7\" >0</td>\n",
              "                        <td id=\"T_d6988afe_f079_11eb_8e0c_0242ac1c0002row18_col8\" class=\"data row18 col8\" >0</td>\n",
              "                        <td id=\"T_d6988afe_f079_11eb_8e0c_0242ac1c0002row18_col9\" class=\"data row18 col9\" >0</td>\n",
              "                        <td id=\"T_d6988afe_f079_11eb_8e0c_0242ac1c0002row18_col10\" class=\"data row18 col10\" >0</td>\n",
              "                        <td id=\"T_d6988afe_f079_11eb_8e0c_0242ac1c0002row18_col11\" class=\"data row18 col11\" >0</td>\n",
              "                        <td id=\"T_d6988afe_f079_11eb_8e0c_0242ac1c0002row18_col12\" class=\"data row18 col12\" >0</td>\n",
              "                        <td id=\"T_d6988afe_f079_11eb_8e0c_0242ac1c0002row18_col13\" class=\"data row18 col13\" >151</td>\n",
              "                        <td id=\"T_d6988afe_f079_11eb_8e0c_0242ac1c0002row18_col14\" class=\"data row18 col14\" >250</td>\n",
              "                        <td id=\"T_d6988afe_f079_11eb_8e0c_0242ac1c0002row18_col15\" class=\"data row18 col15\" >252</td>\n",
              "                        <td id=\"T_d6988afe_f079_11eb_8e0c_0242ac1c0002row18_col16\" class=\"data row18 col16\" >250</td>\n",
              "                        <td id=\"T_d6988afe_f079_11eb_8e0c_0242ac1c0002row18_col17\" class=\"data row18 col17\" >100</td>\n",
              "                        <td id=\"T_d6988afe_f079_11eb_8e0c_0242ac1c0002row18_col18\" class=\"data row18 col18\" >0</td>\n",
              "                        <td id=\"T_d6988afe_f079_11eb_8e0c_0242ac1c0002row18_col19\" class=\"data row18 col19\" >0</td>\n",
              "                        <td id=\"T_d6988afe_f079_11eb_8e0c_0242ac1c0002row18_col20\" class=\"data row18 col20\" >0</td>\n",
              "                        <td id=\"T_d6988afe_f079_11eb_8e0c_0242ac1c0002row18_col21\" class=\"data row18 col21\" >0</td>\n",
              "                        <td id=\"T_d6988afe_f079_11eb_8e0c_0242ac1c0002row18_col22\" class=\"data row18 col22\" >0</td>\n",
              "                        <td id=\"T_d6988afe_f079_11eb_8e0c_0242ac1c0002row18_col23\" class=\"data row18 col23\" >0</td>\n",
              "                        <td id=\"T_d6988afe_f079_11eb_8e0c_0242ac1c0002row18_col24\" class=\"data row18 col24\" >0</td>\n",
              "                        <td id=\"T_d6988afe_f079_11eb_8e0c_0242ac1c0002row18_col25\" class=\"data row18 col25\" >0</td>\n",
              "                        <td id=\"T_d6988afe_f079_11eb_8e0c_0242ac1c0002row18_col26\" class=\"data row18 col26\" >0</td>\n",
              "                        <td id=\"T_d6988afe_f079_11eb_8e0c_0242ac1c0002row18_col27\" class=\"data row18 col27\" >0</td>\n",
              "            </tr>\n",
              "            <tr>\n",
              "                        <th id=\"T_d6988afe_f079_11eb_8e0c_0242ac1c0002level0_row19\" class=\"row_heading level0 row19\" >19</th>\n",
              "                        <td id=\"T_d6988afe_f079_11eb_8e0c_0242ac1c0002row19_col0\" class=\"data row19 col0\" >0</td>\n",
              "                        <td id=\"T_d6988afe_f079_11eb_8e0c_0242ac1c0002row19_col1\" class=\"data row19 col1\" >0</td>\n",
              "                        <td id=\"T_d6988afe_f079_11eb_8e0c_0242ac1c0002row19_col2\" class=\"data row19 col2\" >0</td>\n",
              "                        <td id=\"T_d6988afe_f079_11eb_8e0c_0242ac1c0002row19_col3\" class=\"data row19 col3\" >0</td>\n",
              "                        <td id=\"T_d6988afe_f079_11eb_8e0c_0242ac1c0002row19_col4\" class=\"data row19 col4\" >0</td>\n",
              "                        <td id=\"T_d6988afe_f079_11eb_8e0c_0242ac1c0002row19_col5\" class=\"data row19 col5\" >0</td>\n",
              "                        <td id=\"T_d6988afe_f079_11eb_8e0c_0242ac1c0002row19_col6\" class=\"data row19 col6\" >0</td>\n",
              "                        <td id=\"T_d6988afe_f079_11eb_8e0c_0242ac1c0002row19_col7\" class=\"data row19 col7\" >0</td>\n",
              "                        <td id=\"T_d6988afe_f079_11eb_8e0c_0242ac1c0002row19_col8\" class=\"data row19 col8\" >0</td>\n",
              "                        <td id=\"T_d6988afe_f079_11eb_8e0c_0242ac1c0002row19_col9\" class=\"data row19 col9\" >0</td>\n",
              "                        <td id=\"T_d6988afe_f079_11eb_8e0c_0242ac1c0002row19_col10\" class=\"data row19 col10\" >0</td>\n",
              "                        <td id=\"T_d6988afe_f079_11eb_8e0c_0242ac1c0002row19_col11\" class=\"data row19 col11\" >0</td>\n",
              "                        <td id=\"T_d6988afe_f079_11eb_8e0c_0242ac1c0002row19_col12\" class=\"data row19 col12\" >0</td>\n",
              "                        <td id=\"T_d6988afe_f079_11eb_8e0c_0242ac1c0002row19_col13\" class=\"data row19 col13\" >152</td>\n",
              "                        <td id=\"T_d6988afe_f079_11eb_8e0c_0242ac1c0002row19_col14\" class=\"data row19 col14\" >252</td>\n",
              "                        <td id=\"T_d6988afe_f079_11eb_8e0c_0242ac1c0002row19_col15\" class=\"data row19 col15\" >254</td>\n",
              "                        <td id=\"T_d6988afe_f079_11eb_8e0c_0242ac1c0002row19_col16\" class=\"data row19 col16\" >252</td>\n",
              "                        <td id=\"T_d6988afe_f079_11eb_8e0c_0242ac1c0002row19_col17\" class=\"data row19 col17\" >100</td>\n",
              "                        <td id=\"T_d6988afe_f079_11eb_8e0c_0242ac1c0002row19_col18\" class=\"data row19 col18\" >0</td>\n",
              "                        <td id=\"T_d6988afe_f079_11eb_8e0c_0242ac1c0002row19_col19\" class=\"data row19 col19\" >0</td>\n",
              "                        <td id=\"T_d6988afe_f079_11eb_8e0c_0242ac1c0002row19_col20\" class=\"data row19 col20\" >0</td>\n",
              "                        <td id=\"T_d6988afe_f079_11eb_8e0c_0242ac1c0002row19_col21\" class=\"data row19 col21\" >0</td>\n",
              "                        <td id=\"T_d6988afe_f079_11eb_8e0c_0242ac1c0002row19_col22\" class=\"data row19 col22\" >0</td>\n",
              "                        <td id=\"T_d6988afe_f079_11eb_8e0c_0242ac1c0002row19_col23\" class=\"data row19 col23\" >0</td>\n",
              "                        <td id=\"T_d6988afe_f079_11eb_8e0c_0242ac1c0002row19_col24\" class=\"data row19 col24\" >0</td>\n",
              "                        <td id=\"T_d6988afe_f079_11eb_8e0c_0242ac1c0002row19_col25\" class=\"data row19 col25\" >0</td>\n",
              "                        <td id=\"T_d6988afe_f079_11eb_8e0c_0242ac1c0002row19_col26\" class=\"data row19 col26\" >0</td>\n",
              "                        <td id=\"T_d6988afe_f079_11eb_8e0c_0242ac1c0002row19_col27\" class=\"data row19 col27\" >0</td>\n",
              "            </tr>\n",
              "            <tr>\n",
              "                        <th id=\"T_d6988afe_f079_11eb_8e0c_0242ac1c0002level0_row20\" class=\"row_heading level0 row20\" >20</th>\n",
              "                        <td id=\"T_d6988afe_f079_11eb_8e0c_0242ac1c0002row20_col0\" class=\"data row20 col0\" >0</td>\n",
              "                        <td id=\"T_d6988afe_f079_11eb_8e0c_0242ac1c0002row20_col1\" class=\"data row20 col1\" >0</td>\n",
              "                        <td id=\"T_d6988afe_f079_11eb_8e0c_0242ac1c0002row20_col2\" class=\"data row20 col2\" >0</td>\n",
              "                        <td id=\"T_d6988afe_f079_11eb_8e0c_0242ac1c0002row20_col3\" class=\"data row20 col3\" >0</td>\n",
              "                        <td id=\"T_d6988afe_f079_11eb_8e0c_0242ac1c0002row20_col4\" class=\"data row20 col4\" >0</td>\n",
              "                        <td id=\"T_d6988afe_f079_11eb_8e0c_0242ac1c0002row20_col5\" class=\"data row20 col5\" >0</td>\n",
              "                        <td id=\"T_d6988afe_f079_11eb_8e0c_0242ac1c0002row20_col6\" class=\"data row20 col6\" >0</td>\n",
              "                        <td id=\"T_d6988afe_f079_11eb_8e0c_0242ac1c0002row20_col7\" class=\"data row20 col7\" >0</td>\n",
              "                        <td id=\"T_d6988afe_f079_11eb_8e0c_0242ac1c0002row20_col8\" class=\"data row20 col8\" >0</td>\n",
              "                        <td id=\"T_d6988afe_f079_11eb_8e0c_0242ac1c0002row20_col9\" class=\"data row20 col9\" >0</td>\n",
              "                        <td id=\"T_d6988afe_f079_11eb_8e0c_0242ac1c0002row20_col10\" class=\"data row20 col10\" >0</td>\n",
              "                        <td id=\"T_d6988afe_f079_11eb_8e0c_0242ac1c0002row20_col11\" class=\"data row20 col11\" >0</td>\n",
              "                        <td id=\"T_d6988afe_f079_11eb_8e0c_0242ac1c0002row20_col12\" class=\"data row20 col12\" >0</td>\n",
              "                        <td id=\"T_d6988afe_f079_11eb_8e0c_0242ac1c0002row20_col13\" class=\"data row20 col13\" >151</td>\n",
              "                        <td id=\"T_d6988afe_f079_11eb_8e0c_0242ac1c0002row20_col14\" class=\"data row20 col14\" >250</td>\n",
              "                        <td id=\"T_d6988afe_f079_11eb_8e0c_0242ac1c0002row20_col15\" class=\"data row20 col15\" >252</td>\n",
              "                        <td id=\"T_d6988afe_f079_11eb_8e0c_0242ac1c0002row20_col16\" class=\"data row20 col16\" >250</td>\n",
              "                        <td id=\"T_d6988afe_f079_11eb_8e0c_0242ac1c0002row20_col17\" class=\"data row20 col17\" >100</td>\n",
              "                        <td id=\"T_d6988afe_f079_11eb_8e0c_0242ac1c0002row20_col18\" class=\"data row20 col18\" >0</td>\n",
              "                        <td id=\"T_d6988afe_f079_11eb_8e0c_0242ac1c0002row20_col19\" class=\"data row20 col19\" >0</td>\n",
              "                        <td id=\"T_d6988afe_f079_11eb_8e0c_0242ac1c0002row20_col20\" class=\"data row20 col20\" >0</td>\n",
              "                        <td id=\"T_d6988afe_f079_11eb_8e0c_0242ac1c0002row20_col21\" class=\"data row20 col21\" >0</td>\n",
              "                        <td id=\"T_d6988afe_f079_11eb_8e0c_0242ac1c0002row20_col22\" class=\"data row20 col22\" >0</td>\n",
              "                        <td id=\"T_d6988afe_f079_11eb_8e0c_0242ac1c0002row20_col23\" class=\"data row20 col23\" >0</td>\n",
              "                        <td id=\"T_d6988afe_f079_11eb_8e0c_0242ac1c0002row20_col24\" class=\"data row20 col24\" >0</td>\n",
              "                        <td id=\"T_d6988afe_f079_11eb_8e0c_0242ac1c0002row20_col25\" class=\"data row20 col25\" >0</td>\n",
              "                        <td id=\"T_d6988afe_f079_11eb_8e0c_0242ac1c0002row20_col26\" class=\"data row20 col26\" >0</td>\n",
              "                        <td id=\"T_d6988afe_f079_11eb_8e0c_0242ac1c0002row20_col27\" class=\"data row20 col27\" >0</td>\n",
              "            </tr>\n",
              "            <tr>\n",
              "                        <th id=\"T_d6988afe_f079_11eb_8e0c_0242ac1c0002level0_row21\" class=\"row_heading level0 row21\" >21</th>\n",
              "                        <td id=\"T_d6988afe_f079_11eb_8e0c_0242ac1c0002row21_col0\" class=\"data row21 col0\" >0</td>\n",
              "                        <td id=\"T_d6988afe_f079_11eb_8e0c_0242ac1c0002row21_col1\" class=\"data row21 col1\" >0</td>\n",
              "                        <td id=\"T_d6988afe_f079_11eb_8e0c_0242ac1c0002row21_col2\" class=\"data row21 col2\" >0</td>\n",
              "                        <td id=\"T_d6988afe_f079_11eb_8e0c_0242ac1c0002row21_col3\" class=\"data row21 col3\" >0</td>\n",
              "                        <td id=\"T_d6988afe_f079_11eb_8e0c_0242ac1c0002row21_col4\" class=\"data row21 col4\" >0</td>\n",
              "                        <td id=\"T_d6988afe_f079_11eb_8e0c_0242ac1c0002row21_col5\" class=\"data row21 col5\" >0</td>\n",
              "                        <td id=\"T_d6988afe_f079_11eb_8e0c_0242ac1c0002row21_col6\" class=\"data row21 col6\" >0</td>\n",
              "                        <td id=\"T_d6988afe_f079_11eb_8e0c_0242ac1c0002row21_col7\" class=\"data row21 col7\" >0</td>\n",
              "                        <td id=\"T_d6988afe_f079_11eb_8e0c_0242ac1c0002row21_col8\" class=\"data row21 col8\" >0</td>\n",
              "                        <td id=\"T_d6988afe_f079_11eb_8e0c_0242ac1c0002row21_col9\" class=\"data row21 col9\" >0</td>\n",
              "                        <td id=\"T_d6988afe_f079_11eb_8e0c_0242ac1c0002row21_col10\" class=\"data row21 col10\" >0</td>\n",
              "                        <td id=\"T_d6988afe_f079_11eb_8e0c_0242ac1c0002row21_col11\" class=\"data row21 col11\" >0</td>\n",
              "                        <td id=\"T_d6988afe_f079_11eb_8e0c_0242ac1c0002row21_col12\" class=\"data row21 col12\" >0</td>\n",
              "                        <td id=\"T_d6988afe_f079_11eb_8e0c_0242ac1c0002row21_col13\" class=\"data row21 col13\" >151</td>\n",
              "                        <td id=\"T_d6988afe_f079_11eb_8e0c_0242ac1c0002row21_col14\" class=\"data row21 col14\" >250</td>\n",
              "                        <td id=\"T_d6988afe_f079_11eb_8e0c_0242ac1c0002row21_col15\" class=\"data row21 col15\" >252</td>\n",
              "                        <td id=\"T_d6988afe_f079_11eb_8e0c_0242ac1c0002row21_col16\" class=\"data row21 col16\" >250</td>\n",
              "                        <td id=\"T_d6988afe_f079_11eb_8e0c_0242ac1c0002row21_col17\" class=\"data row21 col17\" >100</td>\n",
              "                        <td id=\"T_d6988afe_f079_11eb_8e0c_0242ac1c0002row21_col18\" class=\"data row21 col18\" >0</td>\n",
              "                        <td id=\"T_d6988afe_f079_11eb_8e0c_0242ac1c0002row21_col19\" class=\"data row21 col19\" >0</td>\n",
              "                        <td id=\"T_d6988afe_f079_11eb_8e0c_0242ac1c0002row21_col20\" class=\"data row21 col20\" >0</td>\n",
              "                        <td id=\"T_d6988afe_f079_11eb_8e0c_0242ac1c0002row21_col21\" class=\"data row21 col21\" >0</td>\n",
              "                        <td id=\"T_d6988afe_f079_11eb_8e0c_0242ac1c0002row21_col22\" class=\"data row21 col22\" >0</td>\n",
              "                        <td id=\"T_d6988afe_f079_11eb_8e0c_0242ac1c0002row21_col23\" class=\"data row21 col23\" >0</td>\n",
              "                        <td id=\"T_d6988afe_f079_11eb_8e0c_0242ac1c0002row21_col24\" class=\"data row21 col24\" >0</td>\n",
              "                        <td id=\"T_d6988afe_f079_11eb_8e0c_0242ac1c0002row21_col25\" class=\"data row21 col25\" >0</td>\n",
              "                        <td id=\"T_d6988afe_f079_11eb_8e0c_0242ac1c0002row21_col26\" class=\"data row21 col26\" >0</td>\n",
              "                        <td id=\"T_d6988afe_f079_11eb_8e0c_0242ac1c0002row21_col27\" class=\"data row21 col27\" >0</td>\n",
              "            </tr>\n",
              "            <tr>\n",
              "                        <th id=\"T_d6988afe_f079_11eb_8e0c_0242ac1c0002level0_row22\" class=\"row_heading level0 row22\" >22</th>\n",
              "                        <td id=\"T_d6988afe_f079_11eb_8e0c_0242ac1c0002row22_col0\" class=\"data row22 col0\" >0</td>\n",
              "                        <td id=\"T_d6988afe_f079_11eb_8e0c_0242ac1c0002row22_col1\" class=\"data row22 col1\" >0</td>\n",
              "                        <td id=\"T_d6988afe_f079_11eb_8e0c_0242ac1c0002row22_col2\" class=\"data row22 col2\" >0</td>\n",
              "                        <td id=\"T_d6988afe_f079_11eb_8e0c_0242ac1c0002row22_col3\" class=\"data row22 col3\" >0</td>\n",
              "                        <td id=\"T_d6988afe_f079_11eb_8e0c_0242ac1c0002row22_col4\" class=\"data row22 col4\" >0</td>\n",
              "                        <td id=\"T_d6988afe_f079_11eb_8e0c_0242ac1c0002row22_col5\" class=\"data row22 col5\" >0</td>\n",
              "                        <td id=\"T_d6988afe_f079_11eb_8e0c_0242ac1c0002row22_col6\" class=\"data row22 col6\" >0</td>\n",
              "                        <td id=\"T_d6988afe_f079_11eb_8e0c_0242ac1c0002row22_col7\" class=\"data row22 col7\" >0</td>\n",
              "                        <td id=\"T_d6988afe_f079_11eb_8e0c_0242ac1c0002row22_col8\" class=\"data row22 col8\" >0</td>\n",
              "                        <td id=\"T_d6988afe_f079_11eb_8e0c_0242ac1c0002row22_col9\" class=\"data row22 col9\" >0</td>\n",
              "                        <td id=\"T_d6988afe_f079_11eb_8e0c_0242ac1c0002row22_col10\" class=\"data row22 col10\" >0</td>\n",
              "                        <td id=\"T_d6988afe_f079_11eb_8e0c_0242ac1c0002row22_col11\" class=\"data row22 col11\" >0</td>\n",
              "                        <td id=\"T_d6988afe_f079_11eb_8e0c_0242ac1c0002row22_col12\" class=\"data row22 col12\" >0</td>\n",
              "                        <td id=\"T_d6988afe_f079_11eb_8e0c_0242ac1c0002row22_col13\" class=\"data row22 col13\" >151</td>\n",
              "                        <td id=\"T_d6988afe_f079_11eb_8e0c_0242ac1c0002row22_col14\" class=\"data row22 col14\" >250</td>\n",
              "                        <td id=\"T_d6988afe_f079_11eb_8e0c_0242ac1c0002row22_col15\" class=\"data row22 col15\" >252</td>\n",
              "                        <td id=\"T_d6988afe_f079_11eb_8e0c_0242ac1c0002row22_col16\" class=\"data row22 col16\" >250</td>\n",
              "                        <td id=\"T_d6988afe_f079_11eb_8e0c_0242ac1c0002row22_col17\" class=\"data row22 col17\" >221</td>\n",
              "                        <td id=\"T_d6988afe_f079_11eb_8e0c_0242ac1c0002row22_col18\" class=\"data row22 col18\" >40</td>\n",
              "                        <td id=\"T_d6988afe_f079_11eb_8e0c_0242ac1c0002row22_col19\" class=\"data row22 col19\" >0</td>\n",
              "                        <td id=\"T_d6988afe_f079_11eb_8e0c_0242ac1c0002row22_col20\" class=\"data row22 col20\" >0</td>\n",
              "                        <td id=\"T_d6988afe_f079_11eb_8e0c_0242ac1c0002row22_col21\" class=\"data row22 col21\" >0</td>\n",
              "                        <td id=\"T_d6988afe_f079_11eb_8e0c_0242ac1c0002row22_col22\" class=\"data row22 col22\" >0</td>\n",
              "                        <td id=\"T_d6988afe_f079_11eb_8e0c_0242ac1c0002row22_col23\" class=\"data row22 col23\" >0</td>\n",
              "                        <td id=\"T_d6988afe_f079_11eb_8e0c_0242ac1c0002row22_col24\" class=\"data row22 col24\" >0</td>\n",
              "                        <td id=\"T_d6988afe_f079_11eb_8e0c_0242ac1c0002row22_col25\" class=\"data row22 col25\" >0</td>\n",
              "                        <td id=\"T_d6988afe_f079_11eb_8e0c_0242ac1c0002row22_col26\" class=\"data row22 col26\" >0</td>\n",
              "                        <td id=\"T_d6988afe_f079_11eb_8e0c_0242ac1c0002row22_col27\" class=\"data row22 col27\" >0</td>\n",
              "            </tr>\n",
              "            <tr>\n",
              "                        <th id=\"T_d6988afe_f079_11eb_8e0c_0242ac1c0002level0_row23\" class=\"row_heading level0 row23\" >23</th>\n",
              "                        <td id=\"T_d6988afe_f079_11eb_8e0c_0242ac1c0002row23_col0\" class=\"data row23 col0\" >0</td>\n",
              "                        <td id=\"T_d6988afe_f079_11eb_8e0c_0242ac1c0002row23_col1\" class=\"data row23 col1\" >0</td>\n",
              "                        <td id=\"T_d6988afe_f079_11eb_8e0c_0242ac1c0002row23_col2\" class=\"data row23 col2\" >0</td>\n",
              "                        <td id=\"T_d6988afe_f079_11eb_8e0c_0242ac1c0002row23_col3\" class=\"data row23 col3\" >0</td>\n",
              "                        <td id=\"T_d6988afe_f079_11eb_8e0c_0242ac1c0002row23_col4\" class=\"data row23 col4\" >0</td>\n",
              "                        <td id=\"T_d6988afe_f079_11eb_8e0c_0242ac1c0002row23_col5\" class=\"data row23 col5\" >0</td>\n",
              "                        <td id=\"T_d6988afe_f079_11eb_8e0c_0242ac1c0002row23_col6\" class=\"data row23 col6\" >0</td>\n",
              "                        <td id=\"T_d6988afe_f079_11eb_8e0c_0242ac1c0002row23_col7\" class=\"data row23 col7\" >0</td>\n",
              "                        <td id=\"T_d6988afe_f079_11eb_8e0c_0242ac1c0002row23_col8\" class=\"data row23 col8\" >0</td>\n",
              "                        <td id=\"T_d6988afe_f079_11eb_8e0c_0242ac1c0002row23_col9\" class=\"data row23 col9\" >0</td>\n",
              "                        <td id=\"T_d6988afe_f079_11eb_8e0c_0242ac1c0002row23_col10\" class=\"data row23 col10\" >0</td>\n",
              "                        <td id=\"T_d6988afe_f079_11eb_8e0c_0242ac1c0002row23_col11\" class=\"data row23 col11\" >0</td>\n",
              "                        <td id=\"T_d6988afe_f079_11eb_8e0c_0242ac1c0002row23_col12\" class=\"data row23 col12\" >0</td>\n",
              "                        <td id=\"T_d6988afe_f079_11eb_8e0c_0242ac1c0002row23_col13\" class=\"data row23 col13\" >153</td>\n",
              "                        <td id=\"T_d6988afe_f079_11eb_8e0c_0242ac1c0002row23_col14\" class=\"data row23 col14\" >252</td>\n",
              "                        <td id=\"T_d6988afe_f079_11eb_8e0c_0242ac1c0002row23_col15\" class=\"data row23 col15\" >255</td>\n",
              "                        <td id=\"T_d6988afe_f079_11eb_8e0c_0242ac1c0002row23_col16\" class=\"data row23 col16\" >252</td>\n",
              "                        <td id=\"T_d6988afe_f079_11eb_8e0c_0242ac1c0002row23_col17\" class=\"data row23 col17\" >252</td>\n",
              "                        <td id=\"T_d6988afe_f079_11eb_8e0c_0242ac1c0002row23_col18\" class=\"data row23 col18\" >49</td>\n",
              "                        <td id=\"T_d6988afe_f079_11eb_8e0c_0242ac1c0002row23_col19\" class=\"data row23 col19\" >0</td>\n",
              "                        <td id=\"T_d6988afe_f079_11eb_8e0c_0242ac1c0002row23_col20\" class=\"data row23 col20\" >0</td>\n",
              "                        <td id=\"T_d6988afe_f079_11eb_8e0c_0242ac1c0002row23_col21\" class=\"data row23 col21\" >0</td>\n",
              "                        <td id=\"T_d6988afe_f079_11eb_8e0c_0242ac1c0002row23_col22\" class=\"data row23 col22\" >0</td>\n",
              "                        <td id=\"T_d6988afe_f079_11eb_8e0c_0242ac1c0002row23_col23\" class=\"data row23 col23\" >0</td>\n",
              "                        <td id=\"T_d6988afe_f079_11eb_8e0c_0242ac1c0002row23_col24\" class=\"data row23 col24\" >0</td>\n",
              "                        <td id=\"T_d6988afe_f079_11eb_8e0c_0242ac1c0002row23_col25\" class=\"data row23 col25\" >0</td>\n",
              "                        <td id=\"T_d6988afe_f079_11eb_8e0c_0242ac1c0002row23_col26\" class=\"data row23 col26\" >0</td>\n",
              "                        <td id=\"T_d6988afe_f079_11eb_8e0c_0242ac1c0002row23_col27\" class=\"data row23 col27\" >0</td>\n",
              "            </tr>\n",
              "            <tr>\n",
              "                        <th id=\"T_d6988afe_f079_11eb_8e0c_0242ac1c0002level0_row24\" class=\"row_heading level0 row24\" >24</th>\n",
              "                        <td id=\"T_d6988afe_f079_11eb_8e0c_0242ac1c0002row24_col0\" class=\"data row24 col0\" >0</td>\n",
              "                        <td id=\"T_d6988afe_f079_11eb_8e0c_0242ac1c0002row24_col1\" class=\"data row24 col1\" >0</td>\n",
              "                        <td id=\"T_d6988afe_f079_11eb_8e0c_0242ac1c0002row24_col2\" class=\"data row24 col2\" >0</td>\n",
              "                        <td id=\"T_d6988afe_f079_11eb_8e0c_0242ac1c0002row24_col3\" class=\"data row24 col3\" >0</td>\n",
              "                        <td id=\"T_d6988afe_f079_11eb_8e0c_0242ac1c0002row24_col4\" class=\"data row24 col4\" >0</td>\n",
              "                        <td id=\"T_d6988afe_f079_11eb_8e0c_0242ac1c0002row24_col5\" class=\"data row24 col5\" >0</td>\n",
              "                        <td id=\"T_d6988afe_f079_11eb_8e0c_0242ac1c0002row24_col6\" class=\"data row24 col6\" >0</td>\n",
              "                        <td id=\"T_d6988afe_f079_11eb_8e0c_0242ac1c0002row24_col7\" class=\"data row24 col7\" >0</td>\n",
              "                        <td id=\"T_d6988afe_f079_11eb_8e0c_0242ac1c0002row24_col8\" class=\"data row24 col8\" >0</td>\n",
              "                        <td id=\"T_d6988afe_f079_11eb_8e0c_0242ac1c0002row24_col9\" class=\"data row24 col9\" >0</td>\n",
              "                        <td id=\"T_d6988afe_f079_11eb_8e0c_0242ac1c0002row24_col10\" class=\"data row24 col10\" >0</td>\n",
              "                        <td id=\"T_d6988afe_f079_11eb_8e0c_0242ac1c0002row24_col11\" class=\"data row24 col11\" >0</td>\n",
              "                        <td id=\"T_d6988afe_f079_11eb_8e0c_0242ac1c0002row24_col12\" class=\"data row24 col12\" >0</td>\n",
              "                        <td id=\"T_d6988afe_f079_11eb_8e0c_0242ac1c0002row24_col13\" class=\"data row24 col13\" >151</td>\n",
              "                        <td id=\"T_d6988afe_f079_11eb_8e0c_0242ac1c0002row24_col14\" class=\"data row24 col14\" >250</td>\n",
              "                        <td id=\"T_d6988afe_f079_11eb_8e0c_0242ac1c0002row24_col15\" class=\"data row24 col15\" >252</td>\n",
              "                        <td id=\"T_d6988afe_f079_11eb_8e0c_0242ac1c0002row24_col16\" class=\"data row24 col16\" >250</td>\n",
              "                        <td id=\"T_d6988afe_f079_11eb_8e0c_0242ac1c0002row24_col17\" class=\"data row24 col17\" >250</td>\n",
              "                        <td id=\"T_d6988afe_f079_11eb_8e0c_0242ac1c0002row24_col18\" class=\"data row24 col18\" >49</td>\n",
              "                        <td id=\"T_d6988afe_f079_11eb_8e0c_0242ac1c0002row24_col19\" class=\"data row24 col19\" >0</td>\n",
              "                        <td id=\"T_d6988afe_f079_11eb_8e0c_0242ac1c0002row24_col20\" class=\"data row24 col20\" >0</td>\n",
              "                        <td id=\"T_d6988afe_f079_11eb_8e0c_0242ac1c0002row24_col21\" class=\"data row24 col21\" >0</td>\n",
              "                        <td id=\"T_d6988afe_f079_11eb_8e0c_0242ac1c0002row24_col22\" class=\"data row24 col22\" >0</td>\n",
              "                        <td id=\"T_d6988afe_f079_11eb_8e0c_0242ac1c0002row24_col23\" class=\"data row24 col23\" >0</td>\n",
              "                        <td id=\"T_d6988afe_f079_11eb_8e0c_0242ac1c0002row24_col24\" class=\"data row24 col24\" >0</td>\n",
              "                        <td id=\"T_d6988afe_f079_11eb_8e0c_0242ac1c0002row24_col25\" class=\"data row24 col25\" >0</td>\n",
              "                        <td id=\"T_d6988afe_f079_11eb_8e0c_0242ac1c0002row24_col26\" class=\"data row24 col26\" >0</td>\n",
              "                        <td id=\"T_d6988afe_f079_11eb_8e0c_0242ac1c0002row24_col27\" class=\"data row24 col27\" >0</td>\n",
              "            </tr>\n",
              "            <tr>\n",
              "                        <th id=\"T_d6988afe_f079_11eb_8e0c_0242ac1c0002level0_row25\" class=\"row_heading level0 row25\" >25</th>\n",
              "                        <td id=\"T_d6988afe_f079_11eb_8e0c_0242ac1c0002row25_col0\" class=\"data row25 col0\" >0</td>\n",
              "                        <td id=\"T_d6988afe_f079_11eb_8e0c_0242ac1c0002row25_col1\" class=\"data row25 col1\" >0</td>\n",
              "                        <td id=\"T_d6988afe_f079_11eb_8e0c_0242ac1c0002row25_col2\" class=\"data row25 col2\" >0</td>\n",
              "                        <td id=\"T_d6988afe_f079_11eb_8e0c_0242ac1c0002row25_col3\" class=\"data row25 col3\" >0</td>\n",
              "                        <td id=\"T_d6988afe_f079_11eb_8e0c_0242ac1c0002row25_col4\" class=\"data row25 col4\" >0</td>\n",
              "                        <td id=\"T_d6988afe_f079_11eb_8e0c_0242ac1c0002row25_col5\" class=\"data row25 col5\" >0</td>\n",
              "                        <td id=\"T_d6988afe_f079_11eb_8e0c_0242ac1c0002row25_col6\" class=\"data row25 col6\" >0</td>\n",
              "                        <td id=\"T_d6988afe_f079_11eb_8e0c_0242ac1c0002row25_col7\" class=\"data row25 col7\" >0</td>\n",
              "                        <td id=\"T_d6988afe_f079_11eb_8e0c_0242ac1c0002row25_col8\" class=\"data row25 col8\" >0</td>\n",
              "                        <td id=\"T_d6988afe_f079_11eb_8e0c_0242ac1c0002row25_col9\" class=\"data row25 col9\" >0</td>\n",
              "                        <td id=\"T_d6988afe_f079_11eb_8e0c_0242ac1c0002row25_col10\" class=\"data row25 col10\" >0</td>\n",
              "                        <td id=\"T_d6988afe_f079_11eb_8e0c_0242ac1c0002row25_col11\" class=\"data row25 col11\" >0</td>\n",
              "                        <td id=\"T_d6988afe_f079_11eb_8e0c_0242ac1c0002row25_col12\" class=\"data row25 col12\" >0</td>\n",
              "                        <td id=\"T_d6988afe_f079_11eb_8e0c_0242ac1c0002row25_col13\" class=\"data row25 col13\" >60</td>\n",
              "                        <td id=\"T_d6988afe_f079_11eb_8e0c_0242ac1c0002row25_col14\" class=\"data row25 col14\" >221</td>\n",
              "                        <td id=\"T_d6988afe_f079_11eb_8e0c_0242ac1c0002row25_col15\" class=\"data row25 col15\" >252</td>\n",
              "                        <td id=\"T_d6988afe_f079_11eb_8e0c_0242ac1c0002row25_col16\" class=\"data row25 col16\" >250</td>\n",
              "                        <td id=\"T_d6988afe_f079_11eb_8e0c_0242ac1c0002row25_col17\" class=\"data row25 col17\" >159</td>\n",
              "                        <td id=\"T_d6988afe_f079_11eb_8e0c_0242ac1c0002row25_col18\" class=\"data row25 col18\" >20</td>\n",
              "                        <td id=\"T_d6988afe_f079_11eb_8e0c_0242ac1c0002row25_col19\" class=\"data row25 col19\" >0</td>\n",
              "                        <td id=\"T_d6988afe_f079_11eb_8e0c_0242ac1c0002row25_col20\" class=\"data row25 col20\" >0</td>\n",
              "                        <td id=\"T_d6988afe_f079_11eb_8e0c_0242ac1c0002row25_col21\" class=\"data row25 col21\" >0</td>\n",
              "                        <td id=\"T_d6988afe_f079_11eb_8e0c_0242ac1c0002row25_col22\" class=\"data row25 col22\" >0</td>\n",
              "                        <td id=\"T_d6988afe_f079_11eb_8e0c_0242ac1c0002row25_col23\" class=\"data row25 col23\" >0</td>\n",
              "                        <td id=\"T_d6988afe_f079_11eb_8e0c_0242ac1c0002row25_col24\" class=\"data row25 col24\" >0</td>\n",
              "                        <td id=\"T_d6988afe_f079_11eb_8e0c_0242ac1c0002row25_col25\" class=\"data row25 col25\" >0</td>\n",
              "                        <td id=\"T_d6988afe_f079_11eb_8e0c_0242ac1c0002row25_col26\" class=\"data row25 col26\" >0</td>\n",
              "                        <td id=\"T_d6988afe_f079_11eb_8e0c_0242ac1c0002row25_col27\" class=\"data row25 col27\" >0</td>\n",
              "            </tr>\n",
              "            <tr>\n",
              "                        <th id=\"T_d6988afe_f079_11eb_8e0c_0242ac1c0002level0_row26\" class=\"row_heading level0 row26\" >26</th>\n",
              "                        <td id=\"T_d6988afe_f079_11eb_8e0c_0242ac1c0002row26_col0\" class=\"data row26 col0\" >0</td>\n",
              "                        <td id=\"T_d6988afe_f079_11eb_8e0c_0242ac1c0002row26_col1\" class=\"data row26 col1\" >0</td>\n",
              "                        <td id=\"T_d6988afe_f079_11eb_8e0c_0242ac1c0002row26_col2\" class=\"data row26 col2\" >0</td>\n",
              "                        <td id=\"T_d6988afe_f079_11eb_8e0c_0242ac1c0002row26_col3\" class=\"data row26 col3\" >0</td>\n",
              "                        <td id=\"T_d6988afe_f079_11eb_8e0c_0242ac1c0002row26_col4\" class=\"data row26 col4\" >0</td>\n",
              "                        <td id=\"T_d6988afe_f079_11eb_8e0c_0242ac1c0002row26_col5\" class=\"data row26 col5\" >0</td>\n",
              "                        <td id=\"T_d6988afe_f079_11eb_8e0c_0242ac1c0002row26_col6\" class=\"data row26 col6\" >0</td>\n",
              "                        <td id=\"T_d6988afe_f079_11eb_8e0c_0242ac1c0002row26_col7\" class=\"data row26 col7\" >0</td>\n",
              "                        <td id=\"T_d6988afe_f079_11eb_8e0c_0242ac1c0002row26_col8\" class=\"data row26 col8\" >0</td>\n",
              "                        <td id=\"T_d6988afe_f079_11eb_8e0c_0242ac1c0002row26_col9\" class=\"data row26 col9\" >0</td>\n",
              "                        <td id=\"T_d6988afe_f079_11eb_8e0c_0242ac1c0002row26_col10\" class=\"data row26 col10\" >0</td>\n",
              "                        <td id=\"T_d6988afe_f079_11eb_8e0c_0242ac1c0002row26_col11\" class=\"data row26 col11\" >0</td>\n",
              "                        <td id=\"T_d6988afe_f079_11eb_8e0c_0242ac1c0002row26_col12\" class=\"data row26 col12\" >0</td>\n",
              "                        <td id=\"T_d6988afe_f079_11eb_8e0c_0242ac1c0002row26_col13\" class=\"data row26 col13\" >0</td>\n",
              "                        <td id=\"T_d6988afe_f079_11eb_8e0c_0242ac1c0002row26_col14\" class=\"data row26 col14\" >40</td>\n",
              "                        <td id=\"T_d6988afe_f079_11eb_8e0c_0242ac1c0002row26_col15\" class=\"data row26 col15\" >212</td>\n",
              "                        <td id=\"T_d6988afe_f079_11eb_8e0c_0242ac1c0002row26_col16\" class=\"data row26 col16\" >49</td>\n",
              "                        <td id=\"T_d6988afe_f079_11eb_8e0c_0242ac1c0002row26_col17\" class=\"data row26 col17\" >20</td>\n",
              "                        <td id=\"T_d6988afe_f079_11eb_8e0c_0242ac1c0002row26_col18\" class=\"data row26 col18\" >0</td>\n",
              "                        <td id=\"T_d6988afe_f079_11eb_8e0c_0242ac1c0002row26_col19\" class=\"data row26 col19\" >0</td>\n",
              "                        <td id=\"T_d6988afe_f079_11eb_8e0c_0242ac1c0002row26_col20\" class=\"data row26 col20\" >0</td>\n",
              "                        <td id=\"T_d6988afe_f079_11eb_8e0c_0242ac1c0002row26_col21\" class=\"data row26 col21\" >0</td>\n",
              "                        <td id=\"T_d6988afe_f079_11eb_8e0c_0242ac1c0002row26_col22\" class=\"data row26 col22\" >0</td>\n",
              "                        <td id=\"T_d6988afe_f079_11eb_8e0c_0242ac1c0002row26_col23\" class=\"data row26 col23\" >0</td>\n",
              "                        <td id=\"T_d6988afe_f079_11eb_8e0c_0242ac1c0002row26_col24\" class=\"data row26 col24\" >0</td>\n",
              "                        <td id=\"T_d6988afe_f079_11eb_8e0c_0242ac1c0002row26_col25\" class=\"data row26 col25\" >0</td>\n",
              "                        <td id=\"T_d6988afe_f079_11eb_8e0c_0242ac1c0002row26_col26\" class=\"data row26 col26\" >0</td>\n",
              "                        <td id=\"T_d6988afe_f079_11eb_8e0c_0242ac1c0002row26_col27\" class=\"data row26 col27\" >0</td>\n",
              "            </tr>\n",
              "            <tr>\n",
              "                        <th id=\"T_d6988afe_f079_11eb_8e0c_0242ac1c0002level0_row27\" class=\"row_heading level0 row27\" >27</th>\n",
              "                        <td id=\"T_d6988afe_f079_11eb_8e0c_0242ac1c0002row27_col0\" class=\"data row27 col0\" >0</td>\n",
              "                        <td id=\"T_d6988afe_f079_11eb_8e0c_0242ac1c0002row27_col1\" class=\"data row27 col1\" >0</td>\n",
              "                        <td id=\"T_d6988afe_f079_11eb_8e0c_0242ac1c0002row27_col2\" class=\"data row27 col2\" >0</td>\n",
              "                        <td id=\"T_d6988afe_f079_11eb_8e0c_0242ac1c0002row27_col3\" class=\"data row27 col3\" >0</td>\n",
              "                        <td id=\"T_d6988afe_f079_11eb_8e0c_0242ac1c0002row27_col4\" class=\"data row27 col4\" >0</td>\n",
              "                        <td id=\"T_d6988afe_f079_11eb_8e0c_0242ac1c0002row27_col5\" class=\"data row27 col5\" >0</td>\n",
              "                        <td id=\"T_d6988afe_f079_11eb_8e0c_0242ac1c0002row27_col6\" class=\"data row27 col6\" >0</td>\n",
              "                        <td id=\"T_d6988afe_f079_11eb_8e0c_0242ac1c0002row27_col7\" class=\"data row27 col7\" >0</td>\n",
              "                        <td id=\"T_d6988afe_f079_11eb_8e0c_0242ac1c0002row27_col8\" class=\"data row27 col8\" >0</td>\n",
              "                        <td id=\"T_d6988afe_f079_11eb_8e0c_0242ac1c0002row27_col9\" class=\"data row27 col9\" >0</td>\n",
              "                        <td id=\"T_d6988afe_f079_11eb_8e0c_0242ac1c0002row27_col10\" class=\"data row27 col10\" >0</td>\n",
              "                        <td id=\"T_d6988afe_f079_11eb_8e0c_0242ac1c0002row27_col11\" class=\"data row27 col11\" >0</td>\n",
              "                        <td id=\"T_d6988afe_f079_11eb_8e0c_0242ac1c0002row27_col12\" class=\"data row27 col12\" >0</td>\n",
              "                        <td id=\"T_d6988afe_f079_11eb_8e0c_0242ac1c0002row27_col13\" class=\"data row27 col13\" >0</td>\n",
              "                        <td id=\"T_d6988afe_f079_11eb_8e0c_0242ac1c0002row27_col14\" class=\"data row27 col14\" >0</td>\n",
              "                        <td id=\"T_d6988afe_f079_11eb_8e0c_0242ac1c0002row27_col15\" class=\"data row27 col15\" >0</td>\n",
              "                        <td id=\"T_d6988afe_f079_11eb_8e0c_0242ac1c0002row27_col16\" class=\"data row27 col16\" >0</td>\n",
              "                        <td id=\"T_d6988afe_f079_11eb_8e0c_0242ac1c0002row27_col17\" class=\"data row27 col17\" >0</td>\n",
              "                        <td id=\"T_d6988afe_f079_11eb_8e0c_0242ac1c0002row27_col18\" class=\"data row27 col18\" >0</td>\n",
              "                        <td id=\"T_d6988afe_f079_11eb_8e0c_0242ac1c0002row27_col19\" class=\"data row27 col19\" >0</td>\n",
              "                        <td id=\"T_d6988afe_f079_11eb_8e0c_0242ac1c0002row27_col20\" class=\"data row27 col20\" >0</td>\n",
              "                        <td id=\"T_d6988afe_f079_11eb_8e0c_0242ac1c0002row27_col21\" class=\"data row27 col21\" >0</td>\n",
              "                        <td id=\"T_d6988afe_f079_11eb_8e0c_0242ac1c0002row27_col22\" class=\"data row27 col22\" >0</td>\n",
              "                        <td id=\"T_d6988afe_f079_11eb_8e0c_0242ac1c0002row27_col23\" class=\"data row27 col23\" >0</td>\n",
              "                        <td id=\"T_d6988afe_f079_11eb_8e0c_0242ac1c0002row27_col24\" class=\"data row27 col24\" >0</td>\n",
              "                        <td id=\"T_d6988afe_f079_11eb_8e0c_0242ac1c0002row27_col25\" class=\"data row27 col25\" >0</td>\n",
              "                        <td id=\"T_d6988afe_f079_11eb_8e0c_0242ac1c0002row27_col26\" class=\"data row27 col26\" >0</td>\n",
              "                        <td id=\"T_d6988afe_f079_11eb_8e0c_0242ac1c0002row27_col27\" class=\"data row27 col27\" >0</td>\n",
              "            </tr>\n",
              "    </tbody></table>"
            ],
            "text/plain": [
              "<pandas.io.formats.style.Styler at 0x7f5347499310>"
            ]
          },
          "metadata": {
            "tags": []
          },
          "execution_count": 15
        }
      ]
    },
    {
      "cell_type": "markdown",
      "metadata": {
        "id": "VwnTYTSvixaq"
      },
      "source": [
        "Following command creates a list of images (each for 3s and 7s) in a tensor form"
      ],
      "id": "VwnTYTSvixaq"
    },
    {
      "cell_type": "code",
      "metadata": {
        "colab": {
          "base_uri": "https://localhost:8080/"
        },
        "id": "f9bd6377",
        "outputId": "dfda4860-8bab-45fd-a5bd-3bf0c9134824"
      },
      "source": [
        "three_tensors = [tensor(Image.open(o)) for o in threes]\n",
        "seven_tensors = [tensor(Image.open(o)) for o in sevens]\n",
        "\n",
        "len(three_tensors),len(seven_tensors)"
      ],
      "id": "f9bd6377",
      "execution_count": 7,
      "outputs": [
        {
          "output_type": "execute_result",
          "data": {
            "text/plain": [
              "(6131, 6265)"
            ]
          },
          "metadata": {
            "tags": []
          },
          "execution_count": 7
        }
      ]
    },
    {
      "cell_type": "markdown",
      "metadata": {
        "id": "xhiAArOtjPms"
      },
      "source": [
        "We now combine all the images in this list into a single three-dimensional tensor and normalize the tensor elements by 255 - the highest pixel value, in order to constrain all the pixel values between 0 and 1"
      ],
      "id": "xhiAArOtjPms"
    },
    {
      "cell_type": "code",
      "metadata": {
        "colab": {
          "base_uri": "https://localhost:8080/"
        },
        "id": "b281802a",
        "outputId": "ea19a62f-5c25-4b0b-a189-689d699277e8"
      },
      "source": [
        "stacked_threes = torch.stack(three_tensors).float()/255\n",
        "stacked_sevens = torch.stack(seven_tensors).float()/255\n",
        "\n",
        "stacked_sevens.shape"
      ],
      "id": "b281802a",
      "execution_count": 8,
      "outputs": [
        {
          "output_type": "execute_result",
          "data": {
            "text/plain": [
              "torch.Size([6265, 28, 28])"
            ]
          },
          "metadata": {
            "tags": []
          },
          "execution_count": 8
        }
      ]
    },
    {
      "cell_type": "markdown",
      "metadata": {
        "id": "984f9037"
      },
      "source": [
        "## MNIST loss function"
      ],
      "id": "984f9037"
    },
    {
      "cell_type": "markdown",
      "metadata": {
        "id": "b4d8c80b"
      },
      "source": [
        "We already have our independent variables x—these are the images themselves. We'll concatenate them all into a single tensor, and also change them from a list of matrices (a rank-3 tensor) to a list of vectors (a rank-2 tensor). We can do this using `view`, which is a PyTorch method that changes the shape of a tensor without changing its contents. -1 is a special parameter to view that means \"make this axis as big as necessary to fit all the data\":"
      ],
      "id": "b4d8c80b"
    },
    {
      "cell_type": "code",
      "metadata": {
        "id": "7805d211"
      },
      "source": [
        "train_x = torch.cat([stacked_threes, stacked_sevens]).view(-1, 28*28)"
      ],
      "id": "7805d211",
      "execution_count": 9,
      "outputs": []
    },
    {
      "cell_type": "code",
      "metadata": {
        "colab": {
          "base_uri": "https://localhost:8080/"
        },
        "id": "g3lKIT46aAzH",
        "outputId": "52757750-d2e2-4d6d-b028-e56d74fc46b3"
      },
      "source": [
        "train_x"
      ],
      "id": "g3lKIT46aAzH",
      "execution_count": 27,
      "outputs": [
        {
          "output_type": "execute_result",
          "data": {
            "text/plain": [
              "tensor([[0., 0., 0.,  ..., 0., 0., 0.],\n",
              "        [0., 0., 0.,  ..., 0., 0., 0.],\n",
              "        [0., 0., 0.,  ..., 0., 0., 0.],\n",
              "        ...,\n",
              "        [0., 0., 0.,  ..., 0., 0., 0.],\n",
              "        [0., 0., 0.,  ..., 0., 0., 0.],\n",
              "        [0., 0., 0.,  ..., 0., 0., 0.]])"
            ]
          },
          "metadata": {
            "tags": []
          },
          "execution_count": 27
        }
      ]
    },
    {
      "cell_type": "markdown",
      "metadata": {
        "id": "5dAFytutkJ_M"
      },
      "source": [
        "We need a label for each image. We'll use 1 for 3s and 0 for 7s:"
      ],
      "id": "5dAFytutkJ_M"
    },
    {
      "cell_type": "code",
      "metadata": {
        "id": "c1ff910e"
      },
      "source": [
        "train_y = tensor([1]*len(threes) + [0]*len(sevens)).unsqueeze(1)"
      ],
      "id": "c1ff910e",
      "execution_count": 10,
      "outputs": []
    },
    {
      "cell_type": "code",
      "metadata": {
        "colab": {
          "base_uri": "https://localhost:8080/"
        },
        "id": "qkbYWoINZVpF",
        "outputId": "271df2ef-d4ff-45cc-90f8-9d67c58b730d"
      },
      "source": [
        "train_y"
      ],
      "id": "qkbYWoINZVpF",
      "execution_count": 23,
      "outputs": [
        {
          "output_type": "execute_result",
          "data": {
            "text/plain": [
              "tensor([[1],\n",
              "        [1],\n",
              "        [1],\n",
              "        ...,\n",
              "        [0],\n",
              "        [0],\n",
              "        [0]])"
            ]
          },
          "metadata": {
            "tags": []
          },
          "execution_count": 23
        }
      ]
    },
    {
      "cell_type": "code",
      "metadata": {
        "colab": {
          "base_uri": "https://localhost:8080/"
        },
        "id": "ut1cn2gLZWzL",
        "outputId": "2555ceab-f77e-4bb1-f9a3-d679d4a3bbd6"
      },
      "source": [
        "train_x.size(), train_y.size()"
      ],
      "id": "ut1cn2gLZWzL",
      "execution_count": 27,
      "outputs": [
        {
          "output_type": "execute_result",
          "data": {
            "text/plain": [
              "(torch.Size([12396, 784]), torch.Size([12396, 1]))"
            ]
          },
          "metadata": {
            "tags": []
          },
          "execution_count": 27
        }
      ]
    },
    {
      "cell_type": "markdown",
      "metadata": {
        "id": "ntDmnw6tk7Sq"
      },
      "source": [
        "A Dataset in PyTorch is required to return a tuple of (x,y) when indexed. Python provides a zip function which, when combined with list, provides a simple way to get this functionality:"
      ],
      "id": "ntDmnw6tk7Sq"
    },
    {
      "cell_type": "code",
      "metadata": {
        "colab": {
          "base_uri": "https://localhost:8080/"
        },
        "id": "Z03l7UyNaZPr",
        "outputId": "16f3e207-e94f-49c4-bf4e-657b31f85416"
      },
      "source": [
        "dset = list(zip(train_x, train_y))\n",
        "x,y = dset[0]\n",
        "x.size(), y"
      ],
      "id": "Z03l7UyNaZPr",
      "execution_count": 11,
      "outputs": [
        {
          "output_type": "execute_result",
          "data": {
            "text/plain": [
              "(torch.Size([784]), tensor([1]))"
            ]
          },
          "metadata": {
            "tags": []
          },
          "execution_count": 11
        }
      ]
    },
    {
      "cell_type": "code",
      "metadata": {
        "colab": {
          "base_uri": "https://localhost:8080/"
        },
        "id": "qsLOtz64a4NC",
        "outputId": "92a983c9-9f0c-492f-fb3c-99f14538bfa5"
      },
      "source": [
        "valid_3_tensor = torch.stack([tensor(Image.open(o)) for o in (path/'valid'/'3').ls().sorted()]).float()/255\n",
        "valid_7_tensor = torch.stack([tensor(Image.open(o)) for o in (path/'valid'/'7').ls().sorted()]).float()/255\n",
        "\n",
        "valid_3_tensor.size(),valid_7_tensor.size()"
      ],
      "id": "qsLOtz64a4NC",
      "execution_count": 12,
      "outputs": [
        {
          "output_type": "execute_result",
          "data": {
            "text/plain": [
              "(torch.Size([1010, 28, 28]), torch.Size([1028, 28, 28]))"
            ]
          },
          "metadata": {
            "tags": []
          },
          "execution_count": 12
        }
      ]
    },
    {
      "cell_type": "code",
      "metadata": {
        "id": "KXmbV9GhcNbV"
      },
      "source": [
        "valid_x = torch.cat([valid_3_tensor, valid_7_tensor]).view(-1, 28*28)\n",
        "valid_y = tensor([1]*len(valid_3_tensor) + [0]*len(valid_7_tensor)).unsqueeze(1)\n",
        "valid_dataset = list(zip(valid_x, valid_y))"
      ],
      "id": "KXmbV9GhcNbV",
      "execution_count": 13,
      "outputs": []
    },
    {
      "cell_type": "markdown",
      "metadata": {
        "id": "stTrdAPkdHCl"
      },
      "source": [
        "Now we need an (initially random) weight for every pixel"
      ],
      "id": "stTrdAPkdHCl"
    },
    {
      "cell_type": "code",
      "metadata": {
        "id": "KCNKpHdCdMNZ"
      },
      "source": [
        "def init_params(size, variance=1):\n",
        "  return (torch.randn(size)*variance).requires_grad_()"
      ],
      "id": "KCNKpHdCdMNZ",
      "execution_count": 14,
      "outputs": []
    },
    {
      "cell_type": "code",
      "metadata": {
        "id": "bEeUllGDdgs4"
      },
      "source": [
        "weights = init_params((28*28,1))"
      ],
      "id": "bEeUllGDdgs4",
      "execution_count": 15,
      "outputs": []
    },
    {
      "cell_type": "code",
      "metadata": {
        "id": "1jEgupQSd9-I"
      },
      "source": [
        "bias = init_params(1)"
      ],
      "id": "1jEgupQSd9-I",
      "execution_count": 16,
      "outputs": []
    },
    {
      "cell_type": "markdown",
      "metadata": {
        "id": "tXZ5tqy7ed9F"
      },
      "source": [
        "We can now calculate a prediction for one image:"
      ],
      "id": "tXZ5tqy7ed9F"
    },
    {
      "cell_type": "code",
      "metadata": {
        "colab": {
          "base_uri": "https://localhost:8080/"
        },
        "id": "B0D4UB84eDFs",
        "outputId": "6ab767f8-25a2-4958-996d-92a2f8f9ebc9"
      },
      "source": [
        "(train_x[0]*weights.T).sum() + bias"
      ],
      "id": "B0D4UB84eDFs",
      "execution_count": 17,
      "outputs": [
        {
          "output_type": "execute_result",
          "data": {
            "text/plain": [
              "tensor([-6.2330], grad_fn=<AddBackward0>)"
            ]
          },
          "metadata": {
            "tags": []
          },
          "execution_count": 17
        }
      ]
    },
    {
      "cell_type": "markdown",
      "metadata": {
        "id": "1jGIHwpbe0P-"
      },
      "source": [
        "In Python, matrix multiplication is represented with the @ operator."
      ],
      "id": "1jGIHwpbe0P-"
    },
    {
      "cell_type": "code",
      "metadata": {
        "colab": {
          "base_uri": "https://localhost:8080/"
        },
        "id": "tzXtOTy0e0x1",
        "outputId": "4a4705f1-8b01-44f3-f488-cefc7f00abeb"
      },
      "source": [
        "def linear1(xb):\n",
        "  return xb@weights + bias\n",
        "\n",
        "preds = linear1(train_x)\n",
        "preds"
      ],
      "id": "tzXtOTy0e0x1",
      "execution_count": 18,
      "outputs": [
        {
          "output_type": "execute_result",
          "data": {
            "text/plain": [
              "tensor([[ -6.2330],\n",
              "        [-10.6388],\n",
              "        [-20.8865],\n",
              "        ...,\n",
              "        [-15.9176],\n",
              "        [ -1.6866],\n",
              "        [-11.3568]], grad_fn=<AddBackward0>)"
            ]
          },
          "metadata": {
            "tags": []
          },
          "execution_count": 18
        }
      ]
    },
    {
      "cell_type": "markdown",
      "metadata": {
        "id": "H641YH9L3EG9"
      },
      "source": [
        "Let's check our accuracy. To decide if an output represents a 3 or a 7, we can just check whether it's greater than 0.5, so our accuracy for each item can be calculated with:"
      ],
      "id": "H641YH9L3EG9"
    },
    {
      "cell_type": "code",
      "metadata": {
        "colab": {
          "base_uri": "https://localhost:8080/"
        },
        "id": "mzjhuuJGfCD8",
        "outputId": "6237d0a8-efca-4340-9370-d281054c4c44"
      },
      "source": [
        "corrects = (preds > 0.5).float() == train_y\n",
        "\n",
        "corrects"
      ],
      "id": "mzjhuuJGfCD8",
      "execution_count": 19,
      "outputs": [
        {
          "output_type": "execute_result",
          "data": {
            "text/plain": [
              "tensor([[False],\n",
              "        [False],\n",
              "        [False],\n",
              "        ...,\n",
              "        [ True],\n",
              "        [ True],\n",
              "        [ True]])"
            ]
          },
          "metadata": {
            "tags": []
          },
          "execution_count": 19
        }
      ]
    },
    {
      "cell_type": "code",
      "metadata": {
        "colab": {
          "base_uri": "https://localhost:8080/"
        },
        "id": "qJDmeQzW3SkC",
        "outputId": "b727591e-f283-4fe1-8daa-dc0cd4377b57"
      },
      "source": [
        "corrects.float().mean().item()"
      ],
      "id": "qJDmeQzW3SkC",
      "execution_count": 20,
      "outputs": [
        {
          "output_type": "execute_result",
          "data": {
            "text/plain": [
              "0.5355759859085083"
            ]
          },
          "metadata": {
            "tags": []
          },
          "execution_count": 20
        }
      ]
    },
    {
      "cell_type": "markdown",
      "metadata": {
        "id": "ZESP9pJc5ai9"
      },
      "source": [
        "We now need a loss function the gradient of which will be taken using stochastic gradient descent method."
      ],
      "id": "ZESP9pJc5ai9"
    },
    {
      "cell_type": "code",
      "metadata": {
        "id": "HyHDfgFl3Yoj"
      },
      "source": [
        "def mnist_loss(predictions, targets):\n",
        "  return torch.where(targets == 1, 1-predictions, predictions).float().mean()"
      ],
      "id": "HyHDfgFl3Yoj",
      "execution_count": 25,
      "outputs": []
    },
    {
      "cell_type": "code",
      "metadata": {
        "id": "nA-Ebqjr7M56"
      },
      "source": [
        "trgts = tensor([1,0,1])\n",
        "preds = tensor([0.9, 0.4, 0.2])"
      ],
      "id": "nA-Ebqjr7M56",
      "execution_count": 22,
      "outputs": []
    },
    {
      "cell_type": "code",
      "metadata": {
        "colab": {
          "base_uri": "https://localhost:8080/"
        },
        "id": "X2D3A_rA7zPH",
        "outputId": "8be6d8f2-76ce-48c2-bc31-cd787e4c37d7"
      },
      "source": [
        "torch.where(trgts == 1, 1-preds, preds)"
      ],
      "id": "X2D3A_rA7zPH",
      "execution_count": 23,
      "outputs": [
        {
          "output_type": "execute_result",
          "data": {
            "text/plain": [
              "tensor([0.1000, 0.4000, 0.8000])"
            ]
          },
          "metadata": {
            "tags": []
          },
          "execution_count": 23
        }
      ]
    },
    {
      "cell_type": "code",
      "metadata": {
        "colab": {
          "base_uri": "https://localhost:8080/"
        },
        "id": "9wqLwJeC74KW",
        "outputId": "ef26e317-c5ae-48d2-a9a6-9ac3775ad7b6"
      },
      "source": [
        "print(mnist_loss(trgts, preds))"
      ],
      "id": "9wqLwJeC74KW",
      "execution_count": 26,
      "outputs": [
        {
          "output_type": "stream",
          "text": [
            "tensor(0.6667)\n"
          ],
          "name": "stdout"
        }
      ]
    },
    {
      "cell_type": "markdown",
      "metadata": {
        "id": "EuKj1oBl_IYa"
      },
      "source": [
        "For the case when predictions are greater then one or lower than zero, they need to be mapped within 0-1 range. Sigmoid function serves that purpose:"
      ],
      "id": "EuKj1oBl_IYa"
    },
    {
      "cell_type": "code",
      "metadata": {
        "id": "S75cfiyr8uw7"
      },
      "source": [
        "def sigmoid(x): \n",
        "  return 1/(1+torch.exp(-x))"
      ],
      "id": "S75cfiyr8uw7",
      "execution_count": 27,
      "outputs": []
    },
    {
      "cell_type": "code",
      "metadata": {
        "colab": {
          "base_uri": "https://localhost:8080/",
          "height": 341
        },
        "id": "qrmF51Vh_mEC",
        "outputId": "1c8d5cb3-7ac2-4a1c-e6cc-849e21ee3c92"
      },
      "source": [
        "plot_function(torch.sigmoid, title='Sigmoid', min=-4, max=4)"
      ],
      "id": "qrmF51Vh_mEC",
      "execution_count": 30,
      "outputs": [
        {
          "output_type": "stream",
          "text": [
            "/usr/local/lib/python3.7/dist-packages/fastbook/__init__.py:73: UserWarning: Not providing a value for linspace's steps is deprecated and will throw a runtime error in a future release. This warning will appear only once per process. (Triggered internally at  /pytorch/aten/src/ATen/native/RangeFactories.cpp:25.)\n",
            "  x = torch.linspace(min,max)\n"
          ],
          "name": "stderr"
        },
        {
          "output_type": "display_data",
          "data": {
            "image/png": "[encoded data removed]",
            "text/plain": [
              "<Figure size 432x288 with 1 Axes>"
            ]
          },
          "metadata": {
            "tags": [],
            "needs_background": "light"
          }
        }
      ]
    },
    {
      "cell_type": "markdown",
      "metadata": {
        "id": "RIOQvcHN_4ab"
      },
      "source": [
        "Let's then update `mnist_loss` function to apply sigmoid function to inputs"
      ],
      "id": "RIOQvcHN_4ab"
    },
    {
      "cell_type": "code",
      "metadata": {
        "id": "6iP63J1D_wlz"
      },
      "source": [
        "def mnist_loss(predictions, targets):\n",
        "  predictions = predictions.sigmoid()\n",
        "  return torch.where(targets == 1, 1-predictions, predictions).float().mean()"
      ],
      "id": "6iP63J1D_wlz",
      "execution_count": 28,
      "outputs": []
    },
    {
      "cell_type": "markdown",
      "metadata": {
        "id": "zEenjdbcbV4-"
      },
      "source": [
        "### Optimization step"
      ],
      "id": "zEenjdbcbV4-"
    },
    {
      "cell_type": "markdown",
      "metadata": {
        "id": "TbbzZsl1lyKq"
      },
      "source": [
        "Having acquired the loss function suitable for driving SGD algorithm, we now see how weights are changed/updated based on the gradient, via Optimization step. \n",
        "\n",
        "During optimization step, we calculate an average loss over a mini-batch of the data. The class `DataLoader` from fastai easily facilitates this operation. Below is a toy example of how it is done.\n",
        "\n",
        "`DataLoader` can take any python collection and convert it into an iterator over many batches as follows:"
      ],
      "id": "TbbzZsl1lyKq"
    },
    {
      "cell_type": "code",
      "metadata": {
        "colab": {
          "base_uri": "https://localhost:8080/"
        },
        "id": "XT320LaAmR4Y",
        "outputId": "5438a5a6-6ee7-4060-becf-9ed98d533b90"
      },
      "source": [
        "coll = range(17)\n",
        "dl = DataLoader(coll, batch_size=5, shuffle=True)\n",
        "list(dl)"
      ],
      "id": "XT320LaAmR4Y",
      "execution_count": 29,
      "outputs": [
        {
          "output_type": "execute_result",
          "data": {
            "text/plain": [
              "[tensor([ 7,  5, 11,  9, 10]),\n",
              " tensor([ 4, 16, 12,  2,  8]),\n",
              " tensor([ 0, 13, 15,  3, 14]),\n",
              " tensor([6, 1])]"
            ]
          },
          "metadata": {
            "tags": []
          },
          "execution_count": 29
        }
      ]
    },
    {
      "cell_type": "markdown",
      "metadata": {
        "id": "2KBRq4r-ol4B"
      },
      "source": [
        "A python collection that contains tuples of independent and dependent variables in known in Pytorch as a `Dataset`. As an example:"
      ],
      "id": "2KBRq4r-ol4B"
    },
    {
      "cell_type": "code",
      "metadata": {
        "colab": {
          "base_uri": "https://localhost:8080/"
        },
        "id": "Z_E8E1JMnaVK",
        "outputId": "1bc9a8fd-10b8-45a5-cf4b-36af63590b83"
      },
      "source": [
        "list(enumerate(string.ascii_lowercase))"
      ],
      "id": "Z_E8E1JMnaVK",
      "execution_count": 38,
      "outputs": [
        {
          "output_type": "execute_result",
          "data": {
            "text/plain": [
              "[(0, 'a'),\n",
              " (1, 'b'),\n",
              " (2, 'c'),\n",
              " (3, 'd'),\n",
              " (4, 'e'),\n",
              " (5, 'f'),\n",
              " (6, 'g'),\n",
              " (7, 'h'),\n",
              " (8, 'i'),\n",
              " (9, 'j'),\n",
              " (10, 'k'),\n",
              " (11, 'l'),\n",
              " (12, 'm'),\n",
              " (13, 'n'),\n",
              " (14, 'o'),\n",
              " (15, 'p'),\n",
              " (16, 'q'),\n",
              " (17, 'r'),\n",
              " (18, 's'),\n",
              " (19, 't'),\n",
              " (20, 'u'),\n",
              " (21, 'v'),\n",
              " (22, 'w'),\n",
              " (23, 'x'),\n",
              " (24, 'y'),\n",
              " (25, 'z')]"
            ]
          },
          "metadata": {
            "tags": []
          },
          "execution_count": 38
        }
      ]
    },
    {
      "cell_type": "code",
      "metadata": {
        "colab": {
          "base_uri": "https://localhost:8080/"
        },
        "id": "GY010dQfpEAx",
        "outputId": "7794f5f2-38cf-4bf3-d500-cdde0f980e6f"
      },
      "source": [
        "ds = L(enumerate(string.ascii_lowercase))\n",
        "ds"
      ],
      "id": "GY010dQfpEAx",
      "execution_count": 40,
      "outputs": [
        {
          "output_type": "execute_result",
          "data": {
            "text/plain": [
              "(#26) [(0, 'a'),(1, 'b'),(2, 'c'),(3, 'd'),(4, 'e'),(5, 'f'),(6, 'g'),(7, 'h'),(8, 'i'),(9, 'j')...]"
            ]
          },
          "metadata": {
            "tags": []
          },
          "execution_count": 40
        }
      ]
    },
    {
      "cell_type": "markdown",
      "metadata": {
        "id": "JssEHbBupwNP"
      },
      "source": [
        "On passing the `Dataset` to the `DataLoader`, we get many batches. Each batch is a tuple of tensors, representing a batch of independent and dependent variables:"
      ],
      "id": "JssEHbBupwNP"
    },
    {
      "cell_type": "code",
      "metadata": {
        "colab": {
          "base_uri": "https://localhost:8080/"
        },
        "id": "r04wA7UDpgVm",
        "outputId": "e8bf68a9-dca4-4995-c860-28a30f02a82d"
      },
      "source": [
        "dl = DataLoader(ds, batch_size=6, shuffle=True)\n",
        "list(dl)"
      ],
      "id": "r04wA7UDpgVm",
      "execution_count": 45,
      "outputs": [
        {
          "output_type": "execute_result",
          "data": {
            "text/plain": [
              "[(tensor([20, 18, 21,  5,  6,  9]), ('u', 's', 'v', 'f', 'g', 'j')),\n",
              " (tensor([13, 19, 12, 16, 25,  3]), ('n', 't', 'm', 'q', 'z', 'd')),\n",
              " (tensor([15,  1,  0, 24, 10, 23]), ('p', 'b', 'a', 'y', 'k', 'x')),\n",
              " (tensor([11, 22,  2,  4, 14, 17]), ('l', 'w', 'c', 'e', 'o', 'r')),\n",
              " (tensor([7, 8]), ('h', 'i'))]"
            ]
          },
          "metadata": {
            "tags": []
          },
          "execution_count": 45
        }
      ]
    },
    {
      "cell_type": "markdown",
      "metadata": {
        "id": "Y99OW5RFsvkt"
      },
      "source": [
        "We are now ready to write our first training loop for a model using SGD!"
      ],
      "id": "Y99OW5RFsvkt"
    },
    {
      "cell_type": "markdown",
      "metadata": {
        "id": "FMXAsnDvszu9"
      },
      "source": [
        "## Putting it all together"
      ],
      "id": "FMXAsnDvszu9"
    },
    {
      "cell_type": "code",
      "metadata": {
        "id": "UR_Wjwhethz3"
      },
      "source": [
        "weights = init_params((28*28),1)\n",
        "bias = init_params(1)"
      ],
      "id": "UR_Wjwhethz3",
      "execution_count": 30,
      "outputs": []
    },
    {
      "cell_type": "markdown",
      "metadata": {
        "id": "DAeEdY3Otw1t"
      },
      "source": [
        "Creating a `DataLoader` from a `Dataset`"
      ],
      "id": "DAeEdY3Otw1t"
    },
    {
      "cell_type": "code",
      "metadata": {
        "colab": {
          "base_uri": "https://localhost:8080/"
        },
        "id": "riu4CVMAtu75",
        "outputId": "7beb3e06-94fd-4322-bf6e-96a8ef0450d1"
      },
      "source": [
        "dl = DataLoader(dset, batch_size=256)\n",
        "xb,yb = first(dl)\n",
        "xb.shape, yb.shape"
      ],
      "id": "riu4CVMAtu75",
      "execution_count": 31,
      "outputs": [
        {
          "output_type": "execute_result",
          "data": {
            "text/plain": [
              "(torch.Size([256, 784]), torch.Size([256, 1]))"
            ]
          },
          "metadata": {
            "tags": []
          },
          "execution_count": 31
        }
      ]
    },
    {
      "cell_type": "code",
      "metadata": {
        "id": "1eu0utuauia4"
      },
      "source": [
        "valid_dl = DataLoader(valid_dataset, batch_size=256)"
      ],
      "id": "1eu0utuauia4",
      "execution_count": 32,
      "outputs": []
    },
    {
      "cell_type": "markdown",
      "metadata": {
        "id": "OcZ5TiV4wbTL"
      },
      "source": [
        "Let's create a mini-batch of size 4 for testing:"
      ],
      "id": "OcZ5TiV4wbTL"
    },
    {
      "cell_type": "code",
      "metadata": {
        "colab": {
          "base_uri": "https://localhost:8080/"
        },
        "id": "KnPH-76QwPni",
        "outputId": "75a9fbdb-14fc-497a-f9a9-64088b06bc4f"
      },
      "source": [
        "batch = train_x[:4]\n",
        "batch.shape"
      ],
      "id": "KnPH-76QwPni",
      "execution_count": 33,
      "outputs": [
        {
          "output_type": "execute_result",
          "data": {
            "text/plain": [
              "torch.Size([4, 784])"
            ]
          },
          "metadata": {
            "tags": []
          },
          "execution_count": 33
        }
      ]
    },
    {
      "cell_type": "code",
      "metadata": {
        "colab": {
          "base_uri": "https://localhost:8080/"
        },
        "id": "wE-OiyyDwoEg",
        "outputId": "a871756c-e831-46b8-c94e-7a8f259ada27"
      },
      "source": [
        "preds = linear1(batch)\n",
        "preds"
      ],
      "id": "wE-OiyyDwoEg",
      "execution_count": 34,
      "outputs": [
        {
          "output_type": "execute_result",
          "data": {
            "text/plain": [
              "tensor([15.7077, 18.6850, 16.2143, 17.4726], grad_fn=<AddBackward0>)"
            ]
          },
          "metadata": {
            "tags": []
          },
          "execution_count": 34
        }
      ]
    },
    {
      "cell_type": "code",
      "metadata": {
        "colab": {
          "base_uri": "https://localhost:8080/"
        },
        "id": "2z6lLJunxNTs",
        "outputId": "c2a139bd-b661-47f9-cb3d-45227d96beb3"
      },
      "source": [
        "loss = mnist_loss(preds, train_y[:4])\n",
        "loss"
      ],
      "id": "2z6lLJunxNTs",
      "execution_count": 35,
      "outputs": [
        {
          "output_type": "execute_result",
          "data": {
            "text/plain": [
              "tensor(5.9605e-08, grad_fn=<MeanBackward0>)"
            ]
          },
          "metadata": {
            "tags": []
          },
          "execution_count": 35
        }
      ]
    },
    {
      "cell_type": "markdown",
      "metadata": {
        "id": "bKDcZQDgx_aX"
      },
      "source": [
        "Now calculating the gradients"
      ],
      "id": "bKDcZQDgx_aX"
    },
    {
      "cell_type": "code",
      "metadata": {
        "colab": {
          "base_uri": "https://localhost:8080/"
        },
        "id": "ChlteJUqxqV1",
        "outputId": "52790f12-feea-4989-a035-89e8a0ba6c7b"
      },
      "source": [
        "loss.backward()\n",
        "weights.grad.shape, weights.grad.mean(), bias.grad"
      ],
      "id": "ChlteJUqxqV1",
      "execution_count": 36,
      "outputs": [
        {
          "output_type": "execute_result",
          "data": {
            "text/plain": [
              "(torch.Size([784]), tensor(-8.5305e-09), tensor([-5.9605e-08]))"
            ]
          },
          "metadata": {
            "tags": []
          },
          "execution_count": 36
        }
      ]
    },
    {
      "cell_type": "markdown",
      "metadata": {
        "id": "Uvsrdh84ySPR"
      },
      "source": [
        "Putting all that in a function"
      ],
      "id": "Uvsrdh84ySPR"
    },
    {
      "cell_type": "code",
      "metadata": {
        "id": "bslKyjUYyOkz"
      },
      "source": [
        "def calc_grad(xb, yb, model):\n",
        "  preds = model(xb)\n",
        "  loss = mnist_loss(preds, yb)\n",
        "  loss.backward()"
      ],
      "id": "bslKyjUYyOkz",
      "execution_count": 37,
      "outputs": []
    },
    {
      "cell_type": "code",
      "metadata": {
        "colab": {
          "base_uri": "https://localhost:8080/"
        },
        "id": "FxL-VYcSyg-8",
        "outputId": "85f25b59-638c-40ba-ee68-a87f992cb020"
      },
      "source": [
        "calc_grad(batch, train_y[:4], linear1)\n",
        "weights.grad.mean(), bias.grad"
      ],
      "id": "FxL-VYcSyg-8",
      "execution_count": 38,
      "outputs": [
        {
          "output_type": "execute_result",
          "data": {
            "text/plain": [
              "(tensor(-1.7061e-08), tensor([-1.1921e-07]))"
            ]
          },
          "metadata": {
            "tags": []
          },
          "execution_count": 38
        }
      ]
    },
    {
      "cell_type": "markdown",
      "metadata": {
        "id": "xRT187cEzSFK"
      },
      "source": [
        "Always set the current gradients to zero once they have been utilized. Otherwise `loss.backward()` adds the current gradient to the previous ones."
      ],
      "id": "xRT187cEzSFK"
    },
    {
      "cell_type": "code",
      "metadata": {
        "colab": {
          "base_uri": "https://localhost:8080/"
        },
        "id": "gsSXqN-lyuZD",
        "outputId": "f8bf3840-adaa-4fbb-e186-7bcc841c4982"
      },
      "source": [
        "weights.grad.zero_()\n",
        "bias.grad.zero_()"
      ],
      "id": "gsSXqN-lyuZD",
      "execution_count": 39,
      "outputs": [
        {
          "output_type": "execute_result",
          "data": {
            "text/plain": [
              "tensor([0.])"
            ]
          },
          "metadata": {
            "tags": []
          },
          "execution_count": 39
        }
      ]
    },
    {
      "cell_type": "markdown",
      "metadata": {
        "id": "xxJkhkDQz9DF"
      },
      "source": [
        "We now add the step where we update the weights and bias. Basic training loop for one epoch then looks like:"
      ],
      "id": "xxJkhkDQz9DF"
    },
    {
      "cell_type": "code",
      "metadata": {
        "id": "WADtSZsszsAh"
      },
      "source": [
        "def train_epoch(model, lr, params):\n",
        "  for xb,yb in dl:\n",
        "    calc_grad(xb,yb,model)\n",
        "    for p in params:\n",
        "      p.data -= p.grad*lr\n",
        "      p.grad.zero_()"
      ],
      "id": "WADtSZsszsAh",
      "execution_count": 40,
      "outputs": []
    },
    {
      "cell_type": "markdown",
      "metadata": {
        "id": "VL2FXcdu1sF1"
      },
      "source": [
        "In order to keep track on how we are doing, we calculate the batch accuracy as follows:"
      ],
      "id": "VL2FXcdu1sF1"
    },
    {
      "cell_type": "code",
      "metadata": {
        "id": "QZdnHlrS0j3F"
      },
      "source": [
        "def batch_accuracy(xb, yb):\n",
        "  preds = xb.sigmoid()\n",
        "  correct = (preds>0.5) == yb\n",
        "  return correct.float().mean()"
      ],
      "id": "QZdnHlrS0j3F",
      "execution_count": 41,
      "outputs": []
    },
    {
      "cell_type": "markdown",
      "metadata": {
        "id": "KneWLO4_2KKT"
      },
      "source": [
        "Checking how `batch_accuracy` works:"
      ],
      "id": "KneWLO4_2KKT"
    },
    {
      "cell_type": "code",
      "metadata": {
        "colab": {
          "base_uri": "https://localhost:8080/"
        },
        "id": "K-hiepX02HxD",
        "outputId": "4aa74e85-6872-4862-88c1-b127d878d2a4"
      },
      "source": [
        "batch_accuracy(linear1(batch), train_y[:4])"
      ],
      "id": "K-hiepX02HxD",
      "execution_count": 42,
      "outputs": [
        {
          "output_type": "execute_result",
          "data": {
            "text/plain": [
              "tensor(1.)"
            ]
          },
          "metadata": {
            "tags": []
          },
          "execution_count": 42
        }
      ]
    },
    {
      "cell_type": "markdown",
      "metadata": {
        "id": "E2PTYHfR3AlU"
      },
      "source": [
        "Then putting all batches together:"
      ],
      "id": "E2PTYHfR3AlU"
    },
    {
      "cell_type": "code",
      "metadata": {
        "id": "oVYoim1X2jJd"
      },
      "source": [
        "def validate_epoch(model):\n",
        "  accs = [batch_accuracy(model(xb), yb) for xb,yb in valid_dl]\n",
        "  return round(torch.stack(accs).mean().item(), 4)"
      ],
      "id": "oVYoim1X2jJd",
      "execution_count": 43,
      "outputs": []
    },
    {
      "cell_type": "code",
      "metadata": {
        "colab": {
          "base_uri": "https://localhost:8080/"
        },
        "id": "HHxbbR643epv",
        "outputId": "9643502a-09cf-418f-b4a0-158574aa2d25"
      },
      "source": [
        "validate_epoch(linear1)"
      ],
      "id": "HHxbbR643epv",
      "execution_count": 44,
      "outputs": [
        {
          "output_type": "execute_result",
          "data": {
            "text/plain": [
              "0.5509"
            ]
          },
          "metadata": {
            "tags": []
          },
          "execution_count": 44
        }
      ]
    },
    {
      "cell_type": "markdown",
      "metadata": {
        "id": "hPnfKlhP3ty1"
      },
      "source": [
        "That's our starting point. Let's train for one epoch, and see if the accuracy improves:"
      ],
      "id": "hPnfKlhP3ty1"
    },
    {
      "cell_type": "code",
      "metadata": {
        "colab": {
          "base_uri": "https://localhost:8080/"
        },
        "id": "fpsWacXv3hAc",
        "outputId": "d2696d8f-c23f-4ee4-d5c3-2c522244f821"
      },
      "source": [
        "lr = 1.0\n",
        "params = weights, bias\n",
        "train_epoch(linear1, lr, params)\n",
        "validate_epoch(linear1)"
      ],
      "id": "fpsWacXv3hAc",
      "execution_count": 45,
      "outputs": [
        {
          "output_type": "execute_result",
          "data": {
            "text/plain": [
              "0.7017"
            ]
          },
          "metadata": {
            "tags": []
          },
          "execution_count": 45
        }
      ]
    },
    {
      "cell_type": "markdown",
      "metadata": {
        "id": "hhBhTzMo6Irv"
      },
      "source": [
        "Doing few more times"
      ],
      "id": "hhBhTzMo6Irv"
    },
    {
      "cell_type": "code",
      "metadata": {
        "colab": {
          "base_uri": "https://localhost:8080/"
        },
        "id": "aMhIj64Y6FMY",
        "outputId": "59b8d01f-7be6-4c52-eabc-ec4765c6fc66"
      },
      "source": [
        "for i in range(20):\n",
        "  train_epoch(linear1, lr, params)\n",
        "  print(validate_epoch(linear1), end=' ')"
      ],
      "id": "aMhIj64Y6FMY",
      "execution_count": 46,
      "outputs": [
        {
          "output_type": "stream",
          "text": [
            "0.8451 0.8964 0.9191 0.9331 0.9426 0.9455 0.9507 0.9526 0.9541 0.955 0.9564 0.9569 0.9583 0.9588 0.9593 0.9608 0.9608 0.9623 0.9627 0.9632 "
          ],
          "name": "stdout"
        }
      ]
    },
    {
      "cell_type": "markdown",
      "metadata": {
        "id": "-KPzP5zx6nrJ"
      },
      "source": [
        "The above architecture is foundational towards deep learning. Pytorch therefore provides some useful classes to make it easier to implement.\n",
        "\n",
        "We can replace `linear1` model with Pytorch's `nn.Linear` module, which performs similar to `linear1` and `init_params` put together."
      ],
      "id": "-KPzP5zx6nrJ"
    },
    {
      "cell_type": "code",
      "metadata": {
        "id": "wGJwKiwb6X5t"
      },
      "source": [
        "linear_model = nn.Linear(28*28, 1)"
      ],
      "id": "wGJwKiwb6X5t",
      "execution_count": 47,
      "outputs": []
    },
    {
      "cell_type": "code",
      "metadata": {
        "colab": {
          "base_uri": "https://localhost:8080/"
        },
        "id": "796gSXt77cOa",
        "outputId": "64ab08a2-6fa2-43d7-9632-cc0ba0fff3e2"
      },
      "source": [
        "w,b = linear_model.parameters()\n",
        "w.shape, b.shape"
      ],
      "id": "796gSXt77cOa",
      "execution_count": 48,
      "outputs": [
        {
          "output_type": "execute_result",
          "data": {
            "text/plain": [
              "(torch.Size([1, 784]), torch.Size([1]))"
            ]
          },
          "metadata": {
            "tags": []
          },
          "execution_count": 48
        }
      ]
    },
    {
      "cell_type": "markdown",
      "metadata": {
        "id": "Qee1K_Ew7xOY"
      },
      "source": [
        "We now create an Optimizer class"
      ],
      "id": "Qee1K_Ew7xOY"
    },
    {
      "cell_type": "code",
      "metadata": {
        "id": "AcQu4QzN7rX1"
      },
      "source": [
        "class BasicOptim:\n",
        "  def __init__(self,params,lr): \n",
        "    self.params,self.lr = list(params),lr\n",
        "\n",
        "  def step(self, *args, **kwargs):\n",
        "    for p in self.params: \n",
        "      p.data -= p.grad.data * self.lr\n",
        "\n",
        "  def zero_grad(self, *args, **kwargs):\n",
        "    for p in self.params: \n",
        "      p.grad = None"
      ],
      "id": "AcQu4QzN7rX1",
      "execution_count": 49,
      "outputs": []
    },
    {
      "cell_type": "code",
      "metadata": {
        "id": "qv3PCpxo79ks"
      },
      "source": [
        "opt = BasicOptim(linear_model.parameters(), lr)"
      ],
      "id": "qv3PCpxo79ks",
      "execution_count": 50,
      "outputs": []
    },
    {
      "cell_type": "markdown",
      "metadata": {
        "id": "_RxrEGXx8imM"
      },
      "source": [
        "Our training loop can now be simplifies as:"
      ],
      "id": "_RxrEGXx8imM"
    },
    {
      "cell_type": "code",
      "metadata": {
        "id": "9NuspCQ48gcO"
      },
      "source": [
        "def train_epoch(model):\n",
        "  for xb,yb in dl:\n",
        "    calc_grad(xb,yb,model)\n",
        "    opt.step()\n",
        "    opt.zero_grad()"
      ],
      "id": "9NuspCQ48gcO",
      "execution_count": 51,
      "outputs": []
    },
    {
      "cell_type": "markdown",
      "metadata": {
        "id": "8IsOi0uK80Qr"
      },
      "source": [
        "There is no need to change the validation function"
      ],
      "id": "8IsOi0uK80Qr"
    },
    {
      "cell_type": "code",
      "metadata": {
        "colab": {
          "base_uri": "https://localhost:8080/"
        },
        "id": "tLRdC5wr8xH3",
        "outputId": "4b4ca336-fa44-4bd3-dd85-3e954878e341"
      },
      "source": [
        "validate_epoch(linear_model)"
      ],
      "id": "tLRdC5wr8xH3",
      "execution_count": 52,
      "outputs": [
        {
          "output_type": "execute_result",
          "data": {
            "text/plain": [
              "0.5199"
            ]
          },
          "metadata": {
            "tags": []
          },
          "execution_count": 52
        }
      ]
    },
    {
      "cell_type": "markdown",
      "metadata": {
        "id": "hTAqNGDY9Tfz"
      },
      "source": [
        "Let's now put our epoch training function in a loop"
      ],
      "id": "hTAqNGDY9Tfz"
    },
    {
      "cell_type": "code",
      "metadata": {
        "id": "Cmsir8WA879v"
      },
      "source": [
        "def train_model(model, epochs):\n",
        "  for i in range(epochs):\n",
        "    train_epoch(model)\n",
        "    print(validate_epoch(model), end=' ')"
      ],
      "id": "Cmsir8WA879v",
      "execution_count": 53,
      "outputs": []
    },
    {
      "cell_type": "code",
      "metadata": {
        "colab": {
          "base_uri": "https://localhost:8080/"
        },
        "id": "S3Xo4J2V9n5A",
        "outputId": "9dbff0b7-7521-4237-ce87-aafecc1c9be6"
      },
      "source": [
        "train_model(linear_model, 20)"
      ],
      "id": "S3Xo4J2V9n5A",
      "execution_count": 54,
      "outputs": [
        {
          "output_type": "stream",
          "text": [
            "0.4932 0.7612 0.8618 0.9175 0.9351 0.9502 0.9565 0.9638 0.9658 0.9678 0.9697 0.9717 0.9736 0.9751 0.9756 0.977 0.9775 0.9775 0.9785 0.9785 "
          ],
          "name": "stdout"
        }
      ]
    },
    {
      "cell_type": "markdown",
      "metadata": {
        "id": "1VdNxJgN9ze1"
      },
      "source": [
        "fastai provides the SGD class which, by default, does the same thing as our `BasicOptim`:"
      ],
      "id": "1VdNxJgN9ze1"
    },
    {
      "cell_type": "code",
      "metadata": {
        "colab": {
          "base_uri": "https://localhost:8080/"
        },
        "id": "7OaTkjC39tp1",
        "outputId": "5cbf1e4b-5da3-466a-bce9-757ce6e85efe"
      },
      "source": [
        "linear_model = nn.Linear(28*28,1)\n",
        "opt = SGD(linear_model.parameters(), lr)\n",
        "train_model(linear_model, 20)"
      ],
      "id": "7OaTkjC39tp1",
      "execution_count": 55,
      "outputs": [
        {
          "output_type": "stream",
          "text": [
            "0.4932 0.8335 0.8428 0.9116 0.9336 0.9478 0.9551 0.9629 0.9648 0.9673 0.9702 0.9712 0.9731 0.9746 0.9756 0.9765 0.9775 0.9775 0.9785 0.9785 "
          ],
          "name": "stdout"
        }
      ]
    },
    {
      "cell_type": "markdown",
      "metadata": {
        "id": "XucAH1nE-OVm"
      },
      "source": [
        "fastai also provides `Learner.fit` which can be used instead of `train_model`.\n",
        "\n",
        "To create `Learner`, we first need to create `DataLoaders`, by passing in our training and validation `DataLoaders`."
      ],
      "id": "XucAH1nE-OVm"
    },
    {
      "cell_type": "code",
      "metadata": {
        "id": "SxG6ZLXL-D19"
      },
      "source": [
        "dls = DataLoaders(dl, valid_dl)"
      ],
      "id": "SxG6ZLXL-D19",
      "execution_count": 56,
      "outputs": []
    },
    {
      "cell_type": "markdown",
      "metadata": {
        "id": "lW-XnEZO-u2B"
      },
      "source": [
        "The elements needed by `Learner` are: \n",
        "- `DataLoaders`\n",
        "- model \n",
        "- optimization function (to which the parameters will be passed)\n",
        "- loss function \n",
        "- optionally any metrics to print"
      ],
      "id": "lW-XnEZO-u2B"
    },
    {
      "cell_type": "code",
      "metadata": {
        "id": "Q8DBg4RU-osk"
      },
      "source": [
        "learn = Learner(dls, nn.Linear(28*28,1), opt_func=SGD, loss_func=mnist_loss, metrics=batch_accuracy)"
      ],
      "id": "Q8DBg4RU-osk",
      "execution_count": 57,
      "outputs": []
    },
    {
      "cell_type": "code",
      "metadata": {
        "colab": {
          "base_uri": "https://localhost:8080/",
          "height": 363
        },
        "id": "e-scb3UGBcYC",
        "outputId": "61f44c2a-4ce9-4d34-cabf-eed5b273813b"
      },
      "source": [
        "learn.fit(10, lr=lr)"
      ],
      "id": "e-scb3UGBcYC",
      "execution_count": 58,
      "outputs": [
        {
          "output_type": "display_data",
          "data": {
            "text/html": [
              "<table border=\"1\" class=\"dataframe\">\n",
              "  <thead>\n",
              "    <tr style=\"text-align: left;\">\n",
              "      <th>epoch</th>\n",
              "      <th>train_loss</th>\n",
              "      <th>valid_loss</th>\n",
              "      <th>batch_accuracy</th>\n",
              "      <th>time</th>\n",
              "    </tr>\n",
              "  </thead>\n",
              "  <tbody>\n",
              "    <tr>\n",
              "      <td>0</td>\n",
              "      <td>0.637041</td>\n",
              "      <td>0.503647</td>\n",
              "      <td>0.495584</td>\n",
              "      <td>00:00</td>\n",
              "    </tr>\n",
              "    <tr>\n",
              "      <td>1</td>\n",
              "      <td>0.608709</td>\n",
              "      <td>0.105231</td>\n",
              "      <td>0.931305</td>\n",
              "      <td>00:00</td>\n",
              "    </tr>\n",
              "    <tr>\n",
              "      <td>2</td>\n",
              "      <td>0.219663</td>\n",
              "      <td>0.233893</td>\n",
              "      <td>0.782630</td>\n",
              "      <td>00:00</td>\n",
              "    </tr>\n",
              "    <tr>\n",
              "      <td>3</td>\n",
              "      <td>0.094690</td>\n",
              "      <td>0.119848</td>\n",
              "      <td>0.897939</td>\n",
              "      <td>00:00</td>\n",
              "    </tr>\n",
              "    <tr>\n",
              "      <td>4</td>\n",
              "      <td>0.048565</td>\n",
              "      <td>0.083947</td>\n",
              "      <td>0.928361</td>\n",
              "      <td>00:00</td>\n",
              "    </tr>\n",
              "    <tr>\n",
              "      <td>5</td>\n",
              "      <td>0.030652</td>\n",
              "      <td>0.065967</td>\n",
              "      <td>0.944063</td>\n",
              "      <td>00:00</td>\n",
              "    </tr>\n",
              "    <tr>\n",
              "      <td>6</td>\n",
              "      <td>0.023339</td>\n",
              "      <td>0.055115</td>\n",
              "      <td>0.954367</td>\n",
              "      <td>00:00</td>\n",
              "    </tr>\n",
              "    <tr>\n",
              "      <td>7</td>\n",
              "      <td>0.020141</td>\n",
              "      <td>0.048012</td>\n",
              "      <td>0.960746</td>\n",
              "      <td>00:00</td>\n",
              "    </tr>\n",
              "    <tr>\n",
              "      <td>8</td>\n",
              "      <td>0.018561</td>\n",
              "      <td>0.043087</td>\n",
              "      <td>0.964671</td>\n",
              "      <td>00:00</td>\n",
              "    </tr>\n",
              "    <tr>\n",
              "      <td>9</td>\n",
              "      <td>0.017641</td>\n",
              "      <td>0.039496</td>\n",
              "      <td>0.966634</td>\n",
              "      <td>00:00</td>\n",
              "    </tr>\n",
              "  </tbody>\n",
              "</table>"
            ],
            "text/plain": [
              "<IPython.core.display.HTML object>"
            ]
          },
          "metadata": {
            "tags": []
          }
        }
      ]
    },
    {
      "cell_type": "markdown",
      "metadata": {
        "id": "zGHDukIOBvYc"
      },
      "source": [
        "## Adding Nonlinearity"
      ],
      "id": "zGHDukIOBvYc"
    },
    {
      "cell_type": "markdown",
      "metadata": {
        "id": "gLUtQEybB9FA"
      },
      "source": [
        "Basic definition of an entire neural network is:"
      ],
      "id": "gLUtQEybB9FA"
    },
    {
      "cell_type": "code",
      "metadata": {
        "id": "7MOm385sBm8b"
      },
      "source": [
        "def simple_net(xb):\n",
        "  res = xb@w1 + b1\n",
        "  res = res.max(tensor(0.0))\n",
        "  res = res@w2 + b2\n",
        "  return res"
      ],
      "id": "7MOm385sBm8b",
      "execution_count": 59,
      "outputs": []
    },
    {
      "cell_type": "markdown",
      "metadata": {
        "id": "RMCICAKZCb28"
      },
      "source": [
        "where the max function in between the two linear classifiers adds a nonlinearity to the model. w's and b's are initialized as:"
      ],
      "id": "RMCICAKZCb28"
    },
    {
      "cell_type": "code",
      "metadata": {
        "id": "FwV9YvK8CSbl"
      },
      "source": [
        "w1 = init_params((28*28,30))\n",
        "b1 = init_params(30)\n",
        "w2 = init_params((30,1))\n",
        "b2 = init_params(1)"
      ],
      "id": "FwV9YvK8CSbl",
      "execution_count": 60,
      "outputs": []
    },
    {
      "cell_type": "markdown",
      "metadata": {
        "id": "op9kl_XlC4ka"
      },
      "source": [
        "The important point here is that w1 has 30 output activations (which implies that w2 has 30 input activations). This means that the first layer can construct 30 different features, each representing a different mix of pixels.\n",
        "\n",
        "The function `res.max(tensor(0.0))` is called a rectified linear unit, also known as ReLU, available in Pytorch as F.relu:"
      ],
      "id": "op9kl_XlC4ka"
    },
    {
      "cell_type": "code",
      "metadata": {
        "colab": {
          "base_uri": "https://localhost:8080/",
          "height": 324
        },
        "id": "GHq2X2M6Cze8",
        "outputId": "ea4bc8c8-4120-4f90-bcdc-dcc0bd5d4709"
      },
      "source": [
        "plot_function(F.relu)"
      ],
      "id": "GHq2X2M6Cze8",
      "execution_count": 61,
      "outputs": [
        {
          "output_type": "stream",
          "text": [
            "/usr/local/lib/python3.7/dist-packages/fastbook/__init__.py:73: UserWarning: Not providing a value for linspace's steps is deprecated and will throw a runtime error in a future release. This warning will appear only once per process. (Triggered internally at  /pytorch/aten/src/ATen/native/RangeFactories.cpp:25.)\n",
            "  x = torch.linspace(min,max)\n"
          ],
          "name": "stderr"
        },
        {
          "output_type": "display_data",
          "data": {
            "image/png": "[encoded data removed]",
            "text/plain": [
              "<Figure size 432x288 with 1 Axes>"
            ]
          },
          "metadata": {
            "tags": [],
            "needs_background": "light"
          }
        }
      ]
    },
    {
      "cell_type": "markdown",
      "metadata": {
        "id": "qVsyVrNEEBRo"
      },
      "source": [
        "The three lines of code that we have here are known as layers. The first and third are known as linear layers, and the second line of code is known variously as a nonlinearity, or activation function.\n",
        "\n",
        "Just like in the previous section, we can replace this code with something a bit simpler, by taking advantage of PyTorch:"
      ],
      "id": "qVsyVrNEEBRo"
    },
    {
      "cell_type": "code",
      "metadata": {
        "id": "ETd5xmImDjdQ"
      },
      "source": [
        "simple_net = nn.Sequential(\n",
        "    nn.Linear(28*28,30),\n",
        "    nn.ReLU(),\n",
        "    nn.Linear(30,1)\n",
        ")"
      ],
      "id": "ETd5xmImDjdQ",
      "execution_count": 61,
      "outputs": []
    },
    {
      "cell_type": "markdown",
      "metadata": {
        "id": "IKh-jpmHEV6_"
      },
      "source": [
        "`nn.Sequential` creates a module that will call each of the listed layers or functions in turn.\n",
        "\n",
        "Because `nn.Sequential` is a module, we can get its parameters, which will return a list of all the parameters of all the modules it contains. Let's try it out! As this is a deeper model, we'll use a lower learning rate and a few more epochs."
      ],
      "id": "IKh-jpmHEV6_"
    },
    {
      "cell_type": "code",
      "metadata": {
        "id": "4c8xPX6lESAz"
      },
      "source": [
        "learn =  Learner(dls, simple_net, opt_func=SGD, loss_func=mnist_loss, metrics=batch_accuracy)"
      ],
      "id": "4c8xPX6lESAz",
      "execution_count": 62,
      "outputs": []
    },
    {
      "cell_type": "code",
      "metadata": {
        "colab": {
          "base_uri": "https://localhost:8080/",
          "height": 1000
        },
        "id": "PHsN6irqFHQD",
        "outputId": "e87fd6d2-fed8-4576-d1b5-4f69a59d5601"
      },
      "source": [
        "learn.fit(40, 0.1)"
      ],
      "id": "PHsN6irqFHQD",
      "execution_count": 63,
      "outputs": [
        {
          "output_type": "display_data",
          "data": {
            "text/html": [
              "<table border=\"1\" class=\"dataframe\">\n",
              "  <thead>\n",
              "    <tr style=\"text-align: left;\">\n",
              "      <th>epoch</th>\n",
              "      <th>train_loss</th>\n",
              "      <th>valid_loss</th>\n",
              "      <th>batch_accuracy</th>\n",
              "      <th>time</th>\n",
              "    </tr>\n",
              "  </thead>\n",
              "  <tbody>\n",
              "    <tr>\n",
              "      <td>0</td>\n",
              "      <td>0.336330</td>\n",
              "      <td>0.405525</td>\n",
              "      <td>0.509323</td>\n",
              "      <td>00:00</td>\n",
              "    </tr>\n",
              "    <tr>\n",
              "      <td>1</td>\n",
              "      <td>0.154334</td>\n",
              "      <td>0.235406</td>\n",
              "      <td>0.791953</td>\n",
              "      <td>00:00</td>\n",
              "    </tr>\n",
              "    <tr>\n",
              "      <td>2</td>\n",
              "      <td>0.084804</td>\n",
              "      <td>0.118024</td>\n",
              "      <td>0.910697</td>\n",
              "      <td>00:00</td>\n",
              "    </tr>\n",
              "    <tr>\n",
              "      <td>3</td>\n",
              "      <td>0.055245</td>\n",
              "      <td>0.079301</td>\n",
              "      <td>0.938175</td>\n",
              "      <td>00:00</td>\n",
              "    </tr>\n",
              "    <tr>\n",
              "      <td>4</td>\n",
              "      <td>0.041600</td>\n",
              "      <td>0.061755</td>\n",
              "      <td>0.954858</td>\n",
              "      <td>00:00</td>\n",
              "    </tr>\n",
              "    <tr>\n",
              "      <td>5</td>\n",
              "      <td>0.034672</td>\n",
              "      <td>0.051983</td>\n",
              "      <td>0.962709</td>\n",
              "      <td>00:00</td>\n",
              "    </tr>\n",
              "    <tr>\n",
              "      <td>6</td>\n",
              "      <td>0.030714</td>\n",
              "      <td>0.045839</td>\n",
              "      <td>0.965162</td>\n",
              "      <td>00:00</td>\n",
              "    </tr>\n",
              "    <tr>\n",
              "      <td>7</td>\n",
              "      <td>0.028152</td>\n",
              "      <td>0.041629</td>\n",
              "      <td>0.965653</td>\n",
              "      <td>00:00</td>\n",
              "    </tr>\n",
              "    <tr>\n",
              "      <td>8</td>\n",
              "      <td>0.026309</td>\n",
              "      <td>0.038551</td>\n",
              "      <td>0.968106</td>\n",
              "      <td>00:00</td>\n",
              "    </tr>\n",
              "    <tr>\n",
              "      <td>9</td>\n",
              "      <td>0.024882</td>\n",
              "      <td>0.036186</td>\n",
              "      <td>0.969578</td>\n",
              "      <td>00:00</td>\n",
              "    </tr>\n",
              "    <tr>\n",
              "      <td>10</td>\n",
              "      <td>0.023724</td>\n",
              "      <td>0.034303</td>\n",
              "      <td>0.971050</td>\n",
              "      <td>00:00</td>\n",
              "    </tr>\n",
              "    <tr>\n",
              "      <td>11</td>\n",
              "      <td>0.022756</td>\n",
              "      <td>0.032760</td>\n",
              "      <td>0.972522</td>\n",
              "      <td>00:00</td>\n",
              "    </tr>\n",
              "    <tr>\n",
              "      <td>12</td>\n",
              "      <td>0.021929</td>\n",
              "      <td>0.031467</td>\n",
              "      <td>0.973503</td>\n",
              "      <td>00:00</td>\n",
              "    </tr>\n",
              "    <tr>\n",
              "      <td>13</td>\n",
              "      <td>0.021213</td>\n",
              "      <td>0.030360</td>\n",
              "      <td>0.974485</td>\n",
              "      <td>00:00</td>\n",
              "    </tr>\n",
              "    <tr>\n",
              "      <td>14</td>\n",
              "      <td>0.020585</td>\n",
              "      <td>0.029399</td>\n",
              "      <td>0.974485</td>\n",
              "      <td>00:00</td>\n",
              "    </tr>\n",
              "    <tr>\n",
              "      <td>15</td>\n",
              "      <td>0.020027</td>\n",
              "      <td>0.028553</td>\n",
              "      <td>0.975957</td>\n",
              "      <td>00:00</td>\n",
              "    </tr>\n",
              "    <tr>\n",
              "      <td>16</td>\n",
              "      <td>0.019529</td>\n",
              "      <td>0.027800</td>\n",
              "      <td>0.976448</td>\n",
              "      <td>00:00</td>\n",
              "    </tr>\n",
              "    <tr>\n",
              "      <td>17</td>\n",
              "      <td>0.019079</td>\n",
              "      <td>0.027126</td>\n",
              "      <td>0.977429</td>\n",
              "      <td>00:00</td>\n",
              "    </tr>\n",
              "    <tr>\n",
              "      <td>18</td>\n",
              "      <td>0.018671</td>\n",
              "      <td>0.026517</td>\n",
              "      <td>0.978410</td>\n",
              "      <td>00:00</td>\n",
              "    </tr>\n",
              "    <tr>\n",
              "      <td>19</td>\n",
              "      <td>0.018298</td>\n",
              "      <td>0.025965</td>\n",
              "      <td>0.978901</td>\n",
              "      <td>00:00</td>\n",
              "    </tr>\n",
              "    <tr>\n",
              "      <td>20</td>\n",
              "      <td>0.017956</td>\n",
              "      <td>0.025462</td>\n",
              "      <td>0.979882</td>\n",
              "      <td>00:00</td>\n",
              "    </tr>\n",
              "    <tr>\n",
              "      <td>21</td>\n",
              "      <td>0.017640</td>\n",
              "      <td>0.025003</td>\n",
              "      <td>0.979882</td>\n",
              "      <td>00:00</td>\n",
              "    </tr>\n",
              "    <tr>\n",
              "      <td>22</td>\n",
              "      <td>0.017348</td>\n",
              "      <td>0.024581</td>\n",
              "      <td>0.980373</td>\n",
              "      <td>00:00</td>\n",
              "    </tr>\n",
              "    <tr>\n",
              "      <td>23</td>\n",
              "      <td>0.017075</td>\n",
              "      <td>0.024194</td>\n",
              "      <td>0.980864</td>\n",
              "      <td>00:00</td>\n",
              "    </tr>\n",
              "    <tr>\n",
              "      <td>24</td>\n",
              "      <td>0.016820</td>\n",
              "      <td>0.023835</td>\n",
              "      <td>0.980864</td>\n",
              "      <td>00:00</td>\n",
              "    </tr>\n",
              "    <tr>\n",
              "      <td>25</td>\n",
              "      <td>0.016581</td>\n",
              "      <td>0.023504</td>\n",
              "      <td>0.981354</td>\n",
              "      <td>00:00</td>\n",
              "    </tr>\n",
              "    <tr>\n",
              "      <td>26</td>\n",
              "      <td>0.016355</td>\n",
              "      <td>0.023197</td>\n",
              "      <td>0.981354</td>\n",
              "      <td>00:00</td>\n",
              "    </tr>\n",
              "    <tr>\n",
              "      <td>27</td>\n",
              "      <td>0.016143</td>\n",
              "      <td>0.022912</td>\n",
              "      <td>0.981354</td>\n",
              "      <td>00:00</td>\n",
              "    </tr>\n",
              "    <tr>\n",
              "      <td>28</td>\n",
              "      <td>0.015941</td>\n",
              "      <td>0.022646</td>\n",
              "      <td>0.982336</td>\n",
              "      <td>00:00</td>\n",
              "    </tr>\n",
              "    <tr>\n",
              "      <td>29</td>\n",
              "      <td>0.015750</td>\n",
              "      <td>0.022399</td>\n",
              "      <td>0.982336</td>\n",
              "      <td>00:00</td>\n",
              "    </tr>\n",
              "    <tr>\n",
              "      <td>30</td>\n",
              "      <td>0.015568</td>\n",
              "      <td>0.022168</td>\n",
              "      <td>0.982336</td>\n",
              "      <td>00:00</td>\n",
              "    </tr>\n",
              "    <tr>\n",
              "      <td>31</td>\n",
              "      <td>0.015394</td>\n",
              "      <td>0.021951</td>\n",
              "      <td>0.982336</td>\n",
              "      <td>00:00</td>\n",
              "    </tr>\n",
              "    <tr>\n",
              "      <td>32</td>\n",
              "      <td>0.015229</td>\n",
              "      <td>0.021748</td>\n",
              "      <td>0.982336</td>\n",
              "      <td>00:00</td>\n",
              "    </tr>\n",
              "    <tr>\n",
              "      <td>33</td>\n",
              "      <td>0.015070</td>\n",
              "      <td>0.021558</td>\n",
              "      <td>0.982826</td>\n",
              "      <td>00:00</td>\n",
              "    </tr>\n",
              "    <tr>\n",
              "      <td>34</td>\n",
              "      <td>0.014919</td>\n",
              "      <td>0.021378</td>\n",
              "      <td>0.983317</td>\n",
              "      <td>00:00</td>\n",
              "    </tr>\n",
              "    <tr>\n",
              "      <td>35</td>\n",
              "      <td>0.014774</td>\n",
              "      <td>0.021209</td>\n",
              "      <td>0.983317</td>\n",
              "      <td>00:00</td>\n",
              "    </tr>\n",
              "    <tr>\n",
              "      <td>36</td>\n",
              "      <td>0.014634</td>\n",
              "      <td>0.021050</td>\n",
              "      <td>0.983317</td>\n",
              "      <td>00:00</td>\n",
              "    </tr>\n",
              "    <tr>\n",
              "      <td>37</td>\n",
              "      <td>0.014500</td>\n",
              "      <td>0.020899</td>\n",
              "      <td>0.982826</td>\n",
              "      <td>00:00</td>\n",
              "    </tr>\n",
              "    <tr>\n",
              "      <td>38</td>\n",
              "      <td>0.014370</td>\n",
              "      <td>0.020756</td>\n",
              "      <td>0.982826</td>\n",
              "      <td>00:00</td>\n",
              "    </tr>\n",
              "    <tr>\n",
              "      <td>39</td>\n",
              "      <td>0.014245</td>\n",
              "      <td>0.020620</td>\n",
              "      <td>0.982336</td>\n",
              "      <td>00:00</td>\n",
              "    </tr>\n",
              "  </tbody>\n",
              "</table>"
            ],
            "text/plain": [
              "<IPython.core.display.HTML object>"
            ]
          },
          "metadata": {
            "tags": []
          }
        }
      ]
    },
    {
      "cell_type": "code",
      "metadata": {
        "colab": {
          "base_uri": "https://localhost:8080/",
          "height": 270
        },
        "id": "iDtX22e9FK-b",
        "outputId": "25644352-4fd6-4f81-f79f-2d568400003c"
      },
      "source": [
        "plt.plot(L(learn.recorder.values).itemgot(2));"
      ],
      "id": "iDtX22e9FK-b",
      "execution_count": 64,
      "outputs": [
        {
          "output_type": "display_data",
          "data": {
            "image/png": "[encoded data removed]",
            "text/plain": [
              "<Figure size 432x288 with 1 Axes>"
            ]
          },
          "metadata": {
            "tags": [],
            "needs_background": "light"
          }
        }
      ]
    },
    {
      "cell_type": "code",
      "metadata": {
        "colab": {
          "base_uri": "https://localhost:8080/"
        },
        "id": "4yNzoEzmFjkI",
        "outputId": "ffa76338-f873-48bb-855f-3caed29ed48d"
      },
      "source": [
        "learn.recorder.values[-1][2]"
      ],
      "id": "4yNzoEzmFjkI",
      "execution_count": 65,
      "outputs": [
        {
          "output_type": "execute_result",
          "data": {
            "text/plain": [
              "0.98233562707901"
            ]
          },
          "metadata": {
            "tags": []
          },
          "execution_count": 65
        }
      ]
    },
    {
      "cell_type": "markdown",
      "metadata": {
        "id": "zxHdtghoGAv_"
      },
      "source": [
        "### A single nonlinearity with two linear layers is thus enough to approximate any function."
      ],
      "id": "zxHdtghoGAv_"
    },
    {
      "cell_type": "markdown",
      "metadata": {
        "id": "pzXobBWjHCPt"
      },
      "source": [
        "# Going deeper"
      ],
      "id": "pzXobBWjHCPt"
    },
    {
      "cell_type": "code",
      "metadata": {
        "id": "s9y8iKUkFq_J"
      },
      "source": [
        "dls = ImageDataLoaders.from_folder(path)"
      ],
      "id": "s9y8iKUkFq_J",
      "execution_count": 66,
      "outputs": []
    },
    {
      "cell_type": "code",
      "metadata": {
        "colab": {
          "base_uri": "https://localhost:8080/",
          "height": 136
        },
        "id": "F9fN5_EOHxsu",
        "outputId": "5c91b5c7-a780-43cf-ee38-8993603f2b0a"
      },
      "source": [
        "learn = cnn_learner(dls, resnet18, pretrained=False, loss_func=F.cross_entropy, metrics=accuracy)\n",
        "learn.fit_one_cycle(1, 0.1)"
      ],
      "id": "F9fN5_EOHxsu",
      "execution_count": 67,
      "outputs": [
        {
          "output_type": "stream",
          "text": [
            "/usr/local/lib/python3.7/dist-packages/torch/nn/functional.py:718: UserWarning: Named tensors and all their associated APIs are an experimental feature and subject to change. Please do not use them for anything important until they are released as stable. (Triggered internally at  /pytorch/c10/core/TensorImpl.h:1156.)\n",
            "  return torch.max_pool2d(input, kernel_size, stride, padding, dilation, ceil_mode)\n"
          ],
          "name": "stderr"
        },
        {
          "output_type": "display_data",
          "data": {
            "text/html": [
              "<table border=\"1\" class=\"dataframe\">\n",
              "  <thead>\n",
              "    <tr style=\"text-align: left;\">\n",
              "      <th>epoch</th>\n",
              "      <th>train_loss</th>\n",
              "      <th>valid_loss</th>\n",
              "      <th>accuracy</th>\n",
              "      <th>time</th>\n",
              "    </tr>\n",
              "  </thead>\n",
              "  <tbody>\n",
              "    <tr>\n",
              "      <td>0</td>\n",
              "      <td>0.089136</td>\n",
              "      <td>0.014225</td>\n",
              "      <td>0.996565</td>\n",
              "      <td>00:23</td>\n",
              "    </tr>\n",
              "  </tbody>\n",
              "</table>"
            ],
            "text/plain": [
              "<IPython.core.display.HTML object>"
            ]
          },
          "metadata": {
            "tags": []
          }
        }
      ]
    }
  ]
}