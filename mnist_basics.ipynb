{
  "nbformat": 4,
  "nbformat_minor": 5,
  "metadata": {
    "kernelspec": {
      "name": "python3",
      "display_name": "Python 3"
    },
    "varInspector": {
      "cols": {
        "lenName": 16,
        "lenType": 16,
        "lenVar": 40
      },
      "kernels_config": {
        "python": {
          "delete_cmd_postfix": "",
          "delete_cmd_prefix": "del ",
          "library": "var_list.py",
          "varRefreshCmd": "print(var_dic_list())"
        },
        "r": {
          "delete_cmd_postfix": ") ",
          "delete_cmd_prefix": "rm(",
          "library": "var_list.r",
          "varRefreshCmd": "cat(var_dic_list()) "
        }
      },
      "types_to_exclude": [
        "module",
        "function",
        "builtin_function_or_method",
        "instance",
        "_Feature"
      ],
      "window_display": false
    },
    "colab": {
      "name": "mnist_basics.ipynb",
      "provenance": [],
      "collapsed_sections": [],
      "include_colab_link": true
    },
    "language_info": {
      "name": "python"
    },
    "accelerator": "GPU"
  },
  "cells": [
    {
      "cell_type": "markdown",
      "metadata": {
        "id": "view-in-github",
        "colab_type": "text"
      },
      "source": [
        "<a href=\"https://colab.research.google.com/github/rohitnikam1/Fastai-projects/blob/master/mnist_basics.ipynb\" target=\"_parent\"><img src=\"https://colab.research.google.com/assets/colab-badge.svg\" alt=\"Open In Colab\"/></a>"
      ]
    },
    {
      "cell_type": "code",
      "metadata": {
        "colab": {
          "base_uri": "https://localhost:8080/"
        },
        "id": "S7ouKwEKXqJV",
        "outputId": "5969c73b-881a-479e-f47e-5e9f22db814e"
      },
      "source": [
        "!pip install -Uqq fastbook\n",
        "import fastbook\n",
        "fastbook.setup_book()"
      ],
      "id": "S7ouKwEKXqJV",
      "execution_count": 3,
      "outputs": [
        {
          "output_type": "stream",
          "text": [
            "\u001b[K     |████████████████████████████████| 720 kB 8.5 MB/s \n",
            "\u001b[K     |████████████████████████████████| 46 kB 5.6 MB/s \n",
            "\u001b[K     |████████████████████████████████| 188 kB 17.8 MB/s \n",
            "\u001b[K     |████████████████████████████████| 1.2 MB 18.2 MB/s \n",
            "\u001b[K     |████████████████████████████████| 54 kB 3.4 MB/s \n",
            "\u001b[K     |████████████████████████████████| 51 kB 410 kB/s \n",
            "\u001b[?25hMounted at /content/gdrive\n"
          ],
          "name": "stdout"
        }
      ]
    },
    {
      "cell_type": "code",
      "metadata": {
        "id": "9fc7cfca"
      },
      "source": [
        "from fastai.vision.all import *\n",
        "from fastbook import *\n",
        "\n",
        "matplotlib.rc('image', cmap='Greys')"
      ],
      "id": "9fc7cfca",
      "execution_count": 4,
      "outputs": []
    },
    {
      "cell_type": "code",
      "metadata": {
        "colab": {
          "base_uri": "https://localhost:8080/",
          "height": 17
        },
        "id": "04d2891f",
        "outputId": "f2e0d582-3913-4b97-f5b8-c310e37ce735"
      },
      "source": [
        "path = untar_data(URLs.MNIST_SAMPLE)"
      ],
      "id": "04d2891f",
      "execution_count": 5,
      "outputs": [
        {
          "output_type": "display_data",
          "data": {
            "text/html": [
              ""
            ],
            "text/plain": [
              "<IPython.core.display.HTML object>"
            ]
          },
          "metadata": {
            "tags": []
          }
        }
      ]
    },
    {
      "cell_type": "code",
      "metadata": {
        "colab": {
          "base_uri": "https://localhost:8080/"
        },
        "id": "222e5f1e",
        "outputId": "8a579f83-1501-47b8-8a31-3e9a579fbf11"
      },
      "source": [
        "path.ls()"
      ],
      "id": "222e5f1e",
      "execution_count": 6,
      "outputs": [
        {
          "output_type": "execute_result",
          "data": {
            "text/plain": [
              "(#3) [Path('/root/.fastai/data/mnist_sample/labels.csv'),Path('/root/.fastai/data/mnist_sample/valid'),Path('/root/.fastai/data/mnist_sample/train')]"
            ]
          },
          "metadata": {
            "tags": []
          },
          "execution_count": 6
        }
      ]
    },
    {
      "cell_type": "code",
      "metadata": {
        "id": "063804c6"
      },
      "source": [
        "Path.BASE_PATH = path"
      ],
      "id": "063804c6",
      "execution_count": 7,
      "outputs": []
    },
    {
      "cell_type": "code",
      "metadata": {
        "colab": {
          "base_uri": "https://localhost:8080/"
        },
        "id": "a3cdd12d",
        "outputId": "ec059445-8b7f-42db-8782-fc89674316ff"
      },
      "source": [
        "(path/'train').ls()"
      ],
      "id": "a3cdd12d",
      "execution_count": 7,
      "outputs": [
        {
          "output_type": "execute_result",
          "data": {
            "text/plain": [
              "(#2) [Path('train/7'),Path('train/3')]"
            ]
          },
          "metadata": {
            "tags": []
          },
          "execution_count": 7
        }
      ]
    },
    {
      "cell_type": "code",
      "metadata": {
        "colab": {
          "base_uri": "https://localhost:8080/"
        },
        "id": "535f5237",
        "outputId": "af4ac318-f735-48af-c491-43cde448c388"
      },
      "source": [
        "(path/'train'/'3').ls().sorted()"
      ],
      "id": "535f5237",
      "execution_count": 8,
      "outputs": [
        {
          "output_type": "execute_result",
          "data": {
            "text/plain": [
              "(#6131) [Path('train/3/10.png'),Path('train/3/10000.png'),Path('train/3/10011.png'),Path('train/3/10031.png'),Path('train/3/10034.png'),Path('train/3/10042.png'),Path('train/3/10052.png'),Path('train/3/1007.png'),Path('train/3/10074.png'),Path('train/3/10091.png')...]"
            ]
          },
          "metadata": {
            "tags": []
          },
          "execution_count": 8
        }
      ]
    },
    {
      "cell_type": "code",
      "metadata": {
        "id": "8968e2b8"
      },
      "source": [
        "threes = (path/'train'/'3').ls().sorted()\n",
        "sevens = (path/'train'/'7').ls().sorted()"
      ],
      "id": "8968e2b8",
      "execution_count": 8,
      "outputs": []
    },
    {
      "cell_type": "code",
      "metadata": {
        "colab": {
          "base_uri": "https://localhost:8080/",
          "height": 45
        },
        "id": "83fcd381",
        "outputId": "c4227357-2075-405b-d643-e9e91bd11bee"
      },
      "source": [
        "im7_path = sevens[0]\n",
        "seven = Image.open(im7_path)\n",
        "seven"
      ],
      "id": "83fcd381",
      "execution_count": 10,
      "outputs": [
        {
          "output_type": "execute_result",
          "data": {
            "image/png": "[encoded data removed]",
            "text/plain": [
              "<PIL.PngImagePlugin.PngImageFile image mode=L size=28x28 at 0x7FC152349310>"
            ]
          },
          "metadata": {
            "tags": []
          },
          "execution_count": 10
        }
      ]
    },
    {
      "cell_type": "code",
      "metadata": {
        "colab": {
          "base_uri": "https://localhost:8080/"
        },
        "id": "c3499a88",
        "outputId": "fc80086b-e6c1-4fa9-f839-2e6bfff4462c"
      },
      "source": [
        "array(seven)"
      ],
      "id": "c3499a88",
      "execution_count": 12,
      "outputs": [
        {
          "output_type": "execute_result",
          "data": {
            "text/plain": [
              "array([[  0,   0,   0,   0,   0,   0,   0,   0,   0,   0,   0,   0,   0,   0,   0,   0,   0,   0,   0,   0,   0,   0,   0,   0,   0,   0,   0,   0],\n",
              "       [  0,   0,   0,   0,   0,   0,   0,   0,   0,   0,   0,   0,   0,   0,   0,   0,   0,   0,   0,   0,   0,   0,   0,   0,   0,   0,   0,   0],\n",
              "       [  0,   0,   0,   0,   0,   0,   0,   0,   0,   0,   0,   0,   0,   0,   0,   0,   0,   0,   0,   0,   0,   0,   0,   0,   0,   0,   0,   0],\n",
              "       [  0,   0,   0,   0,   0,   0,   0,   0,   0,   0,   0,   0,   0,   0,   0,   0,   0,   0,   0,   0,   0,   0,   0,   0,   0,   0,   0,   0],\n",
              "       [  0,   0,   0,   0,   0,   0,   0,   0,   0,   0,   0,   0,   0,   0,   0,   0,   0,   0,   0,   0,   0,   0,   0,   0,   0,   0,   0,   0],\n",
              "       [  0,   0,   0,   0,   0,   0,   0,   0,   0,   0,   0,   0,   0,   0,   0,   0,   0,   0,   0,   0,   0,   0,   0,   0,   0,   0,   0,   0],\n",
              "       [  0,   0,   0,   0,   0,   0,   0,   0,   0,   0,   0,   0,   0,   0,   0,   0,   0,   0,   0,   0,   0,   0,   0,   0,   0,   0,   0,   0],\n",
              "       [  0,   0,   0,   0,  21,  51, 213, 254, 252, 252, 252, 254, 252, 252, 252, 254, 252, 252, 252, 255, 252, 100,   0,   0,   0,   0,   0,   0],\n",
              "       [  0,   0,   0,  21, 161, 250, 250, 252, 250, 250, 250, 252, 250, 250, 250, 252, 250, 250, 250, 252, 250, 100,   0,   0,   0,   0,   0,   0],\n",
              "       [  0,   0,   0,  51, 250, 250, 250, 252, 189, 190, 250, 252, 250, 250, 250, 252, 250, 250, 250, 252, 189,  40,   0,   0,   0,   0,   0,   0],\n",
              "       [  0,   0,   0,  10, 130, 250, 250,  49,  29,  30,  49,  49,  49,  49,  49,  49,  49, 170, 250, 252, 149,   0,   0,   0,   0,   0,   0,   0],\n",
              "       [  0,   0,   0,   0,   0,   0,   0,   0,   0,   0,   0,   0,   0,   0,   0,  11, 132, 252, 252, 244, 121,   0,   0,   0,   0,   0,   0,   0],\n",
              "       [  0,   0,   0,   0,   0,   0,   0,   0,   0,   0,   0,   0,   0,   0,   0,  51, 250, 250, 250, 202,   0,   0,   0,   0,   0,   0,   0,   0],\n",
              "       [  0,   0,   0,   0,   0,   0,   0,   0,   0,   0,   0,   0,   0,   0,   0, 172, 250, 250, 250,  80,   0,   0,   0,   0,   0,   0,   0,   0],\n",
              "       [  0,   0,   0,   0,   0,   0,   0,   0,   0,   0,   0,   0,   0,   0,   0, 252, 250, 250, 250,   0,   0,   0,   0,   0,   0,   0,   0,   0],\n",
              "       [  0,   0,   0,   0,   0,   0,   0,   0,   0,   0,   0,   0,   0,  31, 213, 254, 252, 252,  49,   0,   0,   0,   0,   0,   0,   0,   0,   0],\n",
              "       [  0,   0,   0,   0,   0,   0,   0,   0,   0,   0,   0,   0,   0, 151, 250, 252, 250, 250,  49,   0,   0,   0,   0,   0,   0,   0,   0,   0],\n",
              "       [  0,   0,   0,   0,   0,   0,   0,   0,   0,   0,   0,   0,   0, 151, 250, 252, 250, 159,  20,   0,   0,   0,   0,   0,   0,   0,   0,   0],\n",
              "       [  0,   0,   0,   0,   0,   0,   0,   0,   0,   0,   0,   0,   0, 151, 250, 252, 250, 100,   0,   0,   0,   0,   0,   0,   0,   0,   0,   0],\n",
              "       [  0,   0,   0,   0,   0,   0,   0,   0,   0,   0,   0,   0,   0, 152, 252, 254, 252, 100,   0,   0,   0,   0,   0,   0,   0,   0,   0,   0],\n",
              "       [  0,   0,   0,   0,   0,   0,   0,   0,   0,   0,   0,   0,   0, 151, 250, 252, 250, 100,   0,   0,   0,   0,   0,   0,   0,   0,   0,   0],\n",
              "       [  0,   0,   0,   0,   0,   0,   0,   0,   0,   0,   0,   0,   0, 151, 250, 252, 250, 100,   0,   0,   0,   0,   0,   0,   0,   0,   0,   0],\n",
              "       [  0,   0,   0,   0,   0,   0,   0,   0,   0,   0,   0,   0,   0, 151, 250, 252, 250, 221,  40,   0,   0,   0,   0,   0,   0,   0,   0,   0],\n",
              "       [  0,   0,   0,   0,   0,   0,   0,   0,   0,   0,   0,   0,   0, 153, 252, 255, 252, 252,  49,   0,   0,   0,   0,   0,   0,   0,   0,   0],\n",
              "       [  0,   0,   0,   0,   0,   0,   0,   0,   0,   0,   0,   0,   0, 151, 250, 252, 250, 250,  49,   0,   0,   0,   0,   0,   0,   0,   0,   0],\n",
              "       [  0,   0,   0,   0,   0,   0,   0,   0,   0,   0,   0,   0,   0,  60, 221, 252, 250, 159,  20,   0,   0,   0,   0,   0,   0,   0,   0,   0],\n",
              "       [  0,   0,   0,   0,   0,   0,   0,   0,   0,   0,   0,   0,   0,   0,  40, 212,  49,  20,   0,   0,   0,   0,   0,   0,   0,   0,   0,   0],\n",
              "       [  0,   0,   0,   0,   0,   0,   0,   0,   0,   0,   0,   0,   0,   0,   0,   0,   0,   0,   0,   0,   0,   0,   0,   0,   0,   0,   0,   0]], dtype=uint8)"
            ]
          },
          "metadata": {
            "tags": []
          },
          "execution_count": 12
        }
      ]
    },
    {
      "cell_type": "code",
      "metadata": {
        "colab": {
          "base_uri": "https://localhost:8080/"
        },
        "id": "e61b96c7",
        "outputId": "07234ca5-1339-42dd-9de1-a9de50c58774"
      },
      "source": [
        "tensor(seven)"
      ],
      "id": "e61b96c7",
      "execution_count": 13,
      "outputs": [
        {
          "output_type": "execute_result",
          "data": {
            "text/plain": [
              "tensor([[  0,   0,   0,   0,   0,   0,   0,   0,   0,   0,   0,   0,   0,   0,   0,   0,   0,   0,   0,   0,   0,   0,   0,   0,   0,   0,   0,   0],\n",
              "        [  0,   0,   0,   0,   0,   0,   0,   0,   0,   0,   0,   0,   0,   0,   0,   0,   0,   0,   0,   0,   0,   0,   0,   0,   0,   0,   0,   0],\n",
              "        [  0,   0,   0,   0,   0,   0,   0,   0,   0,   0,   0,   0,   0,   0,   0,   0,   0,   0,   0,   0,   0,   0,   0,   0,   0,   0,   0,   0],\n",
              "        [  0,   0,   0,   0,   0,   0,   0,   0,   0,   0,   0,   0,   0,   0,   0,   0,   0,   0,   0,   0,   0,   0,   0,   0,   0,   0,   0,   0],\n",
              "        [  0,   0,   0,   0,   0,   0,   0,   0,   0,   0,   0,   0,   0,   0,   0,   0,   0,   0,   0,   0,   0,   0,   0,   0,   0,   0,   0,   0],\n",
              "        [  0,   0,   0,   0,   0,   0,   0,   0,   0,   0,   0,   0,   0,   0,   0,   0,   0,   0,   0,   0,   0,   0,   0,   0,   0,   0,   0,   0],\n",
              "        [  0,   0,   0,   0,   0,   0,   0,   0,   0,   0,   0,   0,   0,   0,   0,   0,   0,   0,   0,   0,   0,   0,   0,   0,   0,   0,   0,   0],\n",
              "        [  0,   0,   0,   0,  21,  51, 213, 254, 252, 252, 252, 254, 252, 252, 252, 254, 252, 252, 252, 255, 252, 100,   0,   0,   0,   0,   0,   0],\n",
              "        [  0,   0,   0,  21, 161, 250, 250, 252, 250, 250, 250, 252, 250, 250, 250, 252, 250, 250, 250, 252, 250, 100,   0,   0,   0,   0,   0,   0],\n",
              "        [  0,   0,   0,  51, 250, 250, 250, 252, 189, 190, 250, 252, 250, 250, 250, 252, 250, 250, 250, 252, 189,  40,   0,   0,   0,   0,   0,   0],\n",
              "        [  0,   0,   0,  10, 130, 250, 250,  49,  29,  30,  49,  49,  49,  49,  49,  49,  49, 170, 250, 252, 149,   0,   0,   0,   0,   0,   0,   0],\n",
              "        [  0,   0,   0,   0,   0,   0,   0,   0,   0,   0,   0,   0,   0,   0,   0,  11, 132, 252, 252, 244, 121,   0,   0,   0,   0,   0,   0,   0],\n",
              "        [  0,   0,   0,   0,   0,   0,   0,   0,   0,   0,   0,   0,   0,   0,   0,  51, 250, 250, 250, 202,   0,   0,   0,   0,   0,   0,   0,   0],\n",
              "        [  0,   0,   0,   0,   0,   0,   0,   0,   0,   0,   0,   0,   0,   0,   0, 172, 250, 250, 250,  80,   0,   0,   0,   0,   0,   0,   0,   0],\n",
              "        [  0,   0,   0,   0,   0,   0,   0,   0,   0,   0,   0,   0,   0,   0,   0, 252, 250, 250, 250,   0,   0,   0,   0,   0,   0,   0,   0,   0],\n",
              "        [  0,   0,   0,   0,   0,   0,   0,   0,   0,   0,   0,   0,   0,  31, 213, 254, 252, 252,  49,   0,   0,   0,   0,   0,   0,   0,   0,   0],\n",
              "        [  0,   0,   0,   0,   0,   0,   0,   0,   0,   0,   0,   0,   0, 151, 250, 252, 250, 250,  49,   0,   0,   0,   0,   0,   0,   0,   0,   0],\n",
              "        [  0,   0,   0,   0,   0,   0,   0,   0,   0,   0,   0,   0,   0, 151, 250, 252, 250, 159,  20,   0,   0,   0,   0,   0,   0,   0,   0,   0],\n",
              "        [  0,   0,   0,   0,   0,   0,   0,   0,   0,   0,   0,   0,   0, 151, 250, 252, 250, 100,   0,   0,   0,   0,   0,   0,   0,   0,   0,   0],\n",
              "        [  0,   0,   0,   0,   0,   0,   0,   0,   0,   0,   0,   0,   0, 152, 252, 254, 252, 100,   0,   0,   0,   0,   0,   0,   0,   0,   0,   0],\n",
              "        [  0,   0,   0,   0,   0,   0,   0,   0,   0,   0,   0,   0,   0, 151, 250, 252, 250, 100,   0,   0,   0,   0,   0,   0,   0,   0,   0,   0],\n",
              "        [  0,   0,   0,   0,   0,   0,   0,   0,   0,   0,   0,   0,   0, 151, 250, 252, 250, 100,   0,   0,   0,   0,   0,   0,   0,   0,   0,   0],\n",
              "        [  0,   0,   0,   0,   0,   0,   0,   0,   0,   0,   0,   0,   0, 151, 250, 252, 250, 221,  40,   0,   0,   0,   0,   0,   0,   0,   0,   0],\n",
              "        [  0,   0,   0,   0,   0,   0,   0,   0,   0,   0,   0,   0,   0, 153, 252, 255, 252, 252,  49,   0,   0,   0,   0,   0,   0,   0,   0,   0],\n",
              "        [  0,   0,   0,   0,   0,   0,   0,   0,   0,   0,   0,   0,   0, 151, 250, 252, 250, 250,  49,   0,   0,   0,   0,   0,   0,   0,   0,   0],\n",
              "        [  0,   0,   0,   0,   0,   0,   0,   0,   0,   0,   0,   0,   0,  60, 221, 252, 250, 159,  20,   0,   0,   0,   0,   0,   0,   0,   0,   0],\n",
              "        [  0,   0,   0,   0,   0,   0,   0,   0,   0,   0,   0,   0,   0,   0,  40, 212,  49,  20,   0,   0,   0,   0,   0,   0,   0,   0,   0,   0],\n",
              "        [  0,   0,   0,   0,   0,   0,   0,   0,   0,   0,   0,   0,   0,   0,   0,   0,   0,   0,   0,   0,   0,   0,   0,   0,   0,   0,   0,   0]], dtype=torch.uint8)"
            ]
          },
          "metadata": {
            "tags": []
          },
          "execution_count": 13
        }
      ]
    },
    {
      "cell_type": "code",
      "metadata": {
        "colab": {
          "base_uri": "https://localhost:8080/",
          "height": 639
        },
        "id": "78167ace",
        "outputId": "18ef5c97-654f-496f-bd66-d439431565d2"
      },
      "source": [
        "im7_t = tensor(seven)\n",
        "df = pd.DataFrame(im7_t)\n",
        "df.style.set_properties(**{'font-size':'6pt'}).background_gradient('Greys')"
      ],
      "id": "78167ace",
      "execution_count": 15,
      "outputs": [
        {
          "output_type": "execute_result",
          "data": {
            "text/html": [
              "<style  type=\"text/css\" >\n",
              "#T_d6988afe_f079_11eb_8e0c_0242ac1c0002row0_col0,#T_d6988afe_f079_11eb_8e0c_0242ac1c0002row0_col1,#T_d6988afe_f079_11eb_8e0c_0242ac1c0002row0_col2,#T_d6988afe_f079_11eb_8e0c_0242ac1c0002row0_col3,#T_d6988afe_f079_11eb_8e0c_0242ac1c0002row0_col4,#T_d6988afe_f079_11eb_8e0c_0242ac1c0002row0_col5,#T_d6988afe_f079_11eb_8e0c_0242ac1c0002row0_col6,#T_d6988afe_f079_11eb_8e0c_0242ac1c0002row0_col7,#T_d6988afe_f079_11eb_8e0c_0242ac1c0002row0_col8,#T_d6988afe_f079_11eb_8e0c_0242ac1c0002row0_col9,#T_d6988afe_f079_11eb_8e0c_0242ac1c0002row0_col10,#T_d6988afe_f079_11eb_8e0c_0242ac1c0002row0_col11,#T_d6988afe_f079_11eb_8e0c_0242ac1c0002row0_col12,#T_d6988afe_f079_11eb_8e0c_0242ac1c0002row0_col13,#T_d6988afe_f079_11eb_8e0c_0242ac1c0002row0_col14,#T_d6988afe_f079_11eb_8e0c_0242ac1c0002row0_col15,#T_d6988afe_f079_11eb_8e0c_0242ac1c0002row0_col16,#T_d6988afe_f079_11eb_8e0c_0242ac1c0002row0_col17,#T_d6988afe_f079_11eb_8e0c_0242ac1c0002row0_col18,#T_d6988afe_f079_11eb_8e0c_0242ac1c0002row0_col19,#T_d6988afe_f079_11eb_8e0c_0242ac1c0002row0_col20,#T_d6988afe_f079_11eb_8e0c_0242ac1c0002row0_col21,#T_d6988afe_f079_11eb_8e0c_0242ac1c0002row0_col22,#T_d6988afe_f079_11eb_8e0c_0242ac1c0002row0_col23,#T_d6988afe_f079_11eb_8e0c_0242ac1c0002row0_col24,#T_d6988afe_f079_11eb_8e0c_0242ac1c0002row0_col25,#T_d6988afe_f079_11eb_8e0c_0242ac1c0002row0_col26,#T_d6988afe_f079_11eb_8e0c_0242ac1c0002row0_col27,#T_d6988afe_f079_11eb_8e0c_0242ac1c0002row1_col0,#T_d6988afe_f079_11eb_8e0c_0242ac1c0002row1_col1,#T_d6988afe_f079_11eb_8e0c_0242ac1c0002row1_col2,#T_d6988afe_f079_11eb_8e0c_0242ac1c0002row1_col3,#T_d6988afe_f079_11eb_8e0c_0242ac1c0002row1_col4,#T_d6988afe_f079_11eb_8e0c_0242ac1c0002row1_col5,#T_d6988afe_f079_11eb_8e0c_0242ac1c0002row1_col6,#T_d6988afe_f079_11eb_8e0c_0242ac1c0002row1_col7,#T_d6988afe_f079_11eb_8e0c_0242ac1c0002row1_col8,#T_d6988afe_f079_11eb_8e0c_0242ac1c0002row1_col9,#T_d6988afe_f079_11eb_8e0c_0242ac1c0002row1_col10,#T_d6988afe_f079_11eb_8e0c_0242ac1c0002row1_col11,#T_d6988afe_f079_11eb_8e0c_0242ac1c0002row1_col12,#T_d6988afe_f079_11eb_8e0c_0242ac1c0002row1_col13,#T_d6988afe_f079_11eb_8e0c_0242ac1c0002row1_col14,#T_d6988afe_f079_11eb_8e0c_0242ac1c0002row1_col15,#T_d6988afe_f079_11eb_8e0c_0242ac1c0002row1_col16,#T_d6988afe_f079_11eb_8e0c_0242ac1c0002row1_col17,#T_d6988afe_f079_11eb_8e0c_0242ac1c0002row1_col18,#T_d6988afe_f079_11eb_8e0c_0242ac1c0002row1_col19,#T_d6988afe_f079_11eb_8e0c_0242ac1c0002row1_col20,#T_d6988afe_f079_11eb_8e0c_0242ac1c0002row1_col21,#T_d6988afe_f079_11eb_8e0c_0242ac1c0002row1_col22,#T_d6988afe_f079_11eb_8e0c_0242ac1c0002row1_col23,#T_d6988afe_f079_11eb_8e0c_0242ac1c0002row1_col24,#T_d6988afe_f079_11eb_8e0c_0242ac1c0002row1_col25,#T_d6988afe_f079_11eb_8e0c_0242ac1c0002row1_col26,#T_d6988afe_f079_11eb_8e0c_0242ac1c0002row1_col27,#T_d6988afe_f079_11eb_8e0c_0242ac1c0002row2_col0,#T_d6988afe_f079_11eb_8e0c_0242ac1c0002row2_col1,#T_d6988afe_f079_11eb_8e0c_0242ac1c0002row2_col2,#T_d6988afe_f079_11eb_8e0c_0242ac1c0002row2_col3,#T_d6988afe_f079_11eb_8e0c_0242ac1c0002row2_col4,#T_d6988afe_f079_11eb_8e0c_0242ac1c0002row2_col5,#T_d6988afe_f079_11eb_8e0c_0242ac1c0002row2_col6,#T_d6988afe_f079_11eb_8e0c_0242ac1c0002row2_col7,#T_d6988afe_f079_11eb_8e0c_0242ac1c0002row2_col8,#T_d6988afe_f079_11eb_8e0c_0242ac1c0002row2_col9,#T_d6988afe_f079_11eb_8e0c_0242ac1c0002row2_col10,#T_d6988afe_f079_11eb_8e0c_0242ac1c0002row2_col11,#T_d6988afe_f079_11eb_8e0c_0242ac1c0002row2_col12,#T_d6988afe_f079_11eb_8e0c_0242ac1c0002row2_col13,#T_d6988afe_f079_11eb_8e0c_0242ac1c0002row2_col14,#T_d6988afe_f079_11eb_8e0c_0242ac1c0002row2_col15,#T_d6988afe_f079_11eb_8e0c_0242ac1c0002row2_col16,#T_d6988afe_f079_11eb_8e0c_0242ac1c0002row2_col17,#T_d6988afe_f079_11eb_8e0c_0242ac1c0002row2_col18,#T_d6988afe_f079_11eb_8e0c_0242ac1c0002row2_col19,#T_d6988afe_f079_11eb_8e0c_0242ac1c0002row2_col20,#T_d6988afe_f079_11eb_8e0c_0242ac1c0002row2_col21,#T_d6988afe_f079_11eb_8e0c_0242ac1c0002row2_col22,#T_d6988afe_f079_11eb_8e0c_0242ac1c0002row2_col23,#T_d6988afe_f079_11eb_8e0c_0242ac1c0002row2_col24,#T_d6988afe_f079_11eb_8e0c_0242ac1c0002row2_col25,#T_d6988afe_f079_11eb_8e0c_0242ac1c0002row2_col26,#T_d6988afe_f079_11eb_8e0c_0242ac1c0002row2_col27,#T_d6988afe_f079_11eb_8e0c_0242ac1c0002row3_col0,#T_d6988afe_f079_11eb_8e0c_0242ac1c0002row3_col1,#T_d6988afe_f079_11eb_8e0c_0242ac1c0002row3_col2,#T_d6988afe_f079_11eb_8e0c_0242ac1c0002row3_col3,#T_d6988afe_f079_11eb_8e0c_0242ac1c0002row3_col4,#T_d6988afe_f079_11eb_8e0c_0242ac1c0002row3_col5,#T_d6988afe_f079_11eb_8e0c_0242ac1c0002row3_col6,#T_d6988afe_f079_11eb_8e0c_0242ac1c0002row3_col7,#T_d6988afe_f079_11eb_8e0c_0242ac1c0002row3_col8,#T_d6988afe_f079_11eb_8e0c_0242ac1c0002row3_col9,#T_d6988afe_f079_11eb_8e0c_0242ac1c0002row3_col10,#T_d6988afe_f079_11eb_8e0c_0242ac1c0002row3_col11,#T_d6988afe_f079_11eb_8e0c_0242ac1c0002row3_col12,#T_d6988afe_f079_11eb_8e0c_0242ac1c0002row3_col13,#T_d6988afe_f079_11eb_8e0c_0242ac1c0002row3_col14,#T_d6988afe_f079_11eb_8e0c_0242ac1c0002row3_col15,#T_d6988afe_f079_11eb_8e0c_0242ac1c0002row3_col16,#T_d6988afe_f079_11eb_8e0c_0242ac1c0002row3_col17,#T_d6988afe_f079_11eb_8e0c_0242ac1c0002row3_col18,#T_d6988afe_f079_11eb_8e0c_0242ac1c0002row3_col19,#T_d6988afe_f079_11eb_8e0c_0242ac1c0002row3_col20,#T_d6988afe_f079_11eb_8e0c_0242ac1c0002row3_col21,#T_d6988afe_f079_11eb_8e0c_0242ac1c0002row3_col22,#T_d6988afe_f079_11eb_8e0c_0242ac1c0002row3_col23,#T_d6988afe_f079_11eb_8e0c_0242ac1c0002row3_col24,#T_d6988afe_f079_11eb_8e0c_0242ac1c0002row3_col25,#T_d6988afe_f079_11eb_8e0c_0242ac1c0002row3_col26,#T_d6988afe_f079_11eb_8e0c_0242ac1c0002row3_col27,#T_d6988afe_f079_11eb_8e0c_0242ac1c0002row4_col0,#T_d6988afe_f079_11eb_8e0c_0242ac1c0002row4_col1,#T_d6988afe_f079_11eb_8e0c_0242ac1c0002row4_col2,#T_d6988afe_f079_11eb_8e0c_0242ac1c0002row4_col3,#T_d6988afe_f079_11eb_8e0c_0242ac1c0002row4_col4,#T_d6988afe_f079_11eb_8e0c_0242ac1c0002row4_col5,#T_d6988afe_f079_11eb_8e0c_0242ac1c0002row4_col6,#T_d6988afe_f079_11eb_8e0c_0242ac1c0002row4_col7,#T_d6988afe_f079_11eb_8e0c_0242ac1c0002row4_col8,#T_d6988afe_f079_11eb_8e0c_0242ac1c0002row4_col9,#T_d6988afe_f079_11eb_8e0c_0242ac1c0002row4_col10,#T_d6988afe_f079_11eb_8e0c_0242ac1c0002row4_col11,#T_d6988afe_f079_11eb_8e0c_0242ac1c0002row4_col12,#T_d6988afe_f079_11eb_8e0c_0242ac1c0002row4_col13,#T_d6988afe_f079_11eb_8e0c_0242ac1c0002row4_col14,#T_d6988afe_f079_11eb_8e0c_0242ac1c0002row4_col15,#T_d6988afe_f079_11eb_8e0c_0242ac1c0002row4_col16,#T_d6988afe_f079_11eb_8e0c_0242ac1c0002row4_col17,#T_d6988afe_f079_11eb_8e0c_0242ac1c0002row4_col18,#T_d6988afe_f079_11eb_8e0c_0242ac1c0002row4_col19,#T_d6988afe_f079_11eb_8e0c_0242ac1c0002row4_col20,#T_d6988afe_f079_11eb_8e0c_0242ac1c0002row4_col21,#T_d6988afe_f079_11eb_8e0c_0242ac1c0002row4_col22,#T_d6988afe_f079_11eb_8e0c_0242ac1c0002row4_col23,#T_d6988afe_f079_11eb_8e0c_0242ac1c0002row4_col24,#T_d6988afe_f079_11eb_8e0c_0242ac1c0002row4_col25,#T_d6988afe_f079_11eb_8e0c_0242ac1c0002row4_col26,#T_d6988afe_f079_11eb_8e0c_0242ac1c0002row4_col27,#T_d6988afe_f079_11eb_8e0c_0242ac1c0002row5_col0,#T_d6988afe_f079_11eb_8e0c_0242ac1c0002row5_col1,#T_d6988afe_f079_11eb_8e0c_0242ac1c0002row5_col2,#T_d6988afe_f079_11eb_8e0c_0242ac1c0002row5_col3,#T_d6988afe_f079_11eb_8e0c_0242ac1c0002row5_col4,#T_d6988afe_f079_11eb_8e0c_0242ac1c0002row5_col5,#T_d6988afe_f079_11eb_8e0c_0242ac1c0002row5_col6,#T_d6988afe_f079_11eb_8e0c_0242ac1c0002row5_col7,#T_d6988afe_f079_11eb_8e0c_0242ac1c0002row5_col8,#T_d6988afe_f079_11eb_8e0c_0242ac1c0002row5_col9,#T_d6988afe_f079_11eb_8e0c_0242ac1c0002row5_col10,#T_d6988afe_f079_11eb_8e0c_0242ac1c0002row5_col11,#T_d6988afe_f079_11eb_8e0c_0242ac1c0002row5_col12,#T_d6988afe_f079_11eb_8e0c_0242ac1c0002row5_col13,#T_d6988afe_f079_11eb_8e0c_0242ac1c0002row5_col14,#T_d6988afe_f079_11eb_8e0c_0242ac1c0002row5_col15,#T_d6988afe_f079_11eb_8e0c_0242ac1c0002row5_col16,#T_d6988afe_f079_11eb_8e0c_0242ac1c0002row5_col17,#T_d6988afe_f079_11eb_8e0c_0242ac1c0002row5_col18,#T_d6988afe_f079_11eb_8e0c_0242ac1c0002row5_col19,#T_d6988afe_f079_11eb_8e0c_0242ac1c0002row5_col20,#T_d6988afe_f079_11eb_8e0c_0242ac1c0002row5_col21,#T_d6988afe_f079_11eb_8e0c_0242ac1c0002row5_col22,#T_d6988afe_f079_11eb_8e0c_0242ac1c0002row5_col23,#T_d6988afe_f079_11eb_8e0c_0242ac1c0002row5_col24,#T_d6988afe_f079_11eb_8e0c_0242ac1c0002row5_col25,#T_d6988afe_f079_11eb_8e0c_0242ac1c0002row5_col26,#T_d6988afe_f079_11eb_8e0c_0242ac1c0002row5_col27,#T_d6988afe_f079_11eb_8e0c_0242ac1c0002row6_col0,#T_d6988afe_f079_11eb_8e0c_0242ac1c0002row6_col1,#T_d6988afe_f079_11eb_8e0c_0242ac1c0002row6_col2,#T_d6988afe_f079_11eb_8e0c_0242ac1c0002row6_col3,#T_d6988afe_f079_11eb_8e0c_0242ac1c0002row6_col4,#T_d6988afe_f079_11eb_8e0c_0242ac1c0002row6_col5,#T_d6988afe_f079_11eb_8e0c_0242ac1c0002row6_col6,#T_d6988afe_f079_11eb_8e0c_0242ac1c0002row6_col7,#T_d6988afe_f079_11eb_8e0c_0242ac1c0002row6_col8,#T_d6988afe_f079_11eb_8e0c_0242ac1c0002row6_col9,#T_d6988afe_f079_11eb_8e0c_0242ac1c0002row6_col10,#T_d6988afe_f079_11eb_8e0c_0242ac1c0002row6_col11,#T_d6988afe_f079_11eb_8e0c_0242ac1c0002row6_col12,#T_d6988afe_f079_11eb_8e0c_0242ac1c0002row6_col13,#T_d6988afe_f079_11eb_8e0c_0242ac1c0002row6_col14,#T_d6988afe_f079_11eb_8e0c_0242ac1c0002row6_col15,#T_d6988afe_f079_11eb_8e0c_0242ac1c0002row6_col16,#T_d6988afe_f079_11eb_8e0c_0242ac1c0002row6_col17,#T_d6988afe_f079_11eb_8e0c_0242ac1c0002row6_col18,#T_d6988afe_f079_11eb_8e0c_0242ac1c0002row6_col19,#T_d6988afe_f079_11eb_8e0c_0242ac1c0002row6_col20,#T_d6988afe_f079_11eb_8e0c_0242ac1c0002row6_col21,#T_d6988afe_f079_11eb_8e0c_0242ac1c0002row6_col22,#T_d6988afe_f079_11eb_8e0c_0242ac1c0002row6_col23,#T_d6988afe_f079_11eb_8e0c_0242ac1c0002row6_col24,#T_d6988afe_f079_11eb_8e0c_0242ac1c0002row6_col25,#T_d6988afe_f079_11eb_8e0c_0242ac1c0002row6_col26,#T_d6988afe_f079_11eb_8e0c_0242ac1c0002row6_col27,#T_d6988afe_f079_11eb_8e0c_0242ac1c0002row7_col0,#T_d6988afe_f079_11eb_8e0c_0242ac1c0002row7_col1,#T_d6988afe_f079_11eb_8e0c_0242ac1c0002row7_col2,#T_d6988afe_f079_11eb_8e0c_0242ac1c0002row7_col3,#T_d6988afe_f079_11eb_8e0c_0242ac1c0002row7_col22,#T_d6988afe_f079_11eb_8e0c_0242ac1c0002row7_col23,#T_d6988afe_f079_11eb_8e0c_0242ac1c0002row7_col24,#T_d6988afe_f079_11eb_8e0c_0242ac1c0002row7_col25,#T_d6988afe_f079_11eb_8e0c_0242ac1c0002row7_col26,#T_d6988afe_f079_11eb_8e0c_0242ac1c0002row7_col27,#T_d6988afe_f079_11eb_8e0c_0242ac1c0002row8_col0,#T_d6988afe_f079_11eb_8e0c_0242ac1c0002row8_col1,#T_d6988afe_f079_11eb_8e0c_0242ac1c0002row8_col2,#T_d6988afe_f079_11eb_8e0c_0242ac1c0002row8_col22,#T_d6988afe_f079_11eb_8e0c_0242ac1c0002row8_col23,#T_d6988afe_f079_11eb_8e0c_0242ac1c0002row8_col24,#T_d6988afe_f079_11eb_8e0c_0242ac1c0002row8_col25,#T_d6988afe_f079_11eb_8e0c_0242ac1c0002row8_col26,#T_d6988afe_f079_11eb_8e0c_0242ac1c0002row8_col27,#T_d6988afe_f079_11eb_8e0c_0242ac1c0002row9_col0,#T_d6988afe_f079_11eb_8e0c_0242ac1c0002row9_col1,#T_d6988afe_f079_11eb_8e0c_0242ac1c0002row9_col2,#T_d6988afe_f079_11eb_8e0c_0242ac1c0002row9_col22,#T_d6988afe_f079_11eb_8e0c_0242ac1c0002row9_col23,#T_d6988afe_f079_11eb_8e0c_0242ac1c0002row9_col24,#T_d6988afe_f079_11eb_8e0c_0242ac1c0002row9_col25,#T_d6988afe_f079_11eb_8e0c_0242ac1c0002row9_col26,#T_d6988afe_f079_11eb_8e0c_0242ac1c0002row9_col27,#T_d6988afe_f079_11eb_8e0c_0242ac1c0002row10_col0,#T_d6988afe_f079_11eb_8e0c_0242ac1c0002row10_col1,#T_d6988afe_f079_11eb_8e0c_0242ac1c0002row10_col2,#T_d6988afe_f079_11eb_8e0c_0242ac1c0002row10_col21,#T_d6988afe_f079_11eb_8e0c_0242ac1c0002row10_col22,#T_d6988afe_f079_11eb_8e0c_0242ac1c0002row10_col23,#T_d6988afe_f079_11eb_8e0c_0242ac1c0002row10_col24,#T_d6988afe_f079_11eb_8e0c_0242ac1c0002row10_col25,#T_d6988afe_f079_11eb_8e0c_0242ac1c0002row10_col26,#T_d6988afe_f079_11eb_8e0c_0242ac1c0002row10_col27,#T_d6988afe_f079_11eb_8e0c_0242ac1c0002row11_col0,#T_d6988afe_f079_11eb_8e0c_0242ac1c0002row11_col1,#T_d6988afe_f079_11eb_8e0c_0242ac1c0002row11_col2,#T_d6988afe_f079_11eb_8e0c_0242ac1c0002row11_col3,#T_d6988afe_f079_11eb_8e0c_0242ac1c0002row11_col4,#T_d6988afe_f079_11eb_8e0c_0242ac1c0002row11_col5,#T_d6988afe_f079_11eb_8e0c_0242ac1c0002row11_col6,#T_d6988afe_f079_11eb_8e0c_0242ac1c0002row11_col7,#T_d6988afe_f079_11eb_8e0c_0242ac1c0002row11_col8,#T_d6988afe_f079_11eb_8e0c_0242ac1c0002row11_col9,#T_d6988afe_f079_11eb_8e0c_0242ac1c0002row11_col10,#T_d6988afe_f079_11eb_8e0c_0242ac1c0002row11_col11,#T_d6988afe_f079_11eb_8e0c_0242ac1c0002row11_col12,#T_d6988afe_f079_11eb_8e0c_0242ac1c0002row11_col13,#T_d6988afe_f079_11eb_8e0c_0242ac1c0002row11_col14,#T_d6988afe_f079_11eb_8e0c_0242ac1c0002row11_col21,#T_d6988afe_f079_11eb_8e0c_0242ac1c0002row11_col22,#T_d6988afe_f079_11eb_8e0c_0242ac1c0002row11_col23,#T_d6988afe_f079_11eb_8e0c_0242ac1c0002row11_col24,#T_d6988afe_f079_11eb_8e0c_0242ac1c0002row11_col25,#T_d6988afe_f079_11eb_8e0c_0242ac1c0002row11_col26,#T_d6988afe_f079_11eb_8e0c_0242ac1c0002row11_col27,#T_d6988afe_f079_11eb_8e0c_0242ac1c0002row12_col0,#T_d6988afe_f079_11eb_8e0c_0242ac1c0002row12_col1,#T_d6988afe_f079_11eb_8e0c_0242ac1c0002row12_col2,#T_d6988afe_f079_11eb_8e0c_0242ac1c0002row12_col3,#T_d6988afe_f079_11eb_8e0c_0242ac1c0002row12_col4,#T_d6988afe_f079_11eb_8e0c_0242ac1c0002row12_col5,#T_d6988afe_f079_11eb_8e0c_0242ac1c0002row12_col6,#T_d6988afe_f079_11eb_8e0c_0242ac1c0002row12_col7,#T_d6988afe_f079_11eb_8e0c_0242ac1c0002row12_col8,#T_d6988afe_f079_11eb_8e0c_0242ac1c0002row12_col9,#T_d6988afe_f079_11eb_8e0c_0242ac1c0002row12_col10,#T_d6988afe_f079_11eb_8e0c_0242ac1c0002row12_col11,#T_d6988afe_f079_11eb_8e0c_0242ac1c0002row12_col12,#T_d6988afe_f079_11eb_8e0c_0242ac1c0002row12_col13,#T_d6988afe_f079_11eb_8e0c_0242ac1c0002row12_col14,#T_d6988afe_f079_11eb_8e0c_0242ac1c0002row12_col20,#T_d6988afe_f079_11eb_8e0c_0242ac1c0002row12_col21,#T_d6988afe_f079_11eb_8e0c_0242ac1c0002row12_col22,#T_d6988afe_f079_11eb_8e0c_0242ac1c0002row12_col23,#T_d6988afe_f079_11eb_8e0c_0242ac1c0002row12_col24,#T_d6988afe_f079_11eb_8e0c_0242ac1c0002row12_col25,#T_d6988afe_f079_11eb_8e0c_0242ac1c0002row12_col26,#T_d6988afe_f079_11eb_8e0c_0242ac1c0002row12_col27,#T_d6988afe_f079_11eb_8e0c_0242ac1c0002row13_col0,#T_d6988afe_f079_11eb_8e0c_0242ac1c0002row13_col1,#T_d6988afe_f079_11eb_8e0c_0242ac1c0002row13_col2,#T_d6988afe_f079_11eb_8e0c_0242ac1c0002row13_col3,#T_d6988afe_f079_11eb_8e0c_0242ac1c0002row13_col4,#T_d6988afe_f079_11eb_8e0c_0242ac1c0002row13_col5,#T_d6988afe_f079_11eb_8e0c_0242ac1c0002row13_col6,#T_d6988afe_f079_11eb_8e0c_0242ac1c0002row13_col7,#T_d6988afe_f079_11eb_8e0c_0242ac1c0002row13_col8,#T_d6988afe_f079_11eb_8e0c_0242ac1c0002row13_col9,#T_d6988afe_f079_11eb_8e0c_0242ac1c0002row13_col10,#T_d6988afe_f079_11eb_8e0c_0242ac1c0002row13_col11,#T_d6988afe_f079_11eb_8e0c_0242ac1c0002row13_col12,#T_d6988afe_f079_11eb_8e0c_0242ac1c0002row13_col13,#T_d6988afe_f079_11eb_8e0c_0242ac1c0002row13_col14,#T_d6988afe_f079_11eb_8e0c_0242ac1c0002row13_col20,#T_d6988afe_f079_11eb_8e0c_0242ac1c0002row13_col21,#T_d6988afe_f079_11eb_8e0c_0242ac1c0002row13_col22,#T_d6988afe_f079_11eb_8e0c_0242ac1c0002row13_col23,#T_d6988afe_f079_11eb_8e0c_0242ac1c0002row13_col24,#T_d6988afe_f079_11eb_8e0c_0242ac1c0002row13_col25,#T_d6988afe_f079_11eb_8e0c_0242ac1c0002row13_col26,#T_d6988afe_f079_11eb_8e0c_0242ac1c0002row13_col27,#T_d6988afe_f079_11eb_8e0c_0242ac1c0002row14_col0,#T_d6988afe_f079_11eb_8e0c_0242ac1c0002row14_col1,#T_d6988afe_f079_11eb_8e0c_0242ac1c0002row14_col2,#T_d6988afe_f079_11eb_8e0c_0242ac1c0002row14_col3,#T_d6988afe_f079_11eb_8e0c_0242ac1c0002row14_col4,#T_d6988afe_f079_11eb_8e0c_0242ac1c0002row14_col5,#T_d6988afe_f079_11eb_8e0c_0242ac1c0002row14_col6,#T_d6988afe_f079_11eb_8e0c_0242ac1c0002row14_col7,#T_d6988afe_f079_11eb_8e0c_0242ac1c0002row14_col8,#T_d6988afe_f079_11eb_8e0c_0242ac1c0002row14_col9,#T_d6988afe_f079_11eb_8e0c_0242ac1c0002row14_col10,#T_d6988afe_f079_11eb_8e0c_0242ac1c0002row14_col11,#T_d6988afe_f079_11eb_8e0c_0242ac1c0002row14_col12,#T_d6988afe_f079_11eb_8e0c_0242ac1c0002row14_col13,#T_d6988afe_f079_11eb_8e0c_0242ac1c0002row14_col14,#T_d6988afe_f079_11eb_8e0c_0242ac1c0002row14_col19,#T_d6988afe_f079_11eb_8e0c_0242ac1c0002row14_col20,#T_d6988afe_f079_11eb_8e0c_0242ac1c0002row14_col21,#T_d6988afe_f079_11eb_8e0c_0242ac1c0002row14_col22,#T_d6988afe_f079_11eb_8e0c_0242ac1c0002row14_col23,#T_d6988afe_f079_11eb_8e0c_0242ac1c0002row14_col24,#T_d6988afe_f079_11eb_8e0c_0242ac1c0002row14_col25,#T_d6988afe_f079_11eb_8e0c_0242ac1c0002row14_col26,#T_d6988afe_f079_11eb_8e0c_0242ac1c0002row14_col27,#T_d6988afe_f079_11eb_8e0c_0242ac1c0002row15_col0,#T_d6988afe_f079_11eb_8e0c_0242ac1c0002row15_col1,#T_d6988afe_f079_11eb_8e0c_0242ac1c0002row15_col2,#T_d6988afe_f079_11eb_8e0c_0242ac1c0002row15_col3,#T_d6988afe_f079_11eb_8e0c_0242ac1c0002row15_col4,#T_d6988afe_f079_11eb_8e0c_0242ac1c0002row15_col5,#T_d6988afe_f079_11eb_8e0c_0242ac1c0002row15_col6,#T_d6988afe_f079_11eb_8e0c_0242ac1c0002row15_col7,#T_d6988afe_f079_11eb_8e0c_0242ac1c0002row15_col8,#T_d6988afe_f079_11eb_8e0c_0242ac1c0002row15_col9,#T_d6988afe_f079_11eb_8e0c_0242ac1c0002row15_col10,#T_d6988afe_f079_11eb_8e0c_0242ac1c0002row15_col11,#T_d6988afe_f079_11eb_8e0c_0242ac1c0002row15_col12,#T_d6988afe_f079_11eb_8e0c_0242ac1c0002row15_col19,#T_d6988afe_f079_11eb_8e0c_0242ac1c0002row15_col20,#T_d6988afe_f079_11eb_8e0c_0242ac1c0002row15_col21,#T_d6988afe_f079_11eb_8e0c_0242ac1c0002row15_col22,#T_d6988afe_f079_11eb_8e0c_0242ac1c0002row15_col23,#T_d6988afe_f079_11eb_8e0c_0242ac1c0002row15_col24,#T_d6988afe_f079_11eb_8e0c_0242ac1c0002row15_col25,#T_d6988afe_f079_11eb_8e0c_0242ac1c0002row15_col26,#T_d6988afe_f079_11eb_8e0c_0242ac1c0002row15_col27,#T_d6988afe_f079_11eb_8e0c_0242ac1c0002row16_col0,#T_d6988afe_f079_11eb_8e0c_0242ac1c0002row16_col1,#T_d6988afe_f079_11eb_8e0c_0242ac1c0002row16_col2,#T_d6988afe_f079_11eb_8e0c_0242ac1c0002row16_col3,#T_d6988afe_f079_11eb_8e0c_0242ac1c0002row16_col4,#T_d6988afe_f079_11eb_8e0c_0242ac1c0002row16_col5,#T_d6988afe_f079_11eb_8e0c_0242ac1c0002row16_col6,#T_d6988afe_f079_11eb_8e0c_0242ac1c0002row16_col7,#T_d6988afe_f079_11eb_8e0c_0242ac1c0002row16_col8,#T_d6988afe_f079_11eb_8e0c_0242ac1c0002row16_col9,#T_d6988afe_f079_11eb_8e0c_0242ac1c0002row16_col10,#T_d6988afe_f079_11eb_8e0c_0242ac1c0002row16_col11,#T_d6988afe_f079_11eb_8e0c_0242ac1c0002row16_col12,#T_d6988afe_f079_11eb_8e0c_0242ac1c0002row16_col19,#T_d6988afe_f079_11eb_8e0c_0242ac1c0002row16_col20,#T_d6988afe_f079_11eb_8e0c_0242ac1c0002row16_col21,#T_d6988afe_f079_11eb_8e0c_0242ac1c0002row16_col22,#T_d6988afe_f079_11eb_8e0c_0242ac1c0002row16_col23,#T_d6988afe_f079_11eb_8e0c_0242ac1c0002row16_col24,#T_d6988afe_f079_11eb_8e0c_0242ac1c0002row16_col25,#T_d6988afe_f079_11eb_8e0c_0242ac1c0002row16_col26,#T_d6988afe_f079_11eb_8e0c_0242ac1c0002row16_col27,#T_d6988afe_f079_11eb_8e0c_0242ac1c0002row17_col0,#T_d6988afe_f079_11eb_8e0c_0242ac1c0002row17_col1,#T_d6988afe_f079_11eb_8e0c_0242ac1c0002row17_col2,#T_d6988afe_f079_11eb_8e0c_0242ac1c0002row17_col3,#T_d6988afe_f079_11eb_8e0c_0242ac1c0002row17_col4,#T_d6988afe_f079_11eb_8e0c_0242ac1c0002row17_col5,#T_d6988afe_f079_11eb_8e0c_0242ac1c0002row17_col6,#T_d6988afe_f079_11eb_8e0c_0242ac1c0002row17_col7,#T_d6988afe_f079_11eb_8e0c_0242ac1c0002row17_col8,#T_d6988afe_f079_11eb_8e0c_0242ac1c0002row17_col9,#T_d6988afe_f079_11eb_8e0c_0242ac1c0002row17_col10,#T_d6988afe_f079_11eb_8e0c_0242ac1c0002row17_col11,#T_d6988afe_f079_11eb_8e0c_0242ac1c0002row17_col12,#T_d6988afe_f079_11eb_8e0c_0242ac1c0002row17_col19,#T_d6988afe_f079_11eb_8e0c_0242ac1c0002row17_col20,#T_d6988afe_f079_11eb_8e0c_0242ac1c0002row17_col21,#T_d6988afe_f079_11eb_8e0c_0242ac1c0002row17_col22,#T_d6988afe_f079_11eb_8e0c_0242ac1c0002row17_col23,#T_d6988afe_f079_11eb_8e0c_0242ac1c0002row17_col24,#T_d6988afe_f079_11eb_8e0c_0242ac1c0002row17_col25,#T_d6988afe_f079_11eb_8e0c_0242ac1c0002row17_col26,#T_d6988afe_f079_11eb_8e0c_0242ac1c0002row17_col27,#T_d6988afe_f079_11eb_8e0c_0242ac1c0002row18_col0,#T_d6988afe_f079_11eb_8e0c_0242ac1c0002row18_col1,#T_d6988afe_f079_11eb_8e0c_0242ac1c0002row18_col2,#T_d6988afe_f079_11eb_8e0c_0242ac1c0002row18_col3,#T_d6988afe_f079_11eb_8e0c_0242ac1c0002row18_col4,#T_d6988afe_f079_11eb_8e0c_0242ac1c0002row18_col5,#T_d6988afe_f079_11eb_8e0c_0242ac1c0002row18_col6,#T_d6988afe_f079_11eb_8e0c_0242ac1c0002row18_col7,#T_d6988afe_f079_11eb_8e0c_0242ac1c0002row18_col8,#T_d6988afe_f079_11eb_8e0c_0242ac1c0002row18_col9,#T_d6988afe_f079_11eb_8e0c_0242ac1c0002row18_col10,#T_d6988afe_f079_11eb_8e0c_0242ac1c0002row18_col11,#T_d6988afe_f079_11eb_8e0c_0242ac1c0002row18_col12,#T_d6988afe_f079_11eb_8e0c_0242ac1c0002row18_col18,#T_d6988afe_f079_11eb_8e0c_0242ac1c0002row18_col19,#T_d6988afe_f079_11eb_8e0c_0242ac1c0002row18_col20,#T_d6988afe_f079_11eb_8e0c_0242ac1c0002row18_col21,#T_d6988afe_f079_11eb_8e0c_0242ac1c0002row18_col22,#T_d6988afe_f079_11eb_8e0c_0242ac1c0002row18_col23,#T_d6988afe_f079_11eb_8e0c_0242ac1c0002row18_col24,#T_d6988afe_f079_11eb_8e0c_0242ac1c0002row18_col25,#T_d6988afe_f079_11eb_8e0c_0242ac1c0002row18_col26,#T_d6988afe_f079_11eb_8e0c_0242ac1c0002row18_col27,#T_d6988afe_f079_11eb_8e0c_0242ac1c0002row19_col0,#T_d6988afe_f079_11eb_8e0c_0242ac1c0002row19_col1,#T_d6988afe_f079_11eb_8e0c_0242ac1c0002row19_col2,#T_d6988afe_f079_11eb_8e0c_0242ac1c0002row19_col3,#T_d6988afe_f079_11eb_8e0c_0242ac1c0002row19_col4,#T_d6988afe_f079_11eb_8e0c_0242ac1c0002row19_col5,#T_d6988afe_f079_11eb_8e0c_0242ac1c0002row19_col6,#T_d6988afe_f079_11eb_8e0c_0242ac1c0002row19_col7,#T_d6988afe_f079_11eb_8e0c_0242ac1c0002row19_col8,#T_d6988afe_f079_11eb_8e0c_0242ac1c0002row19_col9,#T_d6988afe_f079_11eb_8e0c_0242ac1c0002row19_col10,#T_d6988afe_f079_11eb_8e0c_0242ac1c0002row19_col11,#T_d6988afe_f079_11eb_8e0c_0242ac1c0002row19_col12,#T_d6988afe_f079_11eb_8e0c_0242ac1c0002row19_col18,#T_d6988afe_f079_11eb_8e0c_0242ac1c0002row19_col19,#T_d6988afe_f079_11eb_8e0c_0242ac1c0002row19_col20,#T_d6988afe_f079_11eb_8e0c_0242ac1c0002row19_col21,#T_d6988afe_f079_11eb_8e0c_0242ac1c0002row19_col22,#T_d6988afe_f079_11eb_8e0c_0242ac1c0002row19_col23,#T_d6988afe_f079_11eb_8e0c_0242ac1c0002row19_col24,#T_d6988afe_f079_11eb_8e0c_0242ac1c0002row19_col25,#T_d6988afe_f079_11eb_8e0c_0242ac1c0002row19_col26,#T_d6988afe_f079_11eb_8e0c_0242ac1c0002row19_col27,#T_d6988afe_f079_11eb_8e0c_0242ac1c0002row20_col0,#T_d6988afe_f079_11eb_8e0c_0242ac1c0002row20_col1,#T_d6988afe_f079_11eb_8e0c_0242ac1c0002row20_col2,#T_d6988afe_f079_11eb_8e0c_0242ac1c0002row20_col3,#T_d6988afe_f079_11eb_8e0c_0242ac1c0002row20_col4,#T_d6988afe_f079_11eb_8e0c_0242ac1c0002row20_col5,#T_d6988afe_f079_11eb_8e0c_0242ac1c0002row20_col6,#T_d6988afe_f079_11eb_8e0c_0242ac1c0002row20_col7,#T_d6988afe_f079_11eb_8e0c_0242ac1c0002row20_col8,#T_d6988afe_f079_11eb_8e0c_0242ac1c0002row20_col9,#T_d6988afe_f079_11eb_8e0c_0242ac1c0002row20_col10,#T_d6988afe_f079_11eb_8e0c_0242ac1c0002row20_col11,#T_d6988afe_f079_11eb_8e0c_0242ac1c0002row20_col12,#T_d6988afe_f079_11eb_8e0c_0242ac1c0002row20_col18,#T_d6988afe_f079_11eb_8e0c_0242ac1c0002row20_col19,#T_d6988afe_f079_11eb_8e0c_0242ac1c0002row20_col20,#T_d6988afe_f079_11eb_8e0c_0242ac1c0002row20_col21,#T_d6988afe_f079_11eb_8e0c_0242ac1c0002row20_col22,#T_d6988afe_f079_11eb_8e0c_0242ac1c0002row20_col23,#T_d6988afe_f079_11eb_8e0c_0242ac1c0002row20_col24,#T_d6988afe_f079_11eb_8e0c_0242ac1c0002row20_col25,#T_d6988afe_f079_11eb_8e0c_0242ac1c0002row20_col26,#T_d6988afe_f079_11eb_8e0c_0242ac1c0002row20_col27,#T_d6988afe_f079_11eb_8e0c_0242ac1c0002row21_col0,#T_d6988afe_f079_11eb_8e0c_0242ac1c0002row21_col1,#T_d6988afe_f079_11eb_8e0c_0242ac1c0002row21_col2,#T_d6988afe_f079_11eb_8e0c_0242ac1c0002row21_col3,#T_d6988afe_f079_11eb_8e0c_0242ac1c0002row21_col4,#T_d6988afe_f079_11eb_8e0c_0242ac1c0002row21_col5,#T_d6988afe_f079_11eb_8e0c_0242ac1c0002row21_col6,#T_d6988afe_f079_11eb_8e0c_0242ac1c0002row21_col7,#T_d6988afe_f079_11eb_8e0c_0242ac1c0002row21_col8,#T_d6988afe_f079_11eb_8e0c_0242ac1c0002row21_col9,#T_d6988afe_f079_11eb_8e0c_0242ac1c0002row21_col10,#T_d6988afe_f079_11eb_8e0c_0242ac1c0002row21_col11,#T_d6988afe_f079_11eb_8e0c_0242ac1c0002row21_col12,#T_d6988afe_f079_11eb_8e0c_0242ac1c0002row21_col18,#T_d6988afe_f079_11eb_8e0c_0242ac1c0002row21_col19,#T_d6988afe_f079_11eb_8e0c_0242ac1c0002row21_col20,#T_d6988afe_f079_11eb_8e0c_0242ac1c0002row21_col21,#T_d6988afe_f079_11eb_8e0c_0242ac1c0002row21_col22,#T_d6988afe_f079_11eb_8e0c_0242ac1c0002row21_col23,#T_d6988afe_f079_11eb_8e0c_0242ac1c0002row21_col24,#T_d6988afe_f079_11eb_8e0c_0242ac1c0002row21_col25,#T_d6988afe_f079_11eb_8e0c_0242ac1c0002row21_col26,#T_d6988afe_f079_11eb_8e0c_0242ac1c0002row21_col27,#T_d6988afe_f079_11eb_8e0c_0242ac1c0002row22_col0,#T_d6988afe_f079_11eb_8e0c_0242ac1c0002row22_col1,#T_d6988afe_f079_11eb_8e0c_0242ac1c0002row22_col2,#T_d6988afe_f079_11eb_8e0c_0242ac1c0002row22_col3,#T_d6988afe_f079_11eb_8e0c_0242ac1c0002row22_col4,#T_d6988afe_f079_11eb_8e0c_0242ac1c0002row22_col5,#T_d6988afe_f079_11eb_8e0c_0242ac1c0002row22_col6,#T_d6988afe_f079_11eb_8e0c_0242ac1c0002row22_col7,#T_d6988afe_f079_11eb_8e0c_0242ac1c0002row22_col8,#T_d6988afe_f079_11eb_8e0c_0242ac1c0002row22_col9,#T_d6988afe_f079_11eb_8e0c_0242ac1c0002row22_col10,#T_d6988afe_f079_11eb_8e0c_0242ac1c0002row22_col11,#T_d6988afe_f079_11eb_8e0c_0242ac1c0002row22_col12,#T_d6988afe_f079_11eb_8e0c_0242ac1c0002row22_col19,#T_d6988afe_f079_11eb_8e0c_0242ac1c0002row22_col20,#T_d6988afe_f079_11eb_8e0c_0242ac1c0002row22_col21,#T_d6988afe_f079_11eb_8e0c_0242ac1c0002row22_col22,#T_d6988afe_f079_11eb_8e0c_0242ac1c0002row22_col23,#T_d6988afe_f079_11eb_8e0c_0242ac1c0002row22_col24,#T_d6988afe_f079_11eb_8e0c_0242ac1c0002row22_col25,#T_d6988afe_f079_11eb_8e0c_0242ac1c0002row22_col26,#T_d6988afe_f079_11eb_8e0c_0242ac1c0002row22_col27,#T_d6988afe_f079_11eb_8e0c_0242ac1c0002row23_col0,#T_d6988afe_f079_11eb_8e0c_0242ac1c0002row23_col1,#T_d6988afe_f079_11eb_8e0c_0242ac1c0002row23_col2,#T_d6988afe_f079_11eb_8e0c_0242ac1c0002row23_col3,#T_d6988afe_f079_11eb_8e0c_0242ac1c0002row23_col4,#T_d6988afe_f079_11eb_8e0c_0242ac1c0002row23_col5,#T_d6988afe_f079_11eb_8e0c_0242ac1c0002row23_col6,#T_d6988afe_f079_11eb_8e0c_0242ac1c0002row23_col7,#T_d6988afe_f079_11eb_8e0c_0242ac1c0002row23_col8,#T_d6988afe_f079_11eb_8e0c_0242ac1c0002row23_col9,#T_d6988afe_f079_11eb_8e0c_0242ac1c0002row23_col10,#T_d6988afe_f079_11eb_8e0c_0242ac1c0002row23_col11,#T_d6988afe_f079_11eb_8e0c_0242ac1c0002row23_col12,#T_d6988afe_f079_11eb_8e0c_0242ac1c0002row23_col19,#T_d6988afe_f079_11eb_8e0c_0242ac1c0002row23_col20,#T_d6988afe_f079_11eb_8e0c_0242ac1c0002row23_col21,#T_d6988afe_f079_11eb_8e0c_0242ac1c0002row23_col22,#T_d6988afe_f079_11eb_8e0c_0242ac1c0002row23_col23,#T_d6988afe_f079_11eb_8e0c_0242ac1c0002row23_col24,#T_d6988afe_f079_11eb_8e0c_0242ac1c0002row23_col25,#T_d6988afe_f079_11eb_8e0c_0242ac1c0002row23_col26,#T_d6988afe_f079_11eb_8e0c_0242ac1c0002row23_col27,#T_d6988afe_f079_11eb_8e0c_0242ac1c0002row24_col0,#T_d6988afe_f079_11eb_8e0c_0242ac1c0002row24_col1,#T_d6988afe_f079_11eb_8e0c_0242ac1c0002row24_col2,#T_d6988afe_f079_11eb_8e0c_0242ac1c0002row24_col3,#T_d6988afe_f079_11eb_8e0c_0242ac1c0002row24_col4,#T_d6988afe_f079_11eb_8e0c_0242ac1c0002row24_col5,#T_d6988afe_f079_11eb_8e0c_0242ac1c0002row24_col6,#T_d6988afe_f079_11eb_8e0c_0242ac1c0002row24_col7,#T_d6988afe_f079_11eb_8e0c_0242ac1c0002row24_col8,#T_d6988afe_f079_11eb_8e0c_0242ac1c0002row24_col9,#T_d6988afe_f079_11eb_8e0c_0242ac1c0002row24_col10,#T_d6988afe_f079_11eb_8e0c_0242ac1c0002row24_col11,#T_d6988afe_f079_11eb_8e0c_0242ac1c0002row24_col12,#T_d6988afe_f079_11eb_8e0c_0242ac1c0002row24_col19,#T_d6988afe_f079_11eb_8e0c_0242ac1c0002row24_col20,#T_d6988afe_f079_11eb_8e0c_0242ac1c0002row24_col21,#T_d6988afe_f079_11eb_8e0c_0242ac1c0002row24_col22,#T_d6988afe_f079_11eb_8e0c_0242ac1c0002row24_col23,#T_d6988afe_f079_11eb_8e0c_0242ac1c0002row24_col24,#T_d6988afe_f079_11eb_8e0c_0242ac1c0002row24_col25,#T_d6988afe_f079_11eb_8e0c_0242ac1c0002row24_col26,#T_d6988afe_f079_11eb_8e0c_0242ac1c0002row24_col27,#T_d6988afe_f079_11eb_8e0c_0242ac1c0002row25_col0,#T_d6988afe_f079_11eb_8e0c_0242ac1c0002row25_col1,#T_d6988afe_f079_11eb_8e0c_0242ac1c0002row25_col2,#T_d6988afe_f079_11eb_8e0c_0242ac1c0002row25_col3,#T_d6988afe_f079_11eb_8e0c_0242ac1c0002row25_col4,#T_d6988afe_f079_11eb_8e0c_0242ac1c0002row25_col5,#T_d6988afe_f079_11eb_8e0c_0242ac1c0002row25_col6,#T_d6988afe_f079_11eb_8e0c_0242ac1c0002row25_col7,#T_d6988afe_f079_11eb_8e0c_0242ac1c0002row25_col8,#T_d6988afe_f079_11eb_8e0c_0242ac1c0002row25_col9,#T_d6988afe_f079_11eb_8e0c_0242ac1c0002row25_col10,#T_d6988afe_f079_11eb_8e0c_0242ac1c0002row25_col11,#T_d6988afe_f079_11eb_8e0c_0242ac1c0002row25_col12,#T_d6988afe_f079_11eb_8e0c_0242ac1c0002row25_col19,#T_d6988afe_f079_11eb_8e0c_0242ac1c0002row25_col20,#T_d6988afe_f079_11eb_8e0c_0242ac1c0002row25_col21,#T_d6988afe_f079_11eb_8e0c_0242ac1c0002row25_col22,#T_d6988afe_f079_11eb_8e0c_0242ac1c0002row25_col23,#T_d6988afe_f079_11eb_8e0c_0242ac1c0002row25_col24,#T_d6988afe_f079_11eb_8e0c_0242ac1c0002row25_col25,#T_d6988afe_f079_11eb_8e0c_0242ac1c0002row25_col26,#T_d6988afe_f079_11eb_8e0c_0242ac1c0002row25_col27,#T_d6988afe_f079_11eb_8e0c_0242ac1c0002row26_col0,#T_d6988afe_f079_11eb_8e0c_0242ac1c0002row26_col1,#T_d6988afe_f079_11eb_8e0c_0242ac1c0002row26_col2,#T_d6988afe_f079_11eb_8e0c_0242ac1c0002row26_col3,#T_d6988afe_f079_11eb_8e0c_0242ac1c0002row26_col4,#T_d6988afe_f079_11eb_8e0c_0242ac1c0002row26_col5,#T_d6988afe_f079_11eb_8e0c_0242ac1c0002row26_col6,#T_d6988afe_f079_11eb_8e0c_0242ac1c0002row26_col7,#T_d6988afe_f079_11eb_8e0c_0242ac1c0002row26_col8,#T_d6988afe_f079_11eb_8e0c_0242ac1c0002row26_col9,#T_d6988afe_f079_11eb_8e0c_0242ac1c0002row26_col10,#T_d6988afe_f079_11eb_8e0c_0242ac1c0002row26_col11,#T_d6988afe_f079_11eb_8e0c_0242ac1c0002row26_col12,#T_d6988afe_f079_11eb_8e0c_0242ac1c0002row26_col13,#T_d6988afe_f079_11eb_8e0c_0242ac1c0002row26_col18,#T_d6988afe_f079_11eb_8e0c_0242ac1c0002row26_col19,#T_d6988afe_f079_11eb_8e0c_0242ac1c0002row26_col20,#T_d6988afe_f079_11eb_8e0c_0242ac1c0002row26_col21,#T_d6988afe_f079_11eb_8e0c_0242ac1c0002row26_col22,#T_d6988afe_f079_11eb_8e0c_0242ac1c0002row26_col23,#T_d6988afe_f079_11eb_8e0c_0242ac1c0002row26_col24,#T_d6988afe_f079_11eb_8e0c_0242ac1c0002row26_col25,#T_d6988afe_f079_11eb_8e0c_0242ac1c0002row26_col26,#T_d6988afe_f079_11eb_8e0c_0242ac1c0002row26_col27,#T_d6988afe_f079_11eb_8e0c_0242ac1c0002row27_col0,#T_d6988afe_f079_11eb_8e0c_0242ac1c0002row27_col1,#T_d6988afe_f079_11eb_8e0c_0242ac1c0002row27_col2,#T_d6988afe_f079_11eb_8e0c_0242ac1c0002row27_col3,#T_d6988afe_f079_11eb_8e0c_0242ac1c0002row27_col4,#T_d6988afe_f079_11eb_8e0c_0242ac1c0002row27_col5,#T_d6988afe_f079_11eb_8e0c_0242ac1c0002row27_col6,#T_d6988afe_f079_11eb_8e0c_0242ac1c0002row27_col7,#T_d6988afe_f079_11eb_8e0c_0242ac1c0002row27_col8,#T_d6988afe_f079_11eb_8e0c_0242ac1c0002row27_col9,#T_d6988afe_f079_11eb_8e0c_0242ac1c0002row27_col10,#T_d6988afe_f079_11eb_8e0c_0242ac1c0002row27_col11,#T_d6988afe_f079_11eb_8e0c_0242ac1c0002row27_col12,#T_d6988afe_f079_11eb_8e0c_0242ac1c0002row27_col13,#T_d6988afe_f079_11eb_8e0c_0242ac1c0002row27_col14,#T_d6988afe_f079_11eb_8e0c_0242ac1c0002row27_col15,#T_d6988afe_f079_11eb_8e0c_0242ac1c0002row27_col16,#T_d6988afe_f079_11eb_8e0c_0242ac1c0002row27_col17,#T_d6988afe_f079_11eb_8e0c_0242ac1c0002row27_col18,#T_d6988afe_f079_11eb_8e0c_0242ac1c0002row27_col19,#T_d6988afe_f079_11eb_8e0c_0242ac1c0002row27_col20,#T_d6988afe_f079_11eb_8e0c_0242ac1c0002row27_col21,#T_d6988afe_f079_11eb_8e0c_0242ac1c0002row27_col22,#T_d6988afe_f079_11eb_8e0c_0242ac1c0002row27_col23,#T_d6988afe_f079_11eb_8e0c_0242ac1c0002row27_col24,#T_d6988afe_f079_11eb_8e0c_0242ac1c0002row27_col25,#T_d6988afe_f079_11eb_8e0c_0242ac1c0002row27_col26,#T_d6988afe_f079_11eb_8e0c_0242ac1c0002row27_col27{\n",
              "            font-size:  6pt;\n",
              "            background-color:  #ffffff;\n",
              "            color:  #000000;\n",
              "        }#T_d6988afe_f079_11eb_8e0c_0242ac1c0002row7_col4{\n",
              "            font-size:  6pt;\n",
              "            background-color:  #f5f5f5;\n",
              "            color:  #000000;\n",
              "        }#T_d6988afe_f079_11eb_8e0c_0242ac1c0002row7_col5{\n",
              "            font-size:  6pt;\n",
              "            background-color:  #e1e1e1;\n",
              "            color:  #000000;\n",
              "        }#T_d6988afe_f079_11eb_8e0c_0242ac1c0002row7_col6{\n",
              "            font-size:  6pt;\n",
              "            background-color:  #2c2c2c;\n",
              "            color:  #f1f1f1;\n",
              "        }#T_d6988afe_f079_11eb_8e0c_0242ac1c0002row7_col7,#T_d6988afe_f079_11eb_8e0c_0242ac1c0002row7_col8,#T_d6988afe_f079_11eb_8e0c_0242ac1c0002row7_col9,#T_d6988afe_f079_11eb_8e0c_0242ac1c0002row7_col10,#T_d6988afe_f079_11eb_8e0c_0242ac1c0002row7_col11,#T_d6988afe_f079_11eb_8e0c_0242ac1c0002row7_col12,#T_d6988afe_f079_11eb_8e0c_0242ac1c0002row7_col13,#T_d6988afe_f079_11eb_8e0c_0242ac1c0002row7_col14,#T_d6988afe_f079_11eb_8e0c_0242ac1c0002row7_col16,#T_d6988afe_f079_11eb_8e0c_0242ac1c0002row7_col17,#T_d6988afe_f079_11eb_8e0c_0242ac1c0002row7_col18,#T_d6988afe_f079_11eb_8e0c_0242ac1c0002row7_col19,#T_d6988afe_f079_11eb_8e0c_0242ac1c0002row7_col20,#T_d6988afe_f079_11eb_8e0c_0242ac1c0002row7_col21,#T_d6988afe_f079_11eb_8e0c_0242ac1c0002row8_col5,#T_d6988afe_f079_11eb_8e0c_0242ac1c0002row8_col6,#T_d6988afe_f079_11eb_8e0c_0242ac1c0002row8_col21,#T_d6988afe_f079_11eb_8e0c_0242ac1c0002row9_col3,#T_d6988afe_f079_11eb_8e0c_0242ac1c0002row9_col4,#T_d6988afe_f079_11eb_8e0c_0242ac1c0002row9_col5,#T_d6988afe_f079_11eb_8e0c_0242ac1c0002row9_col6,#T_d6988afe_f079_11eb_8e0c_0242ac1c0002row10_col5,#T_d6988afe_f079_11eb_8e0c_0242ac1c0002row10_col6,#T_d6988afe_f079_11eb_8e0c_0242ac1c0002row11_col17,#T_d6988afe_f079_11eb_8e0c_0242ac1c0002row11_col18,#T_d6988afe_f079_11eb_8e0c_0242ac1c0002row15_col16,#T_d6988afe_f079_11eb_8e0c_0242ac1c0002row15_col17,#T_d6988afe_f079_11eb_8e0c_0242ac1c0002row19_col14,#T_d6988afe_f079_11eb_8e0c_0242ac1c0002row19_col16,#T_d6988afe_f079_11eb_8e0c_0242ac1c0002row23_col14,#T_d6988afe_f079_11eb_8e0c_0242ac1c0002row23_col15,#T_d6988afe_f079_11eb_8e0c_0242ac1c0002row23_col16,#T_d6988afe_f079_11eb_8e0c_0242ac1c0002row23_col17{\n",
              "            font-size:  6pt;\n",
              "            background-color:  #000000;\n",
              "            color:  #f1f1f1;\n",
              "        }#T_d6988afe_f079_11eb_8e0c_0242ac1c0002row7_col15,#T_d6988afe_f079_11eb_8e0c_0242ac1c0002row15_col15,#T_d6988afe_f079_11eb_8e0c_0242ac1c0002row19_col15{\n",
              "            font-size:  6pt;\n",
              "            background-color:  #010101;\n",
              "            color:  #f1f1f1;\n",
              "        }#T_d6988afe_f079_11eb_8e0c_0242ac1c0002row8_col3{\n",
              "            font-size:  6pt;\n",
              "            background-color:  #b2b2b2;\n",
              "            color:  #000000;\n",
              "        }#T_d6988afe_f079_11eb_8e0c_0242ac1c0002row8_col4{\n",
              "            font-size:  6pt;\n",
              "            background-color:  #6e6e6e;\n",
              "            color:  #000000;\n",
              "        }#T_d6988afe_f079_11eb_8e0c_0242ac1c0002row8_col7,#T_d6988afe_f079_11eb_8e0c_0242ac1c0002row8_col8,#T_d6988afe_f079_11eb_8e0c_0242ac1c0002row8_col9,#T_d6988afe_f079_11eb_8e0c_0242ac1c0002row8_col10,#T_d6988afe_f079_11eb_8e0c_0242ac1c0002row8_col11,#T_d6988afe_f079_11eb_8e0c_0242ac1c0002row8_col12,#T_d6988afe_f079_11eb_8e0c_0242ac1c0002row8_col13,#T_d6988afe_f079_11eb_8e0c_0242ac1c0002row8_col14,#T_d6988afe_f079_11eb_8e0c_0242ac1c0002row8_col16,#T_d6988afe_f079_11eb_8e0c_0242ac1c0002row8_col17,#T_d6988afe_f079_11eb_8e0c_0242ac1c0002row8_col18,#T_d6988afe_f079_11eb_8e0c_0242ac1c0002row8_col20,#T_d6988afe_f079_11eb_8e0c_0242ac1c0002row9_col7,#T_d6988afe_f079_11eb_8e0c_0242ac1c0002row9_col10,#T_d6988afe_f079_11eb_8e0c_0242ac1c0002row9_col11,#T_d6988afe_f079_11eb_8e0c_0242ac1c0002row9_col12,#T_d6988afe_f079_11eb_8e0c_0242ac1c0002row9_col13,#T_d6988afe_f079_11eb_8e0c_0242ac1c0002row9_col14,#T_d6988afe_f079_11eb_8e0c_0242ac1c0002row9_col16,#T_d6988afe_f079_11eb_8e0c_0242ac1c0002row9_col17,#T_d6988afe_f079_11eb_8e0c_0242ac1c0002row9_col18,#T_d6988afe_f079_11eb_8e0c_0242ac1c0002row10_col18,#T_d6988afe_f079_11eb_8e0c_0242ac1c0002row12_col16,#T_d6988afe_f079_11eb_8e0c_0242ac1c0002row12_col17,#T_d6988afe_f079_11eb_8e0c_0242ac1c0002row12_col18,#T_d6988afe_f079_11eb_8e0c_0242ac1c0002row13_col16,#T_d6988afe_f079_11eb_8e0c_0242ac1c0002row13_col17,#T_d6988afe_f079_11eb_8e0c_0242ac1c0002row13_col18,#T_d6988afe_f079_11eb_8e0c_0242ac1c0002row14_col16,#T_d6988afe_f079_11eb_8e0c_0242ac1c0002row14_col17,#T_d6988afe_f079_11eb_8e0c_0242ac1c0002row14_col18,#T_d6988afe_f079_11eb_8e0c_0242ac1c0002row16_col14,#T_d6988afe_f079_11eb_8e0c_0242ac1c0002row16_col16,#T_d6988afe_f079_11eb_8e0c_0242ac1c0002row16_col17,#T_d6988afe_f079_11eb_8e0c_0242ac1c0002row17_col14,#T_d6988afe_f079_11eb_8e0c_0242ac1c0002row17_col16,#T_d6988afe_f079_11eb_8e0c_0242ac1c0002row18_col14,#T_d6988afe_f079_11eb_8e0c_0242ac1c0002row18_col16,#T_d6988afe_f079_11eb_8e0c_0242ac1c0002row20_col14,#T_d6988afe_f079_11eb_8e0c_0242ac1c0002row20_col16,#T_d6988afe_f079_11eb_8e0c_0242ac1c0002row21_col14,#T_d6988afe_f079_11eb_8e0c_0242ac1c0002row21_col16,#T_d6988afe_f079_11eb_8e0c_0242ac1c0002row22_col14,#T_d6988afe_f079_11eb_8e0c_0242ac1c0002row22_col16,#T_d6988afe_f079_11eb_8e0c_0242ac1c0002row24_col14,#T_d6988afe_f079_11eb_8e0c_0242ac1c0002row24_col16,#T_d6988afe_f079_11eb_8e0c_0242ac1c0002row24_col17,#T_d6988afe_f079_11eb_8e0c_0242ac1c0002row25_col16{\n",
              "            font-size:  6pt;\n",
              "            background-color:  #020202;\n",
              "            color:  #f1f1f1;\n",
              "        }#T_d6988afe_f079_11eb_8e0c_0242ac1c0002row8_col15,#T_d6988afe_f079_11eb_8e0c_0242ac1c0002row8_col19,#T_d6988afe_f079_11eb_8e0c_0242ac1c0002row9_col15,#T_d6988afe_f079_11eb_8e0c_0242ac1c0002row9_col19,#T_d6988afe_f079_11eb_8e0c_0242ac1c0002row10_col19,#T_d6988afe_f079_11eb_8e0c_0242ac1c0002row14_col15,#T_d6988afe_f079_11eb_8e0c_0242ac1c0002row16_col15,#T_d6988afe_f079_11eb_8e0c_0242ac1c0002row17_col15,#T_d6988afe_f079_11eb_8e0c_0242ac1c0002row18_col15,#T_d6988afe_f079_11eb_8e0c_0242ac1c0002row20_col15,#T_d6988afe_f079_11eb_8e0c_0242ac1c0002row21_col15,#T_d6988afe_f079_11eb_8e0c_0242ac1c0002row22_col15,#T_d6988afe_f079_11eb_8e0c_0242ac1c0002row24_col15,#T_d6988afe_f079_11eb_8e0c_0242ac1c0002row25_col15{\n",
              "            font-size:  6pt;\n",
              "            background-color:  #030303;\n",
              "            color:  #f1f1f1;\n",
              "        }#T_d6988afe_f079_11eb_8e0c_0242ac1c0002row9_col8,#T_d6988afe_f079_11eb_8e0c_0242ac1c0002row9_col20{\n",
              "            font-size:  6pt;\n",
              "            background-color:  #515151;\n",
              "            color:  #f1f1f1;\n",
              "        }#T_d6988afe_f079_11eb_8e0c_0242ac1c0002row9_col9{\n",
              "            font-size:  6pt;\n",
              "            background-color:  #505050;\n",
              "            color:  #f1f1f1;\n",
              "        }#T_d6988afe_f079_11eb_8e0c_0242ac1c0002row9_col21{\n",
              "            font-size:  6pt;\n",
              "            background-color:  #b5b5b5;\n",
              "            color:  #000000;\n",
              "        }#T_d6988afe_f079_11eb_8e0c_0242ac1c0002row10_col3{\n",
              "            font-size:  6pt;\n",
              "            background-color:  #e3e3e3;\n",
              "            color:  #000000;\n",
              "        }#T_d6988afe_f079_11eb_8e0c_0242ac1c0002row10_col4{\n",
              "            font-size:  6pt;\n",
              "            background-color:  #909090;\n",
              "            color:  #000000;\n",
              "        }#T_d6988afe_f079_11eb_8e0c_0242ac1c0002row10_col7,#T_d6988afe_f079_11eb_8e0c_0242ac1c0002row10_col10,#T_d6988afe_f079_11eb_8e0c_0242ac1c0002row10_col11,#T_d6988afe_f079_11eb_8e0c_0242ac1c0002row10_col12,#T_d6988afe_f079_11eb_8e0c_0242ac1c0002row10_col13,#T_d6988afe_f079_11eb_8e0c_0242ac1c0002row10_col14,#T_d6988afe_f079_11eb_8e0c_0242ac1c0002row10_col15,#T_d6988afe_f079_11eb_8e0c_0242ac1c0002row10_col16,#T_d6988afe_f079_11eb_8e0c_0242ac1c0002row15_col18,#T_d6988afe_f079_11eb_8e0c_0242ac1c0002row16_col18,#T_d6988afe_f079_11eb_8e0c_0242ac1c0002row23_col18,#T_d6988afe_f079_11eb_8e0c_0242ac1c0002row24_col18,#T_d6988afe_f079_11eb_8e0c_0242ac1c0002row26_col16{\n",
              "            font-size:  6pt;\n",
              "            background-color:  #e4e4e4;\n",
              "            color:  #000000;\n",
              "        }#T_d6988afe_f079_11eb_8e0c_0242ac1c0002row10_col8,#T_d6988afe_f079_11eb_8e0c_0242ac1c0002row10_col9{\n",
              "            font-size:  6pt;\n",
              "            background-color:  #f1f1f1;\n",
              "            color:  #000000;\n",
              "        }#T_d6988afe_f079_11eb_8e0c_0242ac1c0002row10_col17,#T_d6988afe_f079_11eb_8e0c_0242ac1c0002row13_col15{\n",
              "            font-size:  6pt;\n",
              "            background-color:  #666666;\n",
              "            color:  #f1f1f1;\n",
              "        }#T_d6988afe_f079_11eb_8e0c_0242ac1c0002row10_col20{\n",
              "            font-size:  6pt;\n",
              "            background-color:  #7c7c7c;\n",
              "            color:  #000000;\n",
              "        }#T_d6988afe_f079_11eb_8e0c_0242ac1c0002row11_col15{\n",
              "            font-size:  6pt;\n",
              "            background-color:  #fafafa;\n",
              "            color:  #000000;\n",
              "        }#T_d6988afe_f079_11eb_8e0c_0242ac1c0002row11_col16{\n",
              "            font-size:  6pt;\n",
              "            background-color:  #8f8f8f;\n",
              "            color:  #000000;\n",
              "        }#T_d6988afe_f079_11eb_8e0c_0242ac1c0002row11_col19{\n",
              "            font-size:  6pt;\n",
              "            background-color:  #0d0d0d;\n",
              "            color:  #f1f1f1;\n",
              "        }#T_d6988afe_f079_11eb_8e0c_0242ac1c0002row11_col20{\n",
              "            font-size:  6pt;\n",
              "            background-color:  #9d9d9d;\n",
              "            color:  #000000;\n",
              "        }#T_d6988afe_f079_11eb_8e0c_0242ac1c0002row12_col15{\n",
              "            font-size:  6pt;\n",
              "            background-color:  #e2e2e2;\n",
              "            color:  #000000;\n",
              "        }#T_d6988afe_f079_11eb_8e0c_0242ac1c0002row12_col19{\n",
              "            font-size:  6pt;\n",
              "            background-color:  #434343;\n",
              "            color:  #f1f1f1;\n",
              "        }#T_d6988afe_f079_11eb_8e0c_0242ac1c0002row13_col19{\n",
              "            font-size:  6pt;\n",
              "            background-color:  #cbcbcb;\n",
              "            color:  #000000;\n",
              "        }#T_d6988afe_f079_11eb_8e0c_0242ac1c0002row15_col13{\n",
              "            font-size:  6pt;\n",
              "            background-color:  #f0f0f0;\n",
              "            color:  #000000;\n",
              "        }#T_d6988afe_f079_11eb_8e0c_0242ac1c0002row15_col14{\n",
              "            font-size:  6pt;\n",
              "            background-color:  #2f2f2f;\n",
              "            color:  #f1f1f1;\n",
              "        }#T_d6988afe_f079_11eb_8e0c_0242ac1c0002row16_col13,#T_d6988afe_f079_11eb_8e0c_0242ac1c0002row17_col13,#T_d6988afe_f079_11eb_8e0c_0242ac1c0002row18_col13,#T_d6988afe_f079_11eb_8e0c_0242ac1c0002row20_col13,#T_d6988afe_f079_11eb_8e0c_0242ac1c0002row21_col13,#T_d6988afe_f079_11eb_8e0c_0242ac1c0002row22_col13,#T_d6988afe_f079_11eb_8e0c_0242ac1c0002row24_col13{\n",
              "            font-size:  6pt;\n",
              "            background-color:  #7a7a7a;\n",
              "            color:  #000000;\n",
              "        }#T_d6988afe_f079_11eb_8e0c_0242ac1c0002row17_col17,#T_d6988afe_f079_11eb_8e0c_0242ac1c0002row25_col17{\n",
              "            font-size:  6pt;\n",
              "            background-color:  #717171;\n",
              "            color:  #000000;\n",
              "        }#T_d6988afe_f079_11eb_8e0c_0242ac1c0002row17_col18,#T_d6988afe_f079_11eb_8e0c_0242ac1c0002row25_col18,#T_d6988afe_f079_11eb_8e0c_0242ac1c0002row26_col17{\n",
              "            font-size:  6pt;\n",
              "            background-color:  #f6f6f6;\n",
              "            color:  #000000;\n",
              "        }#T_d6988afe_f079_11eb_8e0c_0242ac1c0002row18_col17,#T_d6988afe_f079_11eb_8e0c_0242ac1c0002row19_col17,#T_d6988afe_f079_11eb_8e0c_0242ac1c0002row20_col17,#T_d6988afe_f079_11eb_8e0c_0242ac1c0002row21_col17{\n",
              "            font-size:  6pt;\n",
              "            background-color:  #b6b6b6;\n",
              "            color:  #000000;\n",
              "        }#T_d6988afe_f079_11eb_8e0c_0242ac1c0002row19_col13{\n",
              "            font-size:  6pt;\n",
              "            background-color:  #797979;\n",
              "            color:  #000000;\n",
              "        }#T_d6988afe_f079_11eb_8e0c_0242ac1c0002row22_col17,#T_d6988afe_f079_11eb_8e0c_0242ac1c0002row25_col14{\n",
              "            font-size:  6pt;\n",
              "            background-color:  #242424;\n",
              "            color:  #f1f1f1;\n",
              "        }#T_d6988afe_f079_11eb_8e0c_0242ac1c0002row22_col18,#T_d6988afe_f079_11eb_8e0c_0242ac1c0002row26_col14{\n",
              "            font-size:  6pt;\n",
              "            background-color:  #eaeaea;\n",
              "            color:  #000000;\n",
              "        }#T_d6988afe_f079_11eb_8e0c_0242ac1c0002row23_col13{\n",
              "            font-size:  6pt;\n",
              "            background-color:  #787878;\n",
              "            color:  #000000;\n",
              "        }#T_d6988afe_f079_11eb_8e0c_0242ac1c0002row25_col13{\n",
              "            font-size:  6pt;\n",
              "            background-color:  #dcdcdc;\n",
              "            color:  #000000;\n",
              "        }#T_d6988afe_f079_11eb_8e0c_0242ac1c0002row26_col15{\n",
              "            font-size:  6pt;\n",
              "            background-color:  #353535;\n",
              "            color:  #f1f1f1;\n",
              "        }</style><table id=\"T_d6988afe_f079_11eb_8e0c_0242ac1c0002\" ><thead>    <tr>        <th class=\"blank level0\" ></th>        <th class=\"col_heading level0 col0\" >0</th>        <th class=\"col_heading level0 col1\" >1</th>        <th class=\"col_heading level0 col2\" >2</th>        <th class=\"col_heading level0 col3\" >3</th>        <th class=\"col_heading level0 col4\" >4</th>        <th class=\"col_heading level0 col5\" >5</th>        <th class=\"col_heading level0 col6\" >6</th>        <th class=\"col_heading level0 col7\" >7</th>        <th class=\"col_heading level0 col8\" >8</th>        <th class=\"col_heading level0 col9\" >9</th>        <th class=\"col_heading level0 col10\" >10</th>        <th class=\"col_heading level0 col11\" >11</th>        <th class=\"col_heading level0 col12\" >12</th>        <th class=\"col_heading level0 col13\" >13</th>        <th class=\"col_heading level0 col14\" >14</th>        <th class=\"col_heading level0 col15\" >15</th>        <th class=\"col_heading level0 col16\" >16</th>        <th class=\"col_heading level0 col17\" >17</th>        <th class=\"col_heading level0 col18\" >18</th>        <th class=\"col_heading level0 col19\" >19</th>        <th class=\"col_heading level0 col20\" >20</th>        <th class=\"col_heading level0 col21\" >21</th>        <th class=\"col_heading level0 col22\" >22</th>        <th class=\"col_heading level0 col23\" >23</th>        <th class=\"col_heading level0 col24\" >24</th>        <th class=\"col_heading level0 col25\" >25</th>        <th class=\"col_heading level0 col26\" >26</th>        <th class=\"col_heading level0 col27\" >27</th>    </tr></thead><tbody>\n",
              "                <tr>\n",
              "                        <th id=\"T_d6988afe_f079_11eb_8e0c_0242ac1c0002level0_row0\" class=\"row_heading level0 row0\" >0</th>\n",
              "                        <td id=\"T_d6988afe_f079_11eb_8e0c_0242ac1c0002row0_col0\" class=\"data row0 col0\" >0</td>\n",
              "                        <td id=\"T_d6988afe_f079_11eb_8e0c_0242ac1c0002row0_col1\" class=\"data row0 col1\" >0</td>\n",
              "                        <td id=\"T_d6988afe_f079_11eb_8e0c_0242ac1c0002row0_col2\" class=\"data row0 col2\" >0</td>\n",
              "                        <td id=\"T_d6988afe_f079_11eb_8e0c_0242ac1c0002row0_col3\" class=\"data row0 col3\" >0</td>\n",
              "                        <td id=\"T_d6988afe_f079_11eb_8e0c_0242ac1c0002row0_col4\" class=\"data row0 col4\" >0</td>\n",
              "                        <td id=\"T_d6988afe_f079_11eb_8e0c_0242ac1c0002row0_col5\" class=\"data row0 col5\" >0</td>\n",
              "                        <td id=\"T_d6988afe_f079_11eb_8e0c_0242ac1c0002row0_col6\" class=\"data row0 col6\" >0</td>\n",
              "                        <td id=\"T_d6988afe_f079_11eb_8e0c_0242ac1c0002row0_col7\" class=\"data row0 col7\" >0</td>\n",
              "                        <td id=\"T_d6988afe_f079_11eb_8e0c_0242ac1c0002row0_col8\" class=\"data row0 col8\" >0</td>\n",
              "                        <td id=\"T_d6988afe_f079_11eb_8e0c_0242ac1c0002row0_col9\" class=\"data row0 col9\" >0</td>\n",
              "                        <td id=\"T_d6988afe_f079_11eb_8e0c_0242ac1c0002row0_col10\" class=\"data row0 col10\" >0</td>\n",
              "                        <td id=\"T_d6988afe_f079_11eb_8e0c_0242ac1c0002row0_col11\" class=\"data row0 col11\" >0</td>\n",
              "                        <td id=\"T_d6988afe_f079_11eb_8e0c_0242ac1c0002row0_col12\" class=\"data row0 col12\" >0</td>\n",
              "                        <td id=\"T_d6988afe_f079_11eb_8e0c_0242ac1c0002row0_col13\" class=\"data row0 col13\" >0</td>\n",
              "                        <td id=\"T_d6988afe_f079_11eb_8e0c_0242ac1c0002row0_col14\" class=\"data row0 col14\" >0</td>\n",
              "                        <td id=\"T_d6988afe_f079_11eb_8e0c_0242ac1c0002row0_col15\" class=\"data row0 col15\" >0</td>\n",
              "                        <td id=\"T_d6988afe_f079_11eb_8e0c_0242ac1c0002row0_col16\" class=\"data row0 col16\" >0</td>\n",
              "                        <td id=\"T_d6988afe_f079_11eb_8e0c_0242ac1c0002row0_col17\" class=\"data row0 col17\" >0</td>\n",
              "                        <td id=\"T_d6988afe_f079_11eb_8e0c_0242ac1c0002row0_col18\" class=\"data row0 col18\" >0</td>\n",
              "                        <td id=\"T_d6988afe_f079_11eb_8e0c_0242ac1c0002row0_col19\" class=\"data row0 col19\" >0</td>\n",
              "                        <td id=\"T_d6988afe_f079_11eb_8e0c_0242ac1c0002row0_col20\" class=\"data row0 col20\" >0</td>\n",
              "                        <td id=\"T_d6988afe_f079_11eb_8e0c_0242ac1c0002row0_col21\" class=\"data row0 col21\" >0</td>\n",
              "                        <td id=\"T_d6988afe_f079_11eb_8e0c_0242ac1c0002row0_col22\" class=\"data row0 col22\" >0</td>\n",
              "                        <td id=\"T_d6988afe_f079_11eb_8e0c_0242ac1c0002row0_col23\" class=\"data row0 col23\" >0</td>\n",
              "                        <td id=\"T_d6988afe_f079_11eb_8e0c_0242ac1c0002row0_col24\" class=\"data row0 col24\" >0</td>\n",
              "                        <td id=\"T_d6988afe_f079_11eb_8e0c_0242ac1c0002row0_col25\" class=\"data row0 col25\" >0</td>\n",
              "                        <td id=\"T_d6988afe_f079_11eb_8e0c_0242ac1c0002row0_col26\" class=\"data row0 col26\" >0</td>\n",
              "                        <td id=\"T_d6988afe_f079_11eb_8e0c_0242ac1c0002row0_col27\" class=\"data row0 col27\" >0</td>\n",
              "            </tr>\n",
              "            <tr>\n",
              "                        <th id=\"T_d6988afe_f079_11eb_8e0c_0242ac1c0002level0_row1\" class=\"row_heading level0 row1\" >1</th>\n",
              "                        <td id=\"T_d6988afe_f079_11eb_8e0c_0242ac1c0002row1_col0\" class=\"data row1 col0\" >0</td>\n",
              "                        <td id=\"T_d6988afe_f079_11eb_8e0c_0242ac1c0002row1_col1\" class=\"data row1 col1\" >0</td>\n",
              "                        <td id=\"T_d6988afe_f079_11eb_8e0c_0242ac1c0002row1_col2\" class=\"data row1 col2\" >0</td>\n",
              "                        <td id=\"T_d6988afe_f079_11eb_8e0c_0242ac1c0002row1_col3\" class=\"data row1 col3\" >0</td>\n",
              "                        <td id=\"T_d6988afe_f079_11eb_8e0c_0242ac1c0002row1_col4\" class=\"data row1 col4\" >0</td>\n",
              "                        <td id=\"T_d6988afe_f079_11eb_8e0c_0242ac1c0002row1_col5\" class=\"data row1 col5\" >0</td>\n",
              "                        <td id=\"T_d6988afe_f079_11eb_8e0c_0242ac1c0002row1_col6\" class=\"data row1 col6\" >0</td>\n",
              "                        <td id=\"T_d6988afe_f079_11eb_8e0c_0242ac1c0002row1_col7\" class=\"data row1 col7\" >0</td>\n",
              "                        <td id=\"T_d6988afe_f079_11eb_8e0c_0242ac1c0002row1_col8\" class=\"data row1 col8\" >0</td>\n",
              "                        <td id=\"T_d6988afe_f079_11eb_8e0c_0242ac1c0002row1_col9\" class=\"data row1 col9\" >0</td>\n",
              "                        <td id=\"T_d6988afe_f079_11eb_8e0c_0242ac1c0002row1_col10\" class=\"data row1 col10\" >0</td>\n",
              "                        <td id=\"T_d6988afe_f079_11eb_8e0c_0242ac1c0002row1_col11\" class=\"data row1 col11\" >0</td>\n",
              "                        <td id=\"T_d6988afe_f079_11eb_8e0c_0242ac1c0002row1_col12\" class=\"data row1 col12\" >0</td>\n",
              "                        <td id=\"T_d6988afe_f079_11eb_8e0c_0242ac1c0002row1_col13\" class=\"data row1 col13\" >0</td>\n",
              "                        <td id=\"T_d6988afe_f079_11eb_8e0c_0242ac1c0002row1_col14\" class=\"data row1 col14\" >0</td>\n",
              "                        <td id=\"T_d6988afe_f079_11eb_8e0c_0242ac1c0002row1_col15\" class=\"data row1 col15\" >0</td>\n",
              "                        <td id=\"T_d6988afe_f079_11eb_8e0c_0242ac1c0002row1_col16\" class=\"data row1 col16\" >0</td>\n",
              "                        <td id=\"T_d6988afe_f079_11eb_8e0c_0242ac1c0002row1_col17\" class=\"data row1 col17\" >0</td>\n",
              "                        <td id=\"T_d6988afe_f079_11eb_8e0c_0242ac1c0002row1_col18\" class=\"data row1 col18\" >0</td>\n",
              "                        <td id=\"T_d6988afe_f079_11eb_8e0c_0242ac1c0002row1_col19\" class=\"data row1 col19\" >0</td>\n",
              "                        <td id=\"T_d6988afe_f079_11eb_8e0c_0242ac1c0002row1_col20\" class=\"data row1 col20\" >0</td>\n",
              "                        <td id=\"T_d6988afe_f079_11eb_8e0c_0242ac1c0002row1_col21\" class=\"data row1 col21\" >0</td>\n",
              "                        <td id=\"T_d6988afe_f079_11eb_8e0c_0242ac1c0002row1_col22\" class=\"data row1 col22\" >0</td>\n",
              "                        <td id=\"T_d6988afe_f079_11eb_8e0c_0242ac1c0002row1_col23\" class=\"data row1 col23\" >0</td>\n",
              "                        <td id=\"T_d6988afe_f079_11eb_8e0c_0242ac1c0002row1_col24\" class=\"data row1 col24\" >0</td>\n",
              "                        <td id=\"T_d6988afe_f079_11eb_8e0c_0242ac1c0002row1_col25\" class=\"data row1 col25\" >0</td>\n",
              "                        <td id=\"T_d6988afe_f079_11eb_8e0c_0242ac1c0002row1_col26\" class=\"data row1 col26\" >0</td>\n",
              "                        <td id=\"T_d6988afe_f079_11eb_8e0c_0242ac1c0002row1_col27\" class=\"data row1 col27\" >0</td>\n",
              "            </tr>\n",
              "            <tr>\n",
              "                        <th id=\"T_d6988afe_f079_11eb_8e0c_0242ac1c0002level0_row2\" class=\"row_heading level0 row2\" >2</th>\n",
              "                        <td id=\"T_d6988afe_f079_11eb_8e0c_0242ac1c0002row2_col0\" class=\"data row2 col0\" >0</td>\n",
              "                        <td id=\"T_d6988afe_f079_11eb_8e0c_0242ac1c0002row2_col1\" class=\"data row2 col1\" >0</td>\n",
              "                        <td id=\"T_d6988afe_f079_11eb_8e0c_0242ac1c0002row2_col2\" class=\"data row2 col2\" >0</td>\n",
              "                        <td id=\"T_d6988afe_f079_11eb_8e0c_0242ac1c0002row2_col3\" class=\"data row2 col3\" >0</td>\n",
              "                        <td id=\"T_d6988afe_f079_11eb_8e0c_0242ac1c0002row2_col4\" class=\"data row2 col4\" >0</td>\n",
              "                        <td id=\"T_d6988afe_f079_11eb_8e0c_0242ac1c0002row2_col5\" class=\"data row2 col5\" >0</td>\n",
              "                        <td id=\"T_d6988afe_f079_11eb_8e0c_0242ac1c0002row2_col6\" class=\"data row2 col6\" >0</td>\n",
              "                        <td id=\"T_d6988afe_f079_11eb_8e0c_0242ac1c0002row2_col7\" class=\"data row2 col7\" >0</td>\n",
              "                        <td id=\"T_d6988afe_f079_11eb_8e0c_0242ac1c0002row2_col8\" class=\"data row2 col8\" >0</td>\n",
              "                        <td id=\"T_d6988afe_f079_11eb_8e0c_0242ac1c0002row2_col9\" class=\"data row2 col9\" >0</td>\n",
              "                        <td id=\"T_d6988afe_f079_11eb_8e0c_0242ac1c0002row2_col10\" class=\"data row2 col10\" >0</td>\n",
              "                        <td id=\"T_d6988afe_f079_11eb_8e0c_0242ac1c0002row2_col11\" class=\"data row2 col11\" >0</td>\n",
              "                        <td id=\"T_d6988afe_f079_11eb_8e0c_0242ac1c0002row2_col12\" class=\"data row2 col12\" >0</td>\n",
              "                        <td id=\"T_d6988afe_f079_11eb_8e0c_0242ac1c0002row2_col13\" class=\"data row2 col13\" >0</td>\n",
              "                        <td id=\"T_d6988afe_f079_11eb_8e0c_0242ac1c0002row2_col14\" class=\"data row2 col14\" >0</td>\n",
              "                        <td id=\"T_d6988afe_f079_11eb_8e0c_0242ac1c0002row2_col15\" class=\"data row2 col15\" >0</td>\n",
              "                        <td id=\"T_d6988afe_f079_11eb_8e0c_0242ac1c0002row2_col16\" class=\"data row2 col16\" >0</td>\n",
              "                        <td id=\"T_d6988afe_f079_11eb_8e0c_0242ac1c0002row2_col17\" class=\"data row2 col17\" >0</td>\n",
              "                        <td id=\"T_d6988afe_f079_11eb_8e0c_0242ac1c0002row2_col18\" class=\"data row2 col18\" >0</td>\n",
              "                        <td id=\"T_d6988afe_f079_11eb_8e0c_0242ac1c0002row2_col19\" class=\"data row2 col19\" >0</td>\n",
              "                        <td id=\"T_d6988afe_f079_11eb_8e0c_0242ac1c0002row2_col20\" class=\"data row2 col20\" >0</td>\n",
              "                        <td id=\"T_d6988afe_f079_11eb_8e0c_0242ac1c0002row2_col21\" class=\"data row2 col21\" >0</td>\n",
              "                        <td id=\"T_d6988afe_f079_11eb_8e0c_0242ac1c0002row2_col22\" class=\"data row2 col22\" >0</td>\n",
              "                        <td id=\"T_d6988afe_f079_11eb_8e0c_0242ac1c0002row2_col23\" class=\"data row2 col23\" >0</td>\n",
              "                        <td id=\"T_d6988afe_f079_11eb_8e0c_0242ac1c0002row2_col24\" class=\"data row2 col24\" >0</td>\n",
              "                        <td id=\"T_d6988afe_f079_11eb_8e0c_0242ac1c0002row2_col25\" class=\"data row2 col25\" >0</td>\n",
              "                        <td id=\"T_d6988afe_f079_11eb_8e0c_0242ac1c0002row2_col26\" class=\"data row2 col26\" >0</td>\n",
              "                        <td id=\"T_d6988afe_f079_11eb_8e0c_0242ac1c0002row2_col27\" class=\"data row2 col27\" >0</td>\n",
              "            </tr>\n",
              "            <tr>\n",
              "                        <th id=\"T_d6988afe_f079_11eb_8e0c_0242ac1c0002level0_row3\" class=\"row_heading level0 row3\" >3</th>\n",
              "                        <td id=\"T_d6988afe_f079_11eb_8e0c_0242ac1c0002row3_col0\" class=\"data row3 col0\" >0</td>\n",
              "                        <td id=\"T_d6988afe_f079_11eb_8e0c_0242ac1c0002row3_col1\" class=\"data row3 col1\" >0</td>\n",
              "                        <td id=\"T_d6988afe_f079_11eb_8e0c_0242ac1c0002row3_col2\" class=\"data row3 col2\" >0</td>\n",
              "                        <td id=\"T_d6988afe_f079_11eb_8e0c_0242ac1c0002row3_col3\" class=\"data row3 col3\" >0</td>\n",
              "                        <td id=\"T_d6988afe_f079_11eb_8e0c_0242ac1c0002row3_col4\" class=\"data row3 col4\" >0</td>\n",
              "                        <td id=\"T_d6988afe_f079_11eb_8e0c_0242ac1c0002row3_col5\" class=\"data row3 col5\" >0</td>\n",
              "                        <td id=\"T_d6988afe_f079_11eb_8e0c_0242ac1c0002row3_col6\" class=\"data row3 col6\" >0</td>\n",
              "                        <td id=\"T_d6988afe_f079_11eb_8e0c_0242ac1c0002row3_col7\" class=\"data row3 col7\" >0</td>\n",
              "                        <td id=\"T_d6988afe_f079_11eb_8e0c_0242ac1c0002row3_col8\" class=\"data row3 col8\" >0</td>\n",
              "                        <td id=\"T_d6988afe_f079_11eb_8e0c_0242ac1c0002row3_col9\" class=\"data row3 col9\" >0</td>\n",
              "                        <td id=\"T_d6988afe_f079_11eb_8e0c_0242ac1c0002row3_col10\" class=\"data row3 col10\" >0</td>\n",
              "                        <td id=\"T_d6988afe_f079_11eb_8e0c_0242ac1c0002row3_col11\" class=\"data row3 col11\" >0</td>\n",
              "                        <td id=\"T_d6988afe_f079_11eb_8e0c_0242ac1c0002row3_col12\" class=\"data row3 col12\" >0</td>\n",
              "                        <td id=\"T_d6988afe_f079_11eb_8e0c_0242ac1c0002row3_col13\" class=\"data row3 col13\" >0</td>\n",
              "                        <td id=\"T_d6988afe_f079_11eb_8e0c_0242ac1c0002row3_col14\" class=\"data row3 col14\" >0</td>\n",
              "                        <td id=\"T_d6988afe_f079_11eb_8e0c_0242ac1c0002row3_col15\" class=\"data row3 col15\" >0</td>\n",
              "                        <td id=\"T_d6988afe_f079_11eb_8e0c_0242ac1c0002row3_col16\" class=\"data row3 col16\" >0</td>\n",
              "                        <td id=\"T_d6988afe_f079_11eb_8e0c_0242ac1c0002row3_col17\" class=\"data row3 col17\" >0</td>\n",
              "                        <td id=\"T_d6988afe_f079_11eb_8e0c_0242ac1c0002row3_col18\" class=\"data row3 col18\" >0</td>\n",
              "                        <td id=\"T_d6988afe_f079_11eb_8e0c_0242ac1c0002row3_col19\" class=\"data row3 col19\" >0</td>\n",
              "                        <td id=\"T_d6988afe_f079_11eb_8e0c_0242ac1c0002row3_col20\" class=\"data row3 col20\" >0</td>\n",
              "                        <td id=\"T_d6988afe_f079_11eb_8e0c_0242ac1c0002row3_col21\" class=\"data row3 col21\" >0</td>\n",
              "                        <td id=\"T_d6988afe_f079_11eb_8e0c_0242ac1c0002row3_col22\" class=\"data row3 col22\" >0</td>\n",
              "                        <td id=\"T_d6988afe_f079_11eb_8e0c_0242ac1c0002row3_col23\" class=\"data row3 col23\" >0</td>\n",
              "                        <td id=\"T_d6988afe_f079_11eb_8e0c_0242ac1c0002row3_col24\" class=\"data row3 col24\" >0</td>\n",
              "                        <td id=\"T_d6988afe_f079_11eb_8e0c_0242ac1c0002row3_col25\" class=\"data row3 col25\" >0</td>\n",
              "                        <td id=\"T_d6988afe_f079_11eb_8e0c_0242ac1c0002row3_col26\" class=\"data row3 col26\" >0</td>\n",
              "                        <td id=\"T_d6988afe_f079_11eb_8e0c_0242ac1c0002row3_col27\" class=\"data row3 col27\" >0</td>\n",
              "            </tr>\n",
              "            <tr>\n",
              "                        <th id=\"T_d6988afe_f079_11eb_8e0c_0242ac1c0002level0_row4\" class=\"row_heading level0 row4\" >4</th>\n",
              "                        <td id=\"T_d6988afe_f079_11eb_8e0c_0242ac1c0002row4_col0\" class=\"data row4 col0\" >0</td>\n",
              "                        <td id=\"T_d6988afe_f079_11eb_8e0c_0242ac1c0002row4_col1\" class=\"data row4 col1\" >0</td>\n",
              "                        <td id=\"T_d6988afe_f079_11eb_8e0c_0242ac1c0002row4_col2\" class=\"data row4 col2\" >0</td>\n",
              "                        <td id=\"T_d6988afe_f079_11eb_8e0c_0242ac1c0002row4_col3\" class=\"data row4 col3\" >0</td>\n",
              "                        <td id=\"T_d6988afe_f079_11eb_8e0c_0242ac1c0002row4_col4\" class=\"data row4 col4\" >0</td>\n",
              "                        <td id=\"T_d6988afe_f079_11eb_8e0c_0242ac1c0002row4_col5\" class=\"data row4 col5\" >0</td>\n",
              "                        <td id=\"T_d6988afe_f079_11eb_8e0c_0242ac1c0002row4_col6\" class=\"data row4 col6\" >0</td>\n",
              "                        <td id=\"T_d6988afe_f079_11eb_8e0c_0242ac1c0002row4_col7\" class=\"data row4 col7\" >0</td>\n",
              "                        <td id=\"T_d6988afe_f079_11eb_8e0c_0242ac1c0002row4_col8\" class=\"data row4 col8\" >0</td>\n",
              "                        <td id=\"T_d6988afe_f079_11eb_8e0c_0242ac1c0002row4_col9\" class=\"data row4 col9\" >0</td>\n",
              "                        <td id=\"T_d6988afe_f079_11eb_8e0c_0242ac1c0002row4_col10\" class=\"data row4 col10\" >0</td>\n",
              "                        <td id=\"T_d6988afe_f079_11eb_8e0c_0242ac1c0002row4_col11\" class=\"data row4 col11\" >0</td>\n",
              "                        <td id=\"T_d6988afe_f079_11eb_8e0c_0242ac1c0002row4_col12\" class=\"data row4 col12\" >0</td>\n",
              "                        <td id=\"T_d6988afe_f079_11eb_8e0c_0242ac1c0002row4_col13\" class=\"data row4 col13\" >0</td>\n",
              "                        <td id=\"T_d6988afe_f079_11eb_8e0c_0242ac1c0002row4_col14\" class=\"data row4 col14\" >0</td>\n",
              "                        <td id=\"T_d6988afe_f079_11eb_8e0c_0242ac1c0002row4_col15\" class=\"data row4 col15\" >0</td>\n",
              "                        <td id=\"T_d6988afe_f079_11eb_8e0c_0242ac1c0002row4_col16\" class=\"data row4 col16\" >0</td>\n",
              "                        <td id=\"T_d6988afe_f079_11eb_8e0c_0242ac1c0002row4_col17\" class=\"data row4 col17\" >0</td>\n",
              "                        <td id=\"T_d6988afe_f079_11eb_8e0c_0242ac1c0002row4_col18\" class=\"data row4 col18\" >0</td>\n",
              "                        <td id=\"T_d6988afe_f079_11eb_8e0c_0242ac1c0002row4_col19\" class=\"data row4 col19\" >0</td>\n",
              "                        <td id=\"T_d6988afe_f079_11eb_8e0c_0242ac1c0002row4_col20\" class=\"data row4 col20\" >0</td>\n",
              "                        <td id=\"T_d6988afe_f079_11eb_8e0c_0242ac1c0002row4_col21\" class=\"data row4 col21\" >0</td>\n",
              "                        <td id=\"T_d6988afe_f079_11eb_8e0c_0242ac1c0002row4_col22\" class=\"data row4 col22\" >0</td>\n",
              "                        <td id=\"T_d6988afe_f079_11eb_8e0c_0242ac1c0002row4_col23\" class=\"data row4 col23\" >0</td>\n",
              "                        <td id=\"T_d6988afe_f079_11eb_8e0c_0242ac1c0002row4_col24\" class=\"data row4 col24\" >0</td>\n",
              "                        <td id=\"T_d6988afe_f079_11eb_8e0c_0242ac1c0002row4_col25\" class=\"data row4 col25\" >0</td>\n",
              "                        <td id=\"T_d6988afe_f079_11eb_8e0c_0242ac1c0002row4_col26\" class=\"data row4 col26\" >0</td>\n",
              "                        <td id=\"T_d6988afe_f079_11eb_8e0c_0242ac1c0002row4_col27\" class=\"data row4 col27\" >0</td>\n",
              "            </tr>\n",
              "            <tr>\n",
              "                        <th id=\"T_d6988afe_f079_11eb_8e0c_0242ac1c0002level0_row5\" class=\"row_heading level0 row5\" >5</th>\n",
              "                        <td id=\"T_d6988afe_f079_11eb_8e0c_0242ac1c0002row5_col0\" class=\"data row5 col0\" >0</td>\n",
              "                        <td id=\"T_d6988afe_f079_11eb_8e0c_0242ac1c0002row5_col1\" class=\"data row5 col1\" >0</td>\n",
              "                        <td id=\"T_d6988afe_f079_11eb_8e0c_0242ac1c0002row5_col2\" class=\"data row5 col2\" >0</td>\n",
              "                        <td id=\"T_d6988afe_f079_11eb_8e0c_0242ac1c0002row5_col3\" class=\"data row5 col3\" >0</td>\n",
              "                        <td id=\"T_d6988afe_f079_11eb_8e0c_0242ac1c0002row5_col4\" class=\"data row5 col4\" >0</td>\n",
              "                        <td id=\"T_d6988afe_f079_11eb_8e0c_0242ac1c0002row5_col5\" class=\"data row5 col5\" >0</td>\n",
              "                        <td id=\"T_d6988afe_f079_11eb_8e0c_0242ac1c0002row5_col6\" class=\"data row5 col6\" >0</td>\n",
              "                        <td id=\"T_d6988afe_f079_11eb_8e0c_0242ac1c0002row5_col7\" class=\"data row5 col7\" >0</td>\n",
              "                        <td id=\"T_d6988afe_f079_11eb_8e0c_0242ac1c0002row5_col8\" class=\"data row5 col8\" >0</td>\n",
              "                        <td id=\"T_d6988afe_f079_11eb_8e0c_0242ac1c0002row5_col9\" class=\"data row5 col9\" >0</td>\n",
              "                        <td id=\"T_d6988afe_f079_11eb_8e0c_0242ac1c0002row5_col10\" class=\"data row5 col10\" >0</td>\n",
              "                        <td id=\"T_d6988afe_f079_11eb_8e0c_0242ac1c0002row5_col11\" class=\"data row5 col11\" >0</td>\n",
              "                        <td id=\"T_d6988afe_f079_11eb_8e0c_0242ac1c0002row5_col12\" class=\"data row5 col12\" >0</td>\n",
              "                        <td id=\"T_d6988afe_f079_11eb_8e0c_0242ac1c0002row5_col13\" class=\"data row5 col13\" >0</td>\n",
              "                        <td id=\"T_d6988afe_f079_11eb_8e0c_0242ac1c0002row5_col14\" class=\"data row5 col14\" >0</td>\n",
              "                        <td id=\"T_d6988afe_f079_11eb_8e0c_0242ac1c0002row5_col15\" class=\"data row5 col15\" >0</td>\n",
              "                        <td id=\"T_d6988afe_f079_11eb_8e0c_0242ac1c0002row5_col16\" class=\"data row5 col16\" >0</td>\n",
              "                        <td id=\"T_d6988afe_f079_11eb_8e0c_0242ac1c0002row5_col17\" class=\"data row5 col17\" >0</td>\n",
              "                        <td id=\"T_d6988afe_f079_11eb_8e0c_0242ac1c0002row5_col18\" class=\"data row5 col18\" >0</td>\n",
              "                        <td id=\"T_d6988afe_f079_11eb_8e0c_0242ac1c0002row5_col19\" class=\"data row5 col19\" >0</td>\n",
              "                        <td id=\"T_d6988afe_f079_11eb_8e0c_0242ac1c0002row5_col20\" class=\"data row5 col20\" >0</td>\n",
              "                        <td id=\"T_d6988afe_f079_11eb_8e0c_0242ac1c0002row5_col21\" class=\"data row5 col21\" >0</td>\n",
              "                        <td id=\"T_d6988afe_f079_11eb_8e0c_0242ac1c0002row5_col22\" class=\"data row5 col22\" >0</td>\n",
              "                        <td id=\"T_d6988afe_f079_11eb_8e0c_0242ac1c0002row5_col23\" class=\"data row5 col23\" >0</td>\n",
              "                        <td id=\"T_d6988afe_f079_11eb_8e0c_0242ac1c0002row5_col24\" class=\"data row5 col24\" >0</td>\n",
              "                        <td id=\"T_d6988afe_f079_11eb_8e0c_0242ac1c0002row5_col25\" class=\"data row5 col25\" >0</td>\n",
              "                        <td id=\"T_d6988afe_f079_11eb_8e0c_0242ac1c0002row5_col26\" class=\"data row5 col26\" >0</td>\n",
              "                        <td id=\"T_d6988afe_f079_11eb_8e0c_0242ac1c0002row5_col27\" class=\"data row5 col27\" >0</td>\n",
              "            </tr>\n",
              "            <tr>\n",
              "                        <th id=\"T_d6988afe_f079_11eb_8e0c_0242ac1c0002level0_row6\" class=\"row_heading level0 row6\" >6</th>\n",
              "                        <td id=\"T_d6988afe_f079_11eb_8e0c_0242ac1c0002row6_col0\" class=\"data row6 col0\" >0</td>\n",
              "                        <td id=\"T_d6988afe_f079_11eb_8e0c_0242ac1c0002row6_col1\" class=\"data row6 col1\" >0</td>\n",
              "                        <td id=\"T_d6988afe_f079_11eb_8e0c_0242ac1c0002row6_col2\" class=\"data row6 col2\" >0</td>\n",
              "                        <td id=\"T_d6988afe_f079_11eb_8e0c_0242ac1c0002row6_col3\" class=\"data row6 col3\" >0</td>\n",
              "                        <td id=\"T_d6988afe_f079_11eb_8e0c_0242ac1c0002row6_col4\" class=\"data row6 col4\" >0</td>\n",
              "                        <td id=\"T_d6988afe_f079_11eb_8e0c_0242ac1c0002row6_col5\" class=\"data row6 col5\" >0</td>\n",
              "                        <td id=\"T_d6988afe_f079_11eb_8e0c_0242ac1c0002row6_col6\" class=\"data row6 col6\" >0</td>\n",
              "                        <td id=\"T_d6988afe_f079_11eb_8e0c_0242ac1c0002row6_col7\" class=\"data row6 col7\" >0</td>\n",
              "                        <td id=\"T_d6988afe_f079_11eb_8e0c_0242ac1c0002row6_col8\" class=\"data row6 col8\" >0</td>\n",
              "                        <td id=\"T_d6988afe_f079_11eb_8e0c_0242ac1c0002row6_col9\" class=\"data row6 col9\" >0</td>\n",
              "                        <td id=\"T_d6988afe_f079_11eb_8e0c_0242ac1c0002row6_col10\" class=\"data row6 col10\" >0</td>\n",
              "                        <td id=\"T_d6988afe_f079_11eb_8e0c_0242ac1c0002row6_col11\" class=\"data row6 col11\" >0</td>\n",
              "                        <td id=\"T_d6988afe_f079_11eb_8e0c_0242ac1c0002row6_col12\" class=\"data row6 col12\" >0</td>\n",
              "                        <td id=\"T_d6988afe_f079_11eb_8e0c_0242ac1c0002row6_col13\" class=\"data row6 col13\" >0</td>\n",
              "                        <td id=\"T_d6988afe_f079_11eb_8e0c_0242ac1c0002row6_col14\" class=\"data row6 col14\" >0</td>\n",
              "                        <td id=\"T_d6988afe_f079_11eb_8e0c_0242ac1c0002row6_col15\" class=\"data row6 col15\" >0</td>\n",
              "                        <td id=\"T_d6988afe_f079_11eb_8e0c_0242ac1c0002row6_col16\" class=\"data row6 col16\" >0</td>\n",
              "                        <td id=\"T_d6988afe_f079_11eb_8e0c_0242ac1c0002row6_col17\" class=\"data row6 col17\" >0</td>\n",
              "                        <td id=\"T_d6988afe_f079_11eb_8e0c_0242ac1c0002row6_col18\" class=\"data row6 col18\" >0</td>\n",
              "                        <td id=\"T_d6988afe_f079_11eb_8e0c_0242ac1c0002row6_col19\" class=\"data row6 col19\" >0</td>\n",
              "                        <td id=\"T_d6988afe_f079_11eb_8e0c_0242ac1c0002row6_col20\" class=\"data row6 col20\" >0</td>\n",
              "                        <td id=\"T_d6988afe_f079_11eb_8e0c_0242ac1c0002row6_col21\" class=\"data row6 col21\" >0</td>\n",
              "                        <td id=\"T_d6988afe_f079_11eb_8e0c_0242ac1c0002row6_col22\" class=\"data row6 col22\" >0</td>\n",
              "                        <td id=\"T_d6988afe_f079_11eb_8e0c_0242ac1c0002row6_col23\" class=\"data row6 col23\" >0</td>\n",
              "                        <td id=\"T_d6988afe_f079_11eb_8e0c_0242ac1c0002row6_col24\" class=\"data row6 col24\" >0</td>\n",
              "                        <td id=\"T_d6988afe_f079_11eb_8e0c_0242ac1c0002row6_col25\" class=\"data row6 col25\" >0</td>\n",
              "                        <td id=\"T_d6988afe_f079_11eb_8e0c_0242ac1c0002row6_col26\" class=\"data row6 col26\" >0</td>\n",
              "                        <td id=\"T_d6988afe_f079_11eb_8e0c_0242ac1c0002row6_col27\" class=\"data row6 col27\" >0</td>\n",
              "            </tr>\n",
              "            <tr>\n",
              "                        <th id=\"T_d6988afe_f079_11eb_8e0c_0242ac1c0002level0_row7\" class=\"row_heading level0 row7\" >7</th>\n",
              "                        <td id=\"T_d6988afe_f079_11eb_8e0c_0242ac1c0002row7_col0\" class=\"data row7 col0\" >0</td>\n",
              "                        <td id=\"T_d6988afe_f079_11eb_8e0c_0242ac1c0002row7_col1\" class=\"data row7 col1\" >0</td>\n",
              "                        <td id=\"T_d6988afe_f079_11eb_8e0c_0242ac1c0002row7_col2\" class=\"data row7 col2\" >0</td>\n",
              "                        <td id=\"T_d6988afe_f079_11eb_8e0c_0242ac1c0002row7_col3\" class=\"data row7 col3\" >0</td>\n",
              "                        <td id=\"T_d6988afe_f079_11eb_8e0c_0242ac1c0002row7_col4\" class=\"data row7 col4\" >21</td>\n",
              "                        <td id=\"T_d6988afe_f079_11eb_8e0c_0242ac1c0002row7_col5\" class=\"data row7 col5\" >51</td>\n",
              "                        <td id=\"T_d6988afe_f079_11eb_8e0c_0242ac1c0002row7_col6\" class=\"data row7 col6\" >213</td>\n",
              "                        <td id=\"T_d6988afe_f079_11eb_8e0c_0242ac1c0002row7_col7\" class=\"data row7 col7\" >254</td>\n",
              "                        <td id=\"T_d6988afe_f079_11eb_8e0c_0242ac1c0002row7_col8\" class=\"data row7 col8\" >252</td>\n",
              "                        <td id=\"T_d6988afe_f079_11eb_8e0c_0242ac1c0002row7_col9\" class=\"data row7 col9\" >252</td>\n",
              "                        <td id=\"T_d6988afe_f079_11eb_8e0c_0242ac1c0002row7_col10\" class=\"data row7 col10\" >252</td>\n",
              "                        <td id=\"T_d6988afe_f079_11eb_8e0c_0242ac1c0002row7_col11\" class=\"data row7 col11\" >254</td>\n",
              "                        <td id=\"T_d6988afe_f079_11eb_8e0c_0242ac1c0002row7_col12\" class=\"data row7 col12\" >252</td>\n",
              "                        <td id=\"T_d6988afe_f079_11eb_8e0c_0242ac1c0002row7_col13\" class=\"data row7 col13\" >252</td>\n",
              "                        <td id=\"T_d6988afe_f079_11eb_8e0c_0242ac1c0002row7_col14\" class=\"data row7 col14\" >252</td>\n",
              "                        <td id=\"T_d6988afe_f079_11eb_8e0c_0242ac1c0002row7_col15\" class=\"data row7 col15\" >254</td>\n",
              "                        <td id=\"T_d6988afe_f079_11eb_8e0c_0242ac1c0002row7_col16\" class=\"data row7 col16\" >252</td>\n",
              "                        <td id=\"T_d6988afe_f079_11eb_8e0c_0242ac1c0002row7_col17\" class=\"data row7 col17\" >252</td>\n",
              "                        <td id=\"T_d6988afe_f079_11eb_8e0c_0242ac1c0002row7_col18\" class=\"data row7 col18\" >252</td>\n",
              "                        <td id=\"T_d6988afe_f079_11eb_8e0c_0242ac1c0002row7_col19\" class=\"data row7 col19\" >255</td>\n",
              "                        <td id=\"T_d6988afe_f079_11eb_8e0c_0242ac1c0002row7_col20\" class=\"data row7 col20\" >252</td>\n",
              "                        <td id=\"T_d6988afe_f079_11eb_8e0c_0242ac1c0002row7_col21\" class=\"data row7 col21\" >100</td>\n",
              "                        <td id=\"T_d6988afe_f079_11eb_8e0c_0242ac1c0002row7_col22\" class=\"data row7 col22\" >0</td>\n",
              "                        <td id=\"T_d6988afe_f079_11eb_8e0c_0242ac1c0002row7_col23\" class=\"data row7 col23\" >0</td>\n",
              "                        <td id=\"T_d6988afe_f079_11eb_8e0c_0242ac1c0002row7_col24\" class=\"data row7 col24\" >0</td>\n",
              "                        <td id=\"T_d6988afe_f079_11eb_8e0c_0242ac1c0002row7_col25\" class=\"data row7 col25\" >0</td>\n",
              "                        <td id=\"T_d6988afe_f079_11eb_8e0c_0242ac1c0002row7_col26\" class=\"data row7 col26\" >0</td>\n",
              "                        <td id=\"T_d6988afe_f079_11eb_8e0c_0242ac1c0002row7_col27\" class=\"data row7 col27\" >0</td>\n",
              "            </tr>\n",
              "            <tr>\n",
              "                        <th id=\"T_d6988afe_f079_11eb_8e0c_0242ac1c0002level0_row8\" class=\"row_heading level0 row8\" >8</th>\n",
              "                        <td id=\"T_d6988afe_f079_11eb_8e0c_0242ac1c0002row8_col0\" class=\"data row8 col0\" >0</td>\n",
              "                        <td id=\"T_d6988afe_f079_11eb_8e0c_0242ac1c0002row8_col1\" class=\"data row8 col1\" >0</td>\n",
              "                        <td id=\"T_d6988afe_f079_11eb_8e0c_0242ac1c0002row8_col2\" class=\"data row8 col2\" >0</td>\n",
              "                        <td id=\"T_d6988afe_f079_11eb_8e0c_0242ac1c0002row8_col3\" class=\"data row8 col3\" >21</td>\n",
              "                        <td id=\"T_d6988afe_f079_11eb_8e0c_0242ac1c0002row8_col4\" class=\"data row8 col4\" >161</td>\n",
              "                        <td id=\"T_d6988afe_f079_11eb_8e0c_0242ac1c0002row8_col5\" class=\"data row8 col5\" >250</td>\n",
              "                        <td id=\"T_d6988afe_f079_11eb_8e0c_0242ac1c0002row8_col6\" class=\"data row8 col6\" >250</td>\n",
              "                        <td id=\"T_d6988afe_f079_11eb_8e0c_0242ac1c0002row8_col7\" class=\"data row8 col7\" >252</td>\n",
              "                        <td id=\"T_d6988afe_f079_11eb_8e0c_0242ac1c0002row8_col8\" class=\"data row8 col8\" >250</td>\n",
              "                        <td id=\"T_d6988afe_f079_11eb_8e0c_0242ac1c0002row8_col9\" class=\"data row8 col9\" >250</td>\n",
              "                        <td id=\"T_d6988afe_f079_11eb_8e0c_0242ac1c0002row8_col10\" class=\"data row8 col10\" >250</td>\n",
              "                        <td id=\"T_d6988afe_f079_11eb_8e0c_0242ac1c0002row8_col11\" class=\"data row8 col11\" >252</td>\n",
              "                        <td id=\"T_d6988afe_f079_11eb_8e0c_0242ac1c0002row8_col12\" class=\"data row8 col12\" >250</td>\n",
              "                        <td id=\"T_d6988afe_f079_11eb_8e0c_0242ac1c0002row8_col13\" class=\"data row8 col13\" >250</td>\n",
              "                        <td id=\"T_d6988afe_f079_11eb_8e0c_0242ac1c0002row8_col14\" class=\"data row8 col14\" >250</td>\n",
              "                        <td id=\"T_d6988afe_f079_11eb_8e0c_0242ac1c0002row8_col15\" class=\"data row8 col15\" >252</td>\n",
              "                        <td id=\"T_d6988afe_f079_11eb_8e0c_0242ac1c0002row8_col16\" class=\"data row8 col16\" >250</td>\n",
              "                        <td id=\"T_d6988afe_f079_11eb_8e0c_0242ac1c0002row8_col17\" class=\"data row8 col17\" >250</td>\n",
              "                        <td id=\"T_d6988afe_f079_11eb_8e0c_0242ac1c0002row8_col18\" class=\"data row8 col18\" >250</td>\n",
              "                        <td id=\"T_d6988afe_f079_11eb_8e0c_0242ac1c0002row8_col19\" class=\"data row8 col19\" >252</td>\n",
              "                        <td id=\"T_d6988afe_f079_11eb_8e0c_0242ac1c0002row8_col20\" class=\"data row8 col20\" >250</td>\n",
              "                        <td id=\"T_d6988afe_f079_11eb_8e0c_0242ac1c0002row8_col21\" class=\"data row8 col21\" >100</td>\n",
              "                        <td id=\"T_d6988afe_f079_11eb_8e0c_0242ac1c0002row8_col22\" class=\"data row8 col22\" >0</td>\n",
              "                        <td id=\"T_d6988afe_f079_11eb_8e0c_0242ac1c0002row8_col23\" class=\"data row8 col23\" >0</td>\n",
              "                        <td id=\"T_d6988afe_f079_11eb_8e0c_0242ac1c0002row8_col24\" class=\"data row8 col24\" >0</td>\n",
              "                        <td id=\"T_d6988afe_f079_11eb_8e0c_0242ac1c0002row8_col25\" class=\"data row8 col25\" >0</td>\n",
              "                        <td id=\"T_d6988afe_f079_11eb_8e0c_0242ac1c0002row8_col26\" class=\"data row8 col26\" >0</td>\n",
              "                        <td id=\"T_d6988afe_f079_11eb_8e0c_0242ac1c0002row8_col27\" class=\"data row8 col27\" >0</td>\n",
              "            </tr>\n",
              "            <tr>\n",
              "                        <th id=\"T_d6988afe_f079_11eb_8e0c_0242ac1c0002level0_row9\" class=\"row_heading level0 row9\" >9</th>\n",
              "                        <td id=\"T_d6988afe_f079_11eb_8e0c_0242ac1c0002row9_col0\" class=\"data row9 col0\" >0</td>\n",
              "                        <td id=\"T_d6988afe_f079_11eb_8e0c_0242ac1c0002row9_col1\" class=\"data row9 col1\" >0</td>\n",
              "                        <td id=\"T_d6988afe_f079_11eb_8e0c_0242ac1c0002row9_col2\" class=\"data row9 col2\" >0</td>\n",
              "                        <td id=\"T_d6988afe_f079_11eb_8e0c_0242ac1c0002row9_col3\" class=\"data row9 col3\" >51</td>\n",
              "                        <td id=\"T_d6988afe_f079_11eb_8e0c_0242ac1c0002row9_col4\" class=\"data row9 col4\" >250</td>\n",
              "                        <td id=\"T_d6988afe_f079_11eb_8e0c_0242ac1c0002row9_col5\" class=\"data row9 col5\" >250</td>\n",
              "                        <td id=\"T_d6988afe_f079_11eb_8e0c_0242ac1c0002row9_col6\" class=\"data row9 col6\" >250</td>\n",
              "                        <td id=\"T_d6988afe_f079_11eb_8e0c_0242ac1c0002row9_col7\" class=\"data row9 col7\" >252</td>\n",
              "                        <td id=\"T_d6988afe_f079_11eb_8e0c_0242ac1c0002row9_col8\" class=\"data row9 col8\" >189</td>\n",
              "                        <td id=\"T_d6988afe_f079_11eb_8e0c_0242ac1c0002row9_col9\" class=\"data row9 col9\" >190</td>\n",
              "                        <td id=\"T_d6988afe_f079_11eb_8e0c_0242ac1c0002row9_col10\" class=\"data row9 col10\" >250</td>\n",
              "                        <td id=\"T_d6988afe_f079_11eb_8e0c_0242ac1c0002row9_col11\" class=\"data row9 col11\" >252</td>\n",
              "                        <td id=\"T_d6988afe_f079_11eb_8e0c_0242ac1c0002row9_col12\" class=\"data row9 col12\" >250</td>\n",
              "                        <td id=\"T_d6988afe_f079_11eb_8e0c_0242ac1c0002row9_col13\" class=\"data row9 col13\" >250</td>\n",
              "                        <td id=\"T_d6988afe_f079_11eb_8e0c_0242ac1c0002row9_col14\" class=\"data row9 col14\" >250</td>\n",
              "                        <td id=\"T_d6988afe_f079_11eb_8e0c_0242ac1c0002row9_col15\" class=\"data row9 col15\" >252</td>\n",
              "                        <td id=\"T_d6988afe_f079_11eb_8e0c_0242ac1c0002row9_col16\" class=\"data row9 col16\" >250</td>\n",
              "                        <td id=\"T_d6988afe_f079_11eb_8e0c_0242ac1c0002row9_col17\" class=\"data row9 col17\" >250</td>\n",
              "                        <td id=\"T_d6988afe_f079_11eb_8e0c_0242ac1c0002row9_col18\" class=\"data row9 col18\" >250</td>\n",
              "                        <td id=\"T_d6988afe_f079_11eb_8e0c_0242ac1c0002row9_col19\" class=\"data row9 col19\" >252</td>\n",
              "                        <td id=\"T_d6988afe_f079_11eb_8e0c_0242ac1c0002row9_col20\" class=\"data row9 col20\" >189</td>\n",
              "                        <td id=\"T_d6988afe_f079_11eb_8e0c_0242ac1c0002row9_col21\" class=\"data row9 col21\" >40</td>\n",
              "                        <td id=\"T_d6988afe_f079_11eb_8e0c_0242ac1c0002row9_col22\" class=\"data row9 col22\" >0</td>\n",
              "                        <td id=\"T_d6988afe_f079_11eb_8e0c_0242ac1c0002row9_col23\" class=\"data row9 col23\" >0</td>\n",
              "                        <td id=\"T_d6988afe_f079_11eb_8e0c_0242ac1c0002row9_col24\" class=\"data row9 col24\" >0</td>\n",
              "                        <td id=\"T_d6988afe_f079_11eb_8e0c_0242ac1c0002row9_col25\" class=\"data row9 col25\" >0</td>\n",
              "                        <td id=\"T_d6988afe_f079_11eb_8e0c_0242ac1c0002row9_col26\" class=\"data row9 col26\" >0</td>\n",
              "                        <td id=\"T_d6988afe_f079_11eb_8e0c_0242ac1c0002row9_col27\" class=\"data row9 col27\" >0</td>\n",
              "            </tr>\n",
              "            <tr>\n",
              "                        <th id=\"T_d6988afe_f079_11eb_8e0c_0242ac1c0002level0_row10\" class=\"row_heading level0 row10\" >10</th>\n",
              "                        <td id=\"T_d6988afe_f079_11eb_8e0c_0242ac1c0002row10_col0\" class=\"data row10 col0\" >0</td>\n",
              "                        <td id=\"T_d6988afe_f079_11eb_8e0c_0242ac1c0002row10_col1\" class=\"data row10 col1\" >0</td>\n",
              "                        <td id=\"T_d6988afe_f079_11eb_8e0c_0242ac1c0002row10_col2\" class=\"data row10 col2\" >0</td>\n",
              "                        <td id=\"T_d6988afe_f079_11eb_8e0c_0242ac1c0002row10_col3\" class=\"data row10 col3\" >10</td>\n",
              "                        <td id=\"T_d6988afe_f079_11eb_8e0c_0242ac1c0002row10_col4\" class=\"data row10 col4\" >130</td>\n",
              "                        <td id=\"T_d6988afe_f079_11eb_8e0c_0242ac1c0002row10_col5\" class=\"data row10 col5\" >250</td>\n",
              "                        <td id=\"T_d6988afe_f079_11eb_8e0c_0242ac1c0002row10_col6\" class=\"data row10 col6\" >250</td>\n",
              "                        <td id=\"T_d6988afe_f079_11eb_8e0c_0242ac1c0002row10_col7\" class=\"data row10 col7\" >49</td>\n",
              "                        <td id=\"T_d6988afe_f079_11eb_8e0c_0242ac1c0002row10_col8\" class=\"data row10 col8\" >29</td>\n",
              "                        <td id=\"T_d6988afe_f079_11eb_8e0c_0242ac1c0002row10_col9\" class=\"data row10 col9\" >30</td>\n",
              "                        <td id=\"T_d6988afe_f079_11eb_8e0c_0242ac1c0002row10_col10\" class=\"data row10 col10\" >49</td>\n",
              "                        <td id=\"T_d6988afe_f079_11eb_8e0c_0242ac1c0002row10_col11\" class=\"data row10 col11\" >49</td>\n",
              "                        <td id=\"T_d6988afe_f079_11eb_8e0c_0242ac1c0002row10_col12\" class=\"data row10 col12\" >49</td>\n",
              "                        <td id=\"T_d6988afe_f079_11eb_8e0c_0242ac1c0002row10_col13\" class=\"data row10 col13\" >49</td>\n",
              "                        <td id=\"T_d6988afe_f079_11eb_8e0c_0242ac1c0002row10_col14\" class=\"data row10 col14\" >49</td>\n",
              "                        <td id=\"T_d6988afe_f079_11eb_8e0c_0242ac1c0002row10_col15\" class=\"data row10 col15\" >49</td>\n",
              "                        <td id=\"T_d6988afe_f079_11eb_8e0c_0242ac1c0002row10_col16\" class=\"data row10 col16\" >49</td>\n",
              "                        <td id=\"T_d6988afe_f079_11eb_8e0c_0242ac1c0002row10_col17\" class=\"data row10 col17\" >170</td>\n",
              "                        <td id=\"T_d6988afe_f079_11eb_8e0c_0242ac1c0002row10_col18\" class=\"data row10 col18\" >250</td>\n",
              "                        <td id=\"T_d6988afe_f079_11eb_8e0c_0242ac1c0002row10_col19\" class=\"data row10 col19\" >252</td>\n",
              "                        <td id=\"T_d6988afe_f079_11eb_8e0c_0242ac1c0002row10_col20\" class=\"data row10 col20\" >149</td>\n",
              "                        <td id=\"T_d6988afe_f079_11eb_8e0c_0242ac1c0002row10_col21\" class=\"data row10 col21\" >0</td>\n",
              "                        <td id=\"T_d6988afe_f079_11eb_8e0c_0242ac1c0002row10_col22\" class=\"data row10 col22\" >0</td>\n",
              "                        <td id=\"T_d6988afe_f079_11eb_8e0c_0242ac1c0002row10_col23\" class=\"data row10 col23\" >0</td>\n",
              "                        <td id=\"T_d6988afe_f079_11eb_8e0c_0242ac1c0002row10_col24\" class=\"data row10 col24\" >0</td>\n",
              "                        <td id=\"T_d6988afe_f079_11eb_8e0c_0242ac1c0002row10_col25\" class=\"data row10 col25\" >0</td>\n",
              "                        <td id=\"T_d6988afe_f079_11eb_8e0c_0242ac1c0002row10_col26\" class=\"data row10 col26\" >0</td>\n",
              "                        <td id=\"T_d6988afe_f079_11eb_8e0c_0242ac1c0002row10_col27\" class=\"data row10 col27\" >0</td>\n",
              "            </tr>\n",
              "            <tr>\n",
              "                        <th id=\"T_d6988afe_f079_11eb_8e0c_0242ac1c0002level0_row11\" class=\"row_heading level0 row11\" >11</th>\n",
              "                        <td id=\"T_d6988afe_f079_11eb_8e0c_0242ac1c0002row11_col0\" class=\"data row11 col0\" >0</td>\n",
              "                        <td id=\"T_d6988afe_f079_11eb_8e0c_0242ac1c0002row11_col1\" class=\"data row11 col1\" >0</td>\n",
              "                        <td id=\"T_d6988afe_f079_11eb_8e0c_0242ac1c0002row11_col2\" class=\"data row11 col2\" >0</td>\n",
              "                        <td id=\"T_d6988afe_f079_11eb_8e0c_0242ac1c0002row11_col3\" class=\"data row11 col3\" >0</td>\n",
              "                        <td id=\"T_d6988afe_f079_11eb_8e0c_0242ac1c0002row11_col4\" class=\"data row11 col4\" >0</td>\n",
              "                        <td id=\"T_d6988afe_f079_11eb_8e0c_0242ac1c0002row11_col5\" class=\"data row11 col5\" >0</td>\n",
              "                        <td id=\"T_d6988afe_f079_11eb_8e0c_0242ac1c0002row11_col6\" class=\"data row11 col6\" >0</td>\n",
              "                        <td id=\"T_d6988afe_f079_11eb_8e0c_0242ac1c0002row11_col7\" class=\"data row11 col7\" >0</td>\n",
              "                        <td id=\"T_d6988afe_f079_11eb_8e0c_0242ac1c0002row11_col8\" class=\"data row11 col8\" >0</td>\n",
              "                        <td id=\"T_d6988afe_f079_11eb_8e0c_0242ac1c0002row11_col9\" class=\"data row11 col9\" >0</td>\n",
              "                        <td id=\"T_d6988afe_f079_11eb_8e0c_0242ac1c0002row11_col10\" class=\"data row11 col10\" >0</td>\n",
              "                        <td id=\"T_d6988afe_f079_11eb_8e0c_0242ac1c0002row11_col11\" class=\"data row11 col11\" >0</td>\n",
              "                        <td id=\"T_d6988afe_f079_11eb_8e0c_0242ac1c0002row11_col12\" class=\"data row11 col12\" >0</td>\n",
              "                        <td id=\"T_d6988afe_f079_11eb_8e0c_0242ac1c0002row11_col13\" class=\"data row11 col13\" >0</td>\n",
              "                        <td id=\"T_d6988afe_f079_11eb_8e0c_0242ac1c0002row11_col14\" class=\"data row11 col14\" >0</td>\n",
              "                        <td id=\"T_d6988afe_f079_11eb_8e0c_0242ac1c0002row11_col15\" class=\"data row11 col15\" >11</td>\n",
              "                        <td id=\"T_d6988afe_f079_11eb_8e0c_0242ac1c0002row11_col16\" class=\"data row11 col16\" >132</td>\n",
              "                        <td id=\"T_d6988afe_f079_11eb_8e0c_0242ac1c0002row11_col17\" class=\"data row11 col17\" >252</td>\n",
              "                        <td id=\"T_d6988afe_f079_11eb_8e0c_0242ac1c0002row11_col18\" class=\"data row11 col18\" >252</td>\n",
              "                        <td id=\"T_d6988afe_f079_11eb_8e0c_0242ac1c0002row11_col19\" class=\"data row11 col19\" >244</td>\n",
              "                        <td id=\"T_d6988afe_f079_11eb_8e0c_0242ac1c0002row11_col20\" class=\"data row11 col20\" >121</td>\n",
              "                        <td id=\"T_d6988afe_f079_11eb_8e0c_0242ac1c0002row11_col21\" class=\"data row11 col21\" >0</td>\n",
              "                        <td id=\"T_d6988afe_f079_11eb_8e0c_0242ac1c0002row11_col22\" class=\"data row11 col22\" >0</td>\n",
              "                        <td id=\"T_d6988afe_f079_11eb_8e0c_0242ac1c0002row11_col23\" class=\"data row11 col23\" >0</td>\n",
              "                        <td id=\"T_d6988afe_f079_11eb_8e0c_0242ac1c0002row11_col24\" class=\"data row11 col24\" >0</td>\n",
              "                        <td id=\"T_d6988afe_f079_11eb_8e0c_0242ac1c0002row11_col25\" class=\"data row11 col25\" >0</td>\n",
              "                        <td id=\"T_d6988afe_f079_11eb_8e0c_0242ac1c0002row11_col26\" class=\"data row11 col26\" >0</td>\n",
              "                        <td id=\"T_d6988afe_f079_11eb_8e0c_0242ac1c0002row11_col27\" class=\"data row11 col27\" >0</td>\n",
              "            </tr>\n",
              "            <tr>\n",
              "                        <th id=\"T_d6988afe_f079_11eb_8e0c_0242ac1c0002level0_row12\" class=\"row_heading level0 row12\" >12</th>\n",
              "                        <td id=\"T_d6988afe_f079_11eb_8e0c_0242ac1c0002row12_col0\" class=\"data row12 col0\" >0</td>\n",
              "                        <td id=\"T_d6988afe_f079_11eb_8e0c_0242ac1c0002row12_col1\" class=\"data row12 col1\" >0</td>\n",
              "                        <td id=\"T_d6988afe_f079_11eb_8e0c_0242ac1c0002row12_col2\" class=\"data row12 col2\" >0</td>\n",
              "                        <td id=\"T_d6988afe_f079_11eb_8e0c_0242ac1c0002row12_col3\" class=\"data row12 col3\" >0</td>\n",
              "                        <td id=\"T_d6988afe_f079_11eb_8e0c_0242ac1c0002row12_col4\" class=\"data row12 col4\" >0</td>\n",
              "                        <td id=\"T_d6988afe_f079_11eb_8e0c_0242ac1c0002row12_col5\" class=\"data row12 col5\" >0</td>\n",
              "                        <td id=\"T_d6988afe_f079_11eb_8e0c_0242ac1c0002row12_col6\" class=\"data row12 col6\" >0</td>\n",
              "                        <td id=\"T_d6988afe_f079_11eb_8e0c_0242ac1c0002row12_col7\" class=\"data row12 col7\" >0</td>\n",
              "                        <td id=\"T_d6988afe_f079_11eb_8e0c_0242ac1c0002row12_col8\" class=\"data row12 col8\" >0</td>\n",
              "                        <td id=\"T_d6988afe_f079_11eb_8e0c_0242ac1c0002row12_col9\" class=\"data row12 col9\" >0</td>\n",
              "                        <td id=\"T_d6988afe_f079_11eb_8e0c_0242ac1c0002row12_col10\" class=\"data row12 col10\" >0</td>\n",
              "                        <td id=\"T_d6988afe_f079_11eb_8e0c_0242ac1c0002row12_col11\" class=\"data row12 col11\" >0</td>\n",
              "                        <td id=\"T_d6988afe_f079_11eb_8e0c_0242ac1c0002row12_col12\" class=\"data row12 col12\" >0</td>\n",
              "                        <td id=\"T_d6988afe_f079_11eb_8e0c_0242ac1c0002row12_col13\" class=\"data row12 col13\" >0</td>\n",
              "                        <td id=\"T_d6988afe_f079_11eb_8e0c_0242ac1c0002row12_col14\" class=\"data row12 col14\" >0</td>\n",
              "                        <td id=\"T_d6988afe_f079_11eb_8e0c_0242ac1c0002row12_col15\" class=\"data row12 col15\" >51</td>\n",
              "                        <td id=\"T_d6988afe_f079_11eb_8e0c_0242ac1c0002row12_col16\" class=\"data row12 col16\" >250</td>\n",
              "                        <td id=\"T_d6988afe_f079_11eb_8e0c_0242ac1c0002row12_col17\" class=\"data row12 col17\" >250</td>\n",
              "                        <td id=\"T_d6988afe_f079_11eb_8e0c_0242ac1c0002row12_col18\" class=\"data row12 col18\" >250</td>\n",
              "                        <td id=\"T_d6988afe_f079_11eb_8e0c_0242ac1c0002row12_col19\" class=\"data row12 col19\" >202</td>\n",
              "                        <td id=\"T_d6988afe_f079_11eb_8e0c_0242ac1c0002row12_col20\" class=\"data row12 col20\" >0</td>\n",
              "                        <td id=\"T_d6988afe_f079_11eb_8e0c_0242ac1c0002row12_col21\" class=\"data row12 col21\" >0</td>\n",
              "                        <td id=\"T_d6988afe_f079_11eb_8e0c_0242ac1c0002row12_col22\" class=\"data row12 col22\" >0</td>\n",
              "                        <td id=\"T_d6988afe_f079_11eb_8e0c_0242ac1c0002row12_col23\" class=\"data row12 col23\" >0</td>\n",
              "                        <td id=\"T_d6988afe_f079_11eb_8e0c_0242ac1c0002row12_col24\" class=\"data row12 col24\" >0</td>\n",
              "                        <td id=\"T_d6988afe_f079_11eb_8e0c_0242ac1c0002row12_col25\" class=\"data row12 col25\" >0</td>\n",
              "                        <td id=\"T_d6988afe_f079_11eb_8e0c_0242ac1c0002row12_col26\" class=\"data row12 col26\" >0</td>\n",
              "                        <td id=\"T_d6988afe_f079_11eb_8e0c_0242ac1c0002row12_col27\" class=\"data row12 col27\" >0</td>\n",
              "            </tr>\n",
              "            <tr>\n",
              "                        <th id=\"T_d6988afe_f079_11eb_8e0c_0242ac1c0002level0_row13\" class=\"row_heading level0 row13\" >13</th>\n",
              "                        <td id=\"T_d6988afe_f079_11eb_8e0c_0242ac1c0002row13_col0\" class=\"data row13 col0\" >0</td>\n",
              "                        <td id=\"T_d6988afe_f079_11eb_8e0c_0242ac1c0002row13_col1\" class=\"data row13 col1\" >0</td>\n",
              "                        <td id=\"T_d6988afe_f079_11eb_8e0c_0242ac1c0002row13_col2\" class=\"data row13 col2\" >0</td>\n",
              "                        <td id=\"T_d6988afe_f079_11eb_8e0c_0242ac1c0002row13_col3\" class=\"data row13 col3\" >0</td>\n",
              "                        <td id=\"T_d6988afe_f079_11eb_8e0c_0242ac1c0002row13_col4\" class=\"data row13 col4\" >0</td>\n",
              "                        <td id=\"T_d6988afe_f079_11eb_8e0c_0242ac1c0002row13_col5\" class=\"data row13 col5\" >0</td>\n",
              "                        <td id=\"T_d6988afe_f079_11eb_8e0c_0242ac1c0002row13_col6\" class=\"data row13 col6\" >0</td>\n",
              "                        <td id=\"T_d6988afe_f079_11eb_8e0c_0242ac1c0002row13_col7\" class=\"data row13 col7\" >0</td>\n",
              "                        <td id=\"T_d6988afe_f079_11eb_8e0c_0242ac1c0002row13_col8\" class=\"data row13 col8\" >0</td>\n",
              "                        <td id=\"T_d6988afe_f079_11eb_8e0c_0242ac1c0002row13_col9\" class=\"data row13 col9\" >0</td>\n",
              "                        <td id=\"T_d6988afe_f079_11eb_8e0c_0242ac1c0002row13_col10\" class=\"data row13 col10\" >0</td>\n",
              "                        <td id=\"T_d6988afe_f079_11eb_8e0c_0242ac1c0002row13_col11\" class=\"data row13 col11\" >0</td>\n",
              "                        <td id=\"T_d6988afe_f079_11eb_8e0c_0242ac1c0002row13_col12\" class=\"data row13 col12\" >0</td>\n",
              "                        <td id=\"T_d6988afe_f079_11eb_8e0c_0242ac1c0002row13_col13\" class=\"data row13 col13\" >0</td>\n",
              "                        <td id=\"T_d6988afe_f079_11eb_8e0c_0242ac1c0002row13_col14\" class=\"data row13 col14\" >0</td>\n",
              "                        <td id=\"T_d6988afe_f079_11eb_8e0c_0242ac1c0002row13_col15\" class=\"data row13 col15\" >172</td>\n",
              "                        <td id=\"T_d6988afe_f079_11eb_8e0c_0242ac1c0002row13_col16\" class=\"data row13 col16\" >250</td>\n",
              "                        <td id=\"T_d6988afe_f079_11eb_8e0c_0242ac1c0002row13_col17\" class=\"data row13 col17\" >250</td>\n",
              "                        <td id=\"T_d6988afe_f079_11eb_8e0c_0242ac1c0002row13_col18\" class=\"data row13 col18\" >250</td>\n",
              "                        <td id=\"T_d6988afe_f079_11eb_8e0c_0242ac1c0002row13_col19\" class=\"data row13 col19\" >80</td>\n",
              "                        <td id=\"T_d6988afe_f079_11eb_8e0c_0242ac1c0002row13_col20\" class=\"data row13 col20\" >0</td>\n",
              "                        <td id=\"T_d6988afe_f079_11eb_8e0c_0242ac1c0002row13_col21\" class=\"data row13 col21\" >0</td>\n",
              "                        <td id=\"T_d6988afe_f079_11eb_8e0c_0242ac1c0002row13_col22\" class=\"data row13 col22\" >0</td>\n",
              "                        <td id=\"T_d6988afe_f079_11eb_8e0c_0242ac1c0002row13_col23\" class=\"data row13 col23\" >0</td>\n",
              "                        <td id=\"T_d6988afe_f079_11eb_8e0c_0242ac1c0002row13_col24\" class=\"data row13 col24\" >0</td>\n",
              "                        <td id=\"T_d6988afe_f079_11eb_8e0c_0242ac1c0002row13_col25\" class=\"data row13 col25\" >0</td>\n",
              "                        <td id=\"T_d6988afe_f079_11eb_8e0c_0242ac1c0002row13_col26\" class=\"data row13 col26\" >0</td>\n",
              "                        <td id=\"T_d6988afe_f079_11eb_8e0c_0242ac1c0002row13_col27\" class=\"data row13 col27\" >0</td>\n",
              "            </tr>\n",
              "            <tr>\n",
              "                        <th id=\"T_d6988afe_f079_11eb_8e0c_0242ac1c0002level0_row14\" class=\"row_heading level0 row14\" >14</th>\n",
              "                        <td id=\"T_d6988afe_f079_11eb_8e0c_0242ac1c0002row14_col0\" class=\"data row14 col0\" >0</td>\n",
              "                        <td id=\"T_d6988afe_f079_11eb_8e0c_0242ac1c0002row14_col1\" class=\"data row14 col1\" >0</td>\n",
              "                        <td id=\"T_d6988afe_f079_11eb_8e0c_0242ac1c0002row14_col2\" class=\"data row14 col2\" >0</td>\n",
              "                        <td id=\"T_d6988afe_f079_11eb_8e0c_0242ac1c0002row14_col3\" class=\"data row14 col3\" >0</td>\n",
              "                        <td id=\"T_d6988afe_f079_11eb_8e0c_0242ac1c0002row14_col4\" class=\"data row14 col4\" >0</td>\n",
              "                        <td id=\"T_d6988afe_f079_11eb_8e0c_0242ac1c0002row14_col5\" class=\"data row14 col5\" >0</td>\n",
              "                        <td id=\"T_d6988afe_f079_11eb_8e0c_0242ac1c0002row14_col6\" class=\"data row14 col6\" >0</td>\n",
              "                        <td id=\"T_d6988afe_f079_11eb_8e0c_0242ac1c0002row14_col7\" class=\"data row14 col7\" >0</td>\n",
              "                        <td id=\"T_d6988afe_f079_11eb_8e0c_0242ac1c0002row14_col8\" class=\"data row14 col8\" >0</td>\n",
              "                        <td id=\"T_d6988afe_f079_11eb_8e0c_0242ac1c0002row14_col9\" class=\"data row14 col9\" >0</td>\n",
              "                        <td id=\"T_d6988afe_f079_11eb_8e0c_0242ac1c0002row14_col10\" class=\"data row14 col10\" >0</td>\n",
              "                        <td id=\"T_d6988afe_f079_11eb_8e0c_0242ac1c0002row14_col11\" class=\"data row14 col11\" >0</td>\n",
              "                        <td id=\"T_d6988afe_f079_11eb_8e0c_0242ac1c0002row14_col12\" class=\"data row14 col12\" >0</td>\n",
              "                        <td id=\"T_d6988afe_f079_11eb_8e0c_0242ac1c0002row14_col13\" class=\"data row14 col13\" >0</td>\n",
              "                        <td id=\"T_d6988afe_f079_11eb_8e0c_0242ac1c0002row14_col14\" class=\"data row14 col14\" >0</td>\n",
              "                        <td id=\"T_d6988afe_f079_11eb_8e0c_0242ac1c0002row14_col15\" class=\"data row14 col15\" >252</td>\n",
              "                        <td id=\"T_d6988afe_f079_11eb_8e0c_0242ac1c0002row14_col16\" class=\"data row14 col16\" >250</td>\n",
              "                        <td id=\"T_d6988afe_f079_11eb_8e0c_0242ac1c0002row14_col17\" class=\"data row14 col17\" >250</td>\n",
              "                        <td id=\"T_d6988afe_f079_11eb_8e0c_0242ac1c0002row14_col18\" class=\"data row14 col18\" >250</td>\n",
              "                        <td id=\"T_d6988afe_f079_11eb_8e0c_0242ac1c0002row14_col19\" class=\"data row14 col19\" >0</td>\n",
              "                        <td id=\"T_d6988afe_f079_11eb_8e0c_0242ac1c0002row14_col20\" class=\"data row14 col20\" >0</td>\n",
              "                        <td id=\"T_d6988afe_f079_11eb_8e0c_0242ac1c0002row14_col21\" class=\"data row14 col21\" >0</td>\n",
              "                        <td id=\"T_d6988afe_f079_11eb_8e0c_0242ac1c0002row14_col22\" class=\"data row14 col22\" >0</td>\n",
              "                        <td id=\"T_d6988afe_f079_11eb_8e0c_0242ac1c0002row14_col23\" class=\"data row14 col23\" >0</td>\n",
              "                        <td id=\"T_d6988afe_f079_11eb_8e0c_0242ac1c0002row14_col24\" class=\"data row14 col24\" >0</td>\n",
              "                        <td id=\"T_d6988afe_f079_11eb_8e0c_0242ac1c0002row14_col25\" class=\"data row14 col25\" >0</td>\n",
              "                        <td id=\"T_d6988afe_f079_11eb_8e0c_0242ac1c0002row14_col26\" class=\"data row14 col26\" >0</td>\n",
              "                        <td id=\"T_d6988afe_f079_11eb_8e0c_0242ac1c0002row14_col27\" class=\"data row14 col27\" >0</td>\n",
              "            </tr>\n",
              "            <tr>\n",
              "                        <th id=\"T_d6988afe_f079_11eb_8e0c_0242ac1c0002level0_row15\" class=\"row_heading level0 row15\" >15</th>\n",
              "                        <td id=\"T_d6988afe_f079_11eb_8e0c_0242ac1c0002row15_col0\" class=\"data row15 col0\" >0</td>\n",
              "                        <td id=\"T_d6988afe_f079_11eb_8e0c_0242ac1c0002row15_col1\" class=\"data row15 col1\" >0</td>\n",
              "                        <td id=\"T_d6988afe_f079_11eb_8e0c_0242ac1c0002row15_col2\" class=\"data row15 col2\" >0</td>\n",
              "                        <td id=\"T_d6988afe_f079_11eb_8e0c_0242ac1c0002row15_col3\" class=\"data row15 col3\" >0</td>\n",
              "                        <td id=\"T_d6988afe_f079_11eb_8e0c_0242ac1c0002row15_col4\" class=\"data row15 col4\" >0</td>\n",
              "                        <td id=\"T_d6988afe_f079_11eb_8e0c_0242ac1c0002row15_col5\" class=\"data row15 col5\" >0</td>\n",
              "                        <td id=\"T_d6988afe_f079_11eb_8e0c_0242ac1c0002row15_col6\" class=\"data row15 col6\" >0</td>\n",
              "                        <td id=\"T_d6988afe_f079_11eb_8e0c_0242ac1c0002row15_col7\" class=\"data row15 col7\" >0</td>\n",
              "                        <td id=\"T_d6988afe_f079_11eb_8e0c_0242ac1c0002row15_col8\" class=\"data row15 col8\" >0</td>\n",
              "                        <td id=\"T_d6988afe_f079_11eb_8e0c_0242ac1c0002row15_col9\" class=\"data row15 col9\" >0</td>\n",
              "                        <td id=\"T_d6988afe_f079_11eb_8e0c_0242ac1c0002row15_col10\" class=\"data row15 col10\" >0</td>\n",
              "                        <td id=\"T_d6988afe_f079_11eb_8e0c_0242ac1c0002row15_col11\" class=\"data row15 col11\" >0</td>\n",
              "                        <td id=\"T_d6988afe_f079_11eb_8e0c_0242ac1c0002row15_col12\" class=\"data row15 col12\" >0</td>\n",
              "                        <td id=\"T_d6988afe_f079_11eb_8e0c_0242ac1c0002row15_col13\" class=\"data row15 col13\" >31</td>\n",
              "                        <td id=\"T_d6988afe_f079_11eb_8e0c_0242ac1c0002row15_col14\" class=\"data row15 col14\" >213</td>\n",
              "                        <td id=\"T_d6988afe_f079_11eb_8e0c_0242ac1c0002row15_col15\" class=\"data row15 col15\" >254</td>\n",
              "                        <td id=\"T_d6988afe_f079_11eb_8e0c_0242ac1c0002row15_col16\" class=\"data row15 col16\" >252</td>\n",
              "                        <td id=\"T_d6988afe_f079_11eb_8e0c_0242ac1c0002row15_col17\" class=\"data row15 col17\" >252</td>\n",
              "                        <td id=\"T_d6988afe_f079_11eb_8e0c_0242ac1c0002row15_col18\" class=\"data row15 col18\" >49</td>\n",
              "                        <td id=\"T_d6988afe_f079_11eb_8e0c_0242ac1c0002row15_col19\" class=\"data row15 col19\" >0</td>\n",
              "                        <td id=\"T_d6988afe_f079_11eb_8e0c_0242ac1c0002row15_col20\" class=\"data row15 col20\" >0</td>\n",
              "                        <td id=\"T_d6988afe_f079_11eb_8e0c_0242ac1c0002row15_col21\" class=\"data row15 col21\" >0</td>\n",
              "                        <td id=\"T_d6988afe_f079_11eb_8e0c_0242ac1c0002row15_col22\" class=\"data row15 col22\" >0</td>\n",
              "                        <td id=\"T_d6988afe_f079_11eb_8e0c_0242ac1c0002row15_col23\" class=\"data row15 col23\" >0</td>\n",
              "                        <td id=\"T_d6988afe_f079_11eb_8e0c_0242ac1c0002row15_col24\" class=\"data row15 col24\" >0</td>\n",
              "                        <td id=\"T_d6988afe_f079_11eb_8e0c_0242ac1c0002row15_col25\" class=\"data row15 col25\" >0</td>\n",
              "                        <td id=\"T_d6988afe_f079_11eb_8e0c_0242ac1c0002row15_col26\" class=\"data row15 col26\" >0</td>\n",
              "                        <td id=\"T_d6988afe_f079_11eb_8e0c_0242ac1c0002row15_col27\" class=\"data row15 col27\" >0</td>\n",
              "            </tr>\n",
              "            <tr>\n",
              "                        <th id=\"T_d6988afe_f079_11eb_8e0c_0242ac1c0002level0_row16\" class=\"row_heading level0 row16\" >16</th>\n",
              "                        <td id=\"T_d6988afe_f079_11eb_8e0c_0242ac1c0002row16_col0\" class=\"data row16 col0\" >0</td>\n",
              "                        <td id=\"T_d6988afe_f079_11eb_8e0c_0242ac1c0002row16_col1\" class=\"data row16 col1\" >0</td>\n",
              "                        <td id=\"T_d6988afe_f079_11eb_8e0c_0242ac1c0002row16_col2\" class=\"data row16 col2\" >0</td>\n",
              "                        <td id=\"T_d6988afe_f079_11eb_8e0c_0242ac1c0002row16_col3\" class=\"data row16 col3\" >0</td>\n",
              "                        <td id=\"T_d6988afe_f079_11eb_8e0c_0242ac1c0002row16_col4\" class=\"data row16 col4\" >0</td>\n",
              "                        <td id=\"T_d6988afe_f079_11eb_8e0c_0242ac1c0002row16_col5\" class=\"data row16 col5\" >0</td>\n",
              "                        <td id=\"T_d6988afe_f079_11eb_8e0c_0242ac1c0002row16_col6\" class=\"data row16 col6\" >0</td>\n",
              "                        <td id=\"T_d6988afe_f079_11eb_8e0c_0242ac1c0002row16_col7\" class=\"data row16 col7\" >0</td>\n",
              "                        <td id=\"T_d6988afe_f079_11eb_8e0c_0242ac1c0002row16_col8\" class=\"data row16 col8\" >0</td>\n",
              "                        <td id=\"T_d6988afe_f079_11eb_8e0c_0242ac1c0002row16_col9\" class=\"data row16 col9\" >0</td>\n",
              "                        <td id=\"T_d6988afe_f079_11eb_8e0c_0242ac1c0002row16_col10\" class=\"data row16 col10\" >0</td>\n",
              "                        <td id=\"T_d6988afe_f079_11eb_8e0c_0242ac1c0002row16_col11\" class=\"data row16 col11\" >0</td>\n",
              "                        <td id=\"T_d6988afe_f079_11eb_8e0c_0242ac1c0002row16_col12\" class=\"data row16 col12\" >0</td>\n",
              "                        <td id=\"T_d6988afe_f079_11eb_8e0c_0242ac1c0002row16_col13\" class=\"data row16 col13\" >151</td>\n",
              "                        <td id=\"T_d6988afe_f079_11eb_8e0c_0242ac1c0002row16_col14\" class=\"data row16 col14\" >250</td>\n",
              "                        <td id=\"T_d6988afe_f079_11eb_8e0c_0242ac1c0002row16_col15\" class=\"data row16 col15\" >252</td>\n",
              "                        <td id=\"T_d6988afe_f079_11eb_8e0c_0242ac1c0002row16_col16\" class=\"data row16 col16\" >250</td>\n",
              "                        <td id=\"T_d6988afe_f079_11eb_8e0c_0242ac1c0002row16_col17\" class=\"data row16 col17\" >250</td>\n",
              "                        <td id=\"T_d6988afe_f079_11eb_8e0c_0242ac1c0002row16_col18\" class=\"data row16 col18\" >49</td>\n",
              "                        <td id=\"T_d6988afe_f079_11eb_8e0c_0242ac1c0002row16_col19\" class=\"data row16 col19\" >0</td>\n",
              "                        <td id=\"T_d6988afe_f079_11eb_8e0c_0242ac1c0002row16_col20\" class=\"data row16 col20\" >0</td>\n",
              "                        <td id=\"T_d6988afe_f079_11eb_8e0c_0242ac1c0002row16_col21\" class=\"data row16 col21\" >0</td>\n",
              "                        <td id=\"T_d6988afe_f079_11eb_8e0c_0242ac1c0002row16_col22\" class=\"data row16 col22\" >0</td>\n",
              "                        <td id=\"T_d6988afe_f079_11eb_8e0c_0242ac1c0002row16_col23\" class=\"data row16 col23\" >0</td>\n",
              "                        <td id=\"T_d6988afe_f079_11eb_8e0c_0242ac1c0002row16_col24\" class=\"data row16 col24\" >0</td>\n",
              "                        <td id=\"T_d6988afe_f079_11eb_8e0c_0242ac1c0002row16_col25\" class=\"data row16 col25\" >0</td>\n",
              "                        <td id=\"T_d6988afe_f079_11eb_8e0c_0242ac1c0002row16_col26\" class=\"data row16 col26\" >0</td>\n",
              "                        <td id=\"T_d6988afe_f079_11eb_8e0c_0242ac1c0002row16_col27\" class=\"data row16 col27\" >0</td>\n",
              "            </tr>\n",
              "            <tr>\n",
              "                        <th id=\"T_d6988afe_f079_11eb_8e0c_0242ac1c0002level0_row17\" class=\"row_heading level0 row17\" >17</th>\n",
              "                        <td id=\"T_d6988afe_f079_11eb_8e0c_0242ac1c0002row17_col0\" class=\"data row17 col0\" >0</td>\n",
              "                        <td id=\"T_d6988afe_f079_11eb_8e0c_0242ac1c0002row17_col1\" class=\"data row17 col1\" >0</td>\n",
              "                        <td id=\"T_d6988afe_f079_11eb_8e0c_0242ac1c0002row17_col2\" class=\"data row17 col2\" >0</td>\n",
              "                        <td id=\"T_d6988afe_f079_11eb_8e0c_0242ac1c0002row17_col3\" class=\"data row17 col3\" >0</td>\n",
              "                        <td id=\"T_d6988afe_f079_11eb_8e0c_0242ac1c0002row17_col4\" class=\"data row17 col4\" >0</td>\n",
              "                        <td id=\"T_d6988afe_f079_11eb_8e0c_0242ac1c0002row17_col5\" class=\"data row17 col5\" >0</td>\n",
              "                        <td id=\"T_d6988afe_f079_11eb_8e0c_0242ac1c0002row17_col6\" class=\"data row17 col6\" >0</td>\n",
              "                        <td id=\"T_d6988afe_f079_11eb_8e0c_0242ac1c0002row17_col7\" class=\"data row17 col7\" >0</td>\n",
              "                        <td id=\"T_d6988afe_f079_11eb_8e0c_0242ac1c0002row17_col8\" class=\"data row17 col8\" >0</td>\n",
              "                        <td id=\"T_d6988afe_f079_11eb_8e0c_0242ac1c0002row17_col9\" class=\"data row17 col9\" >0</td>\n",
              "                        <td id=\"T_d6988afe_f079_11eb_8e0c_0242ac1c0002row17_col10\" class=\"data row17 col10\" >0</td>\n",
              "                        <td id=\"T_d6988afe_f079_11eb_8e0c_0242ac1c0002row17_col11\" class=\"data row17 col11\" >0</td>\n",
              "                        <td id=\"T_d6988afe_f079_11eb_8e0c_0242ac1c0002row17_col12\" class=\"data row17 col12\" >0</td>\n",
              "                        <td id=\"T_d6988afe_f079_11eb_8e0c_0242ac1c0002row17_col13\" class=\"data row17 col13\" >151</td>\n",
              "                        <td id=\"T_d6988afe_f079_11eb_8e0c_0242ac1c0002row17_col14\" class=\"data row17 col14\" >250</td>\n",
              "                        <td id=\"T_d6988afe_f079_11eb_8e0c_0242ac1c0002row17_col15\" class=\"data row17 col15\" >252</td>\n",
              "                        <td id=\"T_d6988afe_f079_11eb_8e0c_0242ac1c0002row17_col16\" class=\"data row17 col16\" >250</td>\n",
              "                        <td id=\"T_d6988afe_f079_11eb_8e0c_0242ac1c0002row17_col17\" class=\"data row17 col17\" >159</td>\n",
              "                        <td id=\"T_d6988afe_f079_11eb_8e0c_0242ac1c0002row17_col18\" class=\"data row17 col18\" >20</td>\n",
              "                        <td id=\"T_d6988afe_f079_11eb_8e0c_0242ac1c0002row17_col19\" class=\"data row17 col19\" >0</td>\n",
              "                        <td id=\"T_d6988afe_f079_11eb_8e0c_0242ac1c0002row17_col20\" class=\"data row17 col20\" >0</td>\n",
              "                        <td id=\"T_d6988afe_f079_11eb_8e0c_0242ac1c0002row17_col21\" class=\"data row17 col21\" >0</td>\n",
              "                        <td id=\"T_d6988afe_f079_11eb_8e0c_0242ac1c0002row17_col22\" class=\"data row17 col22\" >0</td>\n",
              "                        <td id=\"T_d6988afe_f079_11eb_8e0c_0242ac1c0002row17_col23\" class=\"data row17 col23\" >0</td>\n",
              "                        <td id=\"T_d6988afe_f079_11eb_8e0c_0242ac1c0002row17_col24\" class=\"data row17 col24\" >0</td>\n",
              "                        <td id=\"T_d6988afe_f079_11eb_8e0c_0242ac1c0002row17_col25\" class=\"data row17 col25\" >0</td>\n",
              "                        <td id=\"T_d6988afe_f079_11eb_8e0c_0242ac1c0002row17_col26\" class=\"data row17 col26\" >0</td>\n",
              "                        <td id=\"T_d6988afe_f079_11eb_8e0c_0242ac1c0002row17_col27\" class=\"data row17 col27\" >0</td>\n",
              "            </tr>\n",
              "            <tr>\n",
              "                        <th id=\"T_d6988afe_f079_11eb_8e0c_0242ac1c0002level0_row18\" class=\"row_heading level0 row18\" >18</th>\n",
              "                        <td id=\"T_d6988afe_f079_11eb_8e0c_0242ac1c0002row18_col0\" class=\"data row18 col0\" >0</td>\n",
              "                        <td id=\"T_d6988afe_f079_11eb_8e0c_0242ac1c0002row18_col1\" class=\"data row18 col1\" >0</td>\n",
              "                        <td id=\"T_d6988afe_f079_11eb_8e0c_0242ac1c0002row18_col2\" class=\"data row18 col2\" >0</td>\n",
              "                        <td id=\"T_d6988afe_f079_11eb_8e0c_0242ac1c0002row18_col3\" class=\"data row18 col3\" >0</td>\n",
              "                        <td id=\"T_d6988afe_f079_11eb_8e0c_0242ac1c0002row18_col4\" class=\"data row18 col4\" >0</td>\n",
              "                        <td id=\"T_d6988afe_f079_11eb_8e0c_0242ac1c0002row18_col5\" class=\"data row18 col5\" >0</td>\n",
              "                        <td id=\"T_d6988afe_f079_11eb_8e0c_0242ac1c0002row18_col6\" class=\"data row18 col6\" >0</td>\n",
              "                        <td id=\"T_d6988afe_f079_11eb_8e0c_0242ac1c0002row18_col7\" class=\"data row18 col7\" >0</td>\n",
              "                        <td id=\"T_d6988afe_f079_11eb_8e0c_0242ac1c0002row18_col8\" class=\"data row18 col8\" >0</td>\n",
              "                        <td id=\"T_d6988afe_f079_11eb_8e0c_0242ac1c0002row18_col9\" class=\"data row18 col9\" >0</td>\n",
              "                        <td id=\"T_d6988afe_f079_11eb_8e0c_0242ac1c0002row18_col10\" class=\"data row18 col10\" >0</td>\n",
              "                        <td id=\"T_d6988afe_f079_11eb_8e0c_0242ac1c0002row18_col11\" class=\"data row18 col11\" >0</td>\n",
              "                        <td id=\"T_d6988afe_f079_11eb_8e0c_0242ac1c0002row18_col12\" class=\"data row18 col12\" >0</td>\n",
              "                        <td id=\"T_d6988afe_f079_11eb_8e0c_0242ac1c0002row18_col13\" class=\"data row18 col13\" >151</td>\n",
              "                        <td id=\"T_d6988afe_f079_11eb_8e0c_0242ac1c0002row18_col14\" class=\"data row18 col14\" >250</td>\n",
              "                        <td id=\"T_d6988afe_f079_11eb_8e0c_0242ac1c0002row18_col15\" class=\"data row18 col15\" >252</td>\n",
              "                        <td id=\"T_d6988afe_f079_11eb_8e0c_0242ac1c0002row18_col16\" class=\"data row18 col16\" >250</td>\n",
              "                        <td id=\"T_d6988afe_f079_11eb_8e0c_0242ac1c0002row18_col17\" class=\"data row18 col17\" >100</td>\n",
              "                        <td id=\"T_d6988afe_f079_11eb_8e0c_0242ac1c0002row18_col18\" class=\"data row18 col18\" >0</td>\n",
              "                        <td id=\"T_d6988afe_f079_11eb_8e0c_0242ac1c0002row18_col19\" class=\"data row18 col19\" >0</td>\n",
              "                        <td id=\"T_d6988afe_f079_11eb_8e0c_0242ac1c0002row18_col20\" class=\"data row18 col20\" >0</td>\n",
              "                        <td id=\"T_d6988afe_f079_11eb_8e0c_0242ac1c0002row18_col21\" class=\"data row18 col21\" >0</td>\n",
              "                        <td id=\"T_d6988afe_f079_11eb_8e0c_0242ac1c0002row18_col22\" class=\"data row18 col22\" >0</td>\n",
              "                        <td id=\"T_d6988afe_f079_11eb_8e0c_0242ac1c0002row18_col23\" class=\"data row18 col23\" >0</td>\n",
              "                        <td id=\"T_d6988afe_f079_11eb_8e0c_0242ac1c0002row18_col24\" class=\"data row18 col24\" >0</td>\n",
              "                        <td id=\"T_d6988afe_f079_11eb_8e0c_0242ac1c0002row18_col25\" class=\"data row18 col25\" >0</td>\n",
              "                        <td id=\"T_d6988afe_f079_11eb_8e0c_0242ac1c0002row18_col26\" class=\"data row18 col26\" >0</td>\n",
              "                        <td id=\"T_d6988afe_f079_11eb_8e0c_0242ac1c0002row18_col27\" class=\"data row18 col27\" >0</td>\n",
              "            </tr>\n",
              "            <tr>\n",
              "                        <th id=\"T_d6988afe_f079_11eb_8e0c_0242ac1c0002level0_row19\" class=\"row_heading level0 row19\" >19</th>\n",
              "                        <td id=\"T_d6988afe_f079_11eb_8e0c_0242ac1c0002row19_col0\" class=\"data row19 col0\" >0</td>\n",
              "                        <td id=\"T_d6988afe_f079_11eb_8e0c_0242ac1c0002row19_col1\" class=\"data row19 col1\" >0</td>\n",
              "                        <td id=\"T_d6988afe_f079_11eb_8e0c_0242ac1c0002row19_col2\" class=\"data row19 col2\" >0</td>\n",
              "                        <td id=\"T_d6988afe_f079_11eb_8e0c_0242ac1c0002row19_col3\" class=\"data row19 col3\" >0</td>\n",
              "                        <td id=\"T_d6988afe_f079_11eb_8e0c_0242ac1c0002row19_col4\" class=\"data row19 col4\" >0</td>\n",
              "                        <td id=\"T_d6988afe_f079_11eb_8e0c_0242ac1c0002row19_col5\" class=\"data row19 col5\" >0</td>\n",
              "                        <td id=\"T_d6988afe_f079_11eb_8e0c_0242ac1c0002row19_col6\" class=\"data row19 col6\" >0</td>\n",
              "                        <td id=\"T_d6988afe_f079_11eb_8e0c_0242ac1c0002row19_col7\" class=\"data row19 col7\" >0</td>\n",
              "                        <td id=\"T_d6988afe_f079_11eb_8e0c_0242ac1c0002row19_col8\" class=\"data row19 col8\" >0</td>\n",
              "                        <td id=\"T_d6988afe_f079_11eb_8e0c_0242ac1c0002row19_col9\" class=\"data row19 col9\" >0</td>\n",
              "                        <td id=\"T_d6988afe_f079_11eb_8e0c_0242ac1c0002row19_col10\" class=\"data row19 col10\" >0</td>\n",
              "                        <td id=\"T_d6988afe_f079_11eb_8e0c_0242ac1c0002row19_col11\" class=\"data row19 col11\" >0</td>\n",
              "                        <td id=\"T_d6988afe_f079_11eb_8e0c_0242ac1c0002row19_col12\" class=\"data row19 col12\" >0</td>\n",
              "                        <td id=\"T_d6988afe_f079_11eb_8e0c_0242ac1c0002row19_col13\" class=\"data row19 col13\" >152</td>\n",
              "                        <td id=\"T_d6988afe_f079_11eb_8e0c_0242ac1c0002row19_col14\" class=\"data row19 col14\" >252</td>\n",
              "                        <td id=\"T_d6988afe_f079_11eb_8e0c_0242ac1c0002row19_col15\" class=\"data row19 col15\" >254</td>\n",
              "                        <td id=\"T_d6988afe_f079_11eb_8e0c_0242ac1c0002row19_col16\" class=\"data row19 col16\" >252</td>\n",
              "                        <td id=\"T_d6988afe_f079_11eb_8e0c_0242ac1c0002row19_col17\" class=\"data row19 col17\" >100</td>\n",
              "                        <td id=\"T_d6988afe_f079_11eb_8e0c_0242ac1c0002row19_col18\" class=\"data row19 col18\" >0</td>\n",
              "                        <td id=\"T_d6988afe_f079_11eb_8e0c_0242ac1c0002row19_col19\" class=\"data row19 col19\" >0</td>\n",
              "                        <td id=\"T_d6988afe_f079_11eb_8e0c_0242ac1c0002row19_col20\" class=\"data row19 col20\" >0</td>\n",
              "                        <td id=\"T_d6988afe_f079_11eb_8e0c_0242ac1c0002row19_col21\" class=\"data row19 col21\" >0</td>\n",
              "                        <td id=\"T_d6988afe_f079_11eb_8e0c_0242ac1c0002row19_col22\" class=\"data row19 col22\" >0</td>\n",
              "                        <td id=\"T_d6988afe_f079_11eb_8e0c_0242ac1c0002row19_col23\" class=\"data row19 col23\" >0</td>\n",
              "                        <td id=\"T_d6988afe_f079_11eb_8e0c_0242ac1c0002row19_col24\" class=\"data row19 col24\" >0</td>\n",
              "                        <td id=\"T_d6988afe_f079_11eb_8e0c_0242ac1c0002row19_col25\" class=\"data row19 col25\" >0</td>\n",
              "                        <td id=\"T_d6988afe_f079_11eb_8e0c_0242ac1c0002row19_col26\" class=\"data row19 col26\" >0</td>\n",
              "                        <td id=\"T_d6988afe_f079_11eb_8e0c_0242ac1c0002row19_col27\" class=\"data row19 col27\" >0</td>\n",
              "            </tr>\n",
              "            <tr>\n",
              "                        <th id=\"T_d6988afe_f079_11eb_8e0c_0242ac1c0002level0_row20\" class=\"row_heading level0 row20\" >20</th>\n",
              "                        <td id=\"T_d6988afe_f079_11eb_8e0c_0242ac1c0002row20_col0\" class=\"data row20 col0\" >0</td>\n",
              "                        <td id=\"T_d6988afe_f079_11eb_8e0c_0242ac1c0002row20_col1\" class=\"data row20 col1\" >0</td>\n",
              "                        <td id=\"T_d6988afe_f079_11eb_8e0c_0242ac1c0002row20_col2\" class=\"data row20 col2\" >0</td>\n",
              "                        <td id=\"T_d6988afe_f079_11eb_8e0c_0242ac1c0002row20_col3\" class=\"data row20 col3\" >0</td>\n",
              "                        <td id=\"T_d6988afe_f079_11eb_8e0c_0242ac1c0002row20_col4\" class=\"data row20 col4\" >0</td>\n",
              "                        <td id=\"T_d6988afe_f079_11eb_8e0c_0242ac1c0002row20_col5\" class=\"data row20 col5\" >0</td>\n",
              "                        <td id=\"T_d6988afe_f079_11eb_8e0c_0242ac1c0002row20_col6\" class=\"data row20 col6\" >0</td>\n",
              "                        <td id=\"T_d6988afe_f079_11eb_8e0c_0242ac1c0002row20_col7\" class=\"data row20 col7\" >0</td>\n",
              "                        <td id=\"T_d6988afe_f079_11eb_8e0c_0242ac1c0002row20_col8\" class=\"data row20 col8\" >0</td>\n",
              "                        <td id=\"T_d6988afe_f079_11eb_8e0c_0242ac1c0002row20_col9\" class=\"data row20 col9\" >0</td>\n",
              "                        <td id=\"T_d6988afe_f079_11eb_8e0c_0242ac1c0002row20_col10\" class=\"data row20 col10\" >0</td>\n",
              "                        <td id=\"T_d6988afe_f079_11eb_8e0c_0242ac1c0002row20_col11\" class=\"data row20 col11\" >0</td>\n",
              "                        <td id=\"T_d6988afe_f079_11eb_8e0c_0242ac1c0002row20_col12\" class=\"data row20 col12\" >0</td>\n",
              "                        <td id=\"T_d6988afe_f079_11eb_8e0c_0242ac1c0002row20_col13\" class=\"data row20 col13\" >151</td>\n",
              "                        <td id=\"T_d6988afe_f079_11eb_8e0c_0242ac1c0002row20_col14\" class=\"data row20 col14\" >250</td>\n",
              "                        <td id=\"T_d6988afe_f079_11eb_8e0c_0242ac1c0002row20_col15\" class=\"data row20 col15\" >252</td>\n",
              "                        <td id=\"T_d6988afe_f079_11eb_8e0c_0242ac1c0002row20_col16\" class=\"data row20 col16\" >250</td>\n",
              "                        <td id=\"T_d6988afe_f079_11eb_8e0c_0242ac1c0002row20_col17\" class=\"data row20 col17\" >100</td>\n",
              "                        <td id=\"T_d6988afe_f079_11eb_8e0c_0242ac1c0002row20_col18\" class=\"data row20 col18\" >0</td>\n",
              "                        <td id=\"T_d6988afe_f079_11eb_8e0c_0242ac1c0002row20_col19\" class=\"data row20 col19\" >0</td>\n",
              "                        <td id=\"T_d6988afe_f079_11eb_8e0c_0242ac1c0002row20_col20\" class=\"data row20 col20\" >0</td>\n",
              "                        <td id=\"T_d6988afe_f079_11eb_8e0c_0242ac1c0002row20_col21\" class=\"data row20 col21\" >0</td>\n",
              "                        <td id=\"T_d6988afe_f079_11eb_8e0c_0242ac1c0002row20_col22\" class=\"data row20 col22\" >0</td>\n",
              "                        <td id=\"T_d6988afe_f079_11eb_8e0c_0242ac1c0002row20_col23\" class=\"data row20 col23\" >0</td>\n",
              "                        <td id=\"T_d6988afe_f079_11eb_8e0c_0242ac1c0002row20_col24\" class=\"data row20 col24\" >0</td>\n",
              "                        <td id=\"T_d6988afe_f079_11eb_8e0c_0242ac1c0002row20_col25\" class=\"data row20 col25\" >0</td>\n",
              "                        <td id=\"T_d6988afe_f079_11eb_8e0c_0242ac1c0002row20_col26\" class=\"data row20 col26\" >0</td>\n",
              "                        <td id=\"T_d6988afe_f079_11eb_8e0c_0242ac1c0002row20_col27\" class=\"data row20 col27\" >0</td>\n",
              "            </tr>\n",
              "            <tr>\n",
              "                        <th id=\"T_d6988afe_f079_11eb_8e0c_0242ac1c0002level0_row21\" class=\"row_heading level0 row21\" >21</th>\n",
              "                        <td id=\"T_d6988afe_f079_11eb_8e0c_0242ac1c0002row21_col0\" class=\"data row21 col0\" >0</td>\n",
              "                        <td id=\"T_d6988afe_f079_11eb_8e0c_0242ac1c0002row21_col1\" class=\"data row21 col1\" >0</td>\n",
              "                        <td id=\"T_d6988afe_f079_11eb_8e0c_0242ac1c0002row21_col2\" class=\"data row21 col2\" >0</td>\n",
              "                        <td id=\"T_d6988afe_f079_11eb_8e0c_0242ac1c0002row21_col3\" class=\"data row21 col3\" >0</td>\n",
              "                        <td id=\"T_d6988afe_f079_11eb_8e0c_0242ac1c0002row21_col4\" class=\"data row21 col4\" >0</td>\n",
              "                        <td id=\"T_d6988afe_f079_11eb_8e0c_0242ac1c0002row21_col5\" class=\"data row21 col5\" >0</td>\n",
              "                        <td id=\"T_d6988afe_f079_11eb_8e0c_0242ac1c0002row21_col6\" class=\"data row21 col6\" >0</td>\n",
              "                        <td id=\"T_d6988afe_f079_11eb_8e0c_0242ac1c0002row21_col7\" class=\"data row21 col7\" >0</td>\n",
              "                        <td id=\"T_d6988afe_f079_11eb_8e0c_0242ac1c0002row21_col8\" class=\"data row21 col8\" >0</td>\n",
              "                        <td id=\"T_d6988afe_f079_11eb_8e0c_0242ac1c0002row21_col9\" class=\"data row21 col9\" >0</td>\n",
              "                        <td id=\"T_d6988afe_f079_11eb_8e0c_0242ac1c0002row21_col10\" class=\"data row21 col10\" >0</td>\n",
              "                        <td id=\"T_d6988afe_f079_11eb_8e0c_0242ac1c0002row21_col11\" class=\"data row21 col11\" >0</td>\n",
              "                        <td id=\"T_d6988afe_f079_11eb_8e0c_0242ac1c0002row21_col12\" class=\"data row21 col12\" >0</td>\n",
              "                        <td id=\"T_d6988afe_f079_11eb_8e0c_0242ac1c0002row21_col13\" class=\"data row21 col13\" >151</td>\n",
              "                        <td id=\"T_d6988afe_f079_11eb_8e0c_0242ac1c0002row21_col14\" class=\"data row21 col14\" >250</td>\n",
              "                        <td id=\"T_d6988afe_f079_11eb_8e0c_0242ac1c0002row21_col15\" class=\"data row21 col15\" >252</td>\n",
              "                        <td id=\"T_d6988afe_f079_11eb_8e0c_0242ac1c0002row21_col16\" class=\"data row21 col16\" >250</td>\n",
              "                        <td id=\"T_d6988afe_f079_11eb_8e0c_0242ac1c0002row21_col17\" class=\"data row21 col17\" >100</td>\n",
              "                        <td id=\"T_d6988afe_f079_11eb_8e0c_0242ac1c0002row21_col18\" class=\"data row21 col18\" >0</td>\n",
              "                        <td id=\"T_d6988afe_f079_11eb_8e0c_0242ac1c0002row21_col19\" class=\"data row21 col19\" >0</td>\n",
              "                        <td id=\"T_d6988afe_f079_11eb_8e0c_0242ac1c0002row21_col20\" class=\"data row21 col20\" >0</td>\n",
              "                        <td id=\"T_d6988afe_f079_11eb_8e0c_0242ac1c0002row21_col21\" class=\"data row21 col21\" >0</td>\n",
              "                        <td id=\"T_d6988afe_f079_11eb_8e0c_0242ac1c0002row21_col22\" class=\"data row21 col22\" >0</td>\n",
              "                        <td id=\"T_d6988afe_f079_11eb_8e0c_0242ac1c0002row21_col23\" class=\"data row21 col23\" >0</td>\n",
              "                        <td id=\"T_d6988afe_f079_11eb_8e0c_0242ac1c0002row21_col24\" class=\"data row21 col24\" >0</td>\n",
              "                        <td id=\"T_d6988afe_f079_11eb_8e0c_0242ac1c0002row21_col25\" class=\"data row21 col25\" >0</td>\n",
              "                        <td id=\"T_d6988afe_f079_11eb_8e0c_0242ac1c0002row21_col26\" class=\"data row21 col26\" >0</td>\n",
              "                        <td id=\"T_d6988afe_f079_11eb_8e0c_0242ac1c0002row21_col27\" class=\"data row21 col27\" >0</td>\n",
              "            </tr>\n",
              "            <tr>\n",
              "                        <th id=\"T_d6988afe_f079_11eb_8e0c_0242ac1c0002level0_row22\" class=\"row_heading level0 row22\" >22</th>\n",
              "                        <td id=\"T_d6988afe_f079_11eb_8e0c_0242ac1c0002row22_col0\" class=\"data row22 col0\" >0</td>\n",
              "                        <td id=\"T_d6988afe_f079_11eb_8e0c_0242ac1c0002row22_col1\" class=\"data row22 col1\" >0</td>\n",
              "                        <td id=\"T_d6988afe_f079_11eb_8e0c_0242ac1c0002row22_col2\" class=\"data row22 col2\" >0</td>\n",
              "                        <td id=\"T_d6988afe_f079_11eb_8e0c_0242ac1c0002row22_col3\" class=\"data row22 col3\" >0</td>\n",
              "                        <td id=\"T_d6988afe_f079_11eb_8e0c_0242ac1c0002row22_col4\" class=\"data row22 col4\" >0</td>\n",
              "                        <td id=\"T_d6988afe_f079_11eb_8e0c_0242ac1c0002row22_col5\" class=\"data row22 col5\" >0</td>\n",
              "                        <td id=\"T_d6988afe_f079_11eb_8e0c_0242ac1c0002row22_col6\" class=\"data row22 col6\" >0</td>\n",
              "                        <td id=\"T_d6988afe_f079_11eb_8e0c_0242ac1c0002row22_col7\" class=\"data row22 col7\" >0</td>\n",
              "                        <td id=\"T_d6988afe_f079_11eb_8e0c_0242ac1c0002row22_col8\" class=\"data row22 col8\" >0</td>\n",
              "                        <td id=\"T_d6988afe_f079_11eb_8e0c_0242ac1c0002row22_col9\" class=\"data row22 col9\" >0</td>\n",
              "                        <td id=\"T_d6988afe_f079_11eb_8e0c_0242ac1c0002row22_col10\" class=\"data row22 col10\" >0</td>\n",
              "                        <td id=\"T_d6988afe_f079_11eb_8e0c_0242ac1c0002row22_col11\" class=\"data row22 col11\" >0</td>\n",
              "                        <td id=\"T_d6988afe_f079_11eb_8e0c_0242ac1c0002row22_col12\" class=\"data row22 col12\" >0</td>\n",
              "                        <td id=\"T_d6988afe_f079_11eb_8e0c_0242ac1c0002row22_col13\" class=\"data row22 col13\" >151</td>\n",
              "                        <td id=\"T_d6988afe_f079_11eb_8e0c_0242ac1c0002row22_col14\" class=\"data row22 col14\" >250</td>\n",
              "                        <td id=\"T_d6988afe_f079_11eb_8e0c_0242ac1c0002row22_col15\" class=\"data row22 col15\" >252</td>\n",
              "                        <td id=\"T_d6988afe_f079_11eb_8e0c_0242ac1c0002row22_col16\" class=\"data row22 col16\" >250</td>\n",
              "                        <td id=\"T_d6988afe_f079_11eb_8e0c_0242ac1c0002row22_col17\" class=\"data row22 col17\" >221</td>\n",
              "                        <td id=\"T_d6988afe_f079_11eb_8e0c_0242ac1c0002row22_col18\" class=\"data row22 col18\" >40</td>\n",
              "                        <td id=\"T_d6988afe_f079_11eb_8e0c_0242ac1c0002row22_col19\" class=\"data row22 col19\" >0</td>\n",
              "                        <td id=\"T_d6988afe_f079_11eb_8e0c_0242ac1c0002row22_col20\" class=\"data row22 col20\" >0</td>\n",
              "                        <td id=\"T_d6988afe_f079_11eb_8e0c_0242ac1c0002row22_col21\" class=\"data row22 col21\" >0</td>\n",
              "                        <td id=\"T_d6988afe_f079_11eb_8e0c_0242ac1c0002row22_col22\" class=\"data row22 col22\" >0</td>\n",
              "                        <td id=\"T_d6988afe_f079_11eb_8e0c_0242ac1c0002row22_col23\" class=\"data row22 col23\" >0</td>\n",
              "                        <td id=\"T_d6988afe_f079_11eb_8e0c_0242ac1c0002row22_col24\" class=\"data row22 col24\" >0</td>\n",
              "                        <td id=\"T_d6988afe_f079_11eb_8e0c_0242ac1c0002row22_col25\" class=\"data row22 col25\" >0</td>\n",
              "                        <td id=\"T_d6988afe_f079_11eb_8e0c_0242ac1c0002row22_col26\" class=\"data row22 col26\" >0</td>\n",
              "                        <td id=\"T_d6988afe_f079_11eb_8e0c_0242ac1c0002row22_col27\" class=\"data row22 col27\" >0</td>\n",
              "            </tr>\n",
              "            <tr>\n",
              "                        <th id=\"T_d6988afe_f079_11eb_8e0c_0242ac1c0002level0_row23\" class=\"row_heading level0 row23\" >23</th>\n",
              "                        <td id=\"T_d6988afe_f079_11eb_8e0c_0242ac1c0002row23_col0\" class=\"data row23 col0\" >0</td>\n",
              "                        <td id=\"T_d6988afe_f079_11eb_8e0c_0242ac1c0002row23_col1\" class=\"data row23 col1\" >0</td>\n",
              "                        <td id=\"T_d6988afe_f079_11eb_8e0c_0242ac1c0002row23_col2\" class=\"data row23 col2\" >0</td>\n",
              "                        <td id=\"T_d6988afe_f079_11eb_8e0c_0242ac1c0002row23_col3\" class=\"data row23 col3\" >0</td>\n",
              "                        <td id=\"T_d6988afe_f079_11eb_8e0c_0242ac1c0002row23_col4\" class=\"data row23 col4\" >0</td>\n",
              "                        <td id=\"T_d6988afe_f079_11eb_8e0c_0242ac1c0002row23_col5\" class=\"data row23 col5\" >0</td>\n",
              "                        <td id=\"T_d6988afe_f079_11eb_8e0c_0242ac1c0002row23_col6\" class=\"data row23 col6\" >0</td>\n",
              "                        <td id=\"T_d6988afe_f079_11eb_8e0c_0242ac1c0002row23_col7\" class=\"data row23 col7\" >0</td>\n",
              "                        <td id=\"T_d6988afe_f079_11eb_8e0c_0242ac1c0002row23_col8\" class=\"data row23 col8\" >0</td>\n",
              "                        <td id=\"T_d6988afe_f079_11eb_8e0c_0242ac1c0002row23_col9\" class=\"data row23 col9\" >0</td>\n",
              "                        <td id=\"T_d6988afe_f079_11eb_8e0c_0242ac1c0002row23_col10\" class=\"data row23 col10\" >0</td>\n",
              "                        <td id=\"T_d6988afe_f079_11eb_8e0c_0242ac1c0002row23_col11\" class=\"data row23 col11\" >0</td>\n",
              "                        <td id=\"T_d6988afe_f079_11eb_8e0c_0242ac1c0002row23_col12\" class=\"data row23 col12\" >0</td>\n",
              "                        <td id=\"T_d6988afe_f079_11eb_8e0c_0242ac1c0002row23_col13\" class=\"data row23 col13\" >153</td>\n",
              "                        <td id=\"T_d6988afe_f079_11eb_8e0c_0242ac1c0002row23_col14\" class=\"data row23 col14\" >252</td>\n",
              "                        <td id=\"T_d6988afe_f079_11eb_8e0c_0242ac1c0002row23_col15\" class=\"data row23 col15\" >255</td>\n",
              "                        <td id=\"T_d6988afe_f079_11eb_8e0c_0242ac1c0002row23_col16\" class=\"data row23 col16\" >252</td>\n",
              "                        <td id=\"T_d6988afe_f079_11eb_8e0c_0242ac1c0002row23_col17\" class=\"data row23 col17\" >252</td>\n",
              "                        <td id=\"T_d6988afe_f079_11eb_8e0c_0242ac1c0002row23_col18\" class=\"data row23 col18\" >49</td>\n",
              "                        <td id=\"T_d6988afe_f079_11eb_8e0c_0242ac1c0002row23_col19\" class=\"data row23 col19\" >0</td>\n",
              "                        <td id=\"T_d6988afe_f079_11eb_8e0c_0242ac1c0002row23_col20\" class=\"data row23 col20\" >0</td>\n",
              "                        <td id=\"T_d6988afe_f079_11eb_8e0c_0242ac1c0002row23_col21\" class=\"data row23 col21\" >0</td>\n",
              "                        <td id=\"T_d6988afe_f079_11eb_8e0c_0242ac1c0002row23_col22\" class=\"data row23 col22\" >0</td>\n",
              "                        <td id=\"T_d6988afe_f079_11eb_8e0c_0242ac1c0002row23_col23\" class=\"data row23 col23\" >0</td>\n",
              "                        <td id=\"T_d6988afe_f079_11eb_8e0c_0242ac1c0002row23_col24\" class=\"data row23 col24\" >0</td>\n",
              "                        <td id=\"T_d6988afe_f079_11eb_8e0c_0242ac1c0002row23_col25\" class=\"data row23 col25\" >0</td>\n",
              "                        <td id=\"T_d6988afe_f079_11eb_8e0c_0242ac1c0002row23_col26\" class=\"data row23 col26\" >0</td>\n",
              "                        <td id=\"T_d6988afe_f079_11eb_8e0c_0242ac1c0002row23_col27\" class=\"data row23 col27\" >0</td>\n",
              "            </tr>\n",
              "            <tr>\n",
              "                        <th id=\"T_d6988afe_f079_11eb_8e0c_0242ac1c0002level0_row24\" class=\"row_heading level0 row24\" >24</th>\n",
              "                        <td id=\"T_d6988afe_f079_11eb_8e0c_0242ac1c0002row24_col0\" class=\"data row24 col0\" >0</td>\n",
              "                        <td id=\"T_d6988afe_f079_11eb_8e0c_0242ac1c0002row24_col1\" class=\"data row24 col1\" >0</td>\n",
              "                        <td id=\"T_d6988afe_f079_11eb_8e0c_0242ac1c0002row24_col2\" class=\"data row24 col2\" >0</td>\n",
              "                        <td id=\"T_d6988afe_f079_11eb_8e0c_0242ac1c0002row24_col3\" class=\"data row24 col3\" >0</td>\n",
              "                        <td id=\"T_d6988afe_f079_11eb_8e0c_0242ac1c0002row24_col4\" class=\"data row24 col4\" >0</td>\n",
              "                        <td id=\"T_d6988afe_f079_11eb_8e0c_0242ac1c0002row24_col5\" class=\"data row24 col5\" >0</td>\n",
              "                        <td id=\"T_d6988afe_f079_11eb_8e0c_0242ac1c0002row24_col6\" class=\"data row24 col6\" >0</td>\n",
              "                        <td id=\"T_d6988afe_f079_11eb_8e0c_0242ac1c0002row24_col7\" class=\"data row24 col7\" >0</td>\n",
              "                        <td id=\"T_d6988afe_f079_11eb_8e0c_0242ac1c0002row24_col8\" class=\"data row24 col8\" >0</td>\n",
              "                        <td id=\"T_d6988afe_f079_11eb_8e0c_0242ac1c0002row24_col9\" class=\"data row24 col9\" >0</td>\n",
              "                        <td id=\"T_d6988afe_f079_11eb_8e0c_0242ac1c0002row24_col10\" class=\"data row24 col10\" >0</td>\n",
              "                        <td id=\"T_d6988afe_f079_11eb_8e0c_0242ac1c0002row24_col11\" class=\"data row24 col11\" >0</td>\n",
              "                        <td id=\"T_d6988afe_f079_11eb_8e0c_0242ac1c0002row24_col12\" class=\"data row24 col12\" >0</td>\n",
              "                        <td id=\"T_d6988afe_f079_11eb_8e0c_0242ac1c0002row24_col13\" class=\"data row24 col13\" >151</td>\n",
              "                        <td id=\"T_d6988afe_f079_11eb_8e0c_0242ac1c0002row24_col14\" class=\"data row24 col14\" >250</td>\n",
              "                        <td id=\"T_d6988afe_f079_11eb_8e0c_0242ac1c0002row24_col15\" class=\"data row24 col15\" >252</td>\n",
              "                        <td id=\"T_d6988afe_f079_11eb_8e0c_0242ac1c0002row24_col16\" class=\"data row24 col16\" >250</td>\n",
              "                        <td id=\"T_d6988afe_f079_11eb_8e0c_0242ac1c0002row24_col17\" class=\"data row24 col17\" >250</td>\n",
              "                        <td id=\"T_d6988afe_f079_11eb_8e0c_0242ac1c0002row24_col18\" class=\"data row24 col18\" >49</td>\n",
              "                        <td id=\"T_d6988afe_f079_11eb_8e0c_0242ac1c0002row24_col19\" class=\"data row24 col19\" >0</td>\n",
              "                        <td id=\"T_d6988afe_f079_11eb_8e0c_0242ac1c0002row24_col20\" class=\"data row24 col20\" >0</td>\n",
              "                        <td id=\"T_d6988afe_f079_11eb_8e0c_0242ac1c0002row24_col21\" class=\"data row24 col21\" >0</td>\n",
              "                        <td id=\"T_d6988afe_f079_11eb_8e0c_0242ac1c0002row24_col22\" class=\"data row24 col22\" >0</td>\n",
              "                        <td id=\"T_d6988afe_f079_11eb_8e0c_0242ac1c0002row24_col23\" class=\"data row24 col23\" >0</td>\n",
              "                        <td id=\"T_d6988afe_f079_11eb_8e0c_0242ac1c0002row24_col24\" class=\"data row24 col24\" >0</td>\n",
              "                        <td id=\"T_d6988afe_f079_11eb_8e0c_0242ac1c0002row24_col25\" class=\"data row24 col25\" >0</td>\n",
              "                        <td id=\"T_d6988afe_f079_11eb_8e0c_0242ac1c0002row24_col26\" class=\"data row24 col26\" >0</td>\n",
              "                        <td id=\"T_d6988afe_f079_11eb_8e0c_0242ac1c0002row24_col27\" class=\"data row24 col27\" >0</td>\n",
              "            </tr>\n",
              "            <tr>\n",
              "                        <th id=\"T_d6988afe_f079_11eb_8e0c_0242ac1c0002level0_row25\" class=\"row_heading level0 row25\" >25</th>\n",
              "                        <td id=\"T_d6988afe_f079_11eb_8e0c_0242ac1c0002row25_col0\" class=\"data row25 col0\" >0</td>\n",
              "                        <td id=\"T_d6988afe_f079_11eb_8e0c_0242ac1c0002row25_col1\" class=\"data row25 col1\" >0</td>\n",
              "                        <td id=\"T_d6988afe_f079_11eb_8e0c_0242ac1c0002row25_col2\" class=\"data row25 col2\" >0</td>\n",
              "                        <td id=\"T_d6988afe_f079_11eb_8e0c_0242ac1c0002row25_col3\" class=\"data row25 col3\" >0</td>\n",
              "                        <td id=\"T_d6988afe_f079_11eb_8e0c_0242ac1c0002row25_col4\" class=\"data row25 col4\" >0</td>\n",
              "                        <td id=\"T_d6988afe_f079_11eb_8e0c_0242ac1c0002row25_col5\" class=\"data row25 col5\" >0</td>\n",
              "                        <td id=\"T_d6988afe_f079_11eb_8e0c_0242ac1c0002row25_col6\" class=\"data row25 col6\" >0</td>\n",
              "                        <td id=\"T_d6988afe_f079_11eb_8e0c_0242ac1c0002row25_col7\" class=\"data row25 col7\" >0</td>\n",
              "                        <td id=\"T_d6988afe_f079_11eb_8e0c_0242ac1c0002row25_col8\" class=\"data row25 col8\" >0</td>\n",
              "                        <td id=\"T_d6988afe_f079_11eb_8e0c_0242ac1c0002row25_col9\" class=\"data row25 col9\" >0</td>\n",
              "                        <td id=\"T_d6988afe_f079_11eb_8e0c_0242ac1c0002row25_col10\" class=\"data row25 col10\" >0</td>\n",
              "                        <td id=\"T_d6988afe_f079_11eb_8e0c_0242ac1c0002row25_col11\" class=\"data row25 col11\" >0</td>\n",
              "                        <td id=\"T_d6988afe_f079_11eb_8e0c_0242ac1c0002row25_col12\" class=\"data row25 col12\" >0</td>\n",
              "                        <td id=\"T_d6988afe_f079_11eb_8e0c_0242ac1c0002row25_col13\" class=\"data row25 col13\" >60</td>\n",
              "                        <td id=\"T_d6988afe_f079_11eb_8e0c_0242ac1c0002row25_col14\" class=\"data row25 col14\" >221</td>\n",
              "                        <td id=\"T_d6988afe_f079_11eb_8e0c_0242ac1c0002row25_col15\" class=\"data row25 col15\" >252</td>\n",
              "                        <td id=\"T_d6988afe_f079_11eb_8e0c_0242ac1c0002row25_col16\" class=\"data row25 col16\" >250</td>\n",
              "                        <td id=\"T_d6988afe_f079_11eb_8e0c_0242ac1c0002row25_col17\" class=\"data row25 col17\" >159</td>\n",
              "                        <td id=\"T_d6988afe_f079_11eb_8e0c_0242ac1c0002row25_col18\" class=\"data row25 col18\" >20</td>\n",
              "                        <td id=\"T_d6988afe_f079_11eb_8e0c_0242ac1c0002row25_col19\" class=\"data row25 col19\" >0</td>\n",
              "                        <td id=\"T_d6988afe_f079_11eb_8e0c_0242ac1c0002row25_col20\" class=\"data row25 col20\" >0</td>\n",
              "                        <td id=\"T_d6988afe_f079_11eb_8e0c_0242ac1c0002row25_col21\" class=\"data row25 col21\" >0</td>\n",
              "                        <td id=\"T_d6988afe_f079_11eb_8e0c_0242ac1c0002row25_col22\" class=\"data row25 col22\" >0</td>\n",
              "                        <td id=\"T_d6988afe_f079_11eb_8e0c_0242ac1c0002row25_col23\" class=\"data row25 col23\" >0</td>\n",
              "                        <td id=\"T_d6988afe_f079_11eb_8e0c_0242ac1c0002row25_col24\" class=\"data row25 col24\" >0</td>\n",
              "                        <td id=\"T_d6988afe_f079_11eb_8e0c_0242ac1c0002row25_col25\" class=\"data row25 col25\" >0</td>\n",
              "                        <td id=\"T_d6988afe_f079_11eb_8e0c_0242ac1c0002row25_col26\" class=\"data row25 col26\" >0</td>\n",
              "                        <td id=\"T_d6988afe_f079_11eb_8e0c_0242ac1c0002row25_col27\" class=\"data row25 col27\" >0</td>\n",
              "            </tr>\n",
              "            <tr>\n",
              "                        <th id=\"T_d6988afe_f079_11eb_8e0c_0242ac1c0002level0_row26\" class=\"row_heading level0 row26\" >26</th>\n",
              "                        <td id=\"T_d6988afe_f079_11eb_8e0c_0242ac1c0002row26_col0\" class=\"data row26 col0\" >0</td>\n",
              "                        <td id=\"T_d6988afe_f079_11eb_8e0c_0242ac1c0002row26_col1\" class=\"data row26 col1\" >0</td>\n",
              "                        <td id=\"T_d6988afe_f079_11eb_8e0c_0242ac1c0002row26_col2\" class=\"data row26 col2\" >0</td>\n",
              "                        <td id=\"T_d6988afe_f079_11eb_8e0c_0242ac1c0002row26_col3\" class=\"data row26 col3\" >0</td>\n",
              "                        <td id=\"T_d6988afe_f079_11eb_8e0c_0242ac1c0002row26_col4\" class=\"data row26 col4\" >0</td>\n",
              "                        <td id=\"T_d6988afe_f079_11eb_8e0c_0242ac1c0002row26_col5\" class=\"data row26 col5\" >0</td>\n",
              "                        <td id=\"T_d6988afe_f079_11eb_8e0c_0242ac1c0002row26_col6\" class=\"data row26 col6\" >0</td>\n",
              "                        <td id=\"T_d6988afe_f079_11eb_8e0c_0242ac1c0002row26_col7\" class=\"data row26 col7\" >0</td>\n",
              "                        <td id=\"T_d6988afe_f079_11eb_8e0c_0242ac1c0002row26_col8\" class=\"data row26 col8\" >0</td>\n",
              "                        <td id=\"T_d6988afe_f079_11eb_8e0c_0242ac1c0002row26_col9\" class=\"data row26 col9\" >0</td>\n",
              "                        <td id=\"T_d6988afe_f079_11eb_8e0c_0242ac1c0002row26_col10\" class=\"data row26 col10\" >0</td>\n",
              "                        <td id=\"T_d6988afe_f079_11eb_8e0c_0242ac1c0002row26_col11\" class=\"data row26 col11\" >0</td>\n",
              "                        <td id=\"T_d6988afe_f079_11eb_8e0c_0242ac1c0002row26_col12\" class=\"data row26 col12\" >0</td>\n",
              "                        <td id=\"T_d6988afe_f079_11eb_8e0c_0242ac1c0002row26_col13\" class=\"data row26 col13\" >0</td>\n",
              "                        <td id=\"T_d6988afe_f079_11eb_8e0c_0242ac1c0002row26_col14\" class=\"data row26 col14\" >40</td>\n",
              "                        <td id=\"T_d6988afe_f079_11eb_8e0c_0242ac1c0002row26_col15\" class=\"data row26 col15\" >212</td>\n",
              "                        <td id=\"T_d6988afe_f079_11eb_8e0c_0242ac1c0002row26_col16\" class=\"data row26 col16\" >49</td>\n",
              "                        <td id=\"T_d6988afe_f079_11eb_8e0c_0242ac1c0002row26_col17\" class=\"data row26 col17\" >20</td>\n",
              "                        <td id=\"T_d6988afe_f079_11eb_8e0c_0242ac1c0002row26_col18\" class=\"data row26 col18\" >0</td>\n",
              "                        <td id=\"T_d6988afe_f079_11eb_8e0c_0242ac1c0002row26_col19\" class=\"data row26 col19\" >0</td>\n",
              "                        <td id=\"T_d6988afe_f079_11eb_8e0c_0242ac1c0002row26_col20\" class=\"data row26 col20\" >0</td>\n",
              "                        <td id=\"T_d6988afe_f079_11eb_8e0c_0242ac1c0002row26_col21\" class=\"data row26 col21\" >0</td>\n",
              "                        <td id=\"T_d6988afe_f079_11eb_8e0c_0242ac1c0002row26_col22\" class=\"data row26 col22\" >0</td>\n",
              "                        <td id=\"T_d6988afe_f079_11eb_8e0c_0242ac1c0002row26_col23\" class=\"data row26 col23\" >0</td>\n",
              "                        <td id=\"T_d6988afe_f079_11eb_8e0c_0242ac1c0002row26_col24\" class=\"data row26 col24\" >0</td>\n",
              "                        <td id=\"T_d6988afe_f079_11eb_8e0c_0242ac1c0002row26_col25\" class=\"data row26 col25\" >0</td>\n",
              "                        <td id=\"T_d6988afe_f079_11eb_8e0c_0242ac1c0002row26_col26\" class=\"data row26 col26\" >0</td>\n",
              "                        <td id=\"T_d6988afe_f079_11eb_8e0c_0242ac1c0002row26_col27\" class=\"data row26 col27\" >0</td>\n",
              "            </tr>\n",
              "            <tr>\n",
              "                        <th id=\"T_d6988afe_f079_11eb_8e0c_0242ac1c0002level0_row27\" class=\"row_heading level0 row27\" >27</th>\n",
              "                        <td id=\"T_d6988afe_f079_11eb_8e0c_0242ac1c0002row27_col0\" class=\"data row27 col0\" >0</td>\n",
              "                        <td id=\"T_d6988afe_f079_11eb_8e0c_0242ac1c0002row27_col1\" class=\"data row27 col1\" >0</td>\n",
              "                        <td id=\"T_d6988afe_f079_11eb_8e0c_0242ac1c0002row27_col2\" class=\"data row27 col2\" >0</td>\n",
              "                        <td id=\"T_d6988afe_f079_11eb_8e0c_0242ac1c0002row27_col3\" class=\"data row27 col3\" >0</td>\n",
              "                        <td id=\"T_d6988afe_f079_11eb_8e0c_0242ac1c0002row27_col4\" class=\"data row27 col4\" >0</td>\n",
              "                        <td id=\"T_d6988afe_f079_11eb_8e0c_0242ac1c0002row27_col5\" class=\"data row27 col5\" >0</td>\n",
              "                        <td id=\"T_d6988afe_f079_11eb_8e0c_0242ac1c0002row27_col6\" class=\"data row27 col6\" >0</td>\n",
              "                        <td id=\"T_d6988afe_f079_11eb_8e0c_0242ac1c0002row27_col7\" class=\"data row27 col7\" >0</td>\n",
              "                        <td id=\"T_d6988afe_f079_11eb_8e0c_0242ac1c0002row27_col8\" class=\"data row27 col8\" >0</td>\n",
              "                        <td id=\"T_d6988afe_f079_11eb_8e0c_0242ac1c0002row27_col9\" class=\"data row27 col9\" >0</td>\n",
              "                        <td id=\"T_d6988afe_f079_11eb_8e0c_0242ac1c0002row27_col10\" class=\"data row27 col10\" >0</td>\n",
              "                        <td id=\"T_d6988afe_f079_11eb_8e0c_0242ac1c0002row27_col11\" class=\"data row27 col11\" >0</td>\n",
              "                        <td id=\"T_d6988afe_f079_11eb_8e0c_0242ac1c0002row27_col12\" class=\"data row27 col12\" >0</td>\n",
              "                        <td id=\"T_d6988afe_f079_11eb_8e0c_0242ac1c0002row27_col13\" class=\"data row27 col13\" >0</td>\n",
              "                        <td id=\"T_d6988afe_f079_11eb_8e0c_0242ac1c0002row27_col14\" class=\"data row27 col14\" >0</td>\n",
              "                        <td id=\"T_d6988afe_f079_11eb_8e0c_0242ac1c0002row27_col15\" class=\"data row27 col15\" >0</td>\n",
              "                        <td id=\"T_d6988afe_f079_11eb_8e0c_0242ac1c0002row27_col16\" class=\"data row27 col16\" >0</td>\n",
              "                        <td id=\"T_d6988afe_f079_11eb_8e0c_0242ac1c0002row27_col17\" class=\"data row27 col17\" >0</td>\n",
              "                        <td id=\"T_d6988afe_f079_11eb_8e0c_0242ac1c0002row27_col18\" class=\"data row27 col18\" >0</td>\n",
              "                        <td id=\"T_d6988afe_f079_11eb_8e0c_0242ac1c0002row27_col19\" class=\"data row27 col19\" >0</td>\n",
              "                        <td id=\"T_d6988afe_f079_11eb_8e0c_0242ac1c0002row27_col20\" class=\"data row27 col20\" >0</td>\n",
              "                        <td id=\"T_d6988afe_f079_11eb_8e0c_0242ac1c0002row27_col21\" class=\"data row27 col21\" >0</td>\n",
              "                        <td id=\"T_d6988afe_f079_11eb_8e0c_0242ac1c0002row27_col22\" class=\"data row27 col22\" >0</td>\n",
              "                        <td id=\"T_d6988afe_f079_11eb_8e0c_0242ac1c0002row27_col23\" class=\"data row27 col23\" >0</td>\n",
              "                        <td id=\"T_d6988afe_f079_11eb_8e0c_0242ac1c0002row27_col24\" class=\"data row27 col24\" >0</td>\n",
              "                        <td id=\"T_d6988afe_f079_11eb_8e0c_0242ac1c0002row27_col25\" class=\"data row27 col25\" >0</td>\n",
              "                        <td id=\"T_d6988afe_f079_11eb_8e0c_0242ac1c0002row27_col26\" class=\"data row27 col26\" >0</td>\n",
              "                        <td id=\"T_d6988afe_f079_11eb_8e0c_0242ac1c0002row27_col27\" class=\"data row27 col27\" >0</td>\n",
              "            </tr>\n",
              "    </tbody></table>"
            ],
            "text/plain": [
              "<pandas.io.formats.style.Styler at 0x7f5347499310>"
            ]
          },
          "metadata": {
            "tags": []
          },
          "execution_count": 15
        }
      ]
    },
    {
      "cell_type": "code",
      "metadata": {
        "colab": {
          "base_uri": "https://localhost:8080/"
        },
        "id": "f9bd6377",
        "outputId": "ede818ff-1386-4d06-8397-9e14bb03bb8a"
      },
      "source": [
        "three_tensors = [tensor(Image.open(o)) for o in threes]\n",
        "seven_tensors = [tensor(Image.open(o)) for o in sevens]\n",
        "\n",
        "len(three_tensors),len(seven_tensors)"
      ],
      "id": "f9bd6377",
      "execution_count": 9,
      "outputs": [
        {
          "output_type": "execute_result",
          "data": {
            "text/plain": [
              "(6131, 6265)"
            ]
          },
          "metadata": {
            "tags": []
          },
          "execution_count": 9
        }
      ]
    },
    {
      "cell_type": "code",
      "metadata": {
        "colab": {
          "base_uri": "https://localhost:8080/"
        },
        "id": "b281802a",
        "outputId": "5e316ef4-67d6-4d64-b741-a06b276db879"
      },
      "source": [
        "stacked_threes = torch.stack(three_tensors).float()/255\n",
        "stacked_sevens = torch.stack(seven_tensors).float()/255\n",
        "\n",
        "stacked_sevens.shape"
      ],
      "id": "b281802a",
      "execution_count": 10,
      "outputs": [
        {
          "output_type": "execute_result",
          "data": {
            "text/plain": [
              "torch.Size([6265, 28, 28])"
            ]
          },
          "metadata": {
            "tags": []
          },
          "execution_count": 10
        }
      ]
    },
    {
      "cell_type": "markdown",
      "metadata": {
        "id": "984f9037"
      },
      "source": [
        "## MNIST loss function"
      ],
      "id": "984f9037"
    },
    {
      "cell_type": "markdown",
      "metadata": {
        "id": "b4d8c80b"
      },
      "source": [
        "torch.view method"
      ],
      "id": "b4d8c80b"
    },
    {
      "cell_type": "code",
      "metadata": {
        "colab": {
          "base_uri": "https://localhost:8080/"
        },
        "id": "e4e9fde9",
        "outputId": "6e2264f0-3305-4846-be0a-579a71a1088c"
      },
      "source": [
        "stacked_sevens.size()"
      ],
      "id": "e4e9fde9",
      "execution_count": 16,
      "outputs": [
        {
          "output_type": "execute_result",
          "data": {
            "text/plain": [
              "torch.Size([6265, 28, 28])"
            ]
          },
          "metadata": {
            "tags": []
          },
          "execution_count": 16
        }
      ]
    },
    {
      "cell_type": "code",
      "metadata": {
        "colab": {
          "base_uri": "https://localhost:8080/"
        },
        "id": "1d0e78d0",
        "outputId": "662fd07a-5125-47d8-ae7d-cd84a1476802"
      },
      "source": [
        "(stacked_sevens.view(-1, 6265)).size()"
      ],
      "id": "1d0e78d0",
      "execution_count": 18,
      "outputs": [
        {
          "output_type": "execute_result",
          "data": {
            "text/plain": [
              "torch.Size([784, 6265])"
            ]
          },
          "metadata": {
            "tags": []
          },
          "execution_count": 18
        }
      ]
    },
    {
      "cell_type": "code",
      "metadata": {
        "id": "7805d211"
      },
      "source": [
        "train_x = torch.cat([stacked_threes, stacked_sevens]).view(-1, 28*28)"
      ],
      "id": "7805d211",
      "execution_count": 11,
      "outputs": []
    },
    {
      "cell_type": "code",
      "metadata": {
        "colab": {
          "base_uri": "https://localhost:8080/"
        },
        "id": "g3lKIT46aAzH",
        "outputId": "52757750-d2e2-4d6d-b028-e56d74fc46b3"
      },
      "source": [
        "train_x"
      ],
      "id": "g3lKIT46aAzH",
      "execution_count": 27,
      "outputs": [
        {
          "output_type": "execute_result",
          "data": {
            "text/plain": [
              "tensor([[0., 0., 0.,  ..., 0., 0., 0.],\n",
              "        [0., 0., 0.,  ..., 0., 0., 0.],\n",
              "        [0., 0., 0.,  ..., 0., 0., 0.],\n",
              "        ...,\n",
              "        [0., 0., 0.,  ..., 0., 0., 0.],\n",
              "        [0., 0., 0.,  ..., 0., 0., 0.],\n",
              "        [0., 0., 0.,  ..., 0., 0., 0.]])"
            ]
          },
          "metadata": {
            "tags": []
          },
          "execution_count": 27
        }
      ]
    },
    {
      "cell_type": "code",
      "metadata": {
        "id": "c1ff910e"
      },
      "source": [
        "train_y = tensor([1]*len(threes) + [0]*len(sevens)).unsqueeze(1)"
      ],
      "id": "c1ff910e",
      "execution_count": 12,
      "outputs": []
    },
    {
      "cell_type": "code",
      "metadata": {
        "colab": {
          "base_uri": "https://localhost:8080/"
        },
        "id": "qkbYWoINZVpF",
        "outputId": "271df2ef-d4ff-45cc-90f8-9d67c58b730d"
      },
      "source": [
        "train_y"
      ],
      "id": "qkbYWoINZVpF",
      "execution_count": 23,
      "outputs": [
        {
          "output_type": "execute_result",
          "data": {
            "text/plain": [
              "tensor([[1],\n",
              "        [1],\n",
              "        [1],\n",
              "        ...,\n",
              "        [0],\n",
              "        [0],\n",
              "        [0]])"
            ]
          },
          "metadata": {
            "tags": []
          },
          "execution_count": 23
        }
      ]
    },
    {
      "cell_type": "code",
      "metadata": {
        "colab": {
          "base_uri": "https://localhost:8080/"
        },
        "id": "ut1cn2gLZWzL",
        "outputId": "2555ceab-f77e-4bb1-f9a3-d679d4a3bbd6"
      },
      "source": [
        "train_x.size(), train_y.size()"
      ],
      "id": "ut1cn2gLZWzL",
      "execution_count": 27,
      "outputs": [
        {
          "output_type": "execute_result",
          "data": {
            "text/plain": [
              "(torch.Size([12396, 784]), torch.Size([12396, 1]))"
            ]
          },
          "metadata": {
            "tags": []
          },
          "execution_count": 27
        }
      ]
    },
    {
      "cell_type": "code",
      "metadata": {
        "colab": {
          "base_uri": "https://localhost:8080/"
        },
        "id": "Z03l7UyNaZPr",
        "outputId": "de1c5bbd-efbb-4dfb-ae0f-5035ad28aaed"
      },
      "source": [
        "dset = list(zip(train_x, train_y))\n",
        "x,y = dset[0]\n",
        "x.size(), y"
      ],
      "id": "Z03l7UyNaZPr",
      "execution_count": 13,
      "outputs": [
        {
          "output_type": "execute_result",
          "data": {
            "text/plain": [
              "(torch.Size([784]), tensor([1]))"
            ]
          },
          "metadata": {
            "tags": []
          },
          "execution_count": 13
        }
      ]
    },
    {
      "cell_type": "code",
      "metadata": {
        "colab": {
          "base_uri": "https://localhost:8080/"
        },
        "id": "qsLOtz64a4NC",
        "outputId": "4e8ac373-449b-4525-a0d6-67e6eeb32cb6"
      },
      "source": [
        "valid_3_tensor = torch.stack([tensor(Image.open(o)) for o in (path/'valid'/'3').ls().sorted()]).float()/255\n",
        "valid_7_tensor = torch.stack([tensor(Image.open(o)) for o in (path/'valid'/'7').ls().sorted()]).float()/255\n",
        "\n",
        "valid_3_tensor.size(),valid_7_tensor.size()"
      ],
      "id": "qsLOtz64a4NC",
      "execution_count": 14,
      "outputs": [
        {
          "output_type": "execute_result",
          "data": {
            "text/plain": [
              "(torch.Size([1010, 28, 28]), torch.Size([1028, 28, 28]))"
            ]
          },
          "metadata": {
            "tags": []
          },
          "execution_count": 14
        }
      ]
    },
    {
      "cell_type": "code",
      "metadata": {
        "id": "KXmbV9GhcNbV"
      },
      "source": [
        "valid_x = torch.cat([valid_3_tensor, valid_7_tensor]).view(-1, 28*28)\n",
        "valid_y = tensor([1]*len(valid_3_tensor) + [0]*len(valid_7_tensor)).unsqueeze(1)\n",
        "valid_dataset = list(zip(valid_x, valid_y))"
      ],
      "id": "KXmbV9GhcNbV",
      "execution_count": 15,
      "outputs": []
    },
    {
      "cell_type": "markdown",
      "metadata": {
        "id": "stTrdAPkdHCl"
      },
      "source": [
        "Initial random weight values"
      ],
      "id": "stTrdAPkdHCl"
    },
    {
      "cell_type": "code",
      "metadata": {
        "id": "KCNKpHdCdMNZ"
      },
      "source": [
        "def init_params(size, variance=1):\n",
        "  return (torch.randn(size)*variance).requires_grad_()"
      ],
      "id": "KCNKpHdCdMNZ",
      "execution_count": 16,
      "outputs": []
    },
    {
      "cell_type": "code",
      "metadata": {
        "id": "bEeUllGDdgs4"
      },
      "source": [
        "weights = init_params((28*28,1))"
      ],
      "id": "bEeUllGDdgs4",
      "execution_count": 17,
      "outputs": []
    },
    {
      "cell_type": "code",
      "metadata": {
        "id": "1jEgupQSd9-I"
      },
      "source": [
        "bias = init_params(1)"
      ],
      "id": "1jEgupQSd9-I",
      "execution_count": 18,
      "outputs": []
    },
    {
      "cell_type": "markdown",
      "metadata": {
        "id": "tXZ5tqy7ed9F"
      },
      "source": [
        "prediction for one image"
      ],
      "id": "tXZ5tqy7ed9F"
    },
    {
      "cell_type": "code",
      "metadata": {
        "colab": {
          "base_uri": "https://localhost:8080/"
        },
        "id": "B0D4UB84eDFs",
        "outputId": "42d562b7-0ee2-4b42-be78-8bf6645bde02"
      },
      "source": [
        "(train_x[0]*weights.T).sum() + bias"
      ],
      "id": "B0D4UB84eDFs",
      "execution_count": 19,
      "outputs": [
        {
          "output_type": "execute_result",
          "data": {
            "text/plain": [
              "tensor([-6.2330], grad_fn=<AddBackward0>)"
            ]
          },
          "metadata": {
            "tags": []
          },
          "execution_count": 19
        }
      ]
    },
    {
      "cell_type": "markdown",
      "metadata": {
        "id": "1jGIHwpbe0P-"
      },
      "source": [
        "In Python, matrix multiplication is represented with the @ operator."
      ],
      "id": "1jGIHwpbe0P-"
    },
    {
      "cell_type": "code",
      "metadata": {
        "colab": {
          "base_uri": "https://localhost:8080/"
        },
        "id": "tzXtOTy0e0x1",
        "outputId": "efc5a958-0d8d-45c6-fafa-7d31280bba1b"
      },
      "source": [
        "def linear1(xb):\n",
        "  return xb@weights + bias\n",
        "\n",
        "preds = linear1(train_x)\n",
        "preds"
      ],
      "id": "tzXtOTy0e0x1",
      "execution_count": 20,
      "outputs": [
        {
          "output_type": "execute_result",
          "data": {
            "text/plain": [
              "tensor([[ -6.2330],\n",
              "        [-10.6388],\n",
              "        [-20.8865],\n",
              "        ...,\n",
              "        [-15.9176],\n",
              "        [ -1.6866],\n",
              "        [-11.3568]], grad_fn=<AddBackward0>)"
            ]
          },
          "metadata": {
            "tags": []
          },
          "execution_count": 20
        }
      ]
    },
    {
      "cell_type": "markdown",
      "metadata": {
        "id": "H641YH9L3EG9"
      },
      "source": [
        "Let's check our accuracy. To decide if an output represents a 3 or a 7, we can just check whether it's greater than 0.5, so our accuracy for each item can be calculated with:"
      ],
      "id": "H641YH9L3EG9"
    },
    {
      "cell_type": "code",
      "metadata": {
        "colab": {
          "base_uri": "https://localhost:8080/"
        },
        "id": "mzjhuuJGfCD8",
        "outputId": "b2a4feb8-5e1c-4435-e8b5-ad26ddcc26cb"
      },
      "source": [
        "corrects = (preds > 0.5).float() == train_y\n",
        "\n",
        "corrects"
      ],
      "id": "mzjhuuJGfCD8",
      "execution_count": 21,
      "outputs": [
        {
          "output_type": "execute_result",
          "data": {
            "text/plain": [
              "tensor([[False],\n",
              "        [False],\n",
              "        [False],\n",
              "        ...,\n",
              "        [ True],\n",
              "        [ True],\n",
              "        [ True]])"
            ]
          },
          "metadata": {
            "tags": []
          },
          "execution_count": 21
        }
      ]
    },
    {
      "cell_type": "code",
      "metadata": {
        "colab": {
          "base_uri": "https://localhost:8080/"
        },
        "id": "qJDmeQzW3SkC",
        "outputId": "abed53e2-feb2-4587-e39c-c614437f2966"
      },
      "source": [
        "corrects.float().mean().item()"
      ],
      "id": "qJDmeQzW3SkC",
      "execution_count": 22,
      "outputs": [
        {
          "output_type": "execute_result",
          "data": {
            "text/plain": [
              "0.5355759859085083"
            ]
          },
          "metadata": {
            "tags": []
          },
          "execution_count": 22
        }
      ]
    },
    {
      "cell_type": "markdown",
      "metadata": {
        "id": "ZESP9pJc5ai9"
      },
      "source": [
        "We now need a loss function the gradient of which will be taken using stochastic gradient descent method."
      ],
      "id": "ZESP9pJc5ai9"
    },
    {
      "cell_type": "code",
      "metadata": {
        "id": "HyHDfgFl3Yoj"
      },
      "source": [
        "def mnist_loss(predictions, targets):\n",
        "  return torch.where(targets == 1, 1-predictions, predictions).mean()"
      ],
      "id": "HyHDfgFl3Yoj",
      "execution_count": 61,
      "outputs": []
    },
    {
      "cell_type": "code",
      "metadata": {
        "id": "nA-Ebqjr7M56"
      },
      "source": [
        "trgts = tensor([1,0,1])\n",
        "preds = tensor([0.9, 0.4, 0.2])"
      ],
      "id": "nA-Ebqjr7M56",
      "execution_count": 26,
      "outputs": []
    },
    {
      "cell_type": "code",
      "metadata": {
        "colab": {
          "base_uri": "https://localhost:8080/"
        },
        "id": "X2D3A_rA7zPH",
        "outputId": "5fe0314f-7f27-4b89-a3b2-e312517f0121"
      },
      "source": [
        "torch.where(trgts == 1, 1-preds, preds)"
      ],
      "id": "X2D3A_rA7zPH",
      "execution_count": 27,
      "outputs": [
        {
          "output_type": "execute_result",
          "data": {
            "text/plain": [
              "tensor([0.1000, 0.4000, 0.8000])"
            ]
          },
          "metadata": {
            "tags": []
          },
          "execution_count": 27
        }
      ]
    },
    {
      "cell_type": "code",
      "metadata": {
        "colab": {
          "base_uri": "https://localhost:8080/"
        },
        "id": "9wqLwJeC74KW",
        "outputId": "6ac1c777-27fa-4816-ff69-1c3d9cb5d2be"
      },
      "source": [
        "print(mnist_loss(trgts, preds))"
      ],
      "id": "9wqLwJeC74KW",
      "execution_count": 28,
      "outputs": [
        {
          "output_type": "stream",
          "text": [
            "tensor(0.4333)\n"
          ],
          "name": "stdout"
        }
      ]
    },
    {
      "cell_type": "markdown",
      "metadata": {
        "id": "EuKj1oBl_IYa"
      },
      "source": [
        "For the case when predictions are greater then one or lower than zero, they need to be mapped within 0-1 range. Sigmoid function serves that purpose:"
      ],
      "id": "EuKj1oBl_IYa"
    },
    {
      "cell_type": "code",
      "metadata": {
        "id": "S75cfiyr8uw7"
      },
      "source": [
        "def sigmoid(x): \n",
        "  return 1/(1+torch.exp(-x))"
      ],
      "id": "S75cfiyr8uw7",
      "execution_count": 23,
      "outputs": []
    },
    {
      "cell_type": "code",
      "metadata": {
        "colab": {
          "base_uri": "https://localhost:8080/",
          "height": 341
        },
        "id": "qrmF51Vh_mEC",
        "outputId": "1c8d5cb3-7ac2-4a1c-e6cc-849e21ee3c92"
      },
      "source": [
        "plot_function(torch.sigmoid, title='Sigmoid', min=-4, max=4)"
      ],
      "id": "qrmF51Vh_mEC",
      "execution_count": 30,
      "outputs": [
        {
          "output_type": "stream",
          "text": [
            "/usr/local/lib/python3.7/dist-packages/fastbook/__init__.py:73: UserWarning: Not providing a value for linspace's steps is deprecated and will throw a runtime error in a future release. This warning will appear only once per process. (Triggered internally at  /pytorch/aten/src/ATen/native/RangeFactories.cpp:25.)\n",
            "  x = torch.linspace(min,max)\n"
          ],
          "name": "stderr"
        },
        {
          "output_type": "display_data",
          "data": {
            "image/png": "[encoded data removed]",
            "text/plain": [
              "<Figure size 432x288 with 1 Axes>"
            ]
          },
          "metadata": {
            "tags": [],
            "needs_background": "light"
          }
        }
      ]
    },
    {
      "cell_type": "markdown",
      "metadata": {
        "id": "RIOQvcHN_4ab"
      },
      "source": [
        "Let's then update `mnist_loss` function to apply sigmoid function to inputs"
      ],
      "id": "RIOQvcHN_4ab"
    },
    {
      "cell_type": "code",
      "metadata": {
        "id": "6iP63J1D_wlz"
      },
      "source": [
        "def mnist_loss(predictions, targets):\n",
        "  predictions = predictions.sigmoid()\n",
        "  return torch.where(targets == 1, 1-predictions, predictions).mean()"
      ],
      "id": "6iP63J1D_wlz",
      "execution_count": 24,
      "outputs": []
    },
    {
      "cell_type": "markdown",
      "metadata": {
        "id": "zEenjdbcbV4-"
      },
      "source": [
        "### Optimization step"
      ],
      "id": "zEenjdbcbV4-"
    },
    {
      "cell_type": "markdown",
      "metadata": {
        "id": "TbbzZsl1lyKq"
      },
      "source": [
        "Having acquired the loss function suitable for driving SGD algorithm, we now see how weights are changed/updated based on the gradient, via Optimization step. \n",
        "\n",
        "During optimization step, we calculate an average loss over a mini-batch of the data. The class `DataLoader` from fastai easily facilitates this operation. Below is a toy example of how it is done.\n",
        "\n",
        "`DataLoader` can take any python collection and convert it into an iterator over many batches as follows:"
      ],
      "id": "TbbzZsl1lyKq"
    },
    {
      "cell_type": "code",
      "metadata": {
        "colab": {
          "base_uri": "https://localhost:8080/"
        },
        "id": "XT320LaAmR4Y",
        "outputId": "b0e739f7-2c76-45c9-f456-d7dac46017ba"
      },
      "source": [
        "coll = range(17)\n",
        "dl = DataLoader(coll, batch_size=5, shuffle=True)\n",
        "list(dl)"
      ],
      "id": "XT320LaAmR4Y",
      "execution_count": 36,
      "outputs": [
        {
          "output_type": "execute_result",
          "data": {
            "text/plain": [
              "[tensor([ 8,  2, 15, 13,  6]),\n",
              " tensor([16,  9,  7, 10,  5]),\n",
              " tensor([ 0,  1, 12, 14, 11]),\n",
              " tensor([3, 4])]"
            ]
          },
          "metadata": {
            "tags": []
          },
          "execution_count": 36
        }
      ]
    },
    {
      "cell_type": "markdown",
      "metadata": {
        "id": "2KBRq4r-ol4B"
      },
      "source": [
        "A python collection that contains tuples of independent and dependent variables in known in Pytorch as a `Dataset`. As an example:"
      ],
      "id": "2KBRq4r-ol4B"
    },
    {
      "cell_type": "code",
      "metadata": {
        "colab": {
          "base_uri": "https://localhost:8080/"
        },
        "id": "Z_E8E1JMnaVK",
        "outputId": "1bc9a8fd-10b8-45a5-cf4b-36af63590b83"
      },
      "source": [
        "list(enumerate(string.ascii_lowercase))"
      ],
      "id": "Z_E8E1JMnaVK",
      "execution_count": 38,
      "outputs": [
        {
          "output_type": "execute_result",
          "data": {
            "text/plain": [
              "[(0, 'a'),\n",
              " (1, 'b'),\n",
              " (2, 'c'),\n",
              " (3, 'd'),\n",
              " (4, 'e'),\n",
              " (5, 'f'),\n",
              " (6, 'g'),\n",
              " (7, 'h'),\n",
              " (8, 'i'),\n",
              " (9, 'j'),\n",
              " (10, 'k'),\n",
              " (11, 'l'),\n",
              " (12, 'm'),\n",
              " (13, 'n'),\n",
              " (14, 'o'),\n",
              " (15, 'p'),\n",
              " (16, 'q'),\n",
              " (17, 'r'),\n",
              " (18, 's'),\n",
              " (19, 't'),\n",
              " (20, 'u'),\n",
              " (21, 'v'),\n",
              " (22, 'w'),\n",
              " (23, 'x'),\n",
              " (24, 'y'),\n",
              " (25, 'z')]"
            ]
          },
          "metadata": {
            "tags": []
          },
          "execution_count": 38
        }
      ]
    },
    {
      "cell_type": "code",
      "metadata": {
        "colab": {
          "base_uri": "https://localhost:8080/"
        },
        "id": "GY010dQfpEAx",
        "outputId": "7794f5f2-38cf-4bf3-d500-cdde0f980e6f"
      },
      "source": [
        "ds = L(enumerate(string.ascii_lowercase))\n",
        "ds"
      ],
      "id": "GY010dQfpEAx",
      "execution_count": 40,
      "outputs": [
        {
          "output_type": "execute_result",
          "data": {
            "text/plain": [
              "(#26) [(0, 'a'),(1, 'b'),(2, 'c'),(3, 'd'),(4, 'e'),(5, 'f'),(6, 'g'),(7, 'h'),(8, 'i'),(9, 'j')...]"
            ]
          },
          "metadata": {
            "tags": []
          },
          "execution_count": 40
        }
      ]
    },
    {
      "cell_type": "markdown",
      "metadata": {
        "id": "JssEHbBupwNP"
      },
      "source": [
        "On passing the `Dataset` to the `DataLoader`, we get many batches. Each batch is a tuple of tensors, representing a batch of independent and dependent variables:"
      ],
      "id": "JssEHbBupwNP"
    },
    {
      "cell_type": "code",
      "metadata": {
        "colab": {
          "base_uri": "https://localhost:8080/"
        },
        "id": "r04wA7UDpgVm",
        "outputId": "e8bf68a9-dca4-4995-c860-28a30f02a82d"
      },
      "source": [
        "dl = DataLoader(ds, batch_size=6, shuffle=True)\n",
        "list(dl)"
      ],
      "id": "r04wA7UDpgVm",
      "execution_count": 45,
      "outputs": [
        {
          "output_type": "execute_result",
          "data": {
            "text/plain": [
              "[(tensor([20, 18, 21,  5,  6,  9]), ('u', 's', 'v', 'f', 'g', 'j')),\n",
              " (tensor([13, 19, 12, 16, 25,  3]), ('n', 't', 'm', 'q', 'z', 'd')),\n",
              " (tensor([15,  1,  0, 24, 10, 23]), ('p', 'b', 'a', 'y', 'k', 'x')),\n",
              " (tensor([11, 22,  2,  4, 14, 17]), ('l', 'w', 'c', 'e', 'o', 'r')),\n",
              " (tensor([7, 8]), ('h', 'i'))]"
            ]
          },
          "metadata": {
            "tags": []
          },
          "execution_count": 45
        }
      ]
    },
    {
      "cell_type": "markdown",
      "metadata": {
        "id": "Y99OW5RFsvkt"
      },
      "source": [
        "We are now ready to write our first training loop for a model using SGD!"
      ],
      "id": "Y99OW5RFsvkt"
    },
    {
      "cell_type": "markdown",
      "metadata": {
        "id": "FMXAsnDvszu9"
      },
      "source": [
        "## Putting it all together"
      ],
      "id": "FMXAsnDvszu9"
    },
    {
      "cell_type": "code",
      "metadata": {
        "colab": {
          "base_uri": "https://localhost:8080/",
          "height": 243
        },
        "id": "A7pNLF-Cprs3",
        "outputId": "9be4c4bb-7bad-4cb2-9c72-9ae314266fac"
      },
      "source": [
        "for x,y in dl:\n",
        "  pred = model(x)\n",
        "  loss = loss_func(pred, y)\n",
        "  loss.backward()\n",
        "  parameters -= parameters.grad * lr"
      ],
      "id": "A7pNLF-Cprs3",
      "execution_count": 46,
      "outputs": [
        {
          "output_type": "error",
          "ename": "NameError",
          "evalue": "ignored",
          "traceback": [
            "\u001b[0;31m---------------------------------------------------------------------------\u001b[0m",
            "\u001b[0;31mNameError\u001b[0m                                 Traceback (most recent call last)",
            "\u001b[0;32m<ipython-input-46-c5af9da52961>\u001b[0m in \u001b[0;36m<module>\u001b[0;34m()\u001b[0m\n\u001b[1;32m      1\u001b[0m \u001b[0;32mfor\u001b[0m \u001b[0mx\u001b[0m\u001b[0;34m,\u001b[0m\u001b[0my\u001b[0m \u001b[0;32min\u001b[0m \u001b[0mdl\u001b[0m\u001b[0;34m:\u001b[0m\u001b[0;34m\u001b[0m\u001b[0;34m\u001b[0m\u001b[0m\n\u001b[0;32m----> 2\u001b[0;31m   \u001b[0mpred\u001b[0m \u001b[0;34m=\u001b[0m \u001b[0mmodel\u001b[0m\u001b[0;34m(\u001b[0m\u001b[0mx\u001b[0m\u001b[0;34m)\u001b[0m\u001b[0;34m\u001b[0m\u001b[0;34m\u001b[0m\u001b[0m\n\u001b[0m\u001b[1;32m      3\u001b[0m   \u001b[0mloss\u001b[0m \u001b[0;34m=\u001b[0m \u001b[0mloss_func\u001b[0m\u001b[0;34m(\u001b[0m\u001b[0mpred\u001b[0m\u001b[0;34m,\u001b[0m \u001b[0my\u001b[0m\u001b[0;34m)\u001b[0m\u001b[0;34m\u001b[0m\u001b[0;34m\u001b[0m\u001b[0m\n\u001b[1;32m      4\u001b[0m   \u001b[0mloss\u001b[0m\u001b[0;34m.\u001b[0m\u001b[0mbackward\u001b[0m\u001b[0;34m(\u001b[0m\u001b[0;34m)\u001b[0m\u001b[0;34m\u001b[0m\u001b[0;34m\u001b[0m\u001b[0m\n\u001b[1;32m      5\u001b[0m   \u001b[0mparameters\u001b[0m \u001b[0;34m-=\u001b[0m \u001b[0mparameters\u001b[0m\u001b[0;34m.\u001b[0m\u001b[0mgrad\u001b[0m \u001b[0;34m*\u001b[0m \u001b[0mlr\u001b[0m\u001b[0;34m\u001b[0m\u001b[0;34m\u001b[0m\u001b[0m\n",
            "\u001b[0;31mNameError\u001b[0m: name 'model' is not defined"
          ]
        }
      ]
    },
    {
      "cell_type": "code",
      "metadata": {
        "id": "UR_Wjwhethz3"
      },
      "source": [
        "weights = init_params((28*28),1)\n",
        "bias = init_params(1)"
      ],
      "id": "UR_Wjwhethz3",
      "execution_count": 25,
      "outputs": []
    },
    {
      "cell_type": "markdown",
      "metadata": {
        "id": "DAeEdY3Otw1t"
      },
      "source": [
        "Creating a `DataLoader` from a `Dataset`"
      ],
      "id": "DAeEdY3Otw1t"
    },
    {
      "cell_type": "code",
      "metadata": {
        "id": "riu4CVMAtu75",
        "outputId": "3036d214-71f3-4fcf-8d13-f08edb975f59",
        "colab": {
          "base_uri": "https://localhost:8080/"
        }
      },
      "source": [
        "dl = DataLoader(dset, batch_size=256)\n",
        "xb,yb = first(dl)\n",
        "xb.shape, yb.shape"
      ],
      "id": "riu4CVMAtu75",
      "execution_count": 26,
      "outputs": [
        {
          "output_type": "execute_result",
          "data": {
            "text/plain": [
              "(torch.Size([256, 784]), torch.Size([256, 1]))"
            ]
          },
          "metadata": {
            "tags": []
          },
          "execution_count": 26
        }
      ]
    },
    {
      "cell_type": "code",
      "metadata": {
        "id": "1eu0utuauia4"
      },
      "source": [
        "valid_dl = DataLoader(valid_dataset, batch_size=256)"
      ],
      "id": "1eu0utuauia4",
      "execution_count": 27,
      "outputs": []
    },
    {
      "cell_type": "markdown",
      "metadata": {
        "id": "OcZ5TiV4wbTL"
      },
      "source": [
        "Let's create a mini-batch of size 4 for testing:"
      ],
      "id": "OcZ5TiV4wbTL"
    },
    {
      "cell_type": "code",
      "metadata": {
        "id": "KnPH-76QwPni",
        "outputId": "c3b4c1ae-2bda-466e-b319-d605fc7aafee",
        "colab": {
          "base_uri": "https://localhost:8080/"
        }
      },
      "source": [
        "batch = train_x[:4]\n",
        "batch.shape"
      ],
      "id": "KnPH-76QwPni",
      "execution_count": 28,
      "outputs": [
        {
          "output_type": "execute_result",
          "data": {
            "text/plain": [
              "torch.Size([4, 784])"
            ]
          },
          "metadata": {
            "tags": []
          },
          "execution_count": 28
        }
      ]
    },
    {
      "cell_type": "code",
      "metadata": {
        "id": "wE-OiyyDwoEg",
        "outputId": "579643cc-4700-4725-c809-3f666d9564e5",
        "colab": {
          "base_uri": "https://localhost:8080/"
        }
      },
      "source": [
        "preds = linear1(batch)\n",
        "preds"
      ],
      "id": "wE-OiyyDwoEg",
      "execution_count": 29,
      "outputs": [
        {
          "output_type": "execute_result",
          "data": {
            "text/plain": [
              "tensor([14.0882, 13.9915, 16.0442, 17.7304], grad_fn=<AddBackward0>)"
            ]
          },
          "metadata": {
            "tags": []
          },
          "execution_count": 29
        }
      ]
    },
    {
      "cell_type": "code",
      "metadata": {
        "id": "2z6lLJunxNTs",
        "outputId": "9379d5fc-5dc8-4111-db98-366b92374165",
        "colab": {
          "base_uri": "https://localhost:8080/"
        }
      },
      "source": [
        "loss = mnist_loss(preds, train_y[:4])\n",
        "loss"
      ],
      "id": "2z6lLJunxNTs",
      "execution_count": 30,
      "outputs": [
        {
          "output_type": "execute_result",
          "data": {
            "text/plain": [
              "tensor(4.1723e-07, grad_fn=<MeanBackward0>)"
            ]
          },
          "metadata": {
            "tags": []
          },
          "execution_count": 30
        }
      ]
    },
    {
      "cell_type": "markdown",
      "metadata": {
        "id": "bKDcZQDgx_aX"
      },
      "source": [
        "Now calculating the gradients"
      ],
      "id": "bKDcZQDgx_aX"
    },
    {
      "cell_type": "code",
      "metadata": {
        "id": "ChlteJUqxqV1",
        "outputId": "d7f45928-955b-4453-b354-ee4c8847191a",
        "colab": {
          "base_uri": "https://localhost:8080/"
        }
      },
      "source": [
        "loss.backward()\n",
        "weights.grad.shape, weights.grad.mean(), bias.grad"
      ],
      "id": "ChlteJUqxqV1",
      "execution_count": 31,
      "outputs": [
        {
          "output_type": "execute_result",
          "data": {
            "text/plain": [
              "(torch.Size([784]), tensor(-5.9512e-08), tensor([-4.1723e-07]))"
            ]
          },
          "metadata": {
            "tags": []
          },
          "execution_count": 31
        }
      ]
    },
    {
      "cell_type": "markdown",
      "metadata": {
        "id": "Uvsrdh84ySPR"
      },
      "source": [
        "Putting all that in a function"
      ],
      "id": "Uvsrdh84ySPR"
    },
    {
      "cell_type": "code",
      "metadata": {
        "id": "bslKyjUYyOkz"
      },
      "source": [
        "def calc_grad(xb, yb, model):\n",
        "  preds = model(xb)\n",
        "  loss = mnist_loss(preds, yb)\n",
        "  loss.backward()"
      ],
      "id": "bslKyjUYyOkz",
      "execution_count": 32,
      "outputs": []
    },
    {
      "cell_type": "code",
      "metadata": {
        "id": "FxL-VYcSyg-8",
        "outputId": "77d21ec7-535e-43a5-f303-2183695a9bbe",
        "colab": {
          "base_uri": "https://localhost:8080/"
        }
      },
      "source": [
        "calc_grad(batch, train_y[:4], linear1)\n",
        "weights.grad.mean(), bias.grad"
      ],
      "id": "FxL-VYcSyg-8",
      "execution_count": 33,
      "outputs": [
        {
          "output_type": "execute_result",
          "data": {
            "text/plain": [
              "(tensor(-1.1902e-07), tensor([-8.3446e-07]))"
            ]
          },
          "metadata": {
            "tags": []
          },
          "execution_count": 33
        }
      ]
    },
    {
      "cell_type": "markdown",
      "metadata": {
        "id": "xRT187cEzSFK"
      },
      "source": [
        "Always set the current gradients to zero once they have been utilized. Otherwise `loss.backward()` adds the current gradient to the previous ones."
      ],
      "id": "xRT187cEzSFK"
    },
    {
      "cell_type": "code",
      "metadata": {
        "id": "gsSXqN-lyuZD",
        "outputId": "f8966590-5cc3-4a21-aeda-c2cf01b1f828",
        "colab": {
          "base_uri": "https://localhost:8080/"
        }
      },
      "source": [
        "weights.grad.zero_()\n",
        "bias.grad.zero_()"
      ],
      "id": "gsSXqN-lyuZD",
      "execution_count": 34,
      "outputs": [
        {
          "output_type": "execute_result",
          "data": {
            "text/plain": [
              "tensor([0.])"
            ]
          },
          "metadata": {
            "tags": []
          },
          "execution_count": 34
        }
      ]
    },
    {
      "cell_type": "markdown",
      "metadata": {
        "id": "xxJkhkDQz9DF"
      },
      "source": [
        "We now add the step where we update the weights and bias. Basic training loop for one epoch then looks like:"
      ],
      "id": "xxJkhkDQz9DF"
    },
    {
      "cell_type": "code",
      "metadata": {
        "id": "WADtSZsszsAh"
      },
      "source": [
        "def train_epoch(model, lr, params):\n",
        "  for xb,yb in dl:\n",
        "    calc_grad(xb,yb,model)\n",
        "    for p in params:\n",
        "      p.data -= p.grad*lr\n",
        "      p.grad.zero_()"
      ],
      "id": "WADtSZsszsAh",
      "execution_count": 35,
      "outputs": []
    },
    {
      "cell_type": "markdown",
      "metadata": {
        "id": "VL2FXcdu1sF1"
      },
      "source": [
        "In order to keep track on how we are doing, we calculate the batch accuracy as follows:"
      ],
      "id": "VL2FXcdu1sF1"
    },
    {
      "cell_type": "code",
      "metadata": {
        "id": "QZdnHlrS0j3F"
      },
      "source": [
        "def batch_accuracy(xb, yb):\n",
        "  preds = xb.sigmoid()\n",
        "  correct = (preds>0.5) == yb\n",
        "  return correct.float().mean()"
      ],
      "id": "QZdnHlrS0j3F",
      "execution_count": 36,
      "outputs": []
    },
    {
      "cell_type": "markdown",
      "metadata": {
        "id": "KneWLO4_2KKT"
      },
      "source": [
        "Checking how `batch_accuracy` works:"
      ],
      "id": "KneWLO4_2KKT"
    },
    {
      "cell_type": "code",
      "metadata": {
        "id": "K-hiepX02HxD",
        "outputId": "b5df253b-7dff-420e-9135-42b3e1100116",
        "colab": {
          "base_uri": "https://localhost:8080/"
        }
      },
      "source": [
        "batch_accuracy(linear1(batch), train_y[:4])"
      ],
      "id": "K-hiepX02HxD",
      "execution_count": 37,
      "outputs": [
        {
          "output_type": "execute_result",
          "data": {
            "text/plain": [
              "tensor(1.)"
            ]
          },
          "metadata": {
            "tags": []
          },
          "execution_count": 37
        }
      ]
    },
    {
      "cell_type": "markdown",
      "metadata": {
        "id": "E2PTYHfR3AlU"
      },
      "source": [
        "Then putting all batches together:"
      ],
      "id": "E2PTYHfR3AlU"
    },
    {
      "cell_type": "code",
      "metadata": {
        "id": "oVYoim1X2jJd"
      },
      "source": [
        "def validate_epoch(model):\n",
        "  accs = [batch_accuracy(model(xb), yb) for xb,yb in valid_dl]\n",
        "  return round(torch.stack(accs).mean().item(), 4)"
      ],
      "id": "oVYoim1X2jJd",
      "execution_count": 38,
      "outputs": []
    },
    {
      "cell_type": "code",
      "metadata": {
        "id": "HHxbbR643epv",
        "outputId": "602de8ec-97e0-48d4-f8f8-52ac923f57de",
        "colab": {
          "base_uri": "https://localhost:8080/"
        }
      },
      "source": [
        "validate_epoch(linear1)"
      ],
      "id": "HHxbbR643epv",
      "execution_count": 39,
      "outputs": [
        {
          "output_type": "execute_result",
          "data": {
            "text/plain": [
              "0.5694"
            ]
          },
          "metadata": {
            "tags": []
          },
          "execution_count": 39
        }
      ]
    },
    {
      "cell_type": "markdown",
      "metadata": {
        "id": "hPnfKlhP3ty1"
      },
      "source": [
        "That's our starting point. Let's train for one epoch, and see if the accuracy improves:"
      ],
      "id": "hPnfKlhP3ty1"
    },
    {
      "cell_type": "code",
      "metadata": {
        "id": "fpsWacXv3hAc",
        "outputId": "b3d9687f-0f45-4570-c864-329dd1a830f2",
        "colab": {
          "base_uri": "https://localhost:8080/"
        }
      },
      "source": [
        "lr = 1.0\n",
        "params = weights, bias\n",
        "train_epoch(linear1, lr, params)\n",
        "validate_epoch(linear1)"
      ],
      "id": "fpsWacXv3hAc",
      "execution_count": 40,
      "outputs": [
        {
          "output_type": "execute_result",
          "data": {
            "text/plain": [
              "0.7187"
            ]
          },
          "metadata": {
            "tags": []
          },
          "execution_count": 40
        }
      ]
    },
    {
      "cell_type": "markdown",
      "metadata": {
        "id": "hhBhTzMo6Irv"
      },
      "source": [
        "Doing few more times"
      ],
      "id": "hhBhTzMo6Irv"
    },
    {
      "cell_type": "code",
      "metadata": {
        "id": "aMhIj64Y6FMY",
        "outputId": "4cc8e8ef-5296-4d79-bdee-a324d3f403b6",
        "colab": {
          "base_uri": "https://localhost:8080/"
        }
      },
      "source": [
        "for i in range(20):\n",
        "  train_epoch(linear1, lr, params)\n",
        "  print(validate_epoch(linear1), end=' ')"
      ],
      "id": "aMhIj64Y6FMY",
      "execution_count": 41,
      "outputs": [
        {
          "output_type": "stream",
          "text": [
            "0.8472 0.899 0.9181 0.9287 0.9348 0.9419 0.9447 0.9499 0.9522 0.9536 0.9545 0.9555 0.9589 0.9594 0.9599 0.9608 0.9608 0.9613 0.9613 0.9618 "
          ],
          "name": "stdout"
        }
      ]
    },
    {
      "cell_type": "markdown",
      "metadata": {
        "id": "-KPzP5zx6nrJ"
      },
      "source": [
        "The above architecture is foundational towards deep learning. Pytorch therefore provides some useful classes to make it easier to implement.\n",
        "\n",
        "We can replace `linear1` model with Pytorch's `nn.Linear` module, which performs similar to `linear1` and `init_params` put together."
      ],
      "id": "-KPzP5zx6nrJ"
    },
    {
      "cell_type": "code",
      "metadata": {
        "id": "wGJwKiwb6X5t"
      },
      "source": [
        "linear_model = nn.Linear(28*28, 1)"
      ],
      "id": "wGJwKiwb6X5t",
      "execution_count": 42,
      "outputs": []
    },
    {
      "cell_type": "code",
      "metadata": {
        "id": "796gSXt77cOa",
        "outputId": "9802f7f3-6e24-4827-f38f-7529e8b49a7f",
        "colab": {
          "base_uri": "https://localhost:8080/"
        }
      },
      "source": [
        "w,b = linear_model.parameters()\n",
        "w.shape, b.shape"
      ],
      "id": "796gSXt77cOa",
      "execution_count": 43,
      "outputs": [
        {
          "output_type": "execute_result",
          "data": {
            "text/plain": [
              "(torch.Size([1, 784]), torch.Size([1]))"
            ]
          },
          "metadata": {
            "tags": []
          },
          "execution_count": 43
        }
      ]
    },
    {
      "cell_type": "markdown",
      "metadata": {
        "id": "Qee1K_Ew7xOY"
      },
      "source": [
        "We now create an Optimizer class"
      ],
      "id": "Qee1K_Ew7xOY"
    },
    {
      "cell_type": "code",
      "metadata": {
        "id": "AcQu4QzN7rX1"
      },
      "source": [
        "class BasicOptim:\n",
        "  def __init__(self,params,lr): \n",
        "    self.params,self.lr = list(params),lr\n",
        "\n",
        "  def step(self, *args, **kwargs):\n",
        "    for p in self.params: \n",
        "      p.data -= p.grad.data * self.lr\n",
        "\n",
        "  def zero_grad(self, *args, **kwargs):\n",
        "    for p in self.params: \n",
        "      p.grad = None"
      ],
      "id": "AcQu4QzN7rX1",
      "execution_count": 47,
      "outputs": []
    },
    {
      "cell_type": "code",
      "metadata": {
        "id": "qv3PCpxo79ks"
      },
      "source": [
        "opt = BasicOptim(linear_model.parameters(), lr)"
      ],
      "id": "qv3PCpxo79ks",
      "execution_count": 48,
      "outputs": []
    },
    {
      "cell_type": "markdown",
      "metadata": {
        "id": "_RxrEGXx8imM"
      },
      "source": [
        "Our training loop can now be simplifies as:"
      ],
      "id": "_RxrEGXx8imM"
    },
    {
      "cell_type": "code",
      "metadata": {
        "id": "9NuspCQ48gcO"
      },
      "source": [
        "def train_epoch(model):\n",
        "  for xb,yb in dl:\n",
        "    calc_grad(xb,yb,model)\n",
        "    opt.step()\n",
        "    opt.zero_grad()"
      ],
      "id": "9NuspCQ48gcO",
      "execution_count": 49,
      "outputs": []
    },
    {
      "cell_type": "markdown",
      "metadata": {
        "id": "8IsOi0uK80Qr"
      },
      "source": [
        "There is no need to change the validation function"
      ],
      "id": "8IsOi0uK80Qr"
    },
    {
      "cell_type": "code",
      "metadata": {
        "id": "tLRdC5wr8xH3",
        "outputId": "ec0c79e2-3bc6-4b3a-9277-ad4eb262f202",
        "colab": {
          "base_uri": "https://localhost:8080/"
        }
      },
      "source": [
        "validate_epoch(linear_model)"
      ],
      "id": "tLRdC5wr8xH3",
      "execution_count": 50,
      "outputs": [
        {
          "output_type": "execute_result",
          "data": {
            "text/plain": [
              "0.6385"
            ]
          },
          "metadata": {
            "tags": []
          },
          "execution_count": 50
        }
      ]
    },
    {
      "cell_type": "markdown",
      "metadata": {
        "id": "hTAqNGDY9Tfz"
      },
      "source": [
        "Let's now put our epoch training function in a loop"
      ],
      "id": "hTAqNGDY9Tfz"
    },
    {
      "cell_type": "code",
      "metadata": {
        "id": "Cmsir8WA879v"
      },
      "source": [
        "def train_model(model, epochs):\n",
        "  for i in range(epochs):\n",
        "    train_epoch(model)\n",
        "    print(validate_epoch(model), end=' ')"
      ],
      "id": "Cmsir8WA879v",
      "execution_count": 51,
      "outputs": []
    },
    {
      "cell_type": "code",
      "metadata": {
        "id": "S3Xo4J2V9n5A",
        "outputId": "c8675182-7fd5-42bd-c18e-d6f164c2c686",
        "colab": {
          "base_uri": "https://localhost:8080/"
        }
      },
      "source": [
        "train_model(linear_model, 20)"
      ],
      "id": "S3Xo4J2V9n5A",
      "execution_count": 52,
      "outputs": [
        {
          "output_type": "stream",
          "text": [
            "0.4932 0.7725 0.856 0.916 0.9351 0.9472 0.958 0.9629 0.9658 0.9678 0.9697 0.9717 0.9741 0.9751 0.9761 0.9765 0.9775 0.978 0.978 0.978 "
          ],
          "name": "stdout"
        }
      ]
    },
    {
      "cell_type": "markdown",
      "metadata": {
        "id": "1VdNxJgN9ze1"
      },
      "source": [
        "fastai provides the SGD class which, by default, does the same thing as our `BasicOptim`:"
      ],
      "id": "1VdNxJgN9ze1"
    },
    {
      "cell_type": "code",
      "metadata": {
        "id": "7OaTkjC39tp1",
        "outputId": "b3c2d426-1b5c-47d6-d6d8-5bf6fadefd5b",
        "colab": {
          "base_uri": "https://localhost:8080/"
        }
      },
      "source": [
        "linear_model = nn.Linear(28*28,1)\n",
        "opt = SGD(linear_model.parameters(), lr)\n",
        "train_model(linear_model, 20)"
      ],
      "id": "7OaTkjC39tp1",
      "execution_count": 53,
      "outputs": [
        {
          "output_type": "stream",
          "text": [
            "0.4932 0.8311 0.8398 0.9116 0.9341 0.9478 0.956 0.9624 0.9658 0.9668 0.9697 0.9726 0.9741 0.9751 0.9756 0.9765 0.9775 0.9785 0.9785 0.9785 "
          ],
          "name": "stdout"
        }
      ]
    },
    {
      "cell_type": "markdown",
      "metadata": {
        "id": "XucAH1nE-OVm"
      },
      "source": [
        "fastai also provides `Learner.fit` which can be used instead of `train_model`.\n",
        "\n",
        "To create `Learner`, we first need to create `DataLoaders`, by passing in our training and validation `DataLoaders`."
      ],
      "id": "XucAH1nE-OVm"
    },
    {
      "cell_type": "code",
      "metadata": {
        "id": "SxG6ZLXL-D19"
      },
      "source": [
        "dls = DataLoaders(dl, valid_dl)"
      ],
      "id": "SxG6ZLXL-D19",
      "execution_count": 54,
      "outputs": []
    },
    {
      "cell_type": "markdown",
      "metadata": {
        "id": "lW-XnEZO-u2B"
      },
      "source": [
        "The elements needed by `Learner` are: \n",
        "- `DataLoaders`\n",
        "- model \n",
        "- optimization function (to which the parameters will be passed)\n",
        "- loss function \n",
        "- optionally any metrics to print"
      ],
      "id": "lW-XnEZO-u2B"
    },
    {
      "cell_type": "code",
      "metadata": {
        "id": "Q8DBg4RU-osk"
      },
      "source": [
        "learn = Learner(dls, nn.Linear(28*28,1), opt_func=SGD, loss_func=mnist_loss, metrics=batch_accuracy)"
      ],
      "id": "Q8DBg4RU-osk",
      "execution_count": 55,
      "outputs": []
    },
    {
      "cell_type": "code",
      "metadata": {
        "id": "e-scb3UGBcYC",
        "outputId": "c6812313-0d87-4c2a-b2fd-dba6a0911d70",
        "colab": {
          "base_uri": "https://localhost:8080/",
          "height": 363
        }
      },
      "source": [
        "learn.fit(10, lr=lr)"
      ],
      "id": "e-scb3UGBcYC",
      "execution_count": 57,
      "outputs": [
        {
          "output_type": "display_data",
          "data": {
            "text/html": [
              "<table border=\"1\" class=\"dataframe\">\n",
              "  <thead>\n",
              "    <tr style=\"text-align: left;\">\n",
              "      <th>epoch</th>\n",
              "      <th>train_loss</th>\n",
              "      <th>valid_loss</th>\n",
              "      <th>batch_accuracy</th>\n",
              "      <th>time</th>\n",
              "    </tr>\n",
              "  </thead>\n",
              "  <tbody>\n",
              "    <tr>\n",
              "      <td>0</td>\n",
              "      <td>0.637040</td>\n",
              "      <td>0.503638</td>\n",
              "      <td>0.495584</td>\n",
              "      <td>00:00</td>\n",
              "    </tr>\n",
              "    <tr>\n",
              "      <td>1</td>\n",
              "      <td>0.596475</td>\n",
              "      <td>0.159199</td>\n",
              "      <td>0.878312</td>\n",
              "      <td>00:00</td>\n",
              "    </tr>\n",
              "    <tr>\n",
              "      <td>2</td>\n",
              "      <td>0.216541</td>\n",
              "      <td>0.197214</td>\n",
              "      <td>0.819431</td>\n",
              "      <td>00:00</td>\n",
              "    </tr>\n",
              "    <tr>\n",
              "      <td>3</td>\n",
              "      <td>0.093282</td>\n",
              "      <td>0.111199</td>\n",
              "      <td>0.908243</td>\n",
              "      <td>00:00</td>\n",
              "    </tr>\n",
              "    <tr>\n",
              "      <td>4</td>\n",
              "      <td>0.047910</td>\n",
              "      <td>0.080145</td>\n",
              "      <td>0.931305</td>\n",
              "      <td>00:00</td>\n",
              "    </tr>\n",
              "    <tr>\n",
              "      <td>5</td>\n",
              "      <td>0.030276</td>\n",
              "      <td>0.063814</td>\n",
              "      <td>0.946025</td>\n",
              "      <td>00:00</td>\n",
              "    </tr>\n",
              "    <tr>\n",
              "      <td>6</td>\n",
              "      <td>0.023095</td>\n",
              "      <td>0.053701</td>\n",
              "      <td>0.955348</td>\n",
              "      <td>00:00</td>\n",
              "    </tr>\n",
              "    <tr>\n",
              "      <td>7</td>\n",
              "      <td>0.019960</td>\n",
              "      <td>0.046993</td>\n",
              "      <td>0.961727</td>\n",
              "      <td>00:00</td>\n",
              "    </tr>\n",
              "    <tr>\n",
              "      <td>8</td>\n",
              "      <td>0.018413</td>\n",
              "      <td>0.042308</td>\n",
              "      <td>0.965162</td>\n",
              "      <td>00:00</td>\n",
              "    </tr>\n",
              "    <tr>\n",
              "      <td>9</td>\n",
              "      <td>0.017511</td>\n",
              "      <td>0.038881</td>\n",
              "      <td>0.967125</td>\n",
              "      <td>00:00</td>\n",
              "    </tr>\n",
              "  </tbody>\n",
              "</table>"
            ],
            "text/plain": [
              "<IPython.core.display.HTML object>"
            ]
          },
          "metadata": {
            "tags": []
          }
        }
      ]
    },
    {
      "cell_type": "markdown",
      "metadata": {
        "id": "zGHDukIOBvYc"
      },
      "source": [
        "## Adding Nonlinearity"
      ],
      "id": "zGHDukIOBvYc"
    },
    {
      "cell_type": "markdown",
      "metadata": {
        "id": "gLUtQEybB9FA"
      },
      "source": [
        "Basic definition of an entire neural network is:"
      ],
      "id": "gLUtQEybB9FA"
    },
    {
      "cell_type": "code",
      "metadata": {
        "id": "7MOm385sBm8b"
      },
      "source": [
        "def simple_net(xb):\n",
        "  res = xb@w1 + b1\n",
        "  res = res.max(tensor(0.0))\n",
        "  res = res@w2 + b2\n",
        "  return res"
      ],
      "id": "7MOm385sBm8b",
      "execution_count": 58,
      "outputs": []
    },
    {
      "cell_type": "markdown",
      "metadata": {
        "id": "RMCICAKZCb28"
      },
      "source": [
        "where the max function in between the two linear classifiers adds a nonlinearity to the model. w's and b's are initialized as:"
      ],
      "id": "RMCICAKZCb28"
    },
    {
      "cell_type": "code",
      "metadata": {
        "id": "FwV9YvK8CSbl"
      },
      "source": [
        "w1 = init_params((28*28,30))\n",
        "b1 = init_params(30)\n",
        "w2 = init_params((30,1))\n",
        "b2 = init_params(1)"
      ],
      "id": "FwV9YvK8CSbl",
      "execution_count": 60,
      "outputs": []
    },
    {
      "cell_type": "markdown",
      "metadata": {
        "id": "op9kl_XlC4ka"
      },
      "source": [
        "The important point here is that w1 has 30 output activations (which implies that w2 has 30 input activations). This means that the first layer can construct 30 different features, each representing a different mix of pixels.\n",
        "\n",
        "The function `res.max(tensor(0.0))` is called a rectified linear unit, also known as ReLU, available in Pytorch as F.relu:"
      ],
      "id": "op9kl_XlC4ka"
    },
    {
      "cell_type": "code",
      "metadata": {
        "id": "GHq2X2M6Cze8",
        "outputId": "ea4bc8c8-4120-4f90-bcdc-dcc0bd5d4709",
        "colab": {
          "base_uri": "https://localhost:8080/",
          "height": 324
        }
      },
      "source": [
        "plot_function(F.relu)"
      ],
      "id": "GHq2X2M6Cze8",
      "execution_count": 61,
      "outputs": [
        {
          "output_type": "stream",
          "text": [
            "/usr/local/lib/python3.7/dist-packages/fastbook/__init__.py:73: UserWarning: Not providing a value for linspace's steps is deprecated and will throw a runtime error in a future release. This warning will appear only once per process. (Triggered internally at  /pytorch/aten/src/ATen/native/RangeFactories.cpp:25.)\n",
            "  x = torch.linspace(min,max)\n"
          ],
          "name": "stderr"
        },
        {
          "output_type": "display_data",
          "data": {
            "image/png": "[encoded data removed]",
            "text/plain": [
              "<Figure size 432x288 with 1 Axes>"
            ]
          },
          "metadata": {
            "tags": [],
            "needs_background": "light"
          }
        }
      ]
    },
    {
      "cell_type": "markdown",
      "metadata": {
        "id": "qVsyVrNEEBRo"
      },
      "source": [
        "The three lines of code that we have here are known as layers. The first and third are known as linear layers, and the second line of code is known variously as a nonlinearity, or activation function.\n",
        "\n",
        "Just like in the previous section, we can replace this code with something a bit simpler, by taking advantage of PyTorch:"
      ],
      "id": "qVsyVrNEEBRo"
    },
    {
      "cell_type": "code",
      "metadata": {
        "id": "ETd5xmImDjdQ"
      },
      "source": [
        "simple_net = nn.Sequential(\n",
        "    nn.Linear(28*28,30),\n",
        "    nn.ReLU(),\n",
        "    nn.Linear(30,1)\n",
        ")"
      ],
      "id": "ETd5xmImDjdQ",
      "execution_count": 62,
      "outputs": []
    },
    {
      "cell_type": "markdown",
      "metadata": {
        "id": "IKh-jpmHEV6_"
      },
      "source": [
        "`nn.Sequential` creates a module that will call each of the listed layers or functions in turn.\n",
        "\n",
        "Because `nn.Sequential` is a module, we can get its parameters, which will return a list of all the parameters of all the modules it contains. Let's try it out! As this is a deeper model, we'll use a lower learning rate and a few more epochs."
      ],
      "id": "IKh-jpmHEV6_"
    },
    {
      "cell_type": "code",
      "metadata": {
        "id": "4c8xPX6lESAz"
      },
      "source": [
        "learn =  Learner(dls, simple_net, opt_func=SGD, loss_func=mnist_loss, metrics=batch_accuracy)"
      ],
      "id": "4c8xPX6lESAz",
      "execution_count": 63,
      "outputs": []
    },
    {
      "cell_type": "code",
      "metadata": {
        "id": "PHsN6irqFHQD",
        "outputId": "f08cef57-1e1c-4b09-d80e-d5fcebdf160f",
        "colab": {
          "base_uri": "https://localhost:8080/",
          "height": 1000
        }
      },
      "source": [
        "learn.fit(40, 0.1)"
      ],
      "id": "PHsN6irqFHQD",
      "execution_count": 64,
      "outputs": [
        {
          "output_type": "display_data",
          "data": {
            "text/html": [
              "<table border=\"1\" class=\"dataframe\">\n",
              "  <thead>\n",
              "    <tr style=\"text-align: left;\">\n",
              "      <th>epoch</th>\n",
              "      <th>train_loss</th>\n",
              "      <th>valid_loss</th>\n",
              "      <th>batch_accuracy</th>\n",
              "      <th>time</th>\n",
              "    </tr>\n",
              "  </thead>\n",
              "  <tbody>\n",
              "    <tr>\n",
              "      <td>0</td>\n",
              "      <td>0.285980</td>\n",
              "      <td>0.406569</td>\n",
              "      <td>0.505888</td>\n",
              "      <td>00:00</td>\n",
              "    </tr>\n",
              "    <tr>\n",
              "      <td>1</td>\n",
              "      <td>0.137780</td>\n",
              "      <td>0.217214</td>\n",
              "      <td>0.815015</td>\n",
              "      <td>00:00</td>\n",
              "    </tr>\n",
              "    <tr>\n",
              "      <td>2</td>\n",
              "      <td>0.078233</td>\n",
              "      <td>0.112769</td>\n",
              "      <td>0.916094</td>\n",
              "      <td>00:00</td>\n",
              "    </tr>\n",
              "    <tr>\n",
              "      <td>3</td>\n",
              "      <td>0.052542</td>\n",
              "      <td>0.077261</td>\n",
              "      <td>0.941609</td>\n",
              "      <td>00:00</td>\n",
              "    </tr>\n",
              "    <tr>\n",
              "      <td>4</td>\n",
              "      <td>0.040412</td>\n",
              "      <td>0.060633</td>\n",
              "      <td>0.955839</td>\n",
              "      <td>00:00</td>\n",
              "    </tr>\n",
              "    <tr>\n",
              "      <td>5</td>\n",
              "      <td>0.034090</td>\n",
              "      <td>0.051183</td>\n",
              "      <td>0.963199</td>\n",
              "      <td>00:00</td>\n",
              "    </tr>\n",
              "    <tr>\n",
              "      <td>6</td>\n",
              "      <td>0.030385</td>\n",
              "      <td>0.045187</td>\n",
              "      <td>0.965162</td>\n",
              "      <td>00:00</td>\n",
              "    </tr>\n",
              "    <tr>\n",
              "      <td>7</td>\n",
              "      <td>0.027936</td>\n",
              "      <td>0.041075</td>\n",
              "      <td>0.966634</td>\n",
              "      <td>00:00</td>\n",
              "    </tr>\n",
              "    <tr>\n",
              "      <td>8</td>\n",
              "      <td>0.026148</td>\n",
              "      <td>0.038079</td>\n",
              "      <td>0.969087</td>\n",
              "      <td>00:00</td>\n",
              "    </tr>\n",
              "    <tr>\n",
              "      <td>9</td>\n",
              "      <td>0.024752</td>\n",
              "      <td>0.035785</td>\n",
              "      <td>0.972031</td>\n",
              "      <td>00:00</td>\n",
              "    </tr>\n",
              "    <tr>\n",
              "      <td>10</td>\n",
              "      <td>0.023614</td>\n",
              "      <td>0.033964</td>\n",
              "      <td>0.973013</td>\n",
              "      <td>00:00</td>\n",
              "    </tr>\n",
              "    <tr>\n",
              "      <td>11</td>\n",
              "      <td>0.022661</td>\n",
              "      <td>0.032476</td>\n",
              "      <td>0.974975</td>\n",
              "      <td>00:00</td>\n",
              "    </tr>\n",
              "    <tr>\n",
              "      <td>12</td>\n",
              "      <td>0.021847</td>\n",
              "      <td>0.031231</td>\n",
              "      <td>0.975466</td>\n",
              "      <td>00:00</td>\n",
              "    </tr>\n",
              "    <tr>\n",
              "      <td>13</td>\n",
              "      <td>0.021143</td>\n",
              "      <td>0.030166</td>\n",
              "      <td>0.975957</td>\n",
              "      <td>00:00</td>\n",
              "    </tr>\n",
              "    <tr>\n",
              "      <td>14</td>\n",
              "      <td>0.020525</td>\n",
              "      <td>0.029240</td>\n",
              "      <td>0.976448</td>\n",
              "      <td>00:00</td>\n",
              "    </tr>\n",
              "    <tr>\n",
              "      <td>15</td>\n",
              "      <td>0.019979</td>\n",
              "      <td>0.028423</td>\n",
              "      <td>0.976938</td>\n",
              "      <td>00:00</td>\n",
              "    </tr>\n",
              "    <tr>\n",
              "      <td>16</td>\n",
              "      <td>0.019491</td>\n",
              "      <td>0.027696</td>\n",
              "      <td>0.976938</td>\n",
              "      <td>00:00</td>\n",
              "    </tr>\n",
              "    <tr>\n",
              "      <td>17</td>\n",
              "      <td>0.019050</td>\n",
              "      <td>0.027044</td>\n",
              "      <td>0.976938</td>\n",
              "      <td>00:00</td>\n",
              "    </tr>\n",
              "    <tr>\n",
              "      <td>18</td>\n",
              "      <td>0.018649</td>\n",
              "      <td>0.026454</td>\n",
              "      <td>0.977920</td>\n",
              "      <td>00:00</td>\n",
              "    </tr>\n",
              "    <tr>\n",
              "      <td>19</td>\n",
              "      <td>0.018283</td>\n",
              "      <td>0.025918</td>\n",
              "      <td>0.977920</td>\n",
              "      <td>00:00</td>\n",
              "    </tr>\n",
              "    <tr>\n",
              "      <td>20</td>\n",
              "      <td>0.017946</td>\n",
              "      <td>0.025427</td>\n",
              "      <td>0.978410</td>\n",
              "      <td>00:00</td>\n",
              "    </tr>\n",
              "    <tr>\n",
              "      <td>21</td>\n",
              "      <td>0.017634</td>\n",
              "      <td>0.024977</td>\n",
              "      <td>0.978901</td>\n",
              "      <td>00:00</td>\n",
              "    </tr>\n",
              "    <tr>\n",
              "      <td>22</td>\n",
              "      <td>0.017345</td>\n",
              "      <td>0.024563</td>\n",
              "      <td>0.979882</td>\n",
              "      <td>00:00</td>\n",
              "    </tr>\n",
              "    <tr>\n",
              "      <td>23</td>\n",
              "      <td>0.017074</td>\n",
              "      <td>0.024181</td>\n",
              "      <td>0.980864</td>\n",
              "      <td>00:00</td>\n",
              "    </tr>\n",
              "    <tr>\n",
              "      <td>24</td>\n",
              "      <td>0.016821</td>\n",
              "      <td>0.023827</td>\n",
              "      <td>0.980864</td>\n",
              "      <td>00:00</td>\n",
              "    </tr>\n",
              "    <tr>\n",
              "      <td>25</td>\n",
              "      <td>0.016583</td>\n",
              "      <td>0.023499</td>\n",
              "      <td>0.980864</td>\n",
              "      <td>00:00</td>\n",
              "    </tr>\n",
              "    <tr>\n",
              "      <td>26</td>\n",
              "      <td>0.016359</td>\n",
              "      <td>0.023194</td>\n",
              "      <td>0.981354</td>\n",
              "      <td>00:00</td>\n",
              "    </tr>\n",
              "    <tr>\n",
              "      <td>27</td>\n",
              "      <td>0.016148</td>\n",
              "      <td>0.022910</td>\n",
              "      <td>0.981354</td>\n",
              "      <td>00:00</td>\n",
              "    </tr>\n",
              "    <tr>\n",
              "      <td>28</td>\n",
              "      <td>0.015947</td>\n",
              "      <td>0.022645</td>\n",
              "      <td>0.981354</td>\n",
              "      <td>00:00</td>\n",
              "    </tr>\n",
              "    <tr>\n",
              "      <td>29</td>\n",
              "      <td>0.015757</td>\n",
              "      <td>0.022397</td>\n",
              "      <td>0.981354</td>\n",
              "      <td>00:00</td>\n",
              "    </tr>\n",
              "    <tr>\n",
              "      <td>30</td>\n",
              "      <td>0.015575</td>\n",
              "      <td>0.022166</td>\n",
              "      <td>0.980864</td>\n",
              "      <td>00:00</td>\n",
              "    </tr>\n",
              "    <tr>\n",
              "      <td>31</td>\n",
              "      <td>0.015403</td>\n",
              "      <td>0.021949</td>\n",
              "      <td>0.982336</td>\n",
              "      <td>00:00</td>\n",
              "    </tr>\n",
              "    <tr>\n",
              "      <td>32</td>\n",
              "      <td>0.015238</td>\n",
              "      <td>0.021746</td>\n",
              "      <td>0.982336</td>\n",
              "      <td>00:00</td>\n",
              "    </tr>\n",
              "    <tr>\n",
              "      <td>33</td>\n",
              "      <td>0.015080</td>\n",
              "      <td>0.021555</td>\n",
              "      <td>0.982336</td>\n",
              "      <td>00:00</td>\n",
              "    </tr>\n",
              "    <tr>\n",
              "      <td>34</td>\n",
              "      <td>0.014929</td>\n",
              "      <td>0.021376</td>\n",
              "      <td>0.982336</td>\n",
              "      <td>00:00</td>\n",
              "    </tr>\n",
              "    <tr>\n",
              "      <td>35</td>\n",
              "      <td>0.014785</td>\n",
              "      <td>0.021206</td>\n",
              "      <td>0.982336</td>\n",
              "      <td>00:00</td>\n",
              "    </tr>\n",
              "    <tr>\n",
              "      <td>36</td>\n",
              "      <td>0.014646</td>\n",
              "      <td>0.021046</td>\n",
              "      <td>0.982336</td>\n",
              "      <td>00:00</td>\n",
              "    </tr>\n",
              "    <tr>\n",
              "      <td>37</td>\n",
              "      <td>0.014513</td>\n",
              "      <td>0.020895</td>\n",
              "      <td>0.982336</td>\n",
              "      <td>00:00</td>\n",
              "    </tr>\n",
              "    <tr>\n",
              "      <td>38</td>\n",
              "      <td>0.014384</td>\n",
              "      <td>0.020752</td>\n",
              "      <td>0.982336</td>\n",
              "      <td>00:00</td>\n",
              "    </tr>\n",
              "    <tr>\n",
              "      <td>39</td>\n",
              "      <td>0.014260</td>\n",
              "      <td>0.020616</td>\n",
              "      <td>0.982336</td>\n",
              "      <td>00:00</td>\n",
              "    </tr>\n",
              "  </tbody>\n",
              "</table>"
            ],
            "text/plain": [
              "<IPython.core.display.HTML object>"
            ]
          },
          "metadata": {
            "tags": []
          }
        }
      ]
    },
    {
      "cell_type": "code",
      "metadata": {
        "id": "iDtX22e9FK-b",
        "outputId": "b7576c3c-a5ff-4c7f-dde8-17cda537f6d9",
        "colab": {
          "base_uri": "https://localhost:8080/",
          "height": 271
        }
      },
      "source": [
        "plt.plot(L(learn.recorder.values).itemgot(2));"
      ],
      "id": "iDtX22e9FK-b",
      "execution_count": 66,
      "outputs": [
        {
          "output_type": "display_data",
          "data": {
            "image/png": "[encoded data removed]",
            "text/plain": [
              "<Figure size 432x288 with 1 Axes>"
            ]
          },
          "metadata": {
            "tags": [],
            "needs_background": "light"
          }
        }
      ]
    },
    {
      "cell_type": "code",
      "metadata": {
        "id": "4yNzoEzmFjkI",
        "outputId": "415b4ef5-29ed-4b20-d880-8b96da1f3158",
        "colab": {
          "base_uri": "https://localhost:8080/"
        }
      },
      "source": [
        "learn.recorder.values[-1][2]"
      ],
      "id": "4yNzoEzmFjkI",
      "execution_count": 67,
      "outputs": [
        {
          "output_type": "execute_result",
          "data": {
            "text/plain": [
              "0.98233562707901"
            ]
          },
          "metadata": {
            "tags": []
          },
          "execution_count": 67
        }
      ]
    },
    {
      "cell_type": "markdown",
      "metadata": {
        "id": "zxHdtghoGAv_"
      },
      "source": [
        "### A single nonlinearity with two linear layers is thus enough to approximate any function."
      ],
      "id": "zxHdtghoGAv_"
    },
    {
      "cell_type": "code",
      "metadata": {
        "id": "s9y8iKUkFq_J"
      },
      "source": [
        ""
      ],
      "id": "s9y8iKUkFq_J",
      "execution_count": null,
      "outputs": []
    }
  ]
}