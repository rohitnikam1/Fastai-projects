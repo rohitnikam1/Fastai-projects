{
  "nbformat": 4,
  "nbformat_minor": 0,
  "metadata": {
    "colab": {
      "name": "collaborative_filtering.ipynb",
      "provenance": [],
      "authorship_tag": "ABX9TyN3IrRisMh+nduGUWwVq+0k",
      "include_colab_link": true
    },
    "kernelspec": {
      "name": "python3",
      "display_name": "Python 3"
    },
    "language_info": {
      "name": "python"
    }
  },
  "cells": [
    {
      "cell_type": "markdown",
      "metadata": {
        "id": "view-in-github",
        "colab_type": "text"
      },
      "source": [
        "<a href=\"https://colab.research.google.com/github/rohitnikam1/Fastai-projects/blob/master/collaborative_filtering.ipynb\" target=\"_parent\"><img src=\"https://colab.research.google.com/assets/colab-badge.svg\" alt=\"Open In Colab\"/></a>"
      ]
    },
    {
      "cell_type": "code",
      "metadata": {
        "colab": {
          "base_uri": "https://localhost:8080/"
        },
        "id": "_3GxW69l9aeG",
        "outputId": "a9501853-322f-4a16-d58b-ad780825668e"
      },
      "source": [
        "!pip install -Uqq fastbook\n",
        "import fastbook\n",
        "fastbook.setup_book()"
      ],
      "execution_count": 1,
      "outputs": [
        {
          "output_type": "stream",
          "text": [
            "\u001b[K     |████████████████████████████████| 720 kB 5.3 MB/s \n",
            "\u001b[K     |████████████████████████████████| 188 kB 17.9 MB/s \n",
            "\u001b[K     |████████████████████████████████| 46 kB 3.0 MB/s \n",
            "\u001b[K     |████████████████████████████████| 1.2 MB 19.9 MB/s \n",
            "\u001b[K     |████████████████████████████████| 54 kB 2.0 MB/s \n",
            "\u001b[K     |████████████████████████████████| 51 kB 194 kB/s \n",
            "\u001b[?25hGo to this URL in a browser: https://accounts.google.com/o/oauth2/auth?client_id=947318989803-6bn6qk8qdgf4n4g3pfee6491hc0brc4i.apps.googleusercontent.com&redirect_uri=urn%3aietf%3awg%3aoauth%3a2.0%3aoob&scope=email%20https%3a%2f%2fwww.googleapis.com%2fauth%2fdocs.test%20https%3a%2f%2fwww.googleapis.com%2fauth%2fdrive%20https%3a%2f%2fwww.googleapis.com%2fauth%2fdrive.photos.readonly%20https%3a%2f%2fwww.googleapis.com%2fauth%2fpeopleapi.readonly%20https%3a%2f%2fwww.googleapis.com%2fauth%2fdrive.activity.readonly%20https%3a%2f%2fwww.googleapis.com%2fauth%2fexperimentsandconfigs%20https%3a%2f%2fwww.googleapis.com%2fauth%2fphotos.native&response_type=code\n",
            "\n",
            "Enter your authorization code:\n",
            "4/1AX4XfWi-HDFy84H7ITQlho1I4zKQOeVipHc9atWD6_s_hjEddAUGiXcRCgs\n",
            "Mounted at /content/gdrive\n"
          ],
          "name": "stdout"
        }
      ]
    },
    {
      "cell_type": "code",
      "metadata": {
        "id": "MpmH-4CI9kkR"
      },
      "source": [
        "from fastbook import *"
      ],
      "execution_count": 2,
      "outputs": []
    },
    {
      "cell_type": "markdown",
      "metadata": {
        "id": "hjhzWVcuWFLq"
      },
      "source": [
        "One of the important problems to consider is when there are a number of users and a number of products, and there needs to be recommendations on which product might be useful to a certain user. This problem can take many forms. E.g., netflix movie recommendations, figuring out what to highlight on a home page for a user, which hashtags to show on a twitter feed, etc. \n",
        "\n",
        "There is a general solution to this problem, called *collaborative filtering*, which works as following:\n",
        "\n",
        "- Look at what product the user has used/liked. \n",
        "- Then look for the users which has used/liked the same product. \n",
        "- Now look at similar products that these users have used/liked and recommend them to the user.\n",
        "\n",
        "The key foundational idea is of **latent factors**. In the Netflix example, let's say that the user likes old, comic movies. But Netflix has no knowledge of these user preferences. And Netflix, in its movies table, has not added a column of a movie genre for each movie. In spite of this, the movie genres -- old, comic, action, horror, etc. are the deciding factors on whether the user will watch the movie.\n",
        "\n",
        "\n",
        "For this notebook, we are going to work on this movie recommendation problem. We'll start by getting some data suitable for a collaborative filtering model."
      ]
    },
    {
      "cell_type": "markdown",
      "metadata": {
        "id": "77wc13g4aiqM"
      },
      "source": [
        "We will be using a [MovieLens](https://https://grouplens.org/datasets/movielens/) dataset. This dataset contains tens of millions of movie rankings (a combination of a movie ID, a user ID, and a numeric rating), although we will just use a subset of 100,000 of them for our example."
      ]
    },
    {
      "cell_type": "code",
      "metadata": {
        "colab": {
          "base_uri": "https://localhost:8080/",
          "height": 17
        },
        "id": "dlsn5iwIab3q",
        "outputId": "b64c6c9f-584f-48e5-bc27-e102a4fb6780"
      },
      "source": [
        "from fastai.collab import *\n",
        "from fastai.tabular.all import *\n",
        "path = untar_data(URLs.ML_100k)"
      ],
      "execution_count": 3,
      "outputs": [
        {
          "output_type": "display_data",
          "data": {
            "text/html": [
              ""
            ],
            "text/plain": [
              "<IPython.core.display.HTML object>"
            ]
          },
          "metadata": {
            "tags": []
          }
        }
      ]
    },
    {
      "cell_type": "markdown",
      "metadata": {
        "id": "Q9NGXKuYbQsu"
      },
      "source": [
        "According to the README, the main table is in the file u.data. It is tab-separated and the columns are, respectively user, movie, rating, and timestamp."
      ]
    },
    {
      "cell_type": "code",
      "metadata": {
        "colab": {
          "base_uri": "https://localhost:8080/",
          "height": 206
        },
        "id": "t_Z4mfzMbFL1",
        "outputId": "5ede955e-b521-480a-b1d4-c5dbda19765e"
      },
      "source": [
        "ratings = pd.read_csv(path/'u.data', delimiter='\\t', header=None, \n",
        "                      names=['user', 'movie', 'ratings', 'timestamp'])\n",
        "ratings.head()"
      ],
      "execution_count": 4,
      "outputs": [
        {
          "output_type": "execute_result",
          "data": {
            "text/html": [
              "<div>\n",
              "<style scoped>\n",
              "    .dataframe tbody tr th:only-of-type {\n",
              "        vertical-align: middle;\n",
              "    }\n",
              "\n",
              "    .dataframe tbody tr th {\n",
              "        vertical-align: top;\n",
              "    }\n",
              "\n",
              "    .dataframe thead th {\n",
              "        text-align: right;\n",
              "    }\n",
              "</style>\n",
              "<table border=\"1\" class=\"dataframe\">\n",
              "  <thead>\n",
              "    <tr style=\"text-align: right;\">\n",
              "      <th></th>\n",
              "      <th>user</th>\n",
              "      <th>movie</th>\n",
              "      <th>ratings</th>\n",
              "      <th>timestamp</th>\n",
              "    </tr>\n",
              "  </thead>\n",
              "  <tbody>\n",
              "    <tr>\n",
              "      <th>0</th>\n",
              "      <td>196</td>\n",
              "      <td>242</td>\n",
              "      <td>3</td>\n",
              "      <td>881250949</td>\n",
              "    </tr>\n",
              "    <tr>\n",
              "      <th>1</th>\n",
              "      <td>186</td>\n",
              "      <td>302</td>\n",
              "      <td>3</td>\n",
              "      <td>891717742</td>\n",
              "    </tr>\n",
              "    <tr>\n",
              "      <th>2</th>\n",
              "      <td>22</td>\n",
              "      <td>377</td>\n",
              "      <td>1</td>\n",
              "      <td>878887116</td>\n",
              "    </tr>\n",
              "    <tr>\n",
              "      <th>3</th>\n",
              "      <td>244</td>\n",
              "      <td>51</td>\n",
              "      <td>2</td>\n",
              "      <td>880606923</td>\n",
              "    </tr>\n",
              "    <tr>\n",
              "      <th>4</th>\n",
              "      <td>166</td>\n",
              "      <td>346</td>\n",
              "      <td>1</td>\n",
              "      <td>886397596</td>\n",
              "    </tr>\n",
              "  </tbody>\n",
              "</table>\n",
              "</div>"
            ],
            "text/plain": [
              "   user  movie  ratings  timestamp\n",
              "0   196    242        3  881250949\n",
              "1   186    302        3  891717742\n",
              "2    22    377        1  878887116\n",
              "3   244     51        2  880606923\n",
              "4   166    346        1  886397596"
            ]
          },
          "metadata": {
            "tags": []
          },
          "execution_count": 4
        }
      ]
    },
    {
      "cell_type": "code",
      "metadata": {
        "colab": {
          "base_uri": "https://localhost:8080/"
        },
        "id": "RbKa1xjmbiAV",
        "outputId": "8a2cce98-510f-4af9-8e56-72ed64931f3c"
      },
      "source": [
        "one_hot(3, 10).size()"
      ],
      "execution_count": 10,
      "outputs": [
        {
          "output_type": "execute_result",
          "data": {
            "text/plain": [
              "torch.Size([10])"
            ]
          },
          "metadata": {
            "tags": []
          },
          "execution_count": 10
        }
      ]
    }
  ]
}